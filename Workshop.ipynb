{
  "cells": [
    {
      "cell_type": "markdown",
      "id": "0",
      "metadata": {
        "id": "0"
      },
      "source": [
        "[![image](https://colab.research.google.com/assets/colab-badge.svg)](https://colab.research.google.com/github/gee-community/geemap/blob/master/docs/workshops/G4G_2023.ipynb)\n",
        "\n",
        "**Introduction to Google Earth Engine in Python**\n",
        "\n",
        "-   Notebook: <https://geemap.org/workshops/G4G_2023>\n",
        "-   Earth Engine: <https://earthengine.google.com>\n",
        "-   Geemap: <https://geemap.org>\n",
        "\n",
        "## Introduction (10 mins)\n",
        "\n",
        "This notebook is for the workshop presented at the [Geo for Good Summit 2023](https://earthoutreachonair.withgoogle.com/events/geoforgood23). Check out [this link](https://earthoutreachonair.withgoogle.com/events/geoforgood23?tab=g4gagenda&expand=module:agenda) for more information about the workshop.\n",
        "\n",
        "### Abstract\n",
        "\n",
        "This workshop provides an introduction to cloud-based geospatial analysis using the Earth Engine Python API. Attendees will learn the basics of Earth Engine data types and how to visualize, analyze, and export Earth Engine data in a Jupyter environment with geemap. In addition, attendees will learn how to develop and deploy interactive Earth Engine web apps with Python. Through practical examples and hands-on exercises, attendees will enhance their learning experience. During each hands-on session, attendees will walk through Jupyter Notebook examples on Google Colab with the instructors. At the end of each session, they will complete a hands-on exercise to apply the knowledge they have learned.\n",
        "\n",
        "### Prerequisites\n",
        "\n",
        "-   To use geemap and the Earth Engine Python API, you must [register](https://code.earthengine.google.com/register) for an Earth Engine account and follow the instructions [here](https://docs.google.com/document/d/1ZGSmrNm6_baqd8CHt33kIBWOlvkh-HLr46bODgJN1h0/edit?usp=sharing) to create a Cloud Project. Earth Engine is free for [noncommercial and research use](https://earthengine.google.com/noncommercial). To test whether you can use authenticate the Earth Engine Python API, please run [this notebook](https://colab.research.google.com/github/giswqs/geemap/blob/master/examples/notebooks/geemap_colab.ipynb) on Google Colab.\n",
        "\n",
        "-   It is recommended that attendees have a basic understanding of Python and Jupyter Notebook.\n",
        "-   Familiarity with the Earth Engine JavaScript API is not required but will be helpful.\n",
        "-   Attendees can use Google Colab to follow this workshop without installing anything on their computer.\n",
        "\n",
        "## Introduction to Earth Engine and geemap (15 mins)\n",
        "\n",
        "Earth Engine is free for [noncommercial and research use](https://earthengine.google.com/noncommercial). For more than a decade, Earth Engine has enabled planetary-scale Earth data science and analysis by nonprofit organizations, research scientists, and other impact users.\n",
        "\n",
        "With the launch of Earth Engine for [commercial use](https://earthengine.google.com/commercial), commercial customers will be charged for Earth Engine services. However, Earth Engine will remain free of charge for noncommercial use and research projects. Nonprofit organizations, academic institutions, educators, news media, Indigenous governments, and government researchers are eligible to use Earth Engine free of charge, just as they have done for over a decade.\n",
        "\n",
        "The geemap Python package is built upon the Earth Engine Python API and open-source mapping libraries. It allows Earth Engine users to interactively manipulate, analyze, and visualize geospatial big data in a Jupyter environment. Since its creation in April 2020, geemap has received over 2,900 GitHub stars and is being used by over 1,000 projects on GitHub.\n",
        "\n",
        "## Google Colab and Earth Engine Python API authentication (5 mins)\n",
        "\n",
        "[![image](https://colab.research.google.com/assets/colab-badge.svg)](https://colab.research.google.com/github/gee-community/geemap/blob/master/docs/workshops/G4G_2023.ipynb)\n",
        "\n",
        "### Change Colab dark theme\n",
        "\n",
        "Currently, ipywidgets does not work well with Colab dark theme. Some of the geemap widgets may not display properly in Colab dark theme.It is recommended that you change Colab to the light theme.\n",
        "\n",
        "![](https://i.imgur.com/EJ0GDP8.png)\n",
        "\n",
        "\n",
        "### Install geemap\n",
        "\n",
        "The geemap package is pre-installed in Google Colab and is updated to the latest minor or major release every few weeks. Some optional dependencies of geemap being used by this notebook are not pre-installed in Colab. Uncomment the following line to install geemap and some optional dependencies."
      ]
    },
    {
      "cell_type": "code",
      "execution_count": 2,
      "id": "1",
      "metadata": {
        "id": "1"
      },
      "outputs": [
        {
          "name": "stdout",
          "output_type": "stream",
          "text": [
            "Collecting geemap[workshop]\n",
            "  Obtaining dependency information for geemap[workshop] from https://files.pythonhosted.org/packages/63/c8/fc6416e9e5a307643ab0f92c4734a57f05c669fa357cee192919ec0fee0c/geemap-0.32.0-py2.py3-none-any.whl.metadata\n",
            "  Downloading geemap-0.32.0-py2.py3-none-any.whl.metadata (14 kB)\n",
            "Collecting bqplot (from geemap[workshop])\n",
            "  Obtaining dependency information for bqplot from https://files.pythonhosted.org/packages/ad/f5/717a355a47e8ba28ff9fcbe63d3014b55a8d20f3983582205085e85e2869/bqplot-0.12.43-py2.py3-none-any.whl.metadata\n",
            "  Downloading bqplot-0.12.43-py2.py3-none-any.whl.metadata (6.4 kB)\n",
            "Collecting colour (from geemap[workshop])\n",
            "  Obtaining dependency information for colour from https://files.pythonhosted.org/packages/74/46/e81907704ab203206769dee1385dc77e1407576ff8f50a0681d0a6b541be/colour-0.1.5-py2.py3-none-any.whl.metadata\n",
            "  Downloading colour-0.1.5-py2.py3-none-any.whl.metadata (18 kB)\n",
            "Collecting earthengine-api>=0.1.347 (from geemap[workshop])\n",
            "  Obtaining dependency information for earthengine-api>=0.1.347 from https://files.pythonhosted.org/packages/87/74/9548d15696f6c3fb1be27027431f5947d504a6c577ee0f441cd17d2bef76/earthengine_api-0.1.397-py3-none-any.whl.metadata\n",
            "  Downloading earthengine_api-0.1.397-py3-none-any.whl.metadata (1.7 kB)\n",
            "Collecting eerepr>=0.0.4 (from geemap[workshop])\n",
            "  Obtaining dependency information for eerepr>=0.0.4 from https://files.pythonhosted.org/packages/0b/71/5a5e36ad755e3e3081b43acf9ac2a50d1f6f88211aa278bb80114d0b6cd6/eerepr-0.0.4-py3-none-any.whl.metadata\n",
            "  Downloading eerepr-0.0.4-py3-none-any.whl.metadata (4.0 kB)\n",
            "Collecting folium>=0.13.0 (from geemap[workshop])\n",
            "  Obtaining dependency information for folium>=0.13.0 from https://files.pythonhosted.org/packages/b9/98/9ba4b9d2d07dd32765ddb4e4c189dcbdd7dca4d5a735e2e4ea756f40c36b/folium-0.16.0-py2.py3-none-any.whl.metadata\n",
            "  Downloading folium-0.16.0-py2.py3-none-any.whl.metadata (3.6 kB)\n",
            "Collecting geocoder (from geemap[workshop])\n",
            "  Obtaining dependency information for geocoder from https://files.pythonhosted.org/packages/4f/6b/13166c909ad2f2d76b929a4227c952630ebaf0d729f6317eb09cbceccbab/geocoder-1.38.1-py2.py3-none-any.whl.metadata\n",
            "  Downloading geocoder-1.38.1-py2.py3-none-any.whl.metadata (14 kB)\n",
            "Collecting ipyevents (from geemap[workshop])\n",
            "  Obtaining dependency information for ipyevents from https://files.pythonhosted.org/packages/af/49/5692d363a82838282f5c33a787922f07115d7ba4b452391e51db95c9d247/ipyevents-2.0.2-py3-none-any.whl.metadata\n",
            "  Downloading ipyevents-2.0.2-py3-none-any.whl.metadata (2.9 kB)\n",
            "Collecting ipyfilechooser>=0.6.0 (from geemap[workshop])\n",
            "  Obtaining dependency information for ipyfilechooser>=0.6.0 from https://files.pythonhosted.org/packages/00/60/249e3444fcd9c833704741769981cd02fe2c7ce94126b1394e7a3b26e543/ipyfilechooser-0.6.0-py3-none-any.whl.metadata\n",
            "  Downloading ipyfilechooser-0.6.0-py3-none-any.whl.metadata (6.4 kB)\n",
            "Collecting ipyleaflet>=0.17.0 (from geemap[workshop])\n",
            "  Obtaining dependency information for ipyleaflet>=0.17.0 from https://files.pythonhosted.org/packages/ac/6e/5e37c062d615e82c044086a38b0cd56ab86b9a298b1fa3688d01afe3ae39/ipyleaflet-0.18.2-py3-none-any.whl.metadata\n",
            "  Downloading ipyleaflet-0.18.2-py3-none-any.whl.metadata (1.0 kB)\n",
            "Collecting ipytree (from geemap[workshop])\n",
            "  Obtaining dependency information for ipytree from https://files.pythonhosted.org/packages/e4/03/35cf1742598d784e96153175233318a2332f71863e55ad1007c9264c1a7a/ipytree-0.2.2-py2.py3-none-any.whl.metadata\n",
            "  Downloading ipytree-0.2.2-py2.py3-none-any.whl.metadata (849 bytes)\n",
            "Requirement already satisfied: matplotlib in /Users/shreyas/anaconda3/lib/python3.11/site-packages (from geemap[workshop]) (3.7.2)\n",
            "Requirement already satisfied: numpy in /Users/shreyas/anaconda3/lib/python3.11/site-packages (from geemap[workshop]) (1.23.5)\n",
            "Requirement already satisfied: pandas in /Users/shreyas/anaconda3/lib/python3.11/site-packages (from geemap[workshop]) (2.1.1)\n",
            "Requirement already satisfied: plotly in /Users/shreyas/anaconda3/lib/python3.11/site-packages (from geemap[workshop]) (5.17.0)\n",
            "Collecting pyperclip (from geemap[workshop])\n",
            "  Downloading pyperclip-1.8.2.tar.gz (20 kB)\n",
            "  Preparing metadata (setup.py) ... \u001b[?25ldone\n",
            "\u001b[?25hCollecting pyshp>=2.1.3 (from geemap[workshop])\n",
            "  Obtaining dependency information for pyshp>=2.1.3 from https://files.pythonhosted.org/packages/98/2f/68116db5b36b895c0450e3072b8cb6c2fac0359279b182ea97014d3c8ac0/pyshp-2.3.1-py2.py3-none-any.whl.metadata\n",
            "  Downloading pyshp-2.3.1-py2.py3-none-any.whl.metadata (55 kB)\n",
            "\u001b[2K     \u001b[90m━━━━━━━━━━━━━━━━━━━━━━━━━━━━━━━━━━━━━━━\u001b[0m \u001b[32m56.0/56.0 kB\u001b[0m \u001b[31m990.3 kB/s\u001b[0m eta \u001b[36m0:00:00\u001b[0m \u001b[36m0:00:01\u001b[0m\n",
            "\u001b[?25hCollecting python-box (from geemap[workshop])\n",
            "  Obtaining dependency information for python-box from https://files.pythonhosted.org/packages/8e/47/71b1cd3c04ba147781f68debcbb40a9aee4cb66700e523ee921655d69c26/python_box-7.1.1-cp311-cp311-macosx_10_9_universal2.whl.metadata\n",
            "  Downloading python_box-7.1.1-cp311-cp311-macosx_10_9_universal2.whl.metadata (7.8 kB)\n",
            "Collecting scooby (from geemap[workshop])\n",
            "  Obtaining dependency information for scooby from https://files.pythonhosted.org/packages/df/7b/25af5b3327c23ec3053f54a50b120679baf319f5d67047203cf42a02b545/scooby-0.9.2-py3-none-any.whl.metadata\n",
            "  Downloading scooby-0.9.2-py3-none-any.whl.metadata (15 kB)\n",
            "Requirement already satisfied: geopandas in /Users/shreyas/anaconda3/lib/python3.11/site-packages (from geemap[workshop]) (0.14.3)\n",
            "Collecting geedim (from geemap[workshop])\n",
            "  Obtaining dependency information for geedim from https://files.pythonhosted.org/packages/6e/17/8d9b1164bbd53b6878c49e0ec06099e86c789f4a2ad1800d8505195cbee6/geedim-1.7.2-py3-none-any.whl.metadata\n",
            "  Downloading geedim-1.7.2-py3-none-any.whl.metadata (12 kB)\n",
            "Collecting ffmpeg-python (from geemap[workshop])\n",
            "  Obtaining dependency information for ffmpeg-python from https://files.pythonhosted.org/packages/d7/0c/56be52741f75bad4dc6555991fabd2e07b432d333da82c11ad701123888a/ffmpeg_python-0.2.0-py3-none-any.whl.metadata\n",
            "  Downloading ffmpeg_python-0.2.0-py3-none-any.whl.metadata (1.7 kB)\n",
            "Collecting gdown (from geemap[workshop])\n",
            "  Obtaining dependency information for gdown from https://files.pythonhosted.org/packages/cb/56/f4845ed78723a4eb8eb22bcfcb46e1157a462c78c0a5ed318c68c98f9a79/gdown-5.1.0-py3-none-any.whl.metadata\n",
            "  Downloading gdown-5.1.0-py3-none-any.whl.metadata (5.7 kB)\n",
            "Collecting google-cloud-storage (from earthengine-api>=0.1.347->geemap[workshop])\n",
            "  Obtaining dependency information for google-cloud-storage from https://files.pythonhosted.org/packages/cb/e5/7d045d188f4ef85d94b9e3ae1bf876170c6b9f4c9a950124978efc36f680/google_cloud_storage-2.16.0-py2.py3-none-any.whl.metadata\n",
            "  Downloading google_cloud_storage-2.16.0-py2.py3-none-any.whl.metadata (6.1 kB)\n",
            "Collecting google-api-python-client>=1.12.1 (from earthengine-api>=0.1.347->geemap[workshop])\n",
            "  Obtaining dependency information for google-api-python-client>=1.12.1 from https://files.pythonhosted.org/packages/cb/4e/0b6ce3651cecea77346255b966a69ac74b544b0bb02ed463e405a8e7cf7b/google_api_python_client-2.125.0-py2.py3-none-any.whl.metadata\n",
            "  Downloading google_api_python_client-2.125.0-py2.py3-none-any.whl.metadata (6.6 kB)\n",
            "Requirement already satisfied: google-auth>=1.4.1 in /Users/shreyas/anaconda3/lib/python3.11/site-packages (from earthengine-api>=0.1.347->geemap[workshop]) (2.26.1)\n",
            "Collecting google-auth-httplib2>=0.0.3 (from earthengine-api>=0.1.347->geemap[workshop])\n",
            "  Obtaining dependency information for google-auth-httplib2>=0.0.3 from https://files.pythonhosted.org/packages/be/8a/fe34d2f3f9470a27b01c9e76226965863f153d5fbe276f83608562e49c04/google_auth_httplib2-0.2.0-py2.py3-none-any.whl.metadata\n",
            "  Downloading google_auth_httplib2-0.2.0-py2.py3-none-any.whl.metadata (2.2 kB)\n",
            "Collecting httplib2<1dev,>=0.9.2 (from earthengine-api>=0.1.347->geemap[workshop])\n",
            "  Obtaining dependency information for httplib2<1dev,>=0.9.2 from https://files.pythonhosted.org/packages/a8/6c/d2fbdaaa5959339d53ba38e94c123e4e84b8fbc4b84beb0e70d7c1608486/httplib2-0.22.0-py3-none-any.whl.metadata\n",
            "  Downloading httplib2-0.22.0-py3-none-any.whl.metadata (2.6 kB)\n",
            "Requirement already satisfied: requests in /Users/shreyas/anaconda3/lib/python3.11/site-packages (from earthengine-api>=0.1.347->geemap[workshop]) (2.31.0)\n",
            "Collecting branca>=0.6.0 (from folium>=0.13.0->geemap[workshop])\n",
            "  Obtaining dependency information for branca>=0.6.0 from https://files.pythonhosted.org/packages/17/ce/14166d0e273d12065516625fb02426350298e7b4ba59198b5fe454b46202/branca-0.7.1-py3-none-any.whl.metadata\n",
            "  Downloading branca-0.7.1-py3-none-any.whl.metadata (1.5 kB)\n",
            "Requirement already satisfied: jinja2>=2.9 in /Users/shreyas/anaconda3/lib/python3.11/site-packages (from folium>=0.13.0->geemap[workshop]) (3.1.2)\n",
            "Requirement already satisfied: xyzservices in /Users/shreyas/anaconda3/lib/python3.11/site-packages (from folium>=0.13.0->geemap[workshop]) (2022.9.0)\n",
            "Requirement already satisfied: ipywidgets in /Users/shreyas/anaconda3/lib/python3.11/site-packages (from ipyfilechooser>=0.6.0->geemap[workshop]) (8.0.4)\n",
            "Collecting traittypes<3,>=0.2.1 (from ipyleaflet>=0.17.0->geemap[workshop])\n",
            "  Obtaining dependency information for traittypes<3,>=0.2.1 from https://files.pythonhosted.org/packages/9c/d1/8d5bd662703cc1764d986f6908a608777305946fa634d34c470cd4a1e729/traittypes-0.2.1-py2.py3-none-any.whl.metadata\n",
            "  Downloading traittypes-0.2.1-py2.py3-none-any.whl.metadata (1.0 kB)\n",
            "Requirement already satisfied: traitlets>=4.3.0 in /Users/shreyas/anaconda3/lib/python3.11/site-packages (from bqplot->geemap[workshop]) (5.7.1)\n",
            "Requirement already satisfied: python-dateutil>=2.8.2 in /Users/shreyas/anaconda3/lib/python3.11/site-packages (from pandas->geemap[workshop]) (2.8.2)\n",
            "Requirement already satisfied: pytz>=2020.1 in /Users/shreyas/anaconda3/lib/python3.11/site-packages (from pandas->geemap[workshop]) (2023.3.post1)\n",
            "Requirement already satisfied: tzdata>=2022.1 in /Users/shreyas/anaconda3/lib/python3.11/site-packages (from pandas->geemap[workshop]) (2023.3)\n",
            "Requirement already satisfied: future in /Users/shreyas/anaconda3/lib/python3.11/site-packages (from ffmpeg-python->geemap[workshop]) (0.18.3)\n",
            "Requirement already satisfied: beautifulsoup4 in /Users/shreyas/anaconda3/lib/python3.11/site-packages (from gdown->geemap[workshop]) (4.12.2)\n",
            "Requirement already satisfied: filelock in /Users/shreyas/anaconda3/lib/python3.11/site-packages (from gdown->geemap[workshop]) (3.9.0)\n",
            "Requirement already satisfied: tqdm in /Users/shreyas/anaconda3/lib/python3.11/site-packages (from gdown->geemap[workshop]) (4.65.0)\n",
            "Collecting rasterio>=1.1 (from geedim->geemap[workshop])\n",
            "  Obtaining dependency information for rasterio>=1.1 from https://files.pythonhosted.org/packages/58/53/0cbe275c9240f0a369f4293c80bd62ec61e0802424a549bdda170a12f714/rasterio-1.3.9-cp311-cp311-macosx_11_0_arm64.whl.metadata\n",
            "  Downloading rasterio-1.3.9-cp311-cp311-macosx_11_0_arm64.whl.metadata (14 kB)\n",
            "Requirement already satisfied: click>=8 in /Users/shreyas/anaconda3/lib/python3.11/site-packages (from geedim->geemap[workshop]) (8.0.4)\n",
            "Requirement already satisfied: tabulate>=0.8 in /Users/shreyas/anaconda3/lib/python3.11/site-packages (from geedim->geemap[workshop]) (0.8.10)\n",
            "Collecting ratelim (from geocoder->geemap[workshop])\n",
            "  Obtaining dependency information for ratelim from https://files.pythonhosted.org/packages/f2/98/7e6d147fd16a10a5f821db6e25f192265d6ecca3d82957a4fdd592cad49c/ratelim-0.1.6-py2.py3-none-any.whl.metadata\n",
            "  Downloading ratelim-0.1.6-py2.py3-none-any.whl.metadata (1.4 kB)\n",
            "Requirement already satisfied: six in /Users/shreyas/anaconda3/lib/python3.11/site-packages (from geocoder->geemap[workshop]) (1.16.0)\n",
            "Requirement already satisfied: fiona>=1.8.21 in /Users/shreyas/anaconda3/lib/python3.11/site-packages (from geopandas->geemap[workshop]) (1.9.6)\n",
            "Requirement already satisfied: packaging in /Users/shreyas/anaconda3/lib/python3.11/site-packages (from geopandas->geemap[workshop]) (23.1)\n",
            "Requirement already satisfied: pyproj>=3.3.0 in /Users/shreyas/anaconda3/lib/python3.11/site-packages (from geopandas->geemap[workshop]) (3.6.1)\n",
            "Requirement already satisfied: shapely>=1.8.0 in /Users/shreyas/anaconda3/lib/python3.11/site-packages (from geopandas->geemap[workshop]) (2.0.3)\n",
            "Requirement already satisfied: contourpy>=1.0.1 in /Users/shreyas/anaconda3/lib/python3.11/site-packages (from matplotlib->geemap[workshop]) (1.0.5)\n",
            "Requirement already satisfied: cycler>=0.10 in /Users/shreyas/anaconda3/lib/python3.11/site-packages (from matplotlib->geemap[workshop]) (0.11.0)\n",
            "Requirement already satisfied: fonttools>=4.22.0 in /Users/shreyas/anaconda3/lib/python3.11/site-packages (from matplotlib->geemap[workshop]) (4.25.0)\n",
            "Requirement already satisfied: kiwisolver>=1.0.1 in /Users/shreyas/anaconda3/lib/python3.11/site-packages (from matplotlib->geemap[workshop]) (1.4.4)\n",
            "Requirement already satisfied: pillow>=6.2.0 in /Users/shreyas/anaconda3/lib/python3.11/site-packages (from matplotlib->geemap[workshop]) (10.0.1)\n",
            "Requirement already satisfied: pyparsing<3.1,>=2.3.1 in /Users/shreyas/anaconda3/lib/python3.11/site-packages (from matplotlib->geemap[workshop]) (3.0.9)\n",
            "Requirement already satisfied: tenacity>=6.2.0 in /Users/shreyas/anaconda3/lib/python3.11/site-packages (from plotly->geemap[workshop]) (8.2.2)\n",
            "Requirement already satisfied: attrs>=19.2.0 in /Users/shreyas/anaconda3/lib/python3.11/site-packages (from fiona>=1.8.21->geopandas->geemap[workshop]) (23.1.0)\n",
            "Requirement already satisfied: certifi in /Users/shreyas/anaconda3/lib/python3.11/site-packages (from fiona>=1.8.21->geopandas->geemap[workshop]) (2023.7.22)\n",
            "Requirement already satisfied: click-plugins>=1.0 in /Users/shreyas/anaconda3/lib/python3.11/site-packages (from fiona>=1.8.21->geopandas->geemap[workshop]) (1.1.1)\n",
            "Requirement already satisfied: cligj>=0.5 in /Users/shreyas/anaconda3/lib/python3.11/site-packages (from fiona>=1.8.21->geopandas->geemap[workshop]) (0.7.2)\n",
            "Collecting google-api-core!=2.0.*,!=2.1.*,!=2.2.*,!=2.3.0,<3.0.0.dev0,>=1.31.5 (from google-api-python-client>=1.12.1->earthengine-api>=0.1.347->geemap[workshop])\n",
            "  Obtaining dependency information for google-api-core!=2.0.*,!=2.1.*,!=2.2.*,!=2.3.0,<3.0.0.dev0,>=1.31.5 from https://files.pythonhosted.org/packages/86/75/59a3ad90d9b4ff5b3e0537611dbe885aeb96124521c9d35aa079f1e0f2c9/google_api_core-2.18.0-py3-none-any.whl.metadata\n",
            "  Downloading google_api_core-2.18.0-py3-none-any.whl.metadata (2.7 kB)\n",
            "Collecting uritemplate<5,>=3.0.1 (from google-api-python-client>=1.12.1->earthengine-api>=0.1.347->geemap[workshop])\n",
            "  Obtaining dependency information for uritemplate<5,>=3.0.1 from https://files.pythonhosted.org/packages/81/c0/7461b49cd25aeece13766f02ee576d1db528f1c37ce69aee300e075b485b/uritemplate-4.1.1-py2.py3-none-any.whl.metadata\n",
            "  Downloading uritemplate-4.1.1-py2.py3-none-any.whl.metadata (2.9 kB)\n",
            "Requirement already satisfied: cachetools<6.0,>=2.0.0 in /Users/shreyas/anaconda3/lib/python3.11/site-packages (from google-auth>=1.4.1->earthengine-api>=0.1.347->geemap[workshop]) (5.3.2)\n",
            "Requirement already satisfied: pyasn1-modules>=0.2.1 in /Users/shreyas/anaconda3/lib/python3.11/site-packages (from google-auth>=1.4.1->earthengine-api>=0.1.347->geemap[workshop]) (0.2.8)\n",
            "Requirement already satisfied: rsa<5,>=3.1.4 in /Users/shreyas/anaconda3/lib/python3.11/site-packages (from google-auth>=1.4.1->earthengine-api>=0.1.347->geemap[workshop]) (4.9)\n",
            "Requirement already satisfied: ipykernel>=4.5.1 in /Users/shreyas/anaconda3/lib/python3.11/site-packages (from ipywidgets->ipyfilechooser>=0.6.0->geemap[workshop]) (6.25.0)\n",
            "Requirement already satisfied: ipython>=6.1.0 in /Users/shreyas/anaconda3/lib/python3.11/site-packages (from ipywidgets->ipyfilechooser>=0.6.0->geemap[workshop]) (8.15.0)\n",
            "Requirement already satisfied: widgetsnbextension~=4.0 in /Users/shreyas/anaconda3/lib/python3.11/site-packages (from ipywidgets->ipyfilechooser>=0.6.0->geemap[workshop]) (4.0.5)\n",
            "Requirement already satisfied: jupyterlab-widgets~=3.0 in /Users/shreyas/anaconda3/lib/python3.11/site-packages (from ipywidgets->ipyfilechooser>=0.6.0->geemap[workshop]) (3.0.5)\n",
            "Requirement already satisfied: MarkupSafe>=2.0 in /Users/shreyas/anaconda3/lib/python3.11/site-packages (from jinja2>=2.9->folium>=0.13.0->geemap[workshop]) (2.1.1)\n",
            "Collecting affine (from rasterio>=1.1->geedim->geemap[workshop])\n",
            "  Obtaining dependency information for affine from https://files.pythonhosted.org/packages/0b/f7/85273299ab57117850cc0a936c64151171fac4da49bc6fba0dad984a7c5f/affine-2.4.0-py3-none-any.whl.metadata\n",
            "  Downloading affine-2.4.0-py3-none-any.whl.metadata (4.0 kB)\n",
            "Collecting snuggs>=1.4.1 (from rasterio>=1.1->geedim->geemap[workshop])\n",
            "  Obtaining dependency information for snuggs>=1.4.1 from https://files.pythonhosted.org/packages/cc/0e/d27d6e806d6c0d1a2cfdc5d1f088e42339a0a54a09c3343f7f81ec8947ea/snuggs-1.4.7-py3-none-any.whl.metadata\n",
            "  Downloading snuggs-1.4.7-py3-none-any.whl.metadata (3.4 kB)\n",
            "Requirement already satisfied: setuptools in /Users/shreyas/anaconda3/lib/python3.11/site-packages (from rasterio>=1.1->geedim->geemap[workshop]) (68.0.0)\n",
            "Requirement already satisfied: charset-normalizer<4,>=2 in /Users/shreyas/anaconda3/lib/python3.11/site-packages (from requests->earthengine-api>=0.1.347->geemap[workshop]) (2.0.4)\n",
            "Requirement already satisfied: idna<4,>=2.5 in /Users/shreyas/anaconda3/lib/python3.11/site-packages (from requests->earthengine-api>=0.1.347->geemap[workshop]) (3.4)\n",
            "Requirement already satisfied: urllib3<3,>=1.21.1 in /Users/shreyas/anaconda3/lib/python3.11/site-packages (from requests->earthengine-api>=0.1.347->geemap[workshop]) (1.26.16)\n",
            "Requirement already satisfied: soupsieve>1.2 in /Users/shreyas/anaconda3/lib/python3.11/site-packages (from beautifulsoup4->gdown->geemap[workshop]) (2.5)\n",
            "Collecting google-cloud-core<3.0dev,>=2.3.0 (from google-cloud-storage->earthengine-api>=0.1.347->geemap[workshop])\n",
            "  Obtaining dependency information for google-cloud-core<3.0dev,>=2.3.0 from https://files.pythonhosted.org/packages/5e/0f/2e2061e3fbcb9d535d5da3f58cc8de4947df1786fe6a1355960feb05a681/google_cloud_core-2.4.1-py2.py3-none-any.whl.metadata\n",
            "  Downloading google_cloud_core-2.4.1-py2.py3-none-any.whl.metadata (2.7 kB)\n",
            "Collecting google-resumable-media>=2.6.0 (from google-cloud-storage->earthengine-api>=0.1.347->geemap[workshop])\n",
            "  Obtaining dependency information for google-resumable-media>=2.6.0 from https://files.pythonhosted.org/packages/b2/c6/1202ef64a9336d846f713107dac1c7a0b016cb3840ca3d5615c7005a23d1/google_resumable_media-2.7.0-py2.py3-none-any.whl.metadata\n",
            "  Downloading google_resumable_media-2.7.0-py2.py3-none-any.whl.metadata (2.2 kB)\n",
            "Collecting google-crc32c<2.0dev,>=1.0 (from google-cloud-storage->earthengine-api>=0.1.347->geemap[workshop])\n",
            "  Obtaining dependency information for google-crc32c<2.0dev,>=1.0 from https://files.pythonhosted.org/packages/69/0f/7f89ae2b22c55273110a44a7ed55a2948bc213fb58983093fbefcdfd2d13/google_crc32c-1.5.0-cp311-cp311-macosx_10_9_universal2.whl.metadata\n",
            "  Downloading google_crc32c-1.5.0-cp311-cp311-macosx_10_9_universal2.whl.metadata (2.3 kB)\n",
            "Requirement already satisfied: decorator in /Users/shreyas/anaconda3/lib/python3.11/site-packages (from ratelim->geocoder->geemap[workshop]) (5.1.1)\n",
            "Requirement already satisfied: PySocks!=1.5.7,>=1.5.6 in /Users/shreyas/anaconda3/lib/python3.11/site-packages (from requests->earthengine-api>=0.1.347->geemap[workshop]) (1.7.1)\n",
            "Collecting googleapis-common-protos<2.0.dev0,>=1.56.2 (from google-api-core!=2.0.*,!=2.1.*,!=2.2.*,!=2.3.0,<3.0.0.dev0,>=1.31.5->google-api-python-client>=1.12.1->earthengine-api>=0.1.347->geemap[workshop])\n",
            "  Obtaining dependency information for googleapis-common-protos<2.0.dev0,>=1.56.2 from https://files.pythonhosted.org/packages/dc/a6/12a0c976140511d8bc8a16ad15793b2aef29ac927baa0786ccb7ddbb6e1c/googleapis_common_protos-1.63.0-py2.py3-none-any.whl.metadata\n",
            "  Downloading googleapis_common_protos-1.63.0-py2.py3-none-any.whl.metadata (1.5 kB)\n",
            "Requirement already satisfied: protobuf!=3.20.0,!=3.20.1,!=4.21.0,!=4.21.1,!=4.21.2,!=4.21.3,!=4.21.4,!=4.21.5,<5.0.0.dev0,>=3.19.5 in /Users/shreyas/anaconda3/lib/python3.11/site-packages (from google-api-core!=2.0.*,!=2.1.*,!=2.2.*,!=2.3.0,<3.0.0.dev0,>=1.31.5->google-api-python-client>=1.12.1->earthengine-api>=0.1.347->geemap[workshop]) (4.23.4)\n",
            "Collecting proto-plus<2.0.0dev,>=1.22.3 (from google-api-core!=2.0.*,!=2.1.*,!=2.2.*,!=2.3.0,<3.0.0.dev0,>=1.31.5->google-api-python-client>=1.12.1->earthengine-api>=0.1.347->geemap[workshop])\n",
            "  Obtaining dependency information for proto-plus<2.0.0dev,>=1.22.3 from https://files.pythonhosted.org/packages/ad/41/7361075f3a31dcd05a6a38cfd807a6eecbfb6dbfe420d922cd400fc03ac1/proto_plus-1.23.0-py3-none-any.whl.metadata\n",
            "  Downloading proto_plus-1.23.0-py3-none-any.whl.metadata (2.2 kB)\n",
            "Requirement already satisfied: appnope in /Users/shreyas/anaconda3/lib/python3.11/site-packages (from ipykernel>=4.5.1->ipywidgets->ipyfilechooser>=0.6.0->geemap[workshop]) (0.1.2)\n",
            "Requirement already satisfied: comm>=0.1.1 in /Users/shreyas/anaconda3/lib/python3.11/site-packages (from ipykernel>=4.5.1->ipywidgets->ipyfilechooser>=0.6.0->geemap[workshop]) (0.1.2)\n",
            "Requirement already satisfied: debugpy>=1.6.5 in /Users/shreyas/anaconda3/lib/python3.11/site-packages (from ipykernel>=4.5.1->ipywidgets->ipyfilechooser>=0.6.0->geemap[workshop]) (1.6.7)\n",
            "Requirement already satisfied: jupyter-client>=6.1.12 in /Users/shreyas/anaconda3/lib/python3.11/site-packages (from ipykernel>=4.5.1->ipywidgets->ipyfilechooser>=0.6.0->geemap[workshop]) (7.4.9)\n",
            "Requirement already satisfied: jupyter-core!=5.0.*,>=4.12 in /Users/shreyas/anaconda3/lib/python3.11/site-packages (from ipykernel>=4.5.1->ipywidgets->ipyfilechooser>=0.6.0->geemap[workshop]) (5.3.0)\n",
            "Requirement already satisfied: matplotlib-inline>=0.1 in /Users/shreyas/anaconda3/lib/python3.11/site-packages (from ipykernel>=4.5.1->ipywidgets->ipyfilechooser>=0.6.0->geemap[workshop]) (0.1.6)\n",
            "Requirement already satisfied: nest-asyncio in /Users/shreyas/anaconda3/lib/python3.11/site-packages (from ipykernel>=4.5.1->ipywidgets->ipyfilechooser>=0.6.0->geemap[workshop]) (1.5.6)\n",
            "Requirement already satisfied: psutil in /Users/shreyas/anaconda3/lib/python3.11/site-packages (from ipykernel>=4.5.1->ipywidgets->ipyfilechooser>=0.6.0->geemap[workshop]) (5.9.0)\n",
            "Requirement already satisfied: pyzmq>=20 in /Users/shreyas/anaconda3/lib/python3.11/site-packages (from ipykernel>=4.5.1->ipywidgets->ipyfilechooser>=0.6.0->geemap[workshop]) (23.2.0)\n",
            "Requirement already satisfied: tornado>=6.1 in /Users/shreyas/anaconda3/lib/python3.11/site-packages (from ipykernel>=4.5.1->ipywidgets->ipyfilechooser>=0.6.0->geemap[workshop]) (6.3.3)\n",
            "Requirement already satisfied: backcall in /Users/shreyas/anaconda3/lib/python3.11/site-packages (from ipython>=6.1.0->ipywidgets->ipyfilechooser>=0.6.0->geemap[workshop]) (0.2.0)\n",
            "Requirement already satisfied: jedi>=0.16 in /Users/shreyas/anaconda3/lib/python3.11/site-packages (from ipython>=6.1.0->ipywidgets->ipyfilechooser>=0.6.0->geemap[workshop]) (0.18.1)\n",
            "Requirement already satisfied: pickleshare in /Users/shreyas/anaconda3/lib/python3.11/site-packages (from ipython>=6.1.0->ipywidgets->ipyfilechooser>=0.6.0->geemap[workshop]) (0.7.5)\n",
            "Requirement already satisfied: prompt-toolkit!=3.0.37,<3.1.0,>=3.0.30 in /Users/shreyas/anaconda3/lib/python3.11/site-packages (from ipython>=6.1.0->ipywidgets->ipyfilechooser>=0.6.0->geemap[workshop]) (3.0.36)\n",
            "Requirement already satisfied: pygments>=2.4.0 in /Users/shreyas/anaconda3/lib/python3.11/site-packages (from ipython>=6.1.0->ipywidgets->ipyfilechooser>=0.6.0->geemap[workshop]) (2.15.1)\n",
            "Requirement already satisfied: stack-data in /Users/shreyas/anaconda3/lib/python3.11/site-packages (from ipython>=6.1.0->ipywidgets->ipyfilechooser>=0.6.0->geemap[workshop]) (0.2.0)\n",
            "Requirement already satisfied: pexpect>4.3 in /Users/shreyas/anaconda3/lib/python3.11/site-packages (from ipython>=6.1.0->ipywidgets->ipyfilechooser>=0.6.0->geemap[workshop]) (4.8.0)\n",
            "Requirement already satisfied: pyasn1<0.5.0,>=0.4.6 in /Users/shreyas/anaconda3/lib/python3.11/site-packages (from pyasn1-modules>=0.2.1->google-auth>=1.4.1->earthengine-api>=0.1.347->geemap[workshop]) (0.4.8)\n",
            "Requirement already satisfied: parso<0.9.0,>=0.8.0 in /Users/shreyas/anaconda3/lib/python3.11/site-packages (from jedi>=0.16->ipython>=6.1.0->ipywidgets->ipyfilechooser>=0.6.0->geemap[workshop]) (0.8.3)\n",
            "Requirement already satisfied: entrypoints in /Users/shreyas/anaconda3/lib/python3.11/site-packages (from jupyter-client>=6.1.12->ipykernel>=4.5.1->ipywidgets->ipyfilechooser>=0.6.0->geemap[workshop]) (0.4)\n",
            "Requirement already satisfied: platformdirs>=2.5 in /Users/shreyas/anaconda3/lib/python3.11/site-packages (from jupyter-core!=5.0.*,>=4.12->ipykernel>=4.5.1->ipywidgets->ipyfilechooser>=0.6.0->geemap[workshop]) (3.10.0)\n",
            "Requirement already satisfied: ptyprocess>=0.5 in /Users/shreyas/anaconda3/lib/python3.11/site-packages (from pexpect>4.3->ipython>=6.1.0->ipywidgets->ipyfilechooser>=0.6.0->geemap[workshop]) (0.7.0)\n",
            "Requirement already satisfied: wcwidth in /Users/shreyas/anaconda3/lib/python3.11/site-packages (from prompt-toolkit!=3.0.37,<3.1.0,>=3.0.30->ipython>=6.1.0->ipywidgets->ipyfilechooser>=0.6.0->geemap[workshop]) (0.2.5)\n",
            "Requirement already satisfied: executing in /Users/shreyas/anaconda3/lib/python3.11/site-packages (from stack-data->ipython>=6.1.0->ipywidgets->ipyfilechooser>=0.6.0->geemap[workshop]) (0.8.3)\n",
            "Requirement already satisfied: asttokens in /Users/shreyas/anaconda3/lib/python3.11/site-packages (from stack-data->ipython>=6.1.0->ipywidgets->ipyfilechooser>=0.6.0->geemap[workshop]) (2.0.5)\n",
            "Requirement already satisfied: pure-eval in /Users/shreyas/anaconda3/lib/python3.11/site-packages (from stack-data->ipython>=6.1.0->ipywidgets->ipyfilechooser>=0.6.0->geemap[workshop]) (0.2.2)\n",
            "Downloading earthengine_api-0.1.397-py3-none-any.whl (334 kB)\n",
            "\u001b[2K   \u001b[90m━━━━━━━━━━━━━━━━━━━━━━━━━━━━━━━━━━━━━━━━\u001b[0m \u001b[32m334.9/334.9 kB\u001b[0m \u001b[31m1.6 MB/s\u001b[0m eta \u001b[36m0:00:00\u001b[0ma \u001b[36m0:00:01\u001b[0m\n",
            "\u001b[?25hDownloading eerepr-0.0.4-py3-none-any.whl (9.7 kB)\n",
            "Downloading folium-0.16.0-py2.py3-none-any.whl (100 kB)\n",
            "\u001b[2K   \u001b[90m━━━━━━━━━━━━━━━━━━━━━━━━━━━━━━━━━━━━━━━━\u001b[0m \u001b[32m100.0/100.0 kB\u001b[0m \u001b[31m1.5 MB/s\u001b[0m eta \u001b[36m0:00:00\u001b[0m \u001b[36m0:00:01\u001b[0m\n",
            "\u001b[?25hDownloading ipyfilechooser-0.6.0-py3-none-any.whl (11 kB)\n",
            "Downloading ipyleaflet-0.18.2-py3-none-any.whl (3.7 MB)\n",
            "\u001b[2K   \u001b[90m━━━━━━━━━━━━━━━━━━━━━━━━━━━━━━━━━━━━━━━━\u001b[0m \u001b[32m3.7/3.7 MB\u001b[0m \u001b[31m2.2 MB/s\u001b[0m eta \u001b[36m0:00:00\u001b[0m00:01\u001b[0m00:01\u001b[0m\n",
            "\u001b[?25hDownloading pyshp-2.3.1-py2.py3-none-any.whl (46 kB)\n",
            "\u001b[2K   \u001b[90m━━━━━━━━━━━━━━━━━━━━━━━━━━━━━━━━━━━━━━━━\u001b[0m \u001b[32m46.5/46.5 kB\u001b[0m \u001b[31m2.3 MB/s\u001b[0m eta \u001b[36m0:00:00\u001b[0m\n",
            "\u001b[?25hDownloading bqplot-0.12.43-py2.py3-none-any.whl (1.2 MB)\n",
            "\u001b[2K   \u001b[90m━━━━━━━━━━━━━━━━━━━━━━━━━━━━━━━━━━━━━━━━\u001b[0m \u001b[32m1.2/1.2 MB\u001b[0m \u001b[31m2.5 MB/s\u001b[0m eta \u001b[36m0:00:00\u001b[0m00:01\u001b[0m00:01\u001b[0m\n",
            "\u001b[?25hDownloading colour-0.1.5-py2.py3-none-any.whl (23 kB)\n",
            "Downloading ffmpeg_python-0.2.0-py3-none-any.whl (25 kB)\n",
            "Downloading gdown-5.1.0-py3-none-any.whl (17 kB)\n",
            "Downloading geedim-1.7.2-py3-none-any.whl (73 kB)\n",
            "\u001b[2K   \u001b[90m━━━━━━━━━━━━━━━━━━━━━━━━━━━━━━━━━━━━━━━━\u001b[0m \u001b[32m73.5/73.5 kB\u001b[0m \u001b[31m4.6 MB/s\u001b[0m eta \u001b[36m0:00:00\u001b[0m\n",
            "\u001b[?25hDownloading geemap-0.32.0-py2.py3-none-any.whl (2.2 MB)\n",
            "\u001b[2K   \u001b[90m━━━━━━━━━━━━━━━━━━━━━━━━━━━━━━━━━━━━━━━━\u001b[0m \u001b[32m2.2/2.2 MB\u001b[0m \u001b[31m2.4 MB/s\u001b[0m eta \u001b[36m0:00:00\u001b[0m00:01\u001b[0m00:01\u001b[0m\n",
            "\u001b[?25hDownloading geocoder-1.38.1-py2.py3-none-any.whl (98 kB)\n",
            "\u001b[2K   \u001b[90m━━━━━━━━━━━━━━━━━━━━━━━━━━━━━━━━━━━━━━━━\u001b[0m \u001b[32m98.6/98.6 kB\u001b[0m \u001b[31m1.1 MB/s\u001b[0m eta \u001b[36m0:00:00\u001b[0ma \u001b[36m0:00:01\u001b[0m\n",
            "\u001b[?25hDownloading ipyevents-2.0.2-py3-none-any.whl (101 kB)\n",
            "\u001b[2K   \u001b[90m━━━━━━━━━━━━━━━━━━━━━━━━━━━━━━━━━━━━━━━\u001b[0m \u001b[32m101.8/101.8 kB\u001b[0m \u001b[31m714.1 kB/s\u001b[0m eta \u001b[36m0:00:00\u001b[0ma \u001b[36m0:00:01\u001b[0m\n",
            "\u001b[?25hDownloading ipytree-0.2.2-py2.py3-none-any.whl (1.3 MB)\n",
            "\u001b[2K   \u001b[90m━━━━━━━━━━━━━━━━━━━━━━━━━━━━━━━━━━━━━━━━\u001b[0m \u001b[32m1.3/1.3 MB\u001b[0m \u001b[31m472.5 kB/s\u001b[0m eta \u001b[36m0:00:00\u001b[0m00:01\u001b[0m00:01\u001b[0m\n",
            "\u001b[?25hDownloading python_box-7.1.1-cp311-cp311-macosx_10_9_universal2.whl (1.8 MB)\n",
            "\u001b[2K   \u001b[90m━━━━━━━━━━━━━━━━━━━━━━━━━━━━━━━━━━━━━━━━\u001b[0m \u001b[32m1.8/1.8 MB\u001b[0m \u001b[31m436.1 kB/s\u001b[0m eta \u001b[36m0:00:00\u001b[0m00:01\u001b[0m00:01\u001b[0m\n",
            "\u001b[?25hDownloading scooby-0.9.2-py3-none-any.whl (18 kB)\n",
            "Downloading branca-0.7.1-py3-none-any.whl (25 kB)\n",
            "Downloading google_api_python_client-2.125.0-py2.py3-none-any.whl (12.5 MB)\n",
            "\u001b[2K   \u001b[90m━━━━━━━━━━━━━━━━━━━━━━━━━━━━━━━━━━━━━━━━\u001b[0m \u001b[32m12.5/12.5 MB\u001b[0m \u001b[31m713.7 kB/s\u001b[0m eta \u001b[36m0:00:00\u001b[0m00:01\u001b[0m00:01\u001b[0m\n",
            "\u001b[?25hDownloading google_auth_httplib2-0.2.0-py2.py3-none-any.whl (9.3 kB)\n",
            "Downloading httplib2-0.22.0-py3-none-any.whl (96 kB)\n",
            "\u001b[2K   \u001b[90m━━━━━━━━━━━━━━━━━━━━━━━━━━━━━━━━━━━━━━━━\u001b[0m \u001b[32m96.9/96.9 kB\u001b[0m \u001b[31m1.4 MB/s\u001b[0m eta \u001b[36m0:00:00\u001b[0ma \u001b[36m0:00:01\u001b[0m\n",
            "\u001b[?25hDownloading rasterio-1.3.9-cp311-cp311-macosx_11_0_arm64.whl (18.8 MB)\n",
            "\u001b[2K   \u001b[90m━━━━━━━━━━━━━━━━━━━━━━━━━━━━━━━━━━━━━━━━\u001b[0m \u001b[32m18.8/18.8 MB\u001b[0m \u001b[31m530.4 kB/s\u001b[0m eta \u001b[36m0:00:00\u001b[0m00:01\u001b[0m00:01\u001b[0m\n",
            "\u001b[?25hDownloading traittypes-0.2.1-py2.py3-none-any.whl (8.6 kB)\n",
            "Downloading google_cloud_storage-2.16.0-py2.py3-none-any.whl (125 kB)\n",
            "\u001b[2K   \u001b[90m━━━━━━━━━━━━━━━━━━━━━━━━━━━━━━━━━━━━━━━\u001b[0m \u001b[32m125.6/125.6 kB\u001b[0m \u001b[31m370.5 kB/s\u001b[0m eta \u001b[36m0:00:00\u001b[0ma \u001b[36m0:00:01\u001b[0m\n",
            "\u001b[?25hDownloading ratelim-0.1.6-py2.py3-none-any.whl (4.0 kB)\n",
            "Downloading google_api_core-2.18.0-py3-none-any.whl (138 kB)\n",
            "\u001b[2K   \u001b[90m━━━━━━━━━━━━━━━━━━━━━━━━━━━━━━━━━━━━━━━\u001b[0m \u001b[32m138.3/138.3 kB\u001b[0m \u001b[31m860.0 kB/s\u001b[0m eta \u001b[36m0:00:00\u001b[0ma \u001b[36m0:00:01\u001b[0m\n",
            "\u001b[?25hDownloading google_cloud_core-2.4.1-py2.py3-none-any.whl (29 kB)\n",
            "Downloading google_crc32c-1.5.0-cp311-cp311-macosx_10_9_universal2.whl (32 kB)\n",
            "Downloading google_resumable_media-2.7.0-py2.py3-none-any.whl (80 kB)\n",
            "\u001b[2K   \u001b[90m━━━━━━━━━━━━━━━━━━━━━━━━━━━━━━━━━━━━━━━━\u001b[0m \u001b[32m80.6/80.6 kB\u001b[0m \u001b[31m1.0 MB/s\u001b[0m eta \u001b[36m0:00:00\u001b[0ma \u001b[36m0:00:01\u001b[0m\n",
            "\u001b[?25hDownloading snuggs-1.4.7-py3-none-any.whl (5.4 kB)\n",
            "Downloading uritemplate-4.1.1-py2.py3-none-any.whl (10 kB)\n",
            "Downloading affine-2.4.0-py3-none-any.whl (15 kB)\n",
            "Downloading googleapis_common_protos-1.63.0-py2.py3-none-any.whl (229 kB)\n",
            "\u001b[2K   \u001b[90m━━━━━━━━━━━━━━━━━━━━━━━━━━━━━━━━━━━━━━━\u001b[0m \u001b[32m229.1/229.1 kB\u001b[0m \u001b[31m782.6 kB/s\u001b[0m eta \u001b[36m0:00:00\u001b[0m00:01\u001b[0m00:01\u001b[0m\n",
            "\u001b[?25hDownloading proto_plus-1.23.0-py3-none-any.whl (48 kB)\n",
            "\u001b[2K   \u001b[90m━━━━━━━━━━━━━━━━━━━━━━━━━━━━━━━━━━━━━━━━\u001b[0m \u001b[32m48.8/48.8 kB\u001b[0m \u001b[31m829.8 kB/s\u001b[0m eta \u001b[36m0:00:00\u001b[0m\u001b[36m0:00:01\u001b[0m\n",
            "\u001b[?25hBuilding wheels for collected packages: pyperclip\n",
            "  Building wheel for pyperclip (setup.py) ... \u001b[?25ldone\n",
            "\u001b[?25h  Created wheel for pyperclip: filename=pyperclip-1.8.2-py3-none-any.whl size=11124 sha256=aa53951dbf4419d9b595e2c20921f27b9f38366551ad593df34d2336d6d4f49c\n",
            "  Stored in directory: /Users/shreyas/Library/Caches/pip/wheels/70/bd/ba/8ae5c080c895c9360fe6e153acda2dee82527374467eae061b\n",
            "Successfully built pyperclip\n",
            "Installing collected packages: pyperclip, colour, uritemplate, traittypes, snuggs, scooby, ratelim, python-box, pyshp, proto-plus, httplib2, googleapis-common-protos, google-crc32c, ffmpeg-python, affine, rasterio, google-resumable-media, geocoder, branca, google-auth-httplib2, google-api-core, gdown, folium, google-cloud-core, google-api-python-client, google-cloud-storage, ipytree, ipyleaflet, ipyfilechooser, ipyevents, earthengine-api, bqplot, geedim, eerepr, geemap\n",
            "Successfully installed affine-2.4.0 bqplot-0.12.43 branca-0.7.1 colour-0.1.5 earthengine-api-0.1.397 eerepr-0.0.4 ffmpeg-python-0.2.0 folium-0.16.0 gdown-5.1.0 geedim-1.7.2 geemap-0.32.0 geocoder-1.38.1 google-api-core-2.18.0 google-api-python-client-2.125.0 google-auth-httplib2-0.2.0 google-cloud-core-2.4.1 google-cloud-storage-2.16.0 google-crc32c-1.5.0 google-resumable-media-2.7.0 googleapis-common-protos-1.63.0 httplib2-0.22.0 ipyevents-2.0.2 ipyfilechooser-0.6.0 ipyleaflet-0.18.2 ipytree-0.2.2 proto-plus-1.23.0 pyperclip-1.8.2 pyshp-2.3.1 python-box-7.1.1 rasterio-1.3.9 ratelim-0.1.6 scooby-0.9.2 snuggs-1.4.7 traittypes-0.2.1 uritemplate-4.1.1\n",
            "Note: you may need to restart the kernel to use updated packages.\n"
          ]
        }
      ],
      "source": [
        "%pip install -U \"geemap[workshop]\""
      ]
    },
    {
      "cell_type": "markdown",
      "id": "2",
      "metadata": {
        "id": "2"
      },
      "source": [
        "Note that some geemap features do not work properly with Google Colab. If you are familiar with [Anaconda](https://www.anaconda.com/download) or [Miniconda](https://docs.anaconda.com/free/miniconda), it is recommended to create a new conda environment to install geemap and its optional dependencies on your local computer.\n",
        "\n",
        "```bash\n",
        "conda create -n gee python=3.11\n",
        "conda activate gee\n",
        "conda install -c conda-forge mamba\n",
        "mamba install -c conda-forge geemap pygis\n",
        "```"
      ]
    },
    {
      "cell_type": "markdown",
      "id": "3",
      "metadata": {
        "id": "3"
      },
      "source": [
        "### Import libraries\n",
        "\n",
        "Import the earthengine-api and geemap."
      ]
    },
    {
      "cell_type": "code",
      "execution_count": 2,
      "id": "4",
      "metadata": {
        "id": "4"
      },
      "outputs": [],
      "source": [
        "import ee\n",
        "import geemap"
      ]
    },
    {
      "cell_type": "markdown",
      "id": "5",
      "metadata": {
        "id": "5"
      },
      "source": [
        "### Authenticate and initialize Earth Engine\n",
        "\n",
        "You will need to create a [Google Cloud Project](https://console.cloud.google.com/projectcreate) and enable the [Earth Engine API](https://console.cloud.google.com/apis/api/earthengine.googleapis.com) for the project. You can find detailed instructions [here](https://book.geemap.org/chapters/01_introduction.html#earth-engine-authentication)."
      ]
    },
    {
      "cell_type": "code",
      "execution_count": 4,
      "id": "6",
      "metadata": {
        "colab": {
          "base_uri": "https://localhost:8080/",
          "height": 17
        },
        "id": "6",
        "outputId": "c7337acc-1e33-4c37-c310-c07a9b7efe6f"
      },
      "outputs": [
        {
          "data": {
            "text/html": [
              "\n",
              "            <style>\n",
              "                .geemap-dark {\n",
              "                    --jp-widgets-color: white;\n",
              "                    --jp-widgets-label-color: white;\n",
              "                    --jp-ui-font-color1: white;\n",
              "                    --jp-layout-color2: #454545;\n",
              "                    background-color: #383838;\n",
              "                }\n",
              "\n",
              "                .geemap-dark .jupyter-button {\n",
              "                    --jp-layout-color3: #383838;\n",
              "                }\n",
              "\n",
              "                .geemap-colab {\n",
              "                    background-color: var(--colab-primary-surface-color, white);\n",
              "                }\n",
              "\n",
              "                .geemap-colab .jupyter-button {\n",
              "                    --jp-layout-color3: var(--colab-primary-surface-color, white);\n",
              "                }\n",
              "            </style>\n",
              "            "
            ],
            "text/plain": [
              "<IPython.core.display.HTML object>"
            ]
          },
          "metadata": {},
          "output_type": "display_data"
        },
        {
          "data": {
            "text/html": [
              "<p>To authorize access needed by Earth Engine, open the following\n",
              "        URL in a web browser and follow the instructions:</p>\n",
              "        <p><a href=https://code.earthengine.google.com/client-auth?scopes=https%3A//www.googleapis.com/auth/earthengine%20https%3A//www.googleapis.com/auth/cloud-platform%20https%3A//www.googleapis.com/auth/devstorage.full_control&request_id=JBZAe6F0VOrUdMLFJQDOe6lvL9_AsninRO8SiqzEluM&tc=GNPf4nPxtLJ9aS15j1ZLTTFuiMh_MHwNVD-PllwkWdc&cc=8dbWm9VZxkplHE8WTHuNhh2W1-2hKUTla4udYwXaK0k>https://code.earthengine.google.com/client-auth?scopes=https%3A//www.googleapis.com/auth/earthengine%20https%3A//www.googleapis.com/auth/cloud-platform%20https%3A//www.googleapis.com/auth/devstorage.full_control&request_id=JBZAe6F0VOrUdMLFJQDOe6lvL9_AsninRO8SiqzEluM&tc=GNPf4nPxtLJ9aS15j1ZLTTFuiMh_MHwNVD-PllwkWdc&cc=8dbWm9VZxkplHE8WTHuNhh2W1-2hKUTla4udYwXaK0k</a></p>\n",
              "        <p>The authorization workflow will generate a code, which you should paste in the box below.</p>\n",
              "        "
            ],
            "text/plain": [
              "<IPython.core.display.HTML object>"
            ]
          },
          "metadata": {},
          "output_type": "display_data"
        },
        {
          "name": "stdout",
          "output_type": "stream",
          "text": [
            "\n",
            "Successfully saved authorization token.\n"
          ]
        }
      ],
      "source": [
        "ee.Authenticate()"
      ]
    },
    {
      "cell_type": "code",
      "execution_count": 5,
      "id": "7",
      "metadata": {
        "colab": {
          "base_uri": "https://localhost:8080/",
          "height": 17
        },
        "id": "7",
        "outputId": "84ac1ad3-f7cf-45ac-b6b6-fc5b805cc819"
      },
      "outputs": [
        {
          "data": {
            "text/html": [
              "\n",
              "            <style>\n",
              "                .geemap-dark {\n",
              "                    --jp-widgets-color: white;\n",
              "                    --jp-widgets-label-color: white;\n",
              "                    --jp-ui-font-color1: white;\n",
              "                    --jp-layout-color2: #454545;\n",
              "                    background-color: #383838;\n",
              "                }\n",
              "\n",
              "                .geemap-dark .jupyter-button {\n",
              "                    --jp-layout-color3: #383838;\n",
              "                }\n",
              "\n",
              "                .geemap-colab {\n",
              "                    background-color: var(--colab-primary-surface-color, white);\n",
              "                }\n",
              "\n",
              "                .geemap-colab .jupyter-button {\n",
              "                    --jp-layout-color3: var(--colab-primary-surface-color, white);\n",
              "                }\n",
              "            </style>\n",
              "            "
            ],
            "text/plain": [
              "<IPython.core.display.HTML object>"
            ]
          },
          "metadata": {},
          "output_type": "display_data"
        }
      ],
      "source": [
        "ee.Initialize(project = \"ee-f20220598\")"
      ]
    },
    {
      "cell_type": "markdown",
      "id": "8",
      "metadata": {
        "id": "8"
      },
      "source": [
        "## Creating interactive maps\n",
        "\n",
        "Let's create an interactive map using the `ipyleaflet` plotting backend. The [`geemap.Map`](https://geemap.org/geemap/#geemap.geemap.m) class inherits the [`ipyleaflet.Map`](https://ipyleaflet.readthedocs.io/en/latest/map_and_basemaps/map.html) class. Therefore, you can use the same syntax to create an interactive map as you would with `ipyleaflet.Map`."
      ]
    },
    {
      "cell_type": "code",
      "execution_count": 6,
      "id": "9",
      "metadata": {
        "colab": {
          "base_uri": "https://localhost:8080/",
          "height": 17
        },
        "id": "9",
        "outputId": "30583bf5-08b9-4f11-eda8-088309d14c26"
      },
      "outputs": [
        {
          "data": {
            "text/html": [
              "\n",
              "            <style>\n",
              "                .geemap-dark {\n",
              "                    --jp-widgets-color: white;\n",
              "                    --jp-widgets-label-color: white;\n",
              "                    --jp-ui-font-color1: white;\n",
              "                    --jp-layout-color2: #454545;\n",
              "                    background-color: #383838;\n",
              "                }\n",
              "\n",
              "                .geemap-dark .jupyter-button {\n",
              "                    --jp-layout-color3: #383838;\n",
              "                }\n",
              "\n",
              "                .geemap-colab {\n",
              "                    background-color: var(--colab-primary-surface-color, white);\n",
              "                }\n",
              "\n",
              "                .geemap-colab .jupyter-button {\n",
              "                    --jp-layout-color3: var(--colab-primary-surface-color, white);\n",
              "                }\n",
              "            </style>\n",
              "            "
            ],
            "text/plain": [
              "<IPython.core.display.HTML object>"
            ]
          },
          "metadata": {},
          "output_type": "display_data"
        }
      ],
      "source": [
        "m = geemap.Map()"
      ]
    },
    {
      "cell_type": "markdown",
      "id": "10",
      "metadata": {
        "id": "10"
      },
      "source": [
        "To display it in a Jupyter notebook, simply ask for the object representation:"
      ]
    },
    {
      "cell_type": "code",
      "execution_count": 7,
      "id": "11",
      "metadata": {
        "colab": {
          "base_uri": "https://localhost:8080/",
          "height": 621,
          "referenced_widgets": [
            "c46cd7baa41742eb85bf06fef79e3bad",
            "29fb62891eee4a1bbd73c22c0f0e1c62",
            "f59529aa7cf44b299b394b91b0a08b9f",
            "3c5111b751b240f884bdc0c123de839e",
            "e9de19a7098a4b148d5f930ea0085003",
            "8cb062ca4b5d431e81f1a8deadd6362e",
            "643fb2ba8ad3474d8831dd02cfcbefa1",
            "501ddd88c22a48b781e4e5cd06bdce32",
            "ed3c4d57ac2f4290a03645a5bd14ea38",
            "abf016a2399a41be961bff7315e3a364",
            "dd172fdc11624b91a71a2d0b54407e27",
            "416866922e78444b9c14450d262138fc",
            "c761780c0aab4f0d87abdf5221028e05",
            "420da750250e4e469a730b525ea45b0e",
            "c9a3ee3dd4d24b0c94d79cf502d81ced",
            "d00684dd9a2c4050a6fcd8170b3342ca",
            "6920b97f0e2a44a38e45eccd07ff478f",
            "3f0d1a08d5744e2c82115871f5326ecb",
            "d41f49d0e42b4cc6aa3200081fd2ce24",
            "6bb360b6d25b4eae83159bae2cfa740d",
            "11dceff1e10e411687c30878de18454c",
            "0ca4fd3df8cd46fb99c233e6c54dda07",
            "49d7d05f6b5d49de8865ddcb5c235cae",
            "15fd553307aa4299af2c3c633165b80d"
          ]
        },
        "id": "11",
        "outputId": "d31f08f9-37ef-4d55-ee22-391e68ed0531"
      },
      "outputs": [
        {
          "data": {
            "text/html": [
              "\n",
              "            <style>\n",
              "                .geemap-dark {\n",
              "                    --jp-widgets-color: white;\n",
              "                    --jp-widgets-label-color: white;\n",
              "                    --jp-ui-font-color1: white;\n",
              "                    --jp-layout-color2: #454545;\n",
              "                    background-color: #383838;\n",
              "                }\n",
              "\n",
              "                .geemap-dark .jupyter-button {\n",
              "                    --jp-layout-color3: #383838;\n",
              "                }\n",
              "\n",
              "                .geemap-colab {\n",
              "                    background-color: var(--colab-primary-surface-color, white);\n",
              "                }\n",
              "\n",
              "                .geemap-colab .jupyter-button {\n",
              "                    --jp-layout-color3: var(--colab-primary-surface-color, white);\n",
              "                }\n",
              "            </style>\n",
              "            "
            ],
            "text/plain": [
              "<IPython.core.display.HTML object>"
            ]
          },
          "metadata": {},
          "output_type": "display_data"
        },
        {
          "data": {
            "application/vnd.jupyter.widget-view+json": {
              "model_id": "5083ada9484d4ced9fa5a3e58fb8f648",
              "version_major": 2,
              "version_minor": 0
            },
            "text/plain": [
              "Map(center=[0, 0], controls=(WidgetControl(options=['position', 'transparent_bg'], widget=SearchDataGUI(childr…"
            ]
          },
          "execution_count": 7,
          "metadata": {},
          "output_type": "execute_result"
        }
      ],
      "source": [
        "m"
      ]
    },
    {
      "cell_type": "markdown",
      "id": "12",
      "metadata": {
        "id": "12"
      },
      "source": [
        "To customize the map, you can specify various keyword arguments, such as `center` ([lat, lon]), `zoom`, `width`, and `height`. The default `width` is `100%`, which takes up the entire cell width of the Jupyter notebook. The `height` argument accepts a number or a string. If a number is provided, it represents the height of the map in pixels. If a string is provided, the string must be in the format of a number followed by `px`, e.g., `600px`."
      ]
    },
    {
      "cell_type": "code",
      "execution_count": 8,
      "id": "13",
      "metadata": {
        "colab": {
          "base_uri": "https://localhost:8080/",
          "height": 621,
          "referenced_widgets": [
            "d301be3c07af4fcfa36d329353513bf8",
            "f2430f4baa644291bde97d8ce6ad1b35",
            "3b6719d623814fa097568489003a164b",
            "10a3aa014ec74f4781d9ba595bef32fe",
            "511aa68cb540401081c8f9164dddd4f8",
            "e23c630c52a945b19c633547f2d2b986",
            "c7a658a9abbb43a88ee71789a8b2713a",
            "e3a14f85a2cb4334be1c2ffb56060435",
            "e215eb18d32a4d838ccee0d51f87ec04",
            "271a97903d1f47cc803654820eb44d7b",
            "2224b92af48a42e0ba030d39c0e64298",
            "4f09ee2e192d455a949a076f78eb9935",
            "1fe3220109e04523bcf8d31a513d66fb",
            "e4c49f6c0a3d42099230e8faefa0e832",
            "b974790c17604e338511fe09601bde32",
            "bd7c259f60e6476fb99eb1a0b1640c37",
            "66c1bb29eed5438e95cb9c472776940d",
            "9f9f509f7b244f9e9f8f5f4b0fa29609",
            "dc20c85a509a4ebfb39dd73cdf82ae3a",
            "61dc3427ef574cd8a3b77c1f25c5c5cb",
            "6a9d3a9dc4bb4a1482dd033afe970476",
            "578aeffa0485431bad3279565bc276d1",
            "e7e0b0d984d847929fd034c695bd6bfe",
            "4861530512a74ab6a13ccdf7f9e293bb"
          ]
        },
        "id": "13",
        "outputId": "bc7ab1d8-23c6-42d4-9460-e487f09c34c5"
      },
      "outputs": [
        {
          "data": {
            "text/html": [
              "\n",
              "            <style>\n",
              "                .geemap-dark {\n",
              "                    --jp-widgets-color: white;\n",
              "                    --jp-widgets-label-color: white;\n",
              "                    --jp-ui-font-color1: white;\n",
              "                    --jp-layout-color2: #454545;\n",
              "                    background-color: #383838;\n",
              "                }\n",
              "\n",
              "                .geemap-dark .jupyter-button {\n",
              "                    --jp-layout-color3: #383838;\n",
              "                }\n",
              "\n",
              "                .geemap-colab {\n",
              "                    background-color: var(--colab-primary-surface-color, white);\n",
              "                }\n",
              "\n",
              "                .geemap-colab .jupyter-button {\n",
              "                    --jp-layout-color3: var(--colab-primary-surface-color, white);\n",
              "                }\n",
              "            </style>\n",
              "            "
            ],
            "text/plain": [
              "<IPython.core.display.HTML object>"
            ]
          },
          "metadata": {},
          "output_type": "display_data"
        },
        {
          "data": {
            "application/vnd.jupyter.widget-view+json": {
              "model_id": "5a6b55ad4ad24d2a8431d4938ed57188",
              "version_major": 2,
              "version_minor": 0
            },
            "text/plain": [
              "Map(center=[28.358899, 75.587724], controls=(WidgetControl(options=['position', 'transparent_bg'], widget=Sear…"
            ]
          },
          "execution_count": 8,
          "metadata": {},
          "output_type": "execute_result"
        }
      ],
      "source": [
        "# geemap uses the order - [latitude, longitude]\n",
        "# ee uses the order - [longitude, latitude]\n",
        "# bits pilani - [28.358899, 75.587724]\n",
        "bits_coords = [28.358899, 75.587724]\n",
        "m = geemap.Map(center=bits_coords, zoom=15, height=600)\n",
        "m"
      ]
    },
    {
      "cell_type": "markdown",
      "id": "14",
      "metadata": {
        "id": "14"
      },
      "source": [
        "To hide a control, set `control_name` to `False`, e.g., `draw_ctrl=False`."
      ]
    },
    {
      "cell_type": "code",
      "execution_count": 9,
      "id": "15",
      "metadata": {
        "colab": {
          "base_uri": "https://localhost:8080/",
          "height": 621,
          "referenced_widgets": [
            "a585d867a7504ea780107f864b6b3537",
            "6ce80ea050cb4fcf82bd8f073a693461",
            "6afbc353712547579066861a2351af9a",
            "63b9dac5865e4c5eaa3cf8179a3c6e39",
            "cf9f0d1d6a0842e6baa51e6bae631b68",
            "1358e4ebc05f48229e956e38bfb35113",
            "5f0ce9c7d7284fcd94ee14bf173817d2",
            "574e462681794ce1b9185cd56d12c978",
            "cdc98a674b7e4e48b73ed37fe8e09c16",
            "3296a517f35246ab9d53a7db74c197f1",
            "24c60153d46e433cb3d6354d96b9e91d"
          ]
        },
        "id": "15",
        "outputId": "ba05bb48-4d9b-4e8a-e970-2467ed978a79"
      },
      "outputs": [
        {
          "data": {
            "text/html": [
              "\n",
              "            <style>\n",
              "                .geemap-dark {\n",
              "                    --jp-widgets-color: white;\n",
              "                    --jp-widgets-label-color: white;\n",
              "                    --jp-ui-font-color1: white;\n",
              "                    --jp-layout-color2: #454545;\n",
              "                    background-color: #383838;\n",
              "                }\n",
              "\n",
              "                .geemap-dark .jupyter-button {\n",
              "                    --jp-layout-color3: #383838;\n",
              "                }\n",
              "\n",
              "                .geemap-colab {\n",
              "                    background-color: var(--colab-primary-surface-color, white);\n",
              "                }\n",
              "\n",
              "                .geemap-colab .jupyter-button {\n",
              "                    --jp-layout-color3: var(--colab-primary-surface-color, white);\n",
              "                }\n",
              "            </style>\n",
              "            "
            ],
            "text/plain": [
              "<IPython.core.display.HTML object>"
            ]
          },
          "metadata": {},
          "output_type": "display_data"
        },
        {
          "data": {
            "application/vnd.jupyter.widget-view+json": {
              "model_id": "e67d3a38b3054e51b7c9d66ce83ba6e5",
              "version_major": 2,
              "version_minor": 0
            },
            "text/plain": [
              "Map(center=[0, 0], controls=(ZoomControl(options=['position', 'zoom_in_text', 'zoom_in_title', 'zoom_out_text'…"
            ]
          },
          "execution_count": 9,
          "metadata": {},
          "output_type": "execute_result"
        }
      ],
      "source": [
        "m = geemap.Map(data_ctrl=False, toolbar_ctrl=False, draw_ctrl=False)\n",
        "m"
      ]
    },
    {
      "cell_type": "markdown",
      "id": "16",
      "metadata": {
        "id": "16"
      },
      "source": [
        "### Adding basemaps\n",
        "\n",
        "There are several ways to add basemaps to a map. You can specify the basemap to use in the `basemap` keyword argument when creating the map. Alternatively, you can add basemap layers to the map using the `add_basemap` method. Geemap has hundreds of built-in basemaps available that can be easily added to the map with only one line of code.\n",
        "\n",
        "Create a map by specifying the basemap to use as follows. For example, the `Esri.WorldImagery` basemap represents the Esri world imagery basemap."
      ]
    },
    {
      "cell_type": "code",
      "execution_count": 10,
      "id": "17",
      "metadata": {
        "colab": {
          "base_uri": "https://localhost:8080/",
          "height": 621,
          "referenced_widgets": [
            "b66c949b5fc241fa8e85f4cf05eb9f8c",
            "afd547bd9785430ab4b54a1abe96ee8d",
            "d53f31c5b89e4c5fb7134f043d6416c8",
            "8e6f6135d66c4579a15d7dd4c59a4109",
            "eb91291006bb431e876e4b22d8508b5e",
            "70242e6617db44df93c634aa3661d82e",
            "ba94b0d85b144eb69ad955781d3d1ac4",
            "3e9e9b39cf9248c5901c4f8ddb0ad8b0",
            "1c26819526da4d6d83b319fc4572c38f",
            "b3a22be8c95a44a485d896ca7ca175ba",
            "5dce25df44cd4f5e84437d7c08ff1215",
            "3fd3675903d647b79f88e6f8157be939",
            "a5bd2412a6f547e6b793fe91469a342f",
            "b0af129b7fea41bf9a133e720e46c9c6",
            "6adeb6ae16104b4d982cd7803e269732",
            "c0969c17f8bd4edb9d2162784e5ddc39",
            "2c3770938e0a4644a4eb88e263240962",
            "1e94fd3fd7b94ff7a6cf7ff27c0652c9",
            "486bfbbdebe044aab0969549be64180b",
            "15380b1fb6c643fe8278b38a5bae37c2",
            "688c1a0d84844940b715771be4e1c473",
            "200ff66a061e4c78a528d6a6b103dd05",
            "a4c4def9a2cd49438a715e20b9bc3d0b",
            "190ff05584f74daebc1b15040bec6e6a",
            "fb2f7cb416e4408daa8f22926ce2c17a",
            "c8d7094155df4c88bc0de9dd1596be4e",
            "36af11d474bf486da2c1f8c7666607c6",
            "d253df90f73b46c8838212bfc5bd347d",
            "d1a5760ee1204a5caeac56ef12d0359a",
            "991cc875933f45778c7f390f198b0c50",
            "0130c3df0cb940f7ba6f1266de49ceba",
            "11f9284439e449788987471d84ae9e24",
            "30acc6fbb6e348208546e75917259d6f",
            "48e636632c8a40ce90256810aa234933",
            "8678ac0446044f4f87c064fe7f77e546",
            "c801d3ebab4b43fd98f1d20d1b2c33d8",
            "9217c5d25cd64d7db735f9c53ab6345a",
            "46efd8d8d6914a979bd132d2500c8dc9",
            "aa14b35dce3343fe8dc7d35c4643b13e",
            "858efccaed84495090bb7341699c9f1b",
            "a9c8faafd2b9426a8787cebd78ceb79a",
            "7911462ab52e454e9a5904d2c24c9f38",
            "1dc48551f9474ea59f1d456cb93bcb77",
            "5e6389a0cd1e48ba8bda57b365be096e",
            "464571edae17489aa7d6de436222a5cf",
            "782c74743f054a9d9639328265914bc1",
            "28219216b58e4de1be6fa02cfbea090b",
            "cff3e574436c4fafbffb6ee10500a357",
            "f1b93148c72449349cd92b200c1d0ff8",
            "53cae4e292e045f7ad04be1fbfb4d521",
            "f8ce1162ac064e6c8583a42bee3878ae",
            "ec52b2b38a364186aaf8aa6e57284982",
            "718645e39ed64906808d35f60f90977f",
            "a857a4abd8954ce78663405da08a5d58",
            "d1ca5471ab5749bdba72677a30f23f59",
            "42d4f8569c734f63be4d5e6ce959764d",
            "ca42b45d7d804f23aa53bf736650c576",
            "091cb17218564a39ad63a112f8272b0c",
            "e01f9215a6114017a460372dc6e5e965",
            "3dd0a28f01c046f68d75caa9cf69c624",
            "ced2a4a0d4b44394baee8c88c1b7b9f4",
            "d2b4b133aca74936a8a5298a69b3d281",
            "d1dca999e21d447e8779e0b012144b19",
            "cb3d3c6c63f247739361002159fda84d",
            "7b7cd74724154beaa7afce5133a3fe5e",
            "4ac8dcd278e943999059847c15c83293",
            "19291c3f1c67497d96f0b5ffc716c592",
            "d15d191ee06343f59fc1515fe979bee4",
            "b1563ff1e831465788c434dd7c3e7ac0",
            "80aeea53c2564cc2a27cc585abadd086",
            "318709a28c7246fe9f4db53efe9f3428",
            "104bfd6364634bddbaed0fc96c4802e8",
            "02f2c89dc93b490fb0b3da96d7ae63dc",
            "3703ea2b565d4e7f8e2aa6a954b29f30",
            "5d517226c98f4a1d9bc776d5d28be09e",
            "9f3c3fa4ea904a09a7095321400b6156",
            "4b0e4f28cc0a40a69ee4868a1bf527ba",
            "b21d013e98044006b2d467fcbf96b97b",
            "47a89d64733c42539021f08543b79dcc",
            "f69c83f2db99482c80b60e744709ba8a",
            "1974e3c57aa1426bafb71fe357b0eddc",
            "ce67cdf5e2d94a1aaa6ef5d7a072bea6",
            "d62805f9acc947e8b7bdb0003853b664",
            "4883d309d9d143a7ad8fe2a020aede59",
            "95b938f145d64307a17fb08537d0f1fd",
            "d519f41b79b647f3a593184ccdaadada",
            "5deccf438041493c98fcd64899dd1c98",
            "0605172dc90e467d83d642cf541fbc96",
            "b9497144946a444c933e96dc2f8b9b70",
            "d3d57157bb224eeb83553b503d699eed",
            "0da61ebc7ef749889baf70b47d48cafb",
            "6f200ba1255a491583d68996eb3e4b29",
            "f887a798fe3c4a7ca69662ab0a3d111a",
            "231608e365a749b4b1bbfccfab795661",
            "6cc5a8a24f874142b21d438e7642e392",
            "27272edb3d4e490cb784c323d884c0a8",
            "2c7d8985a06f4302b73e507a176d4f49",
            "b1ef96924a5f49bd841b1c2422b27986",
            "765a92c7a86c499b922df0211dd3ce99",
            "33963332255345eba7d0fab7c4f8d890",
            "6264b42581434394a743ac7930c15094",
            "5392ab60f73f4ea5a019329803fac4fe",
            "56a53e8681d84bb8861a0d9a89f9097a",
            "37d0d0ee35f44042bf5b1d65334e6f2d",
            "0d24fe36a011488c887f39599e8ee197",
            "93c759477dfd4e26b9fd0d3fb0352803",
            "1df1c250e8b4437b803f588c4eb23748",
            "fe35574e7af74925a4b78c28bcd36aa0",
            "0af59eade4c14813a7ed7f4b93c6a0f1",
            "667d021f6419499bafeff4df98653fc6",
            "3d0ccd47fd2648709e15f1be2ef29630",
            "e46114b55fdf4799aef1181593fb112c",
            "1d473a927c7d458ea4ee7bd52909d025",
            "16737d43e1fa4f1fa59526d54c1e196b",
            "f48693d3f4b542dd8dbbb3c5e008adc5",
            "5460c77436434406a04767d51279d5bb",
            "85c012bf209540e59db3ea3b50d4bce8",
            "1cc94393ae4d4f138dd9e88cb6591be4",
            "3b74d6e0fa7f498f942f5d79b274f2ef",
            "c03b6fda46a64d058ea276ef236945e0",
            "860a4b08c3f64f88a0a944b930260e81",
            "10b133620f194bfa946f85d8b486490c",
            "43a8783128be4d4a9fb75d2aec144f71",
            "da9b7cf50c4c4e4a86495bab03ec6bb3",
            "e45e6869b17346ddb36aa947628b4899",
            "9bbbaf7caebb4ba1a4cd0e886d6e6e16",
            "3652b484497048bc9ce37edccd0ee3d1",
            "b490b71130a84543ba6d230b07e5cd78",
            "9da8dd9d98834732a883da510b54b1c0",
            "179893e47aaa452cbdcfb8fb979c4672",
            "fc16a7d634254eeeb47c922dc3104960",
            "9f8a86353c5049be86dd3edcf1d852b9",
            "efc8793f70634c70a86af8e47b48d0d4",
            "9a220e2ae860453285716e0234091e7b",
            "d8035dd8e1dc4430bebb82c43cc75c5a",
            "84239fddfc8e4037afdf440d93a35261",
            "aa87cb956e5343518d4fd60956f43429",
            "1bdc0fbe4f544997a53f8bd2ed15eeaf",
            "9e6be763150f4621a4f18f54da9004fb",
            "be43ee4f0f144d8d850cdadfb900d623",
            "938a4748f37e49949a809d85cdc2b356",
            "56bcdf515f9c4ec2b4296b9787fea399",
            "64abec213a3549d8ad8c3f69ddf6b5b3",
            "4ae515d5ee0847828e0b10f21efe1921",
            "0f61301642724cf792889d20d315139a",
            "fbff4f3d9f05442bb0dd2b24d12e8726",
            "34182f8427aa448b9f317466ddfb79d3",
            "87cc5064a6dd42ecbc33cac97a19848a",
            "8c7518250ca9410387ae21043daa2d56",
            "8a7d7c0c809a4f96ac332bb9fd87b894",
            "aeb7d0cacf3747c19be6e39240feb651",
            "49fee1a5f92f4835aa8d51237d9bc0e0",
            "c27b87bd017b4e59a554b96fcdc8271b",
            "5a1cedf961974969873e4285c327f058",
            "a1ca68b2b54b4e938ce855f2d1fd6ce2",
            "5cb4fecf2b3b4171b44c04520df64f20",
            "34b3ffb535004c8280d04813f6d688b5",
            "e5061ded99d140ffa2f18c7e071a166f",
            "d93dba443a48456496eb0445603c99ca",
            "4de66f1126344397b3617f36b45ec836",
            "9e46e1ec1c7c460288d478466e01b11c",
            "0e78aa9350fd4147883389e595baa47b",
            "5d7c06afdfe4425bb2adafb9a42108b9",
            "5c33531a710b4880a1b297e7c36e24da",
            "a966d721a1df4a2986edd3e6e0699279",
            "8ba632a540b94eeea3ad97018e2ec5e4",
            "4fd2ae77799243c6890db98911a16828",
            "3ea22d155c6d40098a39858ccae830d4",
            "ee017e59fe4f4127b7c37f26a2ce21bf",
            "9cfd9c5e68204addac0edc586b55f3a6",
            "73b779f3f48d4b659db5a22c256c200a",
            "9d54937668d64c558a7d90434a5ea021",
            "e7bc3f3a5d764d02af19719cb0deb96e",
            "085f45cd114c4182a5ed438bec4d2e05",
            "65cc7aaf1080431b91231558e86881cb",
            "bcc1e7312e8e41629a5acf67d23053b2",
            "5259dd761c5542a7b3142d6330c399e2",
            "bbd245a9ad694a5ca33cf85222b79ebd",
            "ec6c2591379b4e6b9995bb3b9468cf41",
            "ccafa8ea25ae464ea90cb670545b7807",
            "ec553e2fc6784cebb159287617f11e7a",
            "28a9ce75958c42ddb04a25efb734b7a8",
            "f90bea074f9546fa815efde16f62d1c2",
            "919e9b746897450ea5c25dbc7cef0321",
            "5aebc12f38cf48a785e1bf840f154f82",
            "6f0791ef099e4fb2913f632a2475a727",
            "3edf5a140e7e47f69265cc96b8e4920a",
            "ee83ab03e3a042da9533042bbcb60b9e",
            "7ceff699297343379febb4d666f62141",
            "9ef9de8e3b7a4c7f857266ccd47307fc",
            "e07de98e1e4f4d32bf7a7fe1a619ca9f",
            "9924467304a44723a2a4677634bc071d",
            "cfebefbc73ee47bdac7075f463164998",
            "0bd74eb1104f4bbc90ffa690c031f78f",
            "f90b63a8c0c04a24840562d3c659cad0",
            "9269b7e0d9e644b0a9b2eb26b255c9fa",
            "eeef807389d14856a626414be93dcc60",
            "ad225d1ee0d942a3b931ec249e863cda",
            "272ea1aa4f074bc88b4a6dd9d24dc5ef",
            "fdc8cecdfafb42719225b0ab3f3d45ec",
            "8489ba776f7f47eeac62fa0facd96926",
            "22c80088d5b645958635540f3a74e28d",
            "e87c0755546a49e68ae30b986564c1b6",
            "7f332235a26849939f061e87feee738d",
            "5447bfd60fda42119e1a68cd81578016",
            "3acd7011a6344bbda4d6cd9c1026ea8e",
            "3752cd59fafa4a60ac3c38f41f540d42",
            "0319ee2bebd34a5ba0e29ea74737c911",
            "d6e7ea7e6cc44374b445d513db69debe",
            "dfb3e9b6c9d84d97ab95bda7c2863ab9",
            "9d3ae4b9a81f4e06a57c0bfed2ee44bf",
            "eff6e1c6c2d44483a50c7372ed7e18b3",
            "6991af1c36d5422da3b672203c0374ac",
            "eea7ed5216d24db888214d66c400a1f6",
            "d8140c78b18d4db0ae24f16e16ea0668",
            "66f87785b68b40c791a7395afc8efd91",
            "2a940fd9bee9427789ede7d84c1e78e1",
            "12f68a83282b41ce8f4d03d30ff5f015",
            "4d7419d33dda47168af097224853b37d",
            "292ef64376a941eeaf8e4976293433be",
            "a82b3675b6404191b6cb3a7e8ed9b1a0",
            "80f54dc109c14f8880943eef1223306c",
            "ee155c1dc6844786a1cc7bf78ce31fa8",
            "373b468013694a40b469541f0ac1c7bf",
            "cf10596b5a184285ae2a462ca856fbc2",
            "43fab0b8a48d4998a8051e2a505e0c99",
            "f927244eb1c141b8a5f7766232dc9bac",
            "6f65f82566e14c638e7819fda8847f28",
            "0e140aadbe2949469af09f29e3f81ead",
            "f84868685a334832a9da09bd8cb7f994",
            "135f197d95f44542b21345a58211443e",
            "8c45c7b570834bc3bb861e42908da04a",
            "a00211dcf2c741f5b6ea9f0130c4fb0a",
            "9a9fcc1c54a845e992577b12101e10e9",
            "c8099d2cc18e4f149fdf3bd266c14fe1",
            "11371c61df854d83ae64f920e5b4e964",
            "e3994d149a704c0a9e0614244dffa137",
            "c092d1da50184c5eb6b0417bebeeec83",
            "d6b062a0cd9248f89e22e7b68b8cfad9",
            "bbc67a4e11034a918ad977c565b64dfc",
            "32edb069f7b440288156f15ebc81fe21",
            "e97eda2172cb4982b2ebe7e9cfee2e69",
            "1e52dc0a1e6949dea315b973d584aa7d",
            "9541a6846f38409cadc3fe87312c3f07",
            "c441a24cb20a44bcaa11374a0a4caf91",
            "4235c16f87594ed1af038e845bc1d1bf",
            "3d3e5d8997c84ab1a9bbaf4afc80b17c",
            "b904d2c6e6024aafaa3ba3e03a112d37",
            "923d66ff7da24f0e8df77341dd21d22c",
            "7c7e2b6dcf324e78a96867e98a632dc5",
            "0a02d8bdccbc42119a845165f18d6c67",
            "3189eaa7fd5a4e9e9cbc4ca85781b470",
            "231d4c432c7d40a480dc37ea4eb16bfc",
            "3636bbe634f3449da28e6cc8d35cf2a2",
            "aaa60acd741c49d3bca0618690e4c3ae",
            "ba8bd86849d147c282c80b66bbb631d0",
            "5570e27dcc0b46289ab44fc93af9e8a1",
            "69732f03aa664e62868e7eccf734fad9",
            "9f4193b26b6044e4bf2d76a27c588abf",
            "e2dbf8d3404d492fbd52e407927a2665",
            "588139f287ea465db89f498aae4bc89e",
            "0e2cb7dea2b348889bbb82d9826f2bfe",
            "b3e7de359f644f05b281f9891d012f8b",
            "d1076e25aad541f897e301a3b546b4f1",
            "be8c67c9b8814c49a0fb5e72fb9b3e56",
            "b92edefd4e2d403c94f61491f9bc9ff2",
            "29881522c04845f381a4cdf674dc23a3",
            "4cdf266ef5444226b5b6c853262257dd",
            "c1238a6026ce48c980ee7cc3feb52a20",
            "81c18cb03bb643c89ded747938500cea",
            "0694f3563ebc4cba8f10adbaca0417cd",
            "95ae933557ec46d3bb90a8827dac607c",
            "781c39c948834c37b5d166bd02d8ff5d",
            "3065af6ecde14700883b6f0c4eacefc5",
            "008f20233fcd4dc3bdc397e63700e9cb",
            "ff95b7753ad949cc9f4ad2cc097aa117",
            "07dbcb28e82449f18830a96134719c04",
            "78b5fe5915b84295b9d64ef816cc006b",
            "e8934408381448d88c3920d0f24f488f",
            "c5382f26210d401682ce14d43025d8c4",
            "25ea4a66401f43a289cf457c55f5ca92",
            "3e7d0343fddd4911b15b04a837100cb6",
            "7f008072af3549579817c8fe71789c8d",
            "b441abc304fb435991ebf066bbc1f79f",
            "f04a2d34c383491290d59d3b739f5803",
            "b89ce31b0f1a47e797fd5016c8dc7fcd",
            "a643687d2e7b4130ae4bdd0d1456d9cb",
            "dd8e8a1f93d94e4280ff8ae78f65d7d6",
            "5fc9f9ce9ccd4e168009221493e6387f",
            "2ee92a6d56f9407a886d452d7bc997f6",
            "c969849a2de04f4ab88c745b07aa8fec",
            "8b06989ca4574beba42b02ee04301232",
            "4d9d52145cff4f3ea0bc6cd2fb01657e",
            "8603eb02cc2c442b81e1279655e19cfb",
            "af2bd63536fa4621892abf1901ff6d3f",
            "e4ea1445c6454e93b244a1f22b02ecf9",
            "7c21d13185904be2876cab632397a6e3",
            "b9f024cfa8104ce4a24ca9149328e695",
            "abcb41172110446cb03ac862dca78d11",
            "28781b464578480b8a4eafab2e85769a",
            "ecb63c422f364fc3b72ac918a2f8aabb",
            "9767dc21227744de8dc561fb316915b0",
            "bf95152a2c924c9b83f3a7953d05925e",
            "c5e0ca7f6efc42c99678e436c7ec421a",
            "87c9c54fd4ec4e60906b398464ec02f3",
            "d5df273d82c943bb9740ae8b81688ff8",
            "659a91c8d70d4968beb1267da574cc3d",
            "79268dbe0d1d4f4d8563c378930bf570",
            "82b7e8081c3a4761adb51275f2094254",
            "f448640830944b7190cf98dc8f4bb209",
            "b2ec11db9b0942c681230d43d47e602f",
            "b4c0deb1055a47a49acdb0bd56f58865",
            "f742fb71d4874fa9b8cc5085d66e2748",
            "fe559f76f911498191b0649e2d4f0030",
            "82a1ff60fb984dfe9e39f8b1c1bdb6b8",
            "85c59e63890c4755bd9320ea46deb494",
            "3a7a4ea8dffd4b5dbf8ee49130f71a5c",
            "ffe7af5d740e4564a7289db7adde6f90",
            "5594af267f874978b202e8913a5071ab",
            "e1ceb1dba57041598638feaf72910ffc",
            "5c4ac289c17d486ebe8ca59ab9669a60",
            "1836544a0b4d43d891b2e2a291f7a78b",
            "404deed85e8d4760a4b28ddd49e9b68f",
            "192494f0811c4b8289a742a8d820859c",
            "c37b60e433564d62845aa2cdea3c5e9c",
            "4d215284330b4f3f966b3e6abecbcc81",
            "eb984d033e4447f4b8ddc4d9f4ec4413",
            "f47e6f25a06e4436b7ad710cf5e1c1ca",
            "87cb1d6a0f714c09b924f31596557722",
            "0bdf4be448dc465088750a500a287e20",
            "9766516ad4be421b813630154bd2d4ce",
            "b946cdd7211a41469478a1d64ff75934",
            "0f36c4f45ece43fb82895c4a8b4b6495",
            "17ff0c1d5be6433fa8fb1746355d4a8c",
            "2b95a0fb930647de8406aed18b970505",
            "6ae94a9d10c3436bb89a93b481fd10b6",
            "db39fac0f36744e88307620193c41376",
            "afe9e6003a6643e2af499bcebbcd2935",
            "27d3716ad41c4789bf75dcb17eef6e3f",
            "6ea50ba1f2f74cd9a2b3995651f9d07f",
            "c9c9f45d03de4f01b7aa60aaff36cab1",
            "f94429f3afcc4d7c9bdb03f6420e99af",
            "59cc2039d57c49c7978c5fd6d472f2b2",
            "5513c09ab06844d196eb48c3705a4e5e",
            "2b55eec80a324f628c7f3072b982bf12",
            "b49fe24523d84456a42c70c6c8a99c31",
            "40836f033c81414888a74244448e76b9"
          ]
        },
        "id": "17",
        "outputId": "1bce1a6d-36ef-4d33-e500-4a339a2edd2d"
      },
      "outputs": [
        {
          "data": {
            "text/html": [
              "\n",
              "            <style>\n",
              "                .geemap-dark {\n",
              "                    --jp-widgets-color: white;\n",
              "                    --jp-widgets-label-color: white;\n",
              "                    --jp-ui-font-color1: white;\n",
              "                    --jp-layout-color2: #454545;\n",
              "                    background-color: #383838;\n",
              "                }\n",
              "\n",
              "                .geemap-dark .jupyter-button {\n",
              "                    --jp-layout-color3: #383838;\n",
              "                }\n",
              "\n",
              "                .geemap-colab {\n",
              "                    background-color: var(--colab-primary-surface-color, white);\n",
              "                }\n",
              "\n",
              "                .geemap-colab .jupyter-button {\n",
              "                    --jp-layout-color3: var(--colab-primary-surface-color, white);\n",
              "                }\n",
              "            </style>\n",
              "            "
            ],
            "text/plain": [
              "<IPython.core.display.HTML object>"
            ]
          },
          "metadata": {},
          "output_type": "display_data"
        },
        {
          "data": {
            "application/vnd.jupyter.widget-view+json": {
              "model_id": "a89c81af43ee4bc784e87ebc742c2bcf",
              "version_major": 2,
              "version_minor": 0
            },
            "text/plain": [
              "Map(center=[0, 0], controls=(WidgetControl(options=['position', 'transparent_bg'], widget=SearchDataGUI(childr…"
            ]
          },
          "execution_count": 10,
          "metadata": {},
          "output_type": "execute_result"
        }
      ],
      "source": [
        "m = geemap.Map(basemap=\"Esri.WorldImagery\")\n",
        "m"
      ]
    },
    {
      "cell_type": "code",
      "execution_count": 11,
      "id": "oo2bx_bRCwkK",
      "metadata": {
        "id": "oo2bx_bRCwkK"
      },
      "outputs": [
        {
          "data": {
            "text/html": [
              "\n",
              "            <style>\n",
              "                .geemap-dark {\n",
              "                    --jp-widgets-color: white;\n",
              "                    --jp-widgets-label-color: white;\n",
              "                    --jp-ui-font-color1: white;\n",
              "                    --jp-layout-color2: #454545;\n",
              "                    background-color: #383838;\n",
              "                }\n",
              "\n",
              "                .geemap-dark .jupyter-button {\n",
              "                    --jp-layout-color3: #383838;\n",
              "                }\n",
              "\n",
              "                .geemap-colab {\n",
              "                    background-color: var(--colab-primary-surface-color, white);\n",
              "                }\n",
              "\n",
              "                .geemap-colab .jupyter-button {\n",
              "                    --jp-layout-color3: var(--colab-primary-surface-color, white);\n",
              "                }\n",
              "            </style>\n",
              "            "
            ],
            "text/plain": [
              "<IPython.core.display.HTML object>"
            ]
          },
          "metadata": {},
          "output_type": "display_data"
        }
      ],
      "source": [
        "m.add_basemap()"
      ]
    },
    {
      "cell_type": "markdown",
      "id": "18",
      "metadata": {
        "id": "18"
      },
      "source": [
        "You can add as many basemaps as you like to the map. For example, the following code adds the `OpenTopoMap` basemap to the map above:"
      ]
    },
    {
      "cell_type": "code",
      "execution_count": 12,
      "id": "19",
      "metadata": {
        "colab": {
          "base_uri": "https://localhost:8080/",
          "height": 17
        },
        "id": "19",
        "outputId": "edf099ac-1367-4cbd-fa15-ff6fdf615cf7"
      },
      "outputs": [
        {
          "data": {
            "text/html": [
              "\n",
              "            <style>\n",
              "                .geemap-dark {\n",
              "                    --jp-widgets-color: white;\n",
              "                    --jp-widgets-label-color: white;\n",
              "                    --jp-ui-font-color1: white;\n",
              "                    --jp-layout-color2: #454545;\n",
              "                    background-color: #383838;\n",
              "                }\n",
              "\n",
              "                .geemap-dark .jupyter-button {\n",
              "                    --jp-layout-color3: #383838;\n",
              "                }\n",
              "\n",
              "                .geemap-colab {\n",
              "                    background-color: var(--colab-primary-surface-color, white);\n",
              "                }\n",
              "\n",
              "                .geemap-colab .jupyter-button {\n",
              "                    --jp-layout-color3: var(--colab-primary-surface-color, white);\n",
              "                }\n",
              "            </style>\n",
              "            "
            ],
            "text/plain": [
              "<IPython.core.display.HTML object>"
            ]
          },
          "metadata": {},
          "output_type": "display_data"
        }
      ],
      "source": [
        "m.add_basemap(\"Esri.WorldTopoMap\")"
      ]
    },
    {
      "cell_type": "code",
      "execution_count": 13,
      "id": "20",
      "metadata": {
        "colab": {
          "base_uri": "https://localhost:8080/",
          "height": 35
        },
        "id": "20",
        "outputId": "6f2369df-495f-4831-ff6e-0e4c59d13945"
      },
      "outputs": [
        {
          "data": {
            "text/html": [
              "\n",
              "            <style>\n",
              "                .geemap-dark {\n",
              "                    --jp-widgets-color: white;\n",
              "                    --jp-widgets-label-color: white;\n",
              "                    --jp-ui-font-color1: white;\n",
              "                    --jp-layout-color2: #454545;\n",
              "                    background-color: #383838;\n",
              "                }\n",
              "\n",
              "                .geemap-dark .jupyter-button {\n",
              "                    --jp-layout-color3: #383838;\n",
              "                }\n",
              "\n",
              "                .geemap-colab {\n",
              "                    background-color: var(--colab-primary-surface-color, white);\n",
              "                }\n",
              "\n",
              "                .geemap-colab .jupyter-button {\n",
              "                    --jp-layout-color3: var(--colab-primary-surface-color, white);\n",
              "                }\n",
              "            </style>\n",
              "            "
            ],
            "text/plain": [
              "<IPython.core.display.HTML object>"
            ]
          },
          "metadata": {},
          "output_type": "display_data"
        }
      ],
      "source": [
        "m.add_basemap(\"OpenTopoMap\")"
      ]
    },
    {
      "cell_type": "code",
      "execution_count": 14,
      "id": "6s8GTbENNVxP",
      "metadata": {
        "colab": {
          "base_uri": "https://localhost:8080/",
          "height": 621,
          "referenced_widgets": [
            "b66c949b5fc241fa8e85f4cf05eb9f8c",
            "afd547bd9785430ab4b54a1abe96ee8d",
            "d53f31c5b89e4c5fb7134f043d6416c8",
            "8e6f6135d66c4579a15d7dd4c59a4109",
            "eb91291006bb431e876e4b22d8508b5e",
            "70242e6617db44df93c634aa3661d82e",
            "ba94b0d85b144eb69ad955781d3d1ac4",
            "3e9e9b39cf9248c5901c4f8ddb0ad8b0",
            "1c26819526da4d6d83b319fc4572c38f",
            "b3a22be8c95a44a485d896ca7ca175ba",
            "5dce25df44cd4f5e84437d7c08ff1215",
            "3fd3675903d647b79f88e6f8157be939",
            "fb2f7cb416e4408daa8f22926ce2c17a",
            "c8d7094155df4c88bc0de9dd1596be4e",
            "a5bd2412a6f547e6b793fe91469a342f",
            "6adeb6ae16104b4d982cd7803e269732",
            "c0969c17f8bd4edb9d2162784e5ddc39",
            "2c3770938e0a4644a4eb88e263240962",
            "1e94fd3fd7b94ff7a6cf7ff27c0652c9",
            "486bfbbdebe044aab0969549be64180b",
            "15380b1fb6c643fe8278b38a5bae37c2",
            "688c1a0d84844940b715771be4e1c473",
            "200ff66a061e4c78a528d6a6b103dd05",
            "a4c4def9a2cd49438a715e20b9bc3d0b",
            "190ff05584f74daebc1b15040bec6e6a",
            "36af11d474bf486da2c1f8c7666607c6",
            "d253df90f73b46c8838212bfc5bd347d",
            "d1a5760ee1204a5caeac56ef12d0359a",
            "991cc875933f45778c7f390f198b0c50",
            "0130c3df0cb940f7ba6f1266de49ceba",
            "11f9284439e449788987471d84ae9e24",
            "30acc6fbb6e348208546e75917259d6f",
            "48e636632c8a40ce90256810aa234933",
            "8678ac0446044f4f87c064fe7f77e546",
            "c801d3ebab4b43fd98f1d20d1b2c33d8",
            "9217c5d25cd64d7db735f9c53ab6345a",
            "46efd8d8d6914a979bd132d2500c8dc9",
            "aa14b35dce3343fe8dc7d35c4643b13e",
            "858efccaed84495090bb7341699c9f1b",
            "a9c8faafd2b9426a8787cebd78ceb79a",
            "7911462ab52e454e9a5904d2c24c9f38",
            "1dc48551f9474ea59f1d456cb93bcb77",
            "5e6389a0cd1e48ba8bda57b365be096e",
            "464571edae17489aa7d6de436222a5cf",
            "782c74743f054a9d9639328265914bc1",
            "28219216b58e4de1be6fa02cfbea090b",
            "cff3e574436c4fafbffb6ee10500a357",
            "f1b93148c72449349cd92b200c1d0ff8",
            "53cae4e292e045f7ad04be1fbfb4d521",
            "f8ce1162ac064e6c8583a42bee3878ae",
            "ec52b2b38a364186aaf8aa6e57284982",
            "718645e39ed64906808d35f60f90977f",
            "d15d191ee06343f59fc1515fe979bee4",
            "b1563ff1e831465788c434dd7c3e7ac0",
            "4ac8dcd278e943999059847c15c83293",
            "19291c3f1c67497d96f0b5ffc716c592",
            "091cb17218564a39ad63a112f8272b0c",
            "e01f9215a6114017a460372dc6e5e965",
            "3dd0a28f01c046f68d75caa9cf69c624",
            "7b7cd74724154beaa7afce5133a3fe5e",
            "80aeea53c2564cc2a27cc585abadd086",
            "318709a28c7246fe9f4db53efe9f3428",
            "4883d309d9d143a7ad8fe2a020aede59",
            "95b938f145d64307a17fb08537d0f1fd",
            "0605172dc90e467d83d642cf541fbc96",
            "b9497144946a444c933e96dc2f8b9b70",
            "d519f41b79b647f3a593184ccdaadada",
            "5deccf438041493c98fcd64899dd1c98",
            "104bfd6364634bddbaed0fc96c4802e8",
            "02f2c89dc93b490fb0b3da96d7ae63dc",
            "3703ea2b565d4e7f8e2aa6a954b29f30",
            "5d517226c98f4a1d9bc776d5d28be09e",
            "d3d57157bb224eeb83553b503d699eed",
            "0da61ebc7ef749889baf70b47d48cafb",
            "231608e365a749b4b1bbfccfab795661",
            "6cc5a8a24f874142b21d438e7642e392",
            "6f200ba1255a491583d68996eb3e4b29",
            "f887a798fe3c4a7ca69662ab0a3d111a",
            "9f3c3fa4ea904a09a7095321400b6156",
            "4b0e4f28cc0a40a69ee4868a1bf527ba",
            "b21d013e98044006b2d467fcbf96b97b",
            "47a89d64733c42539021f08543b79dcc",
            "27272edb3d4e490cb784c323d884c0a8",
            "2c7d8985a06f4302b73e507a176d4f49",
            "33963332255345eba7d0fab7c4f8d890",
            "6264b42581434394a743ac7930c15094",
            "b1ef96924a5f49bd841b1c2422b27986",
            "765a92c7a86c499b922df0211dd3ce99",
            "f69c83f2db99482c80b60e744709ba8a",
            "1974e3c57aa1426bafb71fe357b0eddc",
            "ce67cdf5e2d94a1aaa6ef5d7a072bea6",
            "d62805f9acc947e8b7bdb0003853b664",
            "ced2a4a0d4b44394baee8c88c1b7b9f4",
            "d2b4b133aca74936a8a5298a69b3d281",
            "d1dca999e21d447e8779e0b012144b19",
            "cb3d3c6c63f247739361002159fda84d",
            "d1ca5471ab5749bdba72677a30f23f59",
            "42d4f8569c734f63be4d5e6ce959764d",
            "ca42b45d7d804f23aa53bf736650c576",
            "a857a4abd8954ce78663405da08a5d58",
            "5460c77436434406a04767d51279d5bb",
            "85c012bf209540e59db3ea3b50d4bce8",
            "16737d43e1fa4f1fa59526d54c1e196b",
            "f48693d3f4b542dd8dbbb3c5e008adc5",
            "93c759477dfd4e26b9fd0d3fb0352803",
            "1df1c250e8b4437b803f588c4eb23748",
            "fe35574e7af74925a4b78c28bcd36aa0",
            "1d473a927c7d458ea4ee7bd52909d025",
            "1cc94393ae4d4f138dd9e88cb6591be4",
            "3b74d6e0fa7f498f942f5d79b274f2ef",
            "9f8a86353c5049be86dd3edcf1d852b9",
            "efc8793f70634c70a86af8e47b48d0d4",
            "84239fddfc8e4037afdf440d93a35261",
            "aa87cb956e5343518d4fd60956f43429",
            "9a220e2ae860453285716e0234091e7b",
            "d8035dd8e1dc4430bebb82c43cc75c5a",
            "c03b6fda46a64d058ea276ef236945e0",
            "860a4b08c3f64f88a0a944b930260e81",
            "10b133620f194bfa946f85d8b486490c",
            "43a8783128be4d4a9fb75d2aec144f71",
            "1bdc0fbe4f544997a53f8bd2ed15eeaf",
            "9e6be763150f4621a4f18f54da9004fb",
            "56bcdf515f9c4ec2b4296b9787fea399",
            "64abec213a3549d8ad8c3f69ddf6b5b3",
            "be43ee4f0f144d8d850cdadfb900d623",
            "938a4748f37e49949a809d85cdc2b356",
            "da9b7cf50c4c4e4a86495bab03ec6bb3",
            "e45e6869b17346ddb36aa947628b4899",
            "9bbbaf7caebb4ba1a4cd0e886d6e6e16",
            "3652b484497048bc9ce37edccd0ee3d1",
            "4ae515d5ee0847828e0b10f21efe1921",
            "0f61301642724cf792889d20d315139a",
            "87cc5064a6dd42ecbc33cac97a19848a",
            "8c7518250ca9410387ae21043daa2d56",
            "fbff4f3d9f05442bb0dd2b24d12e8726",
            "34182f8427aa448b9f317466ddfb79d3",
            "b490b71130a84543ba6d230b07e5cd78",
            "9da8dd9d98834732a883da510b54b1c0",
            "179893e47aaa452cbdcfb8fb979c4672",
            "fc16a7d634254eeeb47c922dc3104960",
            "56a53e8681d84bb8861a0d9a89f9097a",
            "37d0d0ee35f44042bf5b1d65334e6f2d",
            "0d24fe36a011488c887f39599e8ee197",
            "5392ab60f73f4ea5a019329803fac4fe",
            "0af59eade4c14813a7ed7f4b93c6a0f1",
            "667d021f6419499bafeff4df98653fc6",
            "3d0ccd47fd2648709e15f1be2ef29630",
            "e46114b55fdf4799aef1181593fb112c",
            "a1ca68b2b54b4e938ce855f2d1fd6ce2",
            "5cb4fecf2b3b4171b44c04520df64f20",
            "34b3ffb535004c8280d04813f6d688b5",
            "e5061ded99d140ffa2f18c7e071a166f",
            "49fee1a5f92f4835aa8d51237d9bc0e0",
            "c27b87bd017b4e59a554b96fcdc8271b",
            "5a1cedf961974969873e4285c327f058",
            "aeb7d0cacf3747c19be6e39240feb651",
            "8a7d7c0c809a4f96ac332bb9fd87b894",
            "d93dba443a48456496eb0445603c99ca",
            "65cc7aaf1080431b91231558e86881cb",
            "bcc1e7312e8e41629a5acf67d23053b2",
            "e7bc3f3a5d764d02af19719cb0deb96e",
            "085f45cd114c4182a5ed438bec4d2e05",
            "5c33531a710b4880a1b297e7c36e24da",
            "a966d721a1df4a2986edd3e6e0699279",
            "8ba632a540b94eeea3ad97018e2ec5e4",
            "9d54937668d64c558a7d90434a5ea021",
            "5259dd761c5542a7b3142d6330c399e2",
            "bbd245a9ad694a5ca33cf85222b79ebd",
            "f90b63a8c0c04a24840562d3c659cad0",
            "9269b7e0d9e644b0a9b2eb26b255c9fa",
            "272ea1aa4f074bc88b4a6dd9d24dc5ef",
            "fdc8cecdfafb42719225b0ab3f3d45ec",
            "eeef807389d14856a626414be93dcc60",
            "ad225d1ee0d942a3b931ec249e863cda",
            "ec6c2591379b4e6b9995bb3b9468cf41",
            "ccafa8ea25ae464ea90cb670545b7807",
            "ec553e2fc6784cebb159287617f11e7a",
            "28a9ce75958c42ddb04a25efb734b7a8",
            "8489ba776f7f47eeac62fa0facd96926",
            "22c80088d5b645958635540f3a74e28d",
            "5447bfd60fda42119e1a68cd81578016",
            "3acd7011a6344bbda4d6cd9c1026ea8e",
            "e87c0755546a49e68ae30b986564c1b6",
            "7f332235a26849939f061e87feee738d",
            "f90bea074f9546fa815efde16f62d1c2",
            "919e9b746897450ea5c25dbc7cef0321",
            "5aebc12f38cf48a785e1bf840f154f82",
            "6f0791ef099e4fb2913f632a2475a727",
            "3752cd59fafa4a60ac3c38f41f540d42",
            "0319ee2bebd34a5ba0e29ea74737c911",
            "9d3ae4b9a81f4e06a57c0bfed2ee44bf",
            "eff6e1c6c2d44483a50c7372ed7e18b3",
            "d6e7ea7e6cc44374b445d513db69debe",
            "dfb3e9b6c9d84d97ab95bda7c2863ab9",
            "3edf5a140e7e47f69265cc96b8e4920a",
            "ee83ab03e3a042da9533042bbcb60b9e",
            "7ceff699297343379febb4d666f62141",
            "9ef9de8e3b7a4c7f857266ccd47307fc",
            "6991af1c36d5422da3b672203c0374ac",
            "eea7ed5216d24db888214d66c400a1f6",
            "2a940fd9bee9427789ede7d84c1e78e1",
            "12f68a83282b41ce8f4d03d30ff5f015",
            "d8140c78b18d4db0ae24f16e16ea0668",
            "66f87785b68b40c791a7395afc8efd91",
            "e07de98e1e4f4d32bf7a7fe1a619ca9f",
            "9924467304a44723a2a4677634bc071d",
            "cfebefbc73ee47bdac7075f463164998",
            "0bd74eb1104f4bbc90ffa690c031f78f",
            "4fd2ae77799243c6890db98911a16828",
            "3ea22d155c6d40098a39858ccae830d4",
            "ee017e59fe4f4127b7c37f26a2ce21bf",
            "9cfd9c5e68204addac0edc586b55f3a6",
            "73b779f3f48d4b659db5a22c256c200a",
            "9e46e1ec1c7c460288d478466e01b11c",
            "0e78aa9350fd4147883389e595baa47b",
            "5d7c06afdfe4425bb2adafb9a42108b9",
            "4de66f1126344397b3617f36b45ec836",
            "4d7419d33dda47168af097224853b37d",
            "43fab0b8a48d4998a8051e2a505e0c99",
            "f927244eb1c141b8a5f7766232dc9bac",
            "b904d2c6e6024aafaa3ba3e03a112d37",
            "923d66ff7da24f0e8df77341dd21d22c",
            "3189eaa7fd5a4e9e9cbc4ca85781b470",
            "231d4c432c7d40a480dc37ea4eb16bfc",
            "7c7e2b6dcf324e78a96867e98a632dc5",
            "0a02d8bdccbc42119a845165f18d6c67",
            "6f65f82566e14c638e7819fda8847f28",
            "0e140aadbe2949469af09f29e3f81ead",
            "f84868685a334832a9da09bd8cb7f994",
            "135f197d95f44542b21345a58211443e",
            "3636bbe634f3449da28e6cc8d35cf2a2",
            "aaa60acd741c49d3bca0618690e4c3ae",
            "69732f03aa664e62868e7eccf734fad9",
            "9f4193b26b6044e4bf2d76a27c588abf",
            "ba8bd86849d147c282c80b66bbb631d0",
            "5570e27dcc0b46289ab44fc93af9e8a1",
            "8c45c7b570834bc3bb861e42908da04a",
            "a00211dcf2c741f5b6ea9f0130c4fb0a",
            "9a9fcc1c54a845e992577b12101e10e9",
            "c8099d2cc18e4f149fdf3bd266c14fe1",
            "e2dbf8d3404d492fbd52e407927a2665",
            "588139f287ea465db89f498aae4bc89e",
            "d1076e25aad541f897e301a3b546b4f1",
            "be8c67c9b8814c49a0fb5e72fb9b3e56",
            "0e2cb7dea2b348889bbb82d9826f2bfe",
            "b3e7de359f644f05b281f9891d012f8b",
            "11371c61df854d83ae64f920e5b4e964",
            "e3994d149a704c0a9e0614244dffa137",
            "c092d1da50184c5eb6b0417bebeeec83",
            "d6b062a0cd9248f89e22e7b68b8cfad9",
            "b92edefd4e2d403c94f61491f9bc9ff2",
            "29881522c04845f381a4cdf674dc23a3",
            "81c18cb03bb643c89ded747938500cea",
            "0694f3563ebc4cba8f10adbaca0417cd",
            "4cdf266ef5444226b5b6c853262257dd",
            "c1238a6026ce48c980ee7cc3feb52a20",
            "bbc67a4e11034a918ad977c565b64dfc",
            "32edb069f7b440288156f15ebc81fe21",
            "e97eda2172cb4982b2ebe7e9cfee2e69",
            "1e52dc0a1e6949dea315b973d584aa7d",
            "95ae933557ec46d3bb90a8827dac607c",
            "781c39c948834c37b5d166bd02d8ff5d",
            "ff95b7753ad949cc9f4ad2cc097aa117",
            "07dbcb28e82449f18830a96134719c04",
            "3065af6ecde14700883b6f0c4eacefc5",
            "008f20233fcd4dc3bdc397e63700e9cb",
            "9541a6846f38409cadc3fe87312c3f07",
            "c441a24cb20a44bcaa11374a0a4caf91",
            "4235c16f87594ed1af038e845bc1d1bf",
            "3d3e5d8997c84ab1a9bbaf4afc80b17c",
            "292ef64376a941eeaf8e4976293433be",
            "a82b3675b6404191b6cb3a7e8ed9b1a0",
            "80f54dc109c14f8880943eef1223306c",
            "ee155c1dc6844786a1cc7bf78ce31fa8",
            "373b468013694a40b469541f0ac1c7bf",
            "cf10596b5a184285ae2a462ca856fbc2",
            "78b5fe5915b84295b9d64ef816cc006b",
            "b89ce31b0f1a47e797fd5016c8dc7fcd",
            "a643687d2e7b4130ae4bdd0d1456d9cb",
            "b4c0deb1055a47a49acdb0bd56f58865",
            "f742fb71d4874fa9b8cc5085d66e2748",
            "85c59e63890c4755bd9320ea46deb494",
            "3a7a4ea8dffd4b5dbf8ee49130f71a5c",
            "fe559f76f911498191b0649e2d4f0030",
            "82a1ff60fb984dfe9e39f8b1c1bdb6b8",
            "dd8e8a1f93d94e4280ff8ae78f65d7d6",
            "5fc9f9ce9ccd4e168009221493e6387f",
            "2ee92a6d56f9407a886d452d7bc997f6",
            "c969849a2de04f4ab88c745b07aa8fec",
            "ffe7af5d740e4564a7289db7adde6f90",
            "5594af267f874978b202e8913a5071ab",
            "1836544a0b4d43d891b2e2a291f7a78b",
            "404deed85e8d4760a4b28ddd49e9b68f",
            "e1ceb1dba57041598638feaf72910ffc",
            "5c4ac289c17d486ebe8ca59ab9669a60",
            "8b06989ca4574beba42b02ee04301232",
            "4d9d52145cff4f3ea0bc6cd2fb01657e",
            "8603eb02cc2c442b81e1279655e19cfb",
            "af2bd63536fa4621892abf1901ff6d3f",
            "192494f0811c4b8289a742a8d820859c",
            "c37b60e433564d62845aa2cdea3c5e9c",
            "f47e6f25a06e4436b7ad710cf5e1c1ca",
            "87cb1d6a0f714c09b924f31596557722",
            "4d215284330b4f3f966b3e6abecbcc81",
            "eb984d033e4447f4b8ddc4d9f4ec4413",
            "e4ea1445c6454e93b244a1f22b02ecf9",
            "7c21d13185904be2876cab632397a6e3",
            "b9f024cfa8104ce4a24ca9149328e695",
            "abcb41172110446cb03ac862dca78d11",
            "0bdf4be448dc465088750a500a287e20",
            "9766516ad4be421b813630154bd2d4ce",
            "17ff0c1d5be6433fa8fb1746355d4a8c",
            "2b95a0fb930647de8406aed18b970505",
            "b946cdd7211a41469478a1d64ff75934",
            "0f36c4f45ece43fb82895c4a8b4b6495",
            "28781b464578480b8a4eafab2e85769a",
            "ecb63c422f364fc3b72ac918a2f8aabb",
            "9767dc21227744de8dc561fb316915b0",
            "bf95152a2c924c9b83f3a7953d05925e",
            "6ae94a9d10c3436bb89a93b481fd10b6",
            "db39fac0f36744e88307620193c41376",
            "6ea50ba1f2f74cd9a2b3995651f9d07f",
            "c9c9f45d03de4f01b7aa60aaff36cab1",
            "afe9e6003a6643e2af499bcebbcd2935",
            "27d3716ad41c4789bf75dcb17eef6e3f",
            "c5e0ca7f6efc42c99678e436c7ec421a",
            "87c9c54fd4ec4e60906b398464ec02f3",
            "d5df273d82c943bb9740ae8b81688ff8",
            "659a91c8d70d4968beb1267da574cc3d",
            "f94429f3afcc4d7c9bdb03f6420e99af",
            "59cc2039d57c49c7978c5fd6d472f2b2",
            "b49fe24523d84456a42c70c6c8a99c31",
            "40836f033c81414888a74244448e76b9",
            "5513c09ab06844d196eb48c3705a4e5e",
            "2b55eec80a324f628c7f3072b982bf12",
            "79268dbe0d1d4f4d8563c378930bf570",
            "82b7e8081c3a4761adb51275f2094254",
            "f448640830944b7190cf98dc8f4bb209",
            "b2ec11db9b0942c681230d43d47e602f",
            "e8934408381448d88c3920d0f24f488f",
            "c5382f26210d401682ce14d43025d8c4",
            "25ea4a66401f43a289cf457c55f5ca92",
            "3e7d0343fddd4911b15b04a837100cb6",
            "7f008072af3549579817c8fe71789c8d",
            "b441abc304fb435991ebf066bbc1f79f",
            "f04a2d34c383491290d59d3b739f5803"
          ]
        },
        "id": "6s8GTbENNVxP",
        "outputId": "cf9704bd-1278-447d-c11e-f92ff71855bd"
      },
      "outputs": [
        {
          "data": {
            "text/html": [
              "\n",
              "            <style>\n",
              "                .geemap-dark {\n",
              "                    --jp-widgets-color: white;\n",
              "                    --jp-widgets-label-color: white;\n",
              "                    --jp-ui-font-color1: white;\n",
              "                    --jp-layout-color2: #454545;\n",
              "                    background-color: #383838;\n",
              "                }\n",
              "\n",
              "                .geemap-dark .jupyter-button {\n",
              "                    --jp-layout-color3: #383838;\n",
              "                }\n",
              "\n",
              "                .geemap-colab {\n",
              "                    background-color: var(--colab-primary-surface-color, white);\n",
              "                }\n",
              "\n",
              "                .geemap-colab .jupyter-button {\n",
              "                    --jp-layout-color3: var(--colab-primary-surface-color, white);\n",
              "                }\n",
              "            </style>\n",
              "            "
            ],
            "text/plain": [
              "<IPython.core.display.HTML object>"
            ]
          },
          "metadata": {},
          "output_type": "display_data"
        },
        {
          "data": {
            "application/vnd.jupyter.widget-view+json": {
              "model_id": "a89c81af43ee4bc784e87ebc742c2bcf",
              "version_major": 2,
              "version_minor": 0
            },
            "text/plain": [
              "Map(bottom=812.0, center=[0, 0], controls=(WidgetControl(options=['position', 'transparent_bg'], widget=Search…"
            ]
          },
          "execution_count": 14,
          "metadata": {},
          "output_type": "execute_result"
        }
      ],
      "source": [
        "m"
      ]
    },
    {
      "cell_type": "markdown",
      "id": "21",
      "metadata": {
        "id": "21"
      },
      "source": [
        "Print out the first 10 basemaps:"
      ]
    },
    {
      "cell_type": "code",
      "execution_count": 16,
      "id": "22",
      "metadata": {
        "colab": {
          "base_uri": "https://localhost:8080/",
          "height": 35
        },
        "id": "22",
        "outputId": "0e35f223-0f7a-45f1-fb75-46eb8408a2d3"
      },
      "outputs": [
        {
          "data": {
            "text/html": [
              "\n",
              "            <style>\n",
              "                .geemap-dark {\n",
              "                    --jp-widgets-color: white;\n",
              "                    --jp-widgets-label-color: white;\n",
              "                    --jp-ui-font-color1: white;\n",
              "                    --jp-layout-color2: #454545;\n",
              "                    background-color: #383838;\n",
              "                }\n",
              "\n",
              "                .geemap-dark .jupyter-button {\n",
              "                    --jp-layout-color3: #383838;\n",
              "                }\n",
              "\n",
              "                .geemap-colab {\n",
              "                    background-color: var(--colab-primary-surface-color, white);\n",
              "                }\n",
              "\n",
              "                .geemap-colab .jupyter-button {\n",
              "                    --jp-layout-color3: var(--colab-primary-surface-color, white);\n",
              "                }\n",
              "            </style>\n",
              "            "
            ],
            "text/plain": [
              "<IPython.core.display.HTML object>"
            ]
          },
          "metadata": {},
          "output_type": "display_data"
        },
        {
          "data": {
            "text/plain": [
              "143"
            ]
          },
          "execution_count": 16,
          "metadata": {},
          "output_type": "execute_result"
        }
      ],
      "source": [
        "basemaps = list(geemap.basemaps.keys())\n",
        "len(geemap.basemaps)"
      ]
    },
    {
      "cell_type": "code",
      "execution_count": 17,
      "id": "23",
      "metadata": {
        "colab": {
          "base_uri": "https://localhost:8080/",
          "height": 196
        },
        "id": "23",
        "outputId": "18087f0e-ecdf-49cc-d624-42689fd7a099"
      },
      "outputs": [
        {
          "data": {
            "text/html": [
              "\n",
              "            <style>\n",
              "                .geemap-dark {\n",
              "                    --jp-widgets-color: white;\n",
              "                    --jp-widgets-label-color: white;\n",
              "                    --jp-ui-font-color1: white;\n",
              "                    --jp-layout-color2: #454545;\n",
              "                    background-color: #383838;\n",
              "                }\n",
              "\n",
              "                .geemap-dark .jupyter-button {\n",
              "                    --jp-layout-color3: #383838;\n",
              "                }\n",
              "\n",
              "                .geemap-colab {\n",
              "                    background-color: var(--colab-primary-surface-color, white);\n",
              "                }\n",
              "\n",
              "                .geemap-colab .jupyter-button {\n",
              "                    --jp-layout-color3: var(--colab-primary-surface-color, white);\n",
              "                }\n",
              "            </style>\n",
              "            "
            ],
            "text/plain": [
              "<IPython.core.display.HTML object>"
            ]
          },
          "metadata": {},
          "output_type": "display_data"
        },
        {
          "data": {
            "text/plain": [
              "['OpenStreetMap',\n",
              " 'Esri.WorldStreetMap',\n",
              " 'Esri.WorldImagery',\n",
              " 'Esri.WorldTopoMap',\n",
              " 'FWS NWI Wetlands',\n",
              " 'FWS NWI Wetlands Raster',\n",
              " 'NLCD 2021 CONUS Land Cover',\n",
              " 'NLCD 2019 CONUS Land Cover',\n",
              " 'NLCD 2016 CONUS Land Cover',\n",
              " 'NLCD 2013 CONUS Land Cover']"
            ]
          },
          "execution_count": 17,
          "metadata": {},
          "output_type": "execute_result"
        }
      ],
      "source": [
        "basemaps[:10]"
      ]
    },
    {
      "cell_type": "markdown",
      "id": "24",
      "metadata": {
        "id": "24"
      },
      "source": [
        "You can also change basemaps interactively using the basemap GUI."
      ]
    },
    {
      "cell_type": "markdown",
      "id": "25",
      "metadata": {
        "id": "25"
      },
      "source": [
        "## Using Earth Engine data (30 mins)\n",
        "\n",
        "### Earth Engine data types (Image, ImageCollection, Geometry, Feature, FeatureCollection)\n",
        "\n",
        "Earth Engine objects are server-side objects rather than client-side objects, which means that they are not stored locally on your computer. Similar to video streaming services (e.g., YouTube, Netflix, and Hulu), which store videos/movies on their servers, Earth Engine data are stored on the Earth Engine servers. We can stream geospatial data from Earth Engine on-the-fly without having to download the data just like we can watch videos from streaming services using a web browser without having to download the entire video to your computer.\n",
        "\n",
        "-   **Image**: the fundamental raster data type in Earth Engine.\n",
        "-   **ImageCollection**: a stack or time-series of images.\n",
        "-   **Geometry**: the fundamental vector data type in Earth Engine.\n",
        "-   **Feature**: a Geometry with attributes.\n",
        "-   **FeatureCollection**: a set of features.\n",
        "\n",
        "### Image\n",
        "\n",
        "Raster data in Earth Engine are represented as **Image** objects. Images are composed of one or more bands and each band has its own name, data type, scale, mask and projection. Each image has metadata stored as a set of properties.\n",
        "\n",
        "#### Loading Earth Engine images"
      ]
    },
    {
      "cell_type": "code",
      "execution_count": null,
      "id": "26",
      "metadata": {
        "id": "26"
      },
      "outputs": [],
      "source": [
        "image = ee.Image(\"USGS/SRTMGL1_003\")\n",
        "image"
      ]
    },
    {
      "cell_type": "markdown",
      "id": "27",
      "metadata": {
        "id": "27"
      },
      "source": [
        "#### Visualizing Earth Engine images"
      ]
    },
    {
      "cell_type": "code",
      "execution_count": null,
      "id": "28",
      "metadata": {
        "id": "28"
      },
      "outputs": [],
      "source": [
        "m = geemap.Map(center=[21.79, 70.87], zoom=3)\n",
        "image = ee.Image(\"USGS/SRTMGL1_003\")\n",
        "vis_params = {\n",
        "    \"min\": 0,\n",
        "    \"max\": 6000,\n",
        "    \"palette\": [\"006633\", \"E5FFCC\", \"662A00\", \"D8D8D8\", \"F5F5F5\"],  # 'terrain'\n",
        "}\n",
        "m.add_layer(image, vis_params, \"SRTM\")\n",
        "m"
      ]
    },
    {
      "cell_type": "markdown",
      "id": "29",
      "metadata": {
        "id": "29"
      },
      "source": [
        "### ImageCollection\n",
        "\n",
        "An `ImageCollection` is a stack or sequence of images. An `ImageCollection` can be loaded by passing an Earth Engine asset ID into the `ImageCollection` constructor. You can find `ImageCollection` IDs in the [Earth Engine Data Catalog](https://developers.google.com/earth-engine/datasets).\n",
        "\n",
        "#### Loading image collections\n",
        "\n",
        "For example, to load the image collection of the [Sentinel-2 surface reflectance](https://developers.google.com/earth-engine/datasets/catalog/COPERNICUS_S2_SR):"
      ]
    },
    {
      "cell_type": "code",
      "execution_count": null,
      "id": "30",
      "metadata": {
        "id": "30"
      },
      "outputs": [],
      "source": [
        "collection = ee.ImageCollection(\"COPERNICUS/S2_SR\")"
      ]
    },
    {
      "cell_type": "markdown",
      "id": "31",
      "metadata": {
        "id": "31"
      },
      "source": [
        "#### Visualizing image collections\n",
        "\n",
        "To visualize an Earth Engine **ImageCollection**, we need to convert an **ImageCollection** to an **Image** by compositing all the images in the collection to a single image representing, for example, the min, max, median, mean or standard deviation of the images. For example, to create a median value image from a collection, use the `collection.median()` method. Let's create a median image from the Sentinel-2 surface reflectance collection:"
      ]
    },
    {
      "cell_type": "code",
      "execution_count": null,
      "id": "32",
      "metadata": {
        "id": "32"
      },
      "outputs": [],
      "source": [
        "m = geemap.Map()\n",
        "collection = ee.ImageCollection(\"COPERNICUS/S2_SR\")\n",
        "image = collection.median()\n",
        "\n",
        "vis = {\n",
        "    \"min\": 0.0,\n",
        "    \"max\": 3000,\n",
        "    \"bands\": [\"B4\", \"B3\", \"B2\"],\n",
        "}\n",
        "\n",
        "m.set_center(83.277, 17.7009, 12)\n",
        "m.add_layer(image, vis, \"Sentinel-2\")\n",
        "m"
      ]
    },
    {
      "cell_type": "markdown",
      "id": "33",
      "metadata": {
        "id": "33"
      },
      "source": [
        "#### Filtering image collections"
      ]
    },
    {
      "cell_type": "code",
      "execution_count": null,
      "id": "34",
      "metadata": {
        "id": "34"
      },
      "outputs": [],
      "source": [
        "m = geemap.Map()\n",
        "collection = (\n",
        "    ee.ImageCollection(\"COPERNICUS/S2_SR\")\n",
        "    .filterDate(\"2021-01-01\", \"2022-01-01\")\n",
        "    .filter(ee.Filter.lt(\"CLOUDY_PIXEL_PERCENTAGE\", 5))\n",
        ")\n",
        "image = collection.median()\n",
        "\n",
        "vis = {\n",
        "    \"min\": 0.0,\n",
        "    \"max\": 3000,\n",
        "    \"bands\": [\"B4\", \"B3\", \"B2\"],\n",
        "}\n",
        "\n",
        "m.set_center(83.277, 17.7009, 12)\n",
        "m.add_layer(image, vis, \"Sentinel-2\")\n",
        "m"
      ]
    },
    {
      "cell_type": "markdown",
      "id": "35",
      "metadata": {
        "id": "35"
      },
      "source": [
        "### FeatureCollection\n",
        "\n",
        "A **FeatureCollection** is a collection of Features. A FeatureCollection is analogous to a GeoJSON FeatureCollection object, i.e., a collection of features with associated properties/attributes. Data contained in a shapefile can be represented as a FeatureCollection.\n",
        "\n",
        "#### Loading feature collections\n",
        "\n",
        "The [Earth Engine Data Catalog](https://developers.google.com/earth-engine/datasets) hosts a variety of vector datasets (e.g,, US Census data, country boundaries, and more) as feature collections. You can find feature collection IDs by searching the data catalog. For example, to load the [TIGER roads data](https://developers.google.com/earth-engine/datasets/catalog/TIGER_2016_Roads) by the U.S. Census Bureau:"
      ]
    },
    {
      "cell_type": "code",
      "execution_count": null,
      "id": "36",
      "metadata": {
        "id": "36"
      },
      "outputs": [],
      "source": [
        "m = geemap.Map()\n",
        "fc = ee.FeatureCollection(\"TIGER/2016/Roads\")\n",
        "m.set_center(-73.9596, 40.7688, 12)\n",
        "m.add_layer(fc, {}, \"Census roads\")\n",
        "m"
      ]
    },
    {
      "cell_type": "markdown",
      "id": "37",
      "metadata": {
        "id": "37"
      },
      "source": [
        "#### Filtering feature collections"
      ]
    },
    {
      "cell_type": "code",
      "execution_count": null,
      "id": "38",
      "metadata": {
        "id": "38"
      },
      "outputs": [],
      "source": [
        "m = geemap.Map()\n",
        "states = ee.FeatureCollection(\"TIGER/2018/States\")\n",
        "fc = states.filter(ee.Filter.eq(\"NAME\", \"Louisiana\"))\n",
        "m.add_layer(fc, {}, \"Louisiana\")\n",
        "m.center_object(fc, 7)\n",
        "m"
      ]
    },
    {
      "cell_type": "code",
      "execution_count": null,
      "id": "39",
      "metadata": {
        "id": "39"
      },
      "outputs": [],
      "source": [
        "feat = fc.first()\n",
        "feat.toDictionary()"
      ]
    },
    {
      "cell_type": "code",
      "execution_count": null,
      "id": "40",
      "metadata": {
        "id": "40"
      },
      "outputs": [],
      "source": [
        "m = geemap.Map()\n",
        "states = ee.FeatureCollection(\"TIGER/2018/States\")\n",
        "fc = states.filter(ee.Filter.inList(\"NAME\", [\"California\", \"Oregon\", \"Washington\"]))\n",
        "m.add_layer(fc, {}, \"West Coast\")\n",
        "m.center_object(fc, 5)\n",
        "m"
      ]
    },
    {
      "cell_type": "code",
      "execution_count": null,
      "id": "41",
      "metadata": {
        "id": "41"
      },
      "outputs": [],
      "source": [
        "region = m.user_roi\n",
        "if region is None:\n",
        "    region = ee.Geometry.BBox(-88.40, 29.88, -77.90, 35.39)\n",
        "\n",
        "fc = ee.FeatureCollection(\"TIGER/2018/States\").filterBounds(region)\n",
        "m.add_layer(fc, {}, \"Southeastern U.S.\")\n",
        "m.center_object(fc, 6)"
      ]
    },
    {
      "cell_type": "markdown",
      "id": "42",
      "metadata": {
        "id": "42"
      },
      "source": [
        "#### Visualizing feature collections"
      ]
    },
    {
      "cell_type": "code",
      "execution_count": null,
      "id": "43",
      "metadata": {
        "id": "43"
      },
      "outputs": [],
      "source": [
        "m = geemap.Map(center=[40, -100], zoom=4)\n",
        "states = ee.FeatureCollection(\"TIGER/2018/States\")\n",
        "m.add_layer(states, {}, \"US States\")\n",
        "m"
      ]
    },
    {
      "cell_type": "code",
      "execution_count": null,
      "id": "44",
      "metadata": {
        "id": "44"
      },
      "outputs": [],
      "source": [
        "m = geemap.Map(center=[40, -100], zoom=4)\n",
        "states = ee.FeatureCollection(\"TIGER/2018/States\")\n",
        "style = {\"color\": \"0000ffff\", \"width\": 2, \"lineType\": \"solid\", \"fillColor\": \"FF000080\"}\n",
        "m.add_layer(states.style(**style), {}, \"US States\")\n",
        "m"
      ]
    },
    {
      "cell_type": "code",
      "execution_count": null,
      "id": "45",
      "metadata": {
        "id": "45"
      },
      "outputs": [],
      "source": [
        "m = geemap.Map(center=[40, -100], zoom=4)\n",
        "states = ee.FeatureCollection(\"TIGER/2018/States\")\n",
        "vis_params = {\n",
        "    \"color\": \"000000\",\n",
        "    \"colorOpacity\": 1,\n",
        "    \"pointSize\": 3,\n",
        "    \"pointShape\": \"circle\",\n",
        "    \"width\": 2,\n",
        "    \"lineType\": \"solid\",\n",
        "    \"fillColorOpacity\": 0.66,\n",
        "}\n",
        "palette = [\"006633\", \"E5FFCC\", \"662A00\", \"D8D8D8\", \"F5F5F5\"]\n",
        "m.add_styled_vector(\n",
        "    states, column=\"NAME\", palette=palette, layer_name=\"Styled vector\", **vis_params\n",
        ")\n",
        "m"
      ]
    },
    {
      "cell_type": "markdown",
      "id": "46",
      "metadata": {
        "id": "46"
      },
      "source": [
        "### Earth Engine Data Catalog\n",
        "\n",
        "The [Earth Engine Data Catalog](https://developers.google.com/earth-engine/datasets) hosts a variety of geospatial datasets. As of October 2023, the catalog contains over [1,000 datasets](https://github.com/opengeos/Earth-Engine-Catalog/blob/master/gee_catalog.tsv) with a total size of over 80 petabytes. Some notable datasets include: Landsat, Sentinel, MODIS, NAIP, etc. For a complete list of datasets in CSV or JSON formats, see the [Earth Engine Datasets List](https://github.com/giswqs/Earth-Engine-Catalog/blob/master/gee_catalog.tsv).\n",
        "\n",
        "#### Searching for datasets\n",
        "\n",
        "The [Earth Engine Data Catalog](https://developers.google.com/earth-engine/datasets/catalog) is searchable. You can search datasets by name, keyword, or tag. For example, enter \"elevation\" in the search box will filter the catalog to show only datasets containing \"elevation\" in their name, description, or tags. 52 datasets are returned for this search query. Scroll down the list to find the [NASA SRTM Digital Elevation 30m](https://developers.google.com/earth-engine/datasets/catalog/USGS_SRTMGL1_003#description) dataset. On each dataset page, you can find the following information, including Dataset Availability, Dataset Provider, Earth Engine Snippet, Tags, Description, Code Example, and more (see {numref}`ch03_gee_srtm`). One important piece of information is the Image/ImageCollection/FeatureCollection ID of each dataset, which is essential for accessing the dataset through the Earth Engine JavaScript or Python APIs.\n",
        "\n",
        "![](https://i.imgur.com/B3rf4QN.jpg)"
      ]
    },
    {
      "cell_type": "code",
      "execution_count": null,
      "id": "47",
      "metadata": {
        "id": "47"
      },
      "outputs": [],
      "source": [
        "m = geemap.Map()\n",
        "m"
      ]
    },
    {
      "cell_type": "code",
      "execution_count": null,
      "id": "48",
      "metadata": {
        "id": "48"
      },
      "outputs": [],
      "source": [
        "dataset_xyz = ee.Image(\"USGS/SRTMGL1_003\")\n",
        "m.add_layer(dataset_xyz, {}, \"USGS/SRTMGL1_003\")"
      ]
    },
    {
      "cell_type": "code",
      "execution_count": null,
      "id": "49",
      "metadata": {
        "id": "49"
      },
      "outputs": [],
      "source": [
        "m = geemap.Map()\n",
        "dem = ee.Image(\"USGS/SRTMGL1_003\")\n",
        "vis_params = {\n",
        "    \"min\": 0,\n",
        "    \"max\": 4000,\n",
        "    \"palette\": [\"006633\", \"E5FFCC\", \"662A00\", \"D8D8D8\", \"F5F5F5\"],\n",
        "}\n",
        "m.add_layer(dem, vis_params, \"SRTM DEM\")\n",
        "m"
      ]
    },
    {
      "cell_type": "markdown",
      "id": "50",
      "metadata": {
        "id": "50"
      },
      "source": [
        "#### Using the datasets module"
      ]
    },
    {
      "cell_type": "code",
      "execution_count": null,
      "id": "51",
      "metadata": {
        "id": "51"
      },
      "outputs": [],
      "source": [
        "from geemap.datasets import DATA"
      ]
    },
    {
      "cell_type": "code",
      "execution_count": null,
      "id": "52",
      "metadata": {
        "id": "52"
      },
      "outputs": [],
      "source": [
        "m = geemap.Map(center=[40, -100], zoom=4)\n",
        "dataset = ee.Image(DATA.USGS_GAP_CONUS_2011)\n",
        "m.add_layer(dataset, {}, \"GAP CONUS\")\n",
        "m"
      ]
    },
    {
      "cell_type": "code",
      "execution_count": null,
      "id": "53",
      "metadata": {
        "id": "53"
      },
      "outputs": [],
      "source": [
        "from geemap.datasets import get_metadata\n",
        "\n",
        "get_metadata(DATA.USGS_GAP_CONUS_2011)"
      ]
    },
    {
      "cell_type": "markdown",
      "id": "54",
      "metadata": {
        "id": "54"
      },
      "source": [
        "### Converting Earth Engine JavaScripts to Python\n",
        "\n",
        "Find some Earth Engine JavaScript code that you want to convert to Python. For example, you can grab some sample code from the [Earth Engine Documentation](https://developers.google.com/earth-engine/guides/image_visualization)."
      ]
    },
    {
      "cell_type": "code",
      "execution_count": null,
      "id": "55",
      "metadata": {
        "id": "55"
      },
      "outputs": [],
      "source": [
        "m = geemap.Map()\n",
        "m"
      ]
    },
    {
      "cell_type": "code",
      "execution_count": null,
      "id": "56",
      "metadata": {
        "id": "56"
      },
      "outputs": [],
      "source": [
        "# Load an image.\n",
        "image = ee.Image(\"LANDSAT/LC08/C02/T1_TOA/LC08_044034_20140318\")\n",
        "\n",
        "# Define the visualization parameters.\n",
        "vizParams = {\"bands\": [\"B5\", \"B4\", \"B3\"], \"min\": 0, \"max\": 0.5, \"gamma\": [0.95, 1.1, 1]}\n",
        "\n",
        "# Center the map and display the image.\n",
        "m.set_center(-122.1899, 37.5010, 10)\n",
        "# San Francisco Bay\n",
        "m.add_layer(image, vizParams, \"False color composite\")"
      ]
    },
    {
      "cell_type": "markdown",
      "id": "57",
      "metadata": {
        "id": "57"
      },
      "source": [
        "### Exercise 1 - Creating cloud-free imagery\n",
        "\n",
        "Create a cloud-free imagery of Texas for the year of 2022. You can use either Landsat 9 or Sentinel-2 imagery. Relevant Earth Engine assets:\n",
        "\n",
        "-   [ee.FeatureCollection(\"TIGER/2018/States\")](https://developers.google.com/earth-engine/datasets/catalog/TIGER_2018_States)\n",
        "-   [ee.ImageCollection(\"COPERNICUS/S2_SR\")](https://developers.google.com/earth-engine/datasets/catalog/COPERNICUS_S2_SR)\n",
        "-   [ee.ImageCollection(\"LANDSAT/LC09/C02/T1_L2\")](https://developers.google.com/earth-engine/datasets/catalog/LANDSAT_LC09_C02_T1_L2)\n",
        "\n",
        "![](https://i.imgur.com/i3IT0lF.png)"
      ]
    },
    {
      "cell_type": "code",
      "execution_count": null,
      "id": "58",
      "metadata": {
        "id": "58"
      },
      "outputs": [],
      "source": []
    },
    {
      "cell_type": "markdown",
      "id": "59",
      "metadata": {
        "id": "59"
      },
      "source": [
        "## Break 1 (10 mins)\n",
        "\n",
        "## Visualizing Earth Engine data (30 mins)\n",
        "\n",
        "### Geemap Inspector tool, plotting tool, interactive GUI for data visualization\n",
        "\n",
        "### Using the inspector tool"
      ]
    },
    {
      "cell_type": "code",
      "execution_count": null,
      "id": "60",
      "metadata": {
        "id": "60"
      },
      "outputs": [],
      "source": [
        "m = geemap.Map(center=(40, -100), zoom=4)\n",
        "\n",
        "dem = ee.Image(\"USGS/SRTMGL1_003\")\n",
        "landsat7 = ee.Image(\"LANDSAT/LE7_TOA_5YEAR/1999_2003\").select(\n",
        "    [\"B1\", \"B2\", \"B3\", \"B4\", \"B5\", \"B7\"]\n",
        ")\n",
        "states = ee.FeatureCollection(\"TIGER/2018/States\")\n",
        "\n",
        "vis_params = {\n",
        "    \"min\": 0,\n",
        "    \"max\": 4000,\n",
        "    \"palette\": [\"006633\", \"E5FFCC\", \"662A00\", \"D8D8D8\", \"F5F5F5\"],\n",
        "}\n",
        "\n",
        "m.add_layer(dem, vis_params, \"SRTM DEM\")\n",
        "m.add_layer(\n",
        "    landsat7,\n",
        "    {\"bands\": [\"B4\", \"B3\", \"B2\"], \"min\": 20, \"max\": 200, \"gamma\": 2.0},\n",
        "    \"Landsat 7\",\n",
        ")\n",
        "m.add_layer(states, {}, \"US States\")\n",
        "m.add(\"inspector\")\n",
        "m"
      ]
    },
    {
      "cell_type": "markdown",
      "id": "61",
      "metadata": {
        "id": "61"
      },
      "source": [
        "### Using the plotting tool"
      ]
    },
    {
      "cell_type": "code",
      "execution_count": null,
      "id": "62",
      "metadata": {
        "id": "62"
      },
      "outputs": [],
      "source": [
        "m = geemap.Map(center=[40, -100], zoom=4)\n",
        "\n",
        "landsat7 = ee.Image(\"LANDSAT/LE7_TOA_5YEAR/1999_2003\").select(\n",
        "    [\"B1\", \"B2\", \"B3\", \"B4\", \"B5\", \"B7\"]\n",
        ")\n",
        "\n",
        "landsat_vis = {\"bands\": [\"B4\", \"B3\", \"B2\"], \"gamma\": 1.4}\n",
        "m.add_layer(landsat7, landsat_vis, \"Landsat\")\n",
        "\n",
        "hyperion = ee.ImageCollection(\"EO1/HYPERION\").filter(\n",
        "    ee.Filter.date(\"2016-01-01\", \"2017-03-01\")\n",
        ")\n",
        "\n",
        "hyperion_vis = {\n",
        "    \"min\": 1000.0,\n",
        "    \"max\": 14000.0,\n",
        "    \"gamma\": 2.5,\n",
        "}\n",
        "m.add_layer(hyperion, hyperion_vis, \"Hyperion\")\n",
        "m.add_plot_gui()\n",
        "m"
      ]
    },
    {
      "cell_type": "markdown",
      "id": "63",
      "metadata": {
        "id": "63"
      },
      "source": [
        "Set plotting options for Landsat."
      ]
    },
    {
      "cell_type": "code",
      "execution_count": null,
      "id": "64",
      "metadata": {
        "id": "64"
      },
      "outputs": [],
      "source": [
        "m.set_plot_options(add_marker_cluster=True, overlay=True)"
      ]
    },
    {
      "cell_type": "markdown",
      "id": "65",
      "metadata": {
        "id": "65"
      },
      "source": [
        "Set plotting options for Hyperion."
      ]
    },
    {
      "cell_type": "code",
      "execution_count": null,
      "id": "66",
      "metadata": {
        "id": "66"
      },
      "outputs": [],
      "source": [
        "m.set_plot_options(add_marker_cluster=True, plot_type=\"bar\")"
      ]
    },
    {
      "cell_type": "markdown",
      "id": "67",
      "metadata": {
        "id": "67"
      },
      "source": [
        "### Legends, color bars, and labels\n",
        "\n",
        "#### Built-in legends"
      ]
    },
    {
      "cell_type": "code",
      "execution_count": null,
      "id": "68",
      "metadata": {
        "id": "68"
      },
      "outputs": [],
      "source": [
        "from geemap.legends import builtin_legends"
      ]
    },
    {
      "cell_type": "code",
      "execution_count": null,
      "id": "69",
      "metadata": {
        "id": "69"
      },
      "outputs": [],
      "source": [
        "for legend in builtin_legends:\n",
        "    print(legend)"
      ]
    },
    {
      "cell_type": "markdown",
      "id": "70",
      "metadata": {
        "id": "70"
      },
      "source": [
        "Add NLCD WMS layer and legend to the map."
      ]
    },
    {
      "cell_type": "code",
      "execution_count": null,
      "id": "71",
      "metadata": {
        "id": "71"
      },
      "outputs": [],
      "source": [
        "m = geemap.Map(center=[40, -100], zoom=4)\n",
        "m.add_basemap(\"Esri.WorldImagery\")\n",
        "m.add_basemap(\"NLCD 2021 CONUS Land Cover\")\n",
        "m.add_legend(builtin_legend=\"NLCD\", max_width=\"100px\", height=\"455px\")\n",
        "m"
      ]
    },
    {
      "cell_type": "markdown",
      "id": "72",
      "metadata": {
        "id": "72"
      },
      "source": [
        "Add NLCD Earth Engine layer and legend to the map."
      ]
    },
    {
      "cell_type": "code",
      "execution_count": null,
      "id": "73",
      "metadata": {
        "id": "73"
      },
      "outputs": [],
      "source": [
        "m = geemap.Map(center=[40, -100], zoom=4)\n",
        "m.add_basemap(\"Esri.WorldImagery\")\n",
        "\n",
        "nlcd = ee.Image(\"USGS/NLCD_RELEASES/2021_REL/NLCD/2021\")\n",
        "landcover = nlcd.select(\"landcover\")\n",
        "\n",
        "m.add_layer(landcover, {}, \"NLCD Land Cover 2021\")\n",
        "m.add_legend(\n",
        "    title=\"NLCD Land Cover Classification\", builtin_legend=\"NLCD\", height=\"455px\"\n",
        ")\n",
        "m"
      ]
    },
    {
      "cell_type": "markdown",
      "id": "74",
      "metadata": {
        "id": "74"
      },
      "source": [
        "#### Custom legends"
      ]
    },
    {
      "cell_type": "markdown",
      "id": "75",
      "metadata": {
        "id": "75"
      },
      "source": [
        "Add a custom legend by specifying the colors and labels."
      ]
    },
    {
      "cell_type": "code",
      "execution_count": null,
      "id": "76",
      "metadata": {
        "id": "76"
      },
      "outputs": [],
      "source": [
        "m = geemap.Map(add_google_map=False)\n",
        "\n",
        "keys = [\"One\", \"Two\", \"Three\", \"Four\", \"etc\"]\n",
        "\n",
        "# colors can be defined using either hex code or RGB (0-255, 0-255, 0-255)\n",
        "colors = [\"#8DD3C7\", \"#FFFFB3\", \"#BEBADA\", \"#FB8072\", \"#80B1D3\"]\n",
        "# legend_colors = [(255, 0, 0), (127, 255, 0), (127, 18, 25), (36, 70, 180), (96, 68 123)]\n",
        "\n",
        "m.add_legend(keys=keys, colors=colors, position=\"bottomright\")\n",
        "m"
      ]
    },
    {
      "cell_type": "markdown",
      "id": "77",
      "metadata": {
        "id": "77"
      },
      "source": [
        "Add a custom legend by specifying a dictionary of colors and labels."
      ]
    },
    {
      "cell_type": "code",
      "execution_count": null,
      "id": "78",
      "metadata": {
        "id": "78"
      },
      "outputs": [],
      "source": [
        "m = geemap.Map(center=[40, -100], zoom=4)\n",
        "m.add_basemap(\"Esri.WorldImagery\")\n",
        "\n",
        "legend_dict = {\n",
        "    \"11 Open Water\": \"466b9f\",\n",
        "    \"12 Perennial Ice/Snow\": \"d1def8\",\n",
        "    \"21 Developed, Open Space\": \"dec5c5\",\n",
        "    \"22 Developed, Low Intensity\": \"d99282\",\n",
        "    \"23 Developed, Medium Intensity\": \"eb0000\",\n",
        "    \"24 Developed High Intensity\": \"ab0000\",\n",
        "    \"31 Barren Land (Rock/Sand/Clay)\": \"b3ac9f\",\n",
        "    \"41 Deciduous Forest\": \"68ab5f\",\n",
        "    \"42 Evergreen Forest\": \"1c5f2c\",\n",
        "    \"43 Mixed Forest\": \"b5c58f\",\n",
        "    \"51 Dwarf Scrub\": \"af963c\",\n",
        "    \"52 Shrub/Scrub\": \"ccb879\",\n",
        "    \"71 Grassland/Herbaceous\": \"dfdfc2\",\n",
        "    \"72 Sedge/Herbaceous\": \"d1d182\",\n",
        "    \"73 Lichens\": \"a3cc51\",\n",
        "    \"74 Moss\": \"82ba9e\",\n",
        "    \"81 Pasture/Hay\": \"dcd939\",\n",
        "    \"82 Cultivated Crops\": \"ab6c28\",\n",
        "    \"90 Woody Wetlands\": \"b8d9eb\",\n",
        "    \"95 Emergent Herbaceous Wetlands\": \"6c9fb8\",\n",
        "}\n",
        "\n",
        "nlcd = ee.Image(\"USGS/NLCD_RELEASES/2021_REL/NLCD/2021\")\n",
        "landcover = nlcd.select(\"landcover\")\n",
        "\n",
        "m.add_layer(landcover, {}, \"NLCD Land Cover 2021\")\n",
        "m.add_legend(title=\"NLCD Land Cover Classification\", legend_dict=legend_dict)\n",
        "m"
      ]
    },
    {
      "cell_type": "markdown",
      "id": "79",
      "metadata": {
        "id": "79"
      },
      "source": [
        "#### Creating color bars\n",
        "\n",
        "Add a horizontal color bar."
      ]
    },
    {
      "cell_type": "code",
      "execution_count": null,
      "id": "80",
      "metadata": {
        "id": "80"
      },
      "outputs": [],
      "source": [
        "m = geemap.Map()\n",
        "\n",
        "dem = ee.Image(\"USGS/SRTMGL1_003\")\n",
        "vis_params = {\n",
        "    \"min\": 0,\n",
        "    \"max\": 4000,\n",
        "    \"palette\": [\"006633\", \"E5FFCC\", \"662A00\", \"D8D8D8\", \"F5F5F5\"],\n",
        "}\n",
        "\n",
        "m.add_layer(dem, vis_params, \"SRTM DEM\")\n",
        "m.add_colorbar(vis_params, label=\"Elevation (m)\", layer_name=\"SRTM DEM\")\n",
        "m"
      ]
    },
    {
      "cell_type": "markdown",
      "id": "81",
      "metadata": {
        "id": "81"
      },
      "source": [
        "Add a vertical color bar."
      ]
    },
    {
      "cell_type": "code",
      "execution_count": null,
      "id": "82",
      "metadata": {
        "id": "82"
      },
      "outputs": [],
      "source": [
        "m.add_colorbar(\n",
        "    vis_params,\n",
        "    label=\"Elevation (m)\",\n",
        "    layer_name=\"SRTM DEM\",\n",
        "    orientation=\"vertical\",\n",
        "    max_width=\"100px\",\n",
        ")"
      ]
    },
    {
      "cell_type": "markdown",
      "id": "83",
      "metadata": {
        "id": "83"
      },
      "source": [
        "Make the color bar background transparent."
      ]
    },
    {
      "cell_type": "code",
      "execution_count": null,
      "id": "84",
      "metadata": {
        "id": "84"
      },
      "outputs": [],
      "source": [
        "m.add_colorbar(\n",
        "    vis_params,\n",
        "    label=\"Elevation (m)\",\n",
        "    layer_name=\"SRTM DEM\",\n",
        "    orientation=\"vertical\",\n",
        "    max_width=\"100px\",\n",
        "    transparent_bg=True,\n",
        ")"
      ]
    },
    {
      "cell_type": "markdown",
      "id": "85",
      "metadata": {
        "id": "85"
      },
      "source": [
        "### Split-panel map and linked maps\n",
        "\n",
        "### Split-panel maps\n",
        "\n",
        "Create a split map with basemaps. Note that ipyleaflet has a bug with the SplitControl. You can't pan the map, which should be resolved in the next ipyleaflet release."
      ]
    },
    {
      "cell_type": "code",
      "execution_count": null,
      "id": "86",
      "metadata": {
        "id": "86"
      },
      "outputs": [],
      "source": [
        "m = geemap.Map()\n",
        "m.split_map(left_layer=\"Esri.WorldTopoMap\", right_layer=\"OpenTopoMap\")\n",
        "m"
      ]
    },
    {
      "cell_type": "markdown",
      "id": "87",
      "metadata": {
        "id": "87"
      },
      "source": [
        "Create a split map with Earth Engine layers."
      ]
    },
    {
      "cell_type": "code",
      "execution_count": null,
      "id": "88",
      "metadata": {
        "id": "88"
      },
      "outputs": [],
      "source": [
        "m = geemap.Map(center=(40, -100), zoom=4, height=600)\n",
        "\n",
        "nlcd_2001 = ee.Image(\"USGS/NLCD_RELEASES/2019_REL/NLCD/2001\").select(\"landcover\")\n",
        "nlcd_2019 = ee.Image(\"USGS/NLCD_RELEASES/2021_REL/NLCD/2021\").select(\"landcover\")\n",
        "\n",
        "left_layer = geemap.ee_tile_layer(nlcd_2001, {}, \"NLCD 2001\")\n",
        "right_layer = geemap.ee_tile_layer(nlcd_2019, {}, \"NLCD 2021\")\n",
        "\n",
        "m.split_map(left_layer, right_layer)\n",
        "m"
      ]
    },
    {
      "cell_type": "markdown",
      "id": "89",
      "metadata": {
        "id": "89"
      },
      "source": [
        "### Linked maps\n",
        "\n",
        "Create a 2x2 linked map for visualizing Sentinel-2 imagery with different band combinations. Note that this feature does not work properly with Colab. Panning one map would not pan other maps."
      ]
    },
    {
      "cell_type": "code",
      "execution_count": null,
      "id": "90",
      "metadata": {
        "id": "90"
      },
      "outputs": [],
      "source": [
        "image = (\n",
        "    ee.ImageCollection(\"COPERNICUS/S2\")\n",
        "    .filterDate(\"2018-09-01\", \"2018-09-30\")\n",
        "    .map(lambda img: img.divide(10000))\n",
        "    .median()\n",
        ")\n",
        "\n",
        "vis_params = [\n",
        "    {\"bands\": [\"B4\", \"B3\", \"B2\"], \"min\": 0, \"max\": 0.3, \"gamma\": 1.3},\n",
        "    {\"bands\": [\"B8\", \"B11\", \"B4\"], \"min\": 0, \"max\": 0.3, \"gamma\": 1.3},\n",
        "    {\"bands\": [\"B8\", \"B4\", \"B3\"], \"min\": 0, \"max\": 0.3, \"gamma\": 1.3},\n",
        "    {\"bands\": [\"B12\", \"B12\", \"B4\"], \"min\": 0, \"max\": 0.3, \"gamma\": 1.3},\n",
        "]\n",
        "\n",
        "labels = [\n",
        "    \"Natural Color (B4/B3/B2)\",\n",
        "    \"Land/Water (B8/B11/B4)\",\n",
        "    \"Color Infrared (B8/B4/B3)\",\n",
        "    \"Vegetation (B12/B11/B4)\",\n",
        "]\n",
        "\n",
        "geemap.linked_maps(\n",
        "    rows=2,\n",
        "    cols=2,\n",
        "    height=\"300px\",\n",
        "    center=[38.4151, 21.2712],\n",
        "    zoom=12,\n",
        "    ee_objects=[image],\n",
        "    vis_params=vis_params,\n",
        "    labels=labels,\n",
        "    label_position=\"topright\",\n",
        ")"
      ]
    },
    {
      "cell_type": "markdown",
      "id": "91",
      "metadata": {
        "id": "91"
      },
      "source": [
        "### Timeseries inspector and time slider\n",
        "\n",
        "#### Timeseries inspector\n",
        "\n",
        "Check the available years of NLCD."
      ]
    },
    {
      "cell_type": "code",
      "execution_count": null,
      "id": "92",
      "metadata": {
        "id": "92"
      },
      "outputs": [],
      "source": [
        "m = geemap.Map(center=[40, -100], zoom=4)\n",
        "collection = ee.ImageCollection(\"USGS/NLCD_RELEASES/2019_REL/NLCD\").select(\"landcover\")\n",
        "vis_params = {\"bands\": [\"landcover\"]}\n",
        "years = collection.aggregate_array(\"system:index\").getInfo()\n",
        "years"
      ]
    },
    {
      "cell_type": "markdown",
      "id": "93",
      "metadata": {
        "id": "93"
      },
      "source": [
        "Create a timeseries inspector for NLCD. Note that ipyleaflet has a bug with the SplitControl. You can't pan the map, which should be resolved in the next ipyleaflet release."
      ]
    },
    {
      "cell_type": "code",
      "execution_count": null,
      "id": "94",
      "metadata": {
        "id": "94"
      },
      "outputs": [],
      "source": [
        "m.ts_inspector(\n",
        "    left_ts=collection,\n",
        "    right_ts=collection,\n",
        "    left_names=years,\n",
        "    right_names=years,\n",
        "    left_vis=vis_params,\n",
        "    right_vis=vis_params,\n",
        "    width=\"80px\",\n",
        ")\n",
        "m"
      ]
    },
    {
      "cell_type": "markdown",
      "id": "95",
      "metadata": {
        "id": "95"
      },
      "source": [
        "#### Time slider\n",
        "\n",
        "Note that this feature may not work properly with Colab. Restart Colab runtime if the time slider does not work.\n",
        "\n",
        "Create a map for visualizing MODIS vegetation data."
      ]
    },
    {
      "cell_type": "code",
      "execution_count": null,
      "id": "96",
      "metadata": {
        "id": "96"
      },
      "outputs": [],
      "source": [
        "m = geemap.Map()\n",
        "\n",
        "collection = (\n",
        "    ee.ImageCollection(\"MODIS/MCD43A4_006_NDVI\")\n",
        "    .filter(ee.Filter.date(\"2018-06-01\", \"2018-07-01\"))\n",
        "    .select(\"NDVI\")\n",
        ")\n",
        "vis_params = {\n",
        "    \"min\": 0.0,\n",
        "    \"max\": 1.0,\n",
        "    \"palette\": \"ndvi\",\n",
        "}\n",
        "\n",
        "m.add_time_slider(collection, vis_params, time_interval=2)\n",
        "m"
      ]
    },
    {
      "cell_type": "markdown",
      "id": "97",
      "metadata": {
        "id": "97"
      },
      "source": [
        "Create a map for visualizing weather data."
      ]
    },
    {
      "cell_type": "code",
      "execution_count": null,
      "id": "98",
      "metadata": {
        "id": "98"
      },
      "outputs": [],
      "source": [
        "m = geemap.Map()\n",
        "\n",
        "collection = (\n",
        "    ee.ImageCollection(\"NOAA/GFS0P25\")\n",
        "    .filterDate(\"2018-12-22\", \"2018-12-23\")\n",
        "    .limit(24)\n",
        "    .select(\"temperature_2m_above_ground\")\n",
        ")\n",
        "\n",
        "vis_params = {\n",
        "    \"min\": -40.0,\n",
        "    \"max\": 35.0,\n",
        "    \"palette\": [\"blue\", \"purple\", \"cyan\", \"green\", \"yellow\", \"red\"],\n",
        "}\n",
        "\n",
        "labels = [str(n).zfill(2) + \":00\" for n in range(0, 24)]\n",
        "m.add_time_slider(collection, vis_params, labels=labels, time_interval=1, opacity=0.8)\n",
        "m"
      ]
    },
    {
      "cell_type": "markdown",
      "id": "99",
      "metadata": {
        "id": "99"
      },
      "source": [
        "Visualizing Sentinel-2 imagery"
      ]
    },
    {
      "cell_type": "code",
      "execution_count": null,
      "id": "100",
      "metadata": {
        "id": "100"
      },
      "outputs": [],
      "source": [
        "m = geemap.Map(center=[37.75, -122.45], zoom=12)\n",
        "\n",
        "collection = (\n",
        "    ee.ImageCollection(\"COPERNICUS/S2_SR\")\n",
        "    .filterBounds(ee.Geometry.Point([-122.45, 37.75]))\n",
        "    .filterMetadata(\"CLOUDY_PIXEL_PERCENTAGE\", \"less_than\", 10)\n",
        ")\n",
        "\n",
        "vis_params = {\"min\": 0, \"max\": 4000, \"bands\": [\"B8\", \"B4\", \"B3\"]}\n",
        "\n",
        "m.add_time_slider(collection, vis_params)\n",
        "m"
      ]
    },
    {
      "cell_type": "markdown",
      "id": "101",
      "metadata": {
        "id": "101"
      },
      "source": [
        "### Exercise 2 - Creating land cover maps with a legend\n",
        "\n",
        "Create a split map for visualizing NLCD land cover change in Texas between 2001 and 2019. Add the NLCD legend to the map. Relevant Earth Engine assets:\n",
        "\n",
        "-   [ee.FeatureCollection(\"TIGER/2018/States\")](https://developers.google.com/earth-engine/datasets/catalog/TIGER_2018_States)\n",
        "-   [ee.ImageCollection(\"USGS/NLCD_RELEASES/2019_REL/NLCD\")](https://developers.google.com/earth-engine/datasets/catalog/USGS_NLCD_RELEASES_2019_REL_NLCD)\n",
        "\n",
        "![](https://i.imgur.com/1b62CeI.jpg)"
      ]
    },
    {
      "cell_type": "code",
      "execution_count": null,
      "id": "102",
      "metadata": {
        "id": "102"
      },
      "outputs": [],
      "source": []
    },
    {
      "cell_type": "markdown",
      "id": "103",
      "metadata": {
        "id": "103"
      },
      "source": [
        "## Analyzing Earth Engine data (30 mins)\n",
        "\n",
        "### Image descriptive statistics\n",
        "\n",
        "Use a sample Landsat image."
      ]
    },
    {
      "cell_type": "code",
      "execution_count": null,
      "id": "104",
      "metadata": {
        "id": "104"
      },
      "outputs": [],
      "source": [
        "import geemap"
      ]
    },
    {
      "cell_type": "code",
      "execution_count": null,
      "id": "105",
      "metadata": {
        "id": "105"
      },
      "outputs": [],
      "source": [
        "m = geemap.Map()\n",
        "m"
      ]
    },
    {
      "cell_type": "code",
      "execution_count": null,
      "id": "106",
      "metadata": {
        "id": "106"
      },
      "outputs": [],
      "source": [
        "m = geemap.Map()\n",
        "\n",
        "centroid = ee.Geometry.Point([-122.4439, 37.7538])\n",
        "image = ee.ImageCollection(\"LANDSAT/LC08/C01/T1_SR\").filterBounds(centroid).first()\n",
        "vis = {\"min\": 0, \"max\": 3000, \"bands\": [\"B5\", \"B4\", \"B3\"]}\n",
        "\n",
        "m.center_object(centroid, 8)\n",
        "m.add_layer(image, vis, \"Landsat-8\")\n",
        "m.add_layer(centroid, {}, \"Centroid\")\n",
        "m"
      ]
    },
    {
      "cell_type": "markdown",
      "id": "107",
      "metadata": {
        "id": "107"
      },
      "source": [
        "Check image properties."
      ]
    },
    {
      "cell_type": "code",
      "execution_count": null,
      "id": "108",
      "metadata": {
        "id": "108"
      },
      "outputs": [],
      "source": [
        "image.propertyNames()"
      ]
    },
    {
      "cell_type": "markdown",
      "id": "109",
      "metadata": {
        "id": "109"
      },
      "source": [
        "Check image property values."
      ]
    },
    {
      "cell_type": "code",
      "execution_count": null,
      "id": "110",
      "metadata": {
        "id": "110"
      },
      "outputs": [],
      "source": [
        "image.toDictionary()"
      ]
    },
    {
      "cell_type": "markdown",
      "id": "111",
      "metadata": {
        "id": "111"
      },
      "source": [
        "Get specific image properties."
      ]
    },
    {
      "cell_type": "code",
      "execution_count": null,
      "id": "112",
      "metadata": {
        "id": "112"
      },
      "outputs": [],
      "source": [
        "image.get(\"CLOUD_COVER\")  # 0.05"
      ]
    },
    {
      "cell_type": "markdown",
      "id": "113",
      "metadata": {
        "id": "113"
      },
      "source": [
        "Get image properties with easy-to-read time format."
      ]
    },
    {
      "cell_type": "code",
      "execution_count": null,
      "id": "114",
      "metadata": {
        "id": "114"
      },
      "outputs": [],
      "source": [
        "props = geemap.image_props(image)\n",
        "props"
      ]
    },
    {
      "cell_type": "markdown",
      "id": "115",
      "metadata": {
        "id": "115"
      },
      "source": [
        "Compute image descriptive statistics."
      ]
    },
    {
      "cell_type": "code",
      "execution_count": null,
      "id": "116",
      "metadata": {
        "id": "116"
      },
      "outputs": [],
      "source": [
        "stats = geemap.image_stats(image, scale=30)\n",
        "stats"
      ]
    },
    {
      "cell_type": "markdown",
      "id": "117",
      "metadata": {
        "id": "117"
      },
      "source": [
        "### Zonal statistics\n",
        "\n",
        "#### Zonal statistics\n",
        "\n",
        "Add Earth Engine data to the map."
      ]
    },
    {
      "cell_type": "code",
      "execution_count": null,
      "id": "118",
      "metadata": {
        "id": "118"
      },
      "outputs": [],
      "source": [
        "m = geemap.Map(center=[40, -100], zoom=4)\n",
        "\n",
        "# Add NASA SRTM\n",
        "dem = ee.Image(\"USGS/SRTMGL1_003\")\n",
        "dem_vis = {\n",
        "    \"min\": 0,\n",
        "    \"max\": 4000,\n",
        "    \"palette\": [\"006633\", \"E5FFCC\", \"662A00\", \"D8D8D8\", \"F5F5F5\"],\n",
        "}\n",
        "m.add_layer(dem, dem_vis, \"SRTM DEM\")\n",
        "\n",
        "# Add 5-year Landsat TOA composite\n",
        "landsat = ee.Image(\"LANDSAT/LE7_TOA_5YEAR/1999_2003\")\n",
        "landsat_vis = {\"bands\": [\"B4\", \"B3\", \"B2\"], \"gamma\": 1.4}\n",
        "m.add_layer(landsat, landsat_vis, \"Landsat\", False)\n",
        "\n",
        "# Add US Census States\n",
        "states = ee.FeatureCollection(\"TIGER/2018/States\")\n",
        "style = {\"fillColor\": \"00000000\"}\n",
        "m.add_layer(states.style(**style), {}, \"US States\")\n",
        "m"
      ]
    },
    {
      "cell_type": "markdown",
      "id": "119",
      "metadata": {
        "id": "119"
      },
      "source": [
        "Compute zonal statistics. In this case, we compute the mean elevation of each state and export the results to a CSV file."
      ]
    },
    {
      "cell_type": "code",
      "execution_count": null,
      "id": "120",
      "metadata": {
        "id": "120"
      },
      "outputs": [],
      "source": [
        "out_dem_stats = \"dem_stats.csv\"\n",
        "geemap.zonal_stats(\n",
        "    dem, states, out_dem_stats, stat_type=\"MEAN\", scale=1000, return_fc=False\n",
        ")"
      ]
    },
    {
      "cell_type": "markdown",
      "id": "121",
      "metadata": {
        "id": "121"
      },
      "source": [
        "Display the csv file as a table."
      ]
    },
    {
      "cell_type": "code",
      "execution_count": null,
      "id": "122",
      "metadata": {
        "id": "122"
      },
      "outputs": [],
      "source": [
        "geemap.csv_to_df(out_dem_stats).sort_values(by=[\"mean\"], ascending=True)"
      ]
    },
    {
      "cell_type": "markdown",
      "id": "123",
      "metadata": {
        "id": "123"
      },
      "source": [
        "Compute zonal statistics of mean spectral values of each state."
      ]
    },
    {
      "cell_type": "code",
      "execution_count": null,
      "id": "124",
      "metadata": {
        "id": "124"
      },
      "outputs": [],
      "source": [
        "out_landsat_stats = \"landsat_stats.csv\"\n",
        "geemap.zonal_stats(\n",
        "    landsat,\n",
        "    states,\n",
        "    out_landsat_stats,\n",
        "    stat_type=\"MEAN\",\n",
        "    scale=1000,\n",
        "    return_fc=False,\n",
        ")"
      ]
    },
    {
      "cell_type": "code",
      "execution_count": null,
      "id": "125",
      "metadata": {
        "id": "125"
      },
      "outputs": [],
      "source": [
        "geemap.csv_to_df(out_landsat_stats)"
      ]
    },
    {
      "cell_type": "markdown",
      "id": "126",
      "metadata": {
        "id": "126"
      },
      "source": [
        "#### Zonal statistics by group\n",
        "\n",
        "Compute zonal statistics by group. In this case, we compute the area of each land cover type in each state and export the results to a CSV file."
      ]
    },
    {
      "cell_type": "code",
      "execution_count": null,
      "id": "127",
      "metadata": {
        "id": "127"
      },
      "outputs": [],
      "source": [
        "m = geemap.Map(center=[40, -100], zoom=4)\n",
        "\n",
        "# Add NLCD data\n",
        "dataset = ee.Image(\"USGS/NLCD_RELEASES/2021_REL/NLCD/2021\")\n",
        "landcover = dataset.select(\"landcover\")\n",
        "m.add_layer(landcover, {}, \"NLCD 2021\")\n",
        "\n",
        "# Add US census states\n",
        "states = ee.FeatureCollection(\"TIGER/2018/States\")\n",
        "style = {\"fillColor\": \"00000000\"}\n",
        "m.add_layer(states.style(**style), {}, \"US States\")\n",
        "\n",
        "# Add NLCD legend\n",
        "m.add_legend(title=\"NLCD Land Cover\", builtin_legend=\"NLCD\")\n",
        "m"
      ]
    },
    {
      "cell_type": "markdown",
      "id": "128",
      "metadata": {
        "id": "128"
      },
      "source": [
        "Compute zonal statistics by group and convert the area unit from square meters to square kilometers."
      ]
    },
    {
      "cell_type": "code",
      "execution_count": null,
      "id": "129",
      "metadata": {
        "id": "129"
      },
      "outputs": [],
      "source": [
        "nlcd_stats = \"nlcd_stats.csv\"\n",
        "\n",
        "geemap.zonal_stats_by_group(\n",
        "    landcover,\n",
        "    states,\n",
        "    nlcd_stats,\n",
        "    stat_type=\"SUM\",\n",
        "    denominator=1e6,\n",
        "    decimal_places=2,\n",
        ")"
      ]
    },
    {
      "cell_type": "code",
      "execution_count": null,
      "id": "130",
      "metadata": {
        "id": "130"
      },
      "outputs": [],
      "source": [
        "geemap.csv_to_df(nlcd_stats)"
      ]
    },
    {
      "cell_type": "markdown",
      "id": "131",
      "metadata": {
        "id": "131"
      },
      "source": [
        "Calculate the percentage of each land cover type in each state."
      ]
    },
    {
      "cell_type": "code",
      "execution_count": null,
      "id": "132",
      "metadata": {
        "id": "132"
      },
      "outputs": [],
      "source": [
        "nlcd_stats = \"nlcd_stats_pct.csv\"\n",
        "\n",
        "geemap.zonal_stats_by_group(\n",
        "    landcover,\n",
        "    states,\n",
        "    nlcd_stats,\n",
        "    stat_type=\"PERCENTAGE\",\n",
        "    denominator=1e6,\n",
        "    decimal_places=2,\n",
        ")"
      ]
    },
    {
      "cell_type": "code",
      "execution_count": null,
      "id": "133",
      "metadata": {
        "id": "133"
      },
      "outputs": [],
      "source": [
        "geemap.csv_to_df(nlcd_stats)"
      ]
    },
    {
      "cell_type": "markdown",
      "id": "134",
      "metadata": {
        "id": "134"
      },
      "source": [
        "#### Zonal statistics with two images"
      ]
    },
    {
      "cell_type": "markdown",
      "id": "135",
      "metadata": {
        "id": "135"
      },
      "source": [
        "The zonal statistics by zone algorithm is similar to the zonal statistics by group algorithm, but it takes an image as the zone input instead of a feature collection."
      ]
    },
    {
      "cell_type": "code",
      "execution_count": null,
      "id": "136",
      "metadata": {
        "id": "136"
      },
      "outputs": [],
      "source": [
        "m = geemap.Map(center=[40, -100], zoom=4)\n",
        "dem = ee.Image(\"USGS/3DEP/10m\")\n",
        "vis = {\"min\": 0, \"max\": 4000, \"palette\": \"terrain\"}\n",
        "m.add_layer(dem, vis, \"DEM\")\n",
        "m"
      ]
    },
    {
      "cell_type": "code",
      "execution_count": null,
      "id": "137",
      "metadata": {
        "id": "137"
      },
      "outputs": [],
      "source": [
        "landcover = ee.Image(\"USGS/NLCD_RELEASES/2021_REL/NLCD/2021\").select(\"landcover\")\n",
        "m.add_layer(landcover, {}, \"NLCD 2021\")\n",
        "m.add_legend(title=\"NLCD Land Cover Classification\", builtin_legend=\"NLCD\")"
      ]
    },
    {
      "cell_type": "markdown",
      "id": "138",
      "metadata": {
        "id": "138"
      },
      "source": [
        "Computer the mean elevation of each land cover type."
      ]
    },
    {
      "cell_type": "code",
      "execution_count": null,
      "id": "139",
      "metadata": {
        "id": "139"
      },
      "outputs": [],
      "source": [
        "stats = geemap.image_stats_by_zone(dem, landcover, reducer=\"MEAN\")\n",
        "stats"
      ]
    },
    {
      "cell_type": "code",
      "execution_count": null,
      "id": "140",
      "metadata": {
        "id": "140"
      },
      "outputs": [],
      "source": [
        "stats.to_csv(\"mean.csv\", index=False)"
      ]
    },
    {
      "cell_type": "markdown",
      "id": "141",
      "metadata": {
        "id": "141"
      },
      "source": [
        "Compute the standard deviation of each land cover type."
      ]
    },
    {
      "cell_type": "code",
      "execution_count": null,
      "id": "142",
      "metadata": {
        "id": "142"
      },
      "outputs": [],
      "source": [
        "geemap.image_stats_by_zone(dem, landcover, out_csv=\"std.csv\", reducer=\"STD\")"
      ]
    },
    {
      "cell_type": "code",
      "execution_count": null,
      "id": "143",
      "metadata": {
        "id": "143"
      },
      "outputs": [],
      "source": [
        "geemap.csv_to_df(\"std.csv\")"
      ]
    },
    {
      "cell_type": "markdown",
      "id": "144",
      "metadata": {
        "id": "144"
      },
      "source": [
        "### Exercise 3 - Zonal statistics\n",
        "\n",
        "Find out which state has the highest mean temperature on in the United States on June 28, 2023. Relevant Earth Engine assets:\n",
        "\n",
        "-   [ee.FeatureCollection(\"TIGER/2018/States\")](https://developers.google.com/earth-engine/datasets/catalog/TIGER_2018_States)\n",
        "-   [ee.ImageCollection(\"NOAA/GFS0P25\")](https://developers.google.com/earth-engine/datasets/catalog/NOAA_GFS0P25)\n",
        "\n",
        "![](https://i.imgur.com/GZCHHz3.png)"
      ]
    },
    {
      "cell_type": "code",
      "execution_count": null,
      "id": "145",
      "metadata": {
        "id": "145"
      },
      "outputs": [],
      "source": []
    },
    {
      "cell_type": "markdown",
      "id": "146",
      "metadata": {
        "id": "146"
      },
      "source": [
        "### Coordinate grids and fishnets\n",
        "\n",
        "#### Creating coordinate grids\n",
        "\n",
        "Create a latitudinal grid with a 5-degree interval."
      ]
    },
    {
      "cell_type": "code",
      "execution_count": null,
      "id": "147",
      "metadata": {
        "id": "147"
      },
      "outputs": [],
      "source": [
        "lat_grid = geemap.latitude_grid(step=5.0, west=-180, east=180, south=-85, north=85)"
      ]
    },
    {
      "cell_type": "code",
      "execution_count": null,
      "id": "148",
      "metadata": {
        "id": "148"
      },
      "outputs": [],
      "source": [
        "m = geemap.Map()\n",
        "style = {\"fillColor\": \"00000000\"}\n",
        "m.add_layer(lat_grid.style(**style), {}, \"Latitude Grid\")\n",
        "m"
      ]
    },
    {
      "cell_type": "code",
      "execution_count": null,
      "id": "149",
      "metadata": {
        "id": "149"
      },
      "outputs": [],
      "source": [
        "df = geemap.ee_to_df(lat_grid)\n",
        "df.head()"
      ]
    },
    {
      "cell_type": "markdown",
      "id": "150",
      "metadata": {
        "id": "150"
      },
      "source": [
        "Create a longitudinal grid with a 5-degree interval."
      ]
    },
    {
      "cell_type": "code",
      "execution_count": null,
      "id": "151",
      "metadata": {
        "id": "151"
      },
      "outputs": [],
      "source": [
        "lon_grid = geemap.longitude_grid(step=5.0, west=-180, east=180, south=-85, north=85)"
      ]
    },
    {
      "cell_type": "code",
      "execution_count": null,
      "id": "152",
      "metadata": {
        "id": "152"
      },
      "outputs": [],
      "source": [
        "m = geemap.Map()\n",
        "style = {\"fillColor\": \"00000000\"}\n",
        "m.add_layer(lon_grid.style(**style), {}, \"Longitude Grid\")\n",
        "m"
      ]
    },
    {
      "cell_type": "markdown",
      "id": "153",
      "metadata": {
        "id": "153"
      },
      "source": [
        "Create a rectangular grid with a 10-degree interval."
      ]
    },
    {
      "cell_type": "code",
      "execution_count": null,
      "id": "154",
      "metadata": {
        "id": "154"
      },
      "outputs": [],
      "source": [
        "grid = geemap.latlon_grid(\n",
        "    lat_step=10, lon_step=10, west=-180, east=180, south=-85, north=85\n",
        ")"
      ]
    },
    {
      "cell_type": "code",
      "execution_count": null,
      "id": "155",
      "metadata": {
        "id": "155"
      },
      "outputs": [],
      "source": [
        "m = geemap.Map()\n",
        "style = {\"fillColor\": \"00000000\"}\n",
        "m.add_layer(grid.style(**style), {}, \"Coordinate Grid\")\n",
        "m"
      ]
    },
    {
      "cell_type": "markdown",
      "id": "156",
      "metadata": {
        "id": "156"
      },
      "source": [
        "#### Creating fishnets\n",
        "\n",
        "Create a fishnet based on an Earth Engine geometry."
      ]
    },
    {
      "cell_type": "code",
      "execution_count": null,
      "id": "157",
      "metadata": {
        "id": "157"
      },
      "outputs": [],
      "source": [
        "m = geemap.Map()\n",
        "m"
      ]
    },
    {
      "cell_type": "markdown",
      "id": "158",
      "metadata": {
        "id": "158"
      },
      "source": [
        "Use the drawing tools to draw a polygon on the map above. If no polygon is drawn, the default polygon will be used."
      ]
    },
    {
      "cell_type": "code",
      "execution_count": null,
      "id": "159",
      "metadata": {
        "id": "159"
      },
      "outputs": [],
      "source": [
        "roi = m.user_roi\n",
        "\n",
        "if roi is None:\n",
        "    roi = ee.Geometry.BBox(-112.8089, 33.7306, -88.5951, 46.6244)\n",
        "    m.add_layer(roi, {}, \"ROI\")\n",
        "\n",
        "m.center_object(roi)"
      ]
    },
    {
      "cell_type": "markdown",
      "id": "160",
      "metadata": {
        "id": "160"
      },
      "source": [
        "Create a fishnet based on a user-drawn polygon with a 2-degree interval."
      ]
    },
    {
      "cell_type": "code",
      "execution_count": null,
      "id": "161",
      "metadata": {
        "id": "161"
      },
      "outputs": [],
      "source": [
        "fishnet = geemap.fishnet(roi, h_interval=2.0, v_interval=2.0, delta=1)\n",
        "style = {\"color\": \"blue\", \"fillColor\": \"00000000\"}\n",
        "m.add_layer(fishnet.style(**style), {}, \"Fishnet\")"
      ]
    },
    {
      "cell_type": "markdown",
      "id": "162",
      "metadata": {
        "id": "162"
      },
      "source": [
        "Create a new map."
      ]
    },
    {
      "cell_type": "code",
      "execution_count": null,
      "id": "163",
      "metadata": {
        "id": "163"
      },
      "outputs": [],
      "source": [
        "m = geemap.Map()\n",
        "m"
      ]
    },
    {
      "cell_type": "markdown",
      "id": "164",
      "metadata": {
        "id": "164"
      },
      "source": [
        "Draw a polygon on the map."
      ]
    },
    {
      "cell_type": "code",
      "execution_count": null,
      "id": "165",
      "metadata": {
        "id": "165"
      },
      "outputs": [],
      "source": [
        "roi = m.user_roi\n",
        "\n",
        "if roi is None:\n",
        "    roi = ee.Geometry.Polygon(\n",
        "        [\n",
        "            [\n",
        "                [-64.602356, -1.127399],\n",
        "                [-68.821106, -12.625598],\n",
        "                [-60.647278, -22.498601],\n",
        "                [-47.815247, -21.111406],\n",
        "                [-43.860168, -8.913564],\n",
        "                [-54.582825, -0.775886],\n",
        "                [-60.823059, 0.454555],\n",
        "                [-64.602356, -1.127399],\n",
        "            ]\n",
        "        ]\n",
        "    )\n",
        "    m.add_layer(roi, {}, \"ROI\")\n",
        "\n",
        "m.center_object(roi)\n",
        "m"
      ]
    },
    {
      "cell_type": "markdown",
      "id": "166",
      "metadata": {
        "id": "166"
      },
      "source": [
        "Create a fishnet based on a user-drawn polygon with specified number of rows and columns."
      ]
    },
    {
      "cell_type": "code",
      "execution_count": null,
      "id": "167",
      "metadata": {
        "id": "167"
      },
      "outputs": [],
      "source": [
        "fishnet = geemap.fishnet(roi, rows=6, cols=8, delta=1)\n",
        "style = {\"color\": \"blue\", \"fillColor\": \"00000000\"}\n",
        "m.add_layer(fishnet.style(**style), {}, \"Fishnet\")"
      ]
    },
    {
      "cell_type": "markdown",
      "id": "168",
      "metadata": {
        "id": "168"
      },
      "source": [
        "### Land use and land cover change analysis\n",
        "\n",
        "#### Forest cover mapping\n",
        "\n",
        "We will use the [Hansen Global Forest Change v1.10 (2000-2022) dataset](https://developers.google.com/earth-engine/datasets/catalog/UMD_hansen_global_forest_change_2022_v1_10)."
      ]
    },
    {
      "cell_type": "code",
      "execution_count": null,
      "id": "169",
      "metadata": {
        "id": "169"
      },
      "outputs": [],
      "source": [
        "dataset = ee.Image(\"UMD/hansen/global_forest_change_2022_v1_10\")\n",
        "dataset.bandNames()"
      ]
    },
    {
      "cell_type": "markdown",
      "id": "170",
      "metadata": {
        "id": "170"
      },
      "source": [
        "Select the imagery for 2000."
      ]
    },
    {
      "cell_type": "code",
      "execution_count": null,
      "id": "171",
      "metadata": {
        "id": "171"
      },
      "outputs": [],
      "source": [
        "m = geemap.Map()\n",
        "first_bands = [\"first_b50\", \"first_b40\", \"first_b30\"]\n",
        "first_image = dataset.select(first_bands)\n",
        "m.add_layer(first_image, {\"bands\": first_bands, \"gamma\": 1.5}, \"Landsat 2000\")"
      ]
    },
    {
      "cell_type": "markdown",
      "id": "172",
      "metadata": {
        "id": "172"
      },
      "source": [
        "Select the imagery for 2022."
      ]
    },
    {
      "cell_type": "code",
      "execution_count": null,
      "id": "173",
      "metadata": {
        "id": "173"
      },
      "outputs": [],
      "source": [
        "last_bands = [\"last_b50\", \"last_b40\", \"last_b30\"]\n",
        "last_image = dataset.select(last_bands)\n",
        "m.add_layer(last_image, {\"bands\": last_bands, \"gamma\": 1.5}, \"Landsat 2022\")"
      ]
    },
    {
      "cell_type": "markdown",
      "id": "174",
      "metadata": {
        "id": "174"
      },
      "source": [
        "Select the tree cover imagery for 2000."
      ]
    },
    {
      "cell_type": "code",
      "execution_count": null,
      "id": "175",
      "metadata": {
        "id": "175"
      },
      "outputs": [],
      "source": [
        "treecover = dataset.select([\"treecover2000\"])\n",
        "treeCoverVisParam = {\"min\": 0, \"max\": 100, \"palette\": [\"black\", \"green\"]}\n",
        "name = \"Tree cover (%)\"\n",
        "m.add_layer(treecover, treeCoverVisParam, name)\n",
        "m.add_colorbar(treeCoverVisParam, label=name, layer_name=name)\n",
        "m.add(\"layer_manager\")\n",
        "m"
      ]
    },
    {
      "cell_type": "markdown",
      "id": "176",
      "metadata": {
        "id": "176"
      },
      "source": [
        "Extract tree cover 2000 by using the threshold of 10%."
      ]
    },
    {
      "cell_type": "code",
      "execution_count": null,
      "id": "177",
      "metadata": {
        "id": "177"
      },
      "outputs": [],
      "source": [
        "threshold = 10\n",
        "treecover_bin = treecover.gte(threshold).selfMask()\n",
        "treeVisParam = {\"palette\": [\"green\"]}\n",
        "m.add_layer(treecover_bin, treeVisParam, \"Tree cover bin\")"
      ]
    },
    {
      "cell_type": "markdown",
      "id": "178",
      "metadata": {
        "id": "178"
      },
      "source": [
        "#### Forest loss and gain mapping\n",
        "\n",
        "Visualize forest loss."
      ]
    },
    {
      "cell_type": "code",
      "execution_count": null,
      "id": "179",
      "metadata": {
        "id": "179"
      },
      "outputs": [],
      "source": [
        "m = geemap.Map()\n",
        "m.add_basemap(\"Esri.WorldImagery\")\n",
        "treeloss_year = dataset.select([\"lossyear\"])\n",
        "treeLossVisParam = {\"min\": 0, \"max\": 22, \"palette\": [\"yellow\", \"red\"]}\n",
        "layer_name = \"Tree loss year\"\n",
        "m.add_layer(treeloss_year, treeLossVisParam, layer_name)\n",
        "m.add_colorbar(treeLossVisParam, label=layer_name, layer_name=layer_name)\n",
        "m.add(\"layer_manager\")\n",
        "m"
      ]
    },
    {
      "cell_type": "markdown",
      "id": "180",
      "metadata": {
        "id": "180"
      },
      "source": [
        "Compare forest loss and gain."
      ]
    },
    {
      "cell_type": "code",
      "execution_count": null,
      "id": "181",
      "metadata": {
        "id": "181"
      },
      "outputs": [],
      "source": [
        "m = geemap.Map()\n",
        "m.add_basemap(\"Esri.WorldImagery\")\n",
        "treeloss = dataset.select([\"loss\"]).selfMask()\n",
        "treegain = dataset.select([\"gain\"]).selfMask()\n",
        "m.add_layer(treeloss, {\"palette\": \"red\"}, \"Tree loss\")\n",
        "m.add_layer(treegain, {\"palette\": \"yellow\"}, \"Tree gain\")\n",
        "m.add(\"layer_manager\")\n",
        "m"
      ]
    },
    {
      "cell_type": "markdown",
      "id": "182",
      "metadata": {
        "id": "182"
      },
      "source": [
        "#### Zonal statistics by country\n",
        "\n",
        "Compute zonal statistics to find out which country has the largest forest area in 2000.\n",
        "\n",
        "Add a country boundary layer to the map."
      ]
    },
    {
      "cell_type": "code",
      "execution_count": null,
      "id": "183",
      "metadata": {
        "id": "183"
      },
      "outputs": [],
      "source": [
        "m = geemap.Map()\n",
        "countries = ee.FeatureCollection(geemap.examples.get_ee_path(\"countries\"))\n",
        "style = {\"color\": \"#000000ff\", \"fillColor\": \"#00000000\"}\n",
        "m.add_layer(countries.style(**style), {}, \"Countries\")\n",
        "m"
      ]
    },
    {
      "cell_type": "markdown",
      "id": "184",
      "metadata": {
        "id": "184"
      },
      "source": [
        "Compute zonal statistics by country."
      ]
    },
    {
      "cell_type": "code",
      "execution_count": null,
      "id": "185",
      "metadata": {
        "id": "185"
      },
      "outputs": [],
      "source": [
        "geemap.zonal_stats(\n",
        "    treecover_bin,\n",
        "    countries,\n",
        "    \"forest_cover.csv\",\n",
        "    stat_type=\"SUM\",\n",
        "    denominator=1e6,\n",
        "    scale=1000,\n",
        ")"
      ]
    },
    {
      "cell_type": "markdown",
      "id": "186",
      "metadata": {
        "id": "186"
      },
      "source": [
        "Create a pie chart to visualize the forest area by country."
      ]
    },
    {
      "cell_type": "code",
      "execution_count": null,
      "id": "187",
      "metadata": {
        "id": "187"
      },
      "outputs": [],
      "source": [
        "geemap.pie_chart(\n",
        "    \"forest_cover.csv\", names=\"NAME\", values=\"sum\", max_rows=20, height=400\n",
        ")"
      ]
    },
    {
      "cell_type": "markdown",
      "id": "188",
      "metadata": {
        "id": "188"
      },
      "source": [
        "Create a bar chart to visualize the forest area by country."
      ]
    },
    {
      "cell_type": "code",
      "execution_count": null,
      "id": "189",
      "metadata": {
        "id": "189"
      },
      "outputs": [],
      "source": [
        "geemap.bar_chart(\n",
        "    \"forest_cover.csv\",\n",
        "    x=\"NAME\",\n",
        "    y=\"sum\",\n",
        "    max_rows=20,\n",
        "    x_label=\"Country\",\n",
        "    y_label=\"Forest area (km2)\",\n",
        ")"
      ]
    },
    {
      "cell_type": "markdown",
      "id": "190",
      "metadata": {
        "id": "190"
      },
      "source": [
        "Calculate the forest loss area by country."
      ]
    },
    {
      "cell_type": "code",
      "execution_count": null,
      "id": "191",
      "metadata": {
        "id": "191"
      },
      "outputs": [],
      "source": [
        "geemap.zonal_stats(\n",
        "    treeloss.gt(0),\n",
        "    countries,\n",
        "    \"treeloss.csv\",\n",
        "    stat_type=\"SUM\",\n",
        "    denominator=1e6,\n",
        "    scale=1000,\n",
        ")"
      ]
    },
    {
      "cell_type": "markdown",
      "id": "192",
      "metadata": {
        "id": "192"
      },
      "source": [
        "Create a bar chart to visualize the forest loss area by country."
      ]
    },
    {
      "cell_type": "code",
      "execution_count": null,
      "id": "193",
      "metadata": {
        "id": "193"
      },
      "outputs": [],
      "source": [
        "geemap.pie_chart(\"treeloss.csv\", names=\"NAME\", values=\"sum\", max_rows=20, height=600)"
      ]
    },
    {
      "cell_type": "markdown",
      "id": "194",
      "metadata": {
        "id": "194"
      },
      "source": [
        "Create a bar chart to visualize the forest loss area by country."
      ]
    },
    {
      "cell_type": "code",
      "execution_count": null,
      "id": "195",
      "metadata": {
        "id": "195"
      },
      "outputs": [],
      "source": [
        "geemap.bar_chart(\n",
        "    \"treeloss.csv\",\n",
        "    x=\"NAME\",\n",
        "    y=\"sum\",\n",
        "    max_rows=20,\n",
        "    x_label=\"Country\",\n",
        "    y_label=\"Forest loss area (km2)\",\n",
        ")"
      ]
    },
    {
      "cell_type": "markdown",
      "id": "196",
      "metadata": {
        "id": "196"
      },
      "source": [
        "### Exercise 4 - Analyzing forest cover gain and loss\n",
        "\n",
        "Find out which US state has the largest forest gain and loss between 2000 and 2022. Create pie charts and bar charts to show the results. Relevant Earth Engine assets:\n",
        "\n",
        "-   [ee.FeatureCollection(\"TIGER/2018/States\")](https://developers.google.com/earth-engine/datasets/catalog/TIGER_2018_States)\n",
        "-   [ee.Image(\"UMD/hansen/global_forest_change_2022_v1_10\")](https://developers.google.com/earth-engine/datasets/catalog/UMD_hansen_global_forest_change_2022_v1_10)\n",
        "\n",
        "![](https://i.imgur.com/NQ4UUnj.png)"
      ]
    },
    {
      "cell_type": "code",
      "execution_count": null,
      "id": "197",
      "metadata": {
        "id": "197"
      },
      "outputs": [],
      "source": []
    },
    {
      "cell_type": "markdown",
      "id": "198",
      "metadata": {
        "id": "198"
      },
      "source": [
        "## Break 2 (10 mins)\n",
        "\n",
        "## Exporting Earth Engine data (30 mins)\n",
        "\n",
        "### Exporting images\n",
        "\n",
        "Add a Landsat image to the map."
      ]
    },
    {
      "cell_type": "code",
      "execution_count": null,
      "id": "199",
      "metadata": {
        "id": "199"
      },
      "outputs": [],
      "source": [
        "m = geemap.Map()\n",
        "\n",
        "image = ee.Image(\"LANDSAT/LC08/C02/T1_TOA/LC08_044034_20140318\").select(\n",
        "    [\"B5\", \"B4\", \"B3\"]\n",
        ")\n",
        "\n",
        "vis_params = {\"min\": 0, \"max\": 0.5, \"gamma\": [0.95, 1.1, 1]}\n",
        "\n",
        "m.center_object(image)\n",
        "m.add_layer(image, vis_params, \"Landsat\")\n",
        "m"
      ]
    },
    {
      "cell_type": "markdown",
      "id": "200",
      "metadata": {
        "id": "200"
      },
      "source": [
        "Add a rectangle to the map."
      ]
    },
    {
      "cell_type": "code",
      "execution_count": null,
      "id": "201",
      "metadata": {
        "id": "201"
      },
      "outputs": [],
      "source": [
        "region = ee.Geometry.BBox(-122.5955, 37.5339, -122.0982, 37.8252)\n",
        "fc = ee.FeatureCollection(region)\n",
        "style = {\"color\": \"ffff00ff\", \"fillColor\": \"00000000\"}\n",
        "m.add_layer(fc.style(**style), {}, \"ROI\")"
      ]
    },
    {
      "cell_type": "markdown",
      "id": "202",
      "metadata": {
        "id": "202"
      },
      "source": [
        "To local drive"
      ]
    },
    {
      "cell_type": "code",
      "execution_count": null,
      "id": "203",
      "metadata": {
        "id": "203"
      },
      "outputs": [],
      "source": [
        "geemap.ee_export_image(image, filename=\"landsat.tif\", scale=30, region=region)"
      ]
    },
    {
      "cell_type": "markdown",
      "id": "204",
      "metadata": {
        "id": "204"
      },
      "source": [
        "Check image projection."
      ]
    },
    {
      "cell_type": "code",
      "execution_count": null,
      "id": "205",
      "metadata": {
        "id": "205"
      },
      "outputs": [],
      "source": [
        "projection = image.select(0).projection().getInfo()\n",
        "projection"
      ]
    },
    {
      "cell_type": "code",
      "execution_count": null,
      "id": "206",
      "metadata": {
        "id": "206"
      },
      "outputs": [],
      "source": [
        "crs = projection[\"crs\"]\n",
        "crs_transform = projection[\"transform\"]"
      ]
    },
    {
      "cell_type": "markdown",
      "id": "207",
      "metadata": {
        "id": "207"
      },
      "source": [
        "Specify region, crs, and crs_transform."
      ]
    },
    {
      "cell_type": "code",
      "execution_count": null,
      "id": "208",
      "metadata": {
        "id": "208"
      },
      "outputs": [],
      "source": [
        "geemap.ee_export_image(\n",
        "    image,\n",
        "    filename=\"landsat_crs.tif\",\n",
        "    crs=crs,\n",
        "    crs_transform=crs_transform,\n",
        "    region=region,\n",
        ")"
      ]
    },
    {
      "cell_type": "markdown",
      "id": "209",
      "metadata": {
        "id": "209"
      },
      "source": [
        "To Google Drive"
      ]
    },
    {
      "cell_type": "code",
      "execution_count": null,
      "id": "210",
      "metadata": {
        "id": "210"
      },
      "outputs": [],
      "source": [
        "geemap.ee_export_image_to_drive(\n",
        "    image, description=\"landsat\", folder=\"export\", region=region, scale=30\n",
        ")"
      ]
    },
    {
      "cell_type": "markdown",
      "id": "211",
      "metadata": {
        "id": "211"
      },
      "source": [
        "### Exporting image collections"
      ]
    },
    {
      "cell_type": "code",
      "execution_count": null,
      "id": "212",
      "metadata": {
        "id": "212"
      },
      "outputs": [],
      "source": [
        "point = ee.Geometry.Point(-99.2222, 46.7816)\n",
        "collection = (\n",
        "    ee.ImageCollection(\"USDA/NAIP/DOQQ\")\n",
        "    .filterBounds(point)\n",
        "    .filterDate(\"2008-01-01\", \"2018-01-01\")\n",
        "    .filter(ee.Filter.listContains(\"system:band_names\", \"N\"))\n",
        ")"
      ]
    },
    {
      "cell_type": "code",
      "execution_count": null,
      "id": "213",
      "metadata": {
        "id": "213"
      },
      "outputs": [],
      "source": [
        "collection.aggregate_array(\"system:index\")"
      ]
    },
    {
      "cell_type": "markdown",
      "id": "214",
      "metadata": {
        "id": "214"
      },
      "source": [
        "To local drive"
      ]
    },
    {
      "cell_type": "code",
      "execution_count": null,
      "id": "215",
      "metadata": {
        "id": "215"
      },
      "outputs": [],
      "source": [
        "geemap.ee_export_image_collection(collection, out_dir=\".\", scale=10)"
      ]
    },
    {
      "cell_type": "markdown",
      "id": "216",
      "metadata": {
        "id": "216"
      },
      "source": [
        "To Google Drive"
      ]
    },
    {
      "cell_type": "code",
      "execution_count": null,
      "id": "217",
      "metadata": {
        "id": "217"
      },
      "outputs": [],
      "source": [
        "geemap.ee_export_image_collection_to_drive(collection, folder=\"export\", scale=10)"
      ]
    },
    {
      "cell_type": "markdown",
      "id": "218",
      "metadata": {
        "id": "218"
      },
      "source": [
        "### Exporting feature collections"
      ]
    },
    {
      "cell_type": "code",
      "execution_count": null,
      "id": "219",
      "metadata": {
        "id": "219"
      },
      "outputs": [],
      "source": [
        "m = geemap.Map()\n",
        "fc = ee.FeatureCollection(\"USDOS/LSIB_SIMPLE/2017\").filter(\n",
        "    ee.Filter.eq(\"country_na\", \"Germany\")\n",
        ")\n",
        "m.add_layer(fc, {}, \"Germany\")\n",
        "m.center_object(fc)\n",
        "m"
      ]
    },
    {
      "cell_type": "markdown",
      "id": "220",
      "metadata": {
        "id": "220"
      },
      "source": [
        "To local drive"
      ]
    },
    {
      "cell_type": "code",
      "execution_count": null,
      "id": "221",
      "metadata": {
        "id": "221"
      },
      "outputs": [],
      "source": [
        "geemap.ee_to_shp(fc, filename=\"Germany.shp\", selectors=None)"
      ]
    },
    {
      "cell_type": "code",
      "execution_count": null,
      "id": "222",
      "metadata": {
        "id": "222"
      },
      "outputs": [],
      "source": [
        "geemap.ee_export_vector(fc, filename=\"Germany2.shp\")"
      ]
    },
    {
      "cell_type": "code",
      "execution_count": null,
      "id": "223",
      "metadata": {
        "id": "223"
      },
      "outputs": [],
      "source": [
        "geemap.ee_to_geojson(fc, filename=\"Germany.geojson\")"
      ]
    },
    {
      "cell_type": "code",
      "execution_count": null,
      "id": "224",
      "metadata": {
        "id": "224"
      },
      "outputs": [],
      "source": [
        "geemap.ee_to_csv(fc, filename=\"Germany.csv\")"
      ]
    },
    {
      "cell_type": "code",
      "execution_count": null,
      "id": "225",
      "metadata": {
        "id": "225"
      },
      "outputs": [],
      "source": [
        "gdf = geemap.ee_to_gdf(fc)\n",
        "gdf"
      ]
    },
    {
      "cell_type": "code",
      "execution_count": null,
      "id": "226",
      "metadata": {
        "id": "226"
      },
      "outputs": [],
      "source": [
        "df = geemap.ee_to_df(fc)\n",
        "df"
      ]
    },
    {
      "cell_type": "markdown",
      "id": "227",
      "metadata": {
        "id": "227"
      },
      "source": [
        "To Google Drive"
      ]
    },
    {
      "cell_type": "code",
      "execution_count": null,
      "id": "228",
      "metadata": {
        "id": "228"
      },
      "outputs": [],
      "source": [
        "geemap.ee_export_vector_to_drive(\n",
        "    fc, description=\"germany\", fileFormat=\"SHP\", folder=\"export\"\n",
        ")"
      ]
    },
    {
      "cell_type": "markdown",
      "id": "229",
      "metadata": {
        "id": "229"
      },
      "source": [
        "### Exercise 5 - Exporting images by a fishnet\n",
        "\n",
        "Create a fishnet with a 4-degree interval based on the extent of `[-112.5439, 34.0891, -85.0342, 49.6858]`. Use the fishnet to download the Landsat 7 image tiles by the fishnet using the `geemap.download_ee_image_tiles()` and `geemap.download_ee_image_tiles_parallel()` functions. Relevant Earth Engine assets:\n",
        "\n",
        "-   `ee.Image('LANDSAT/LE7_TOA_5YEAR/1999_2003')`\n",
        "\n",
        "![](https://i.imgur.com/L1IH3fq.png)"
      ]
    },
    {
      "cell_type": "code",
      "execution_count": null,
      "id": "230",
      "metadata": {
        "id": "230"
      },
      "outputs": [],
      "source": [
        "m = geemap.Map(center=[40, -100], zoom=4)\n",
        "image = ee.Image(\"LANDSAT/LE7_TOA_5YEAR/1999_2003\").select([\"B4\", \"B3\", \"B2\"])\n",
        "m.add_layer(image, {\"min\": 20, \"max\": 200, \"gamma\": 2.0}, \"Landsat\")\n",
        "region = ee.Geometry.BBox(-112.5439, 34.0891, -85.0342, 49.6858)\n",
        "m.add_layer(region, {}, \"ROI\")\n",
        "m.center_object(region)\n",
        "m"
      ]
    },
    {
      "cell_type": "code",
      "execution_count": null,
      "id": "231",
      "metadata": {
        "id": "231"
      },
      "outputs": [],
      "source": []
    },
    {
      "cell_type": "markdown",
      "id": "232",
      "metadata": {
        "id": "232"
      },
      "source": [
        "## Creating satellite timelapse animations (30 mins)\n",
        "\n",
        "### Creating satellite timeseries\n",
        "\n",
        "Use the [Harmonized Sentinel-2 MSI](https://developers.google.com/earth-engine/datasets/catalog/COPERNICUS_S2_HARMONIZED) dataset to create a timeseries for a given location."
      ]
    },
    {
      "cell_type": "code",
      "execution_count": null,
      "id": "233",
      "metadata": {
        "id": "233"
      },
      "outputs": [],
      "source": [
        "collection = ee.ImageCollection(\"COPERNICUS/S2_HARMONIZED\").filterMetadata(\n",
        "    \"CLOUDY_PIXEL_PERCENTAGE\", \"less_than\", 10\n",
        ")"
      ]
    },
    {
      "cell_type": "markdown",
      "id": "234",
      "metadata": {
        "id": "234"
      },
      "source": [
        "Specify the location of interest and date range."
      ]
    },
    {
      "cell_type": "code",
      "execution_count": null,
      "id": "235",
      "metadata": {
        "id": "235"
      },
      "outputs": [],
      "source": [
        "start_date = \"2016-01-01\"\n",
        "end_date = \"2022-12-31\"\n",
        "region = ee.Geometry.BBox(-122.5549, 37.6968, -122.3446, 37.8111)"
      ]
    },
    {
      "cell_type": "markdown",
      "id": "236",
      "metadata": {
        "id": "236"
      },
      "source": [
        "Create an annual composite."
      ]
    },
    {
      "cell_type": "code",
      "execution_count": null,
      "id": "237",
      "metadata": {
        "id": "237"
      },
      "outputs": [],
      "source": [
        "images = geemap.create_timeseries(\n",
        "    collection, start_date, end_date, region, frequency=\"year\", reducer=\"median\"\n",
        ")\n",
        "images"
      ]
    },
    {
      "cell_type": "markdown",
      "id": "238",
      "metadata": {
        "id": "238"
      },
      "source": [
        "Display the timeseries."
      ]
    },
    {
      "cell_type": "code",
      "execution_count": null,
      "id": "239",
      "metadata": {
        "id": "239"
      },
      "outputs": [],
      "source": [
        "m = geemap.Map()\n",
        "vis_params = {\"min\": 0, \"max\": 4000, \"bands\": [\"B8\", \"B4\", \"B3\"]}\n",
        "labels = [str(y) for y in range(2016, 2023)]\n",
        "m.add_layer(images, vis_params, \"Sentinel-2\", False)\n",
        "m.add_time_slider(images, vis_params, time_interval=2, labels=labels)\n",
        "m.center_object(region)\n",
        "m"
      ]
    },
    {
      "cell_type": "markdown",
      "id": "240",
      "metadata": {
        "id": "240"
      },
      "source": [
        "### Creating satellite timelapse animations\n",
        "\n",
        "#### NAIP timelapse"
      ]
    },
    {
      "cell_type": "code",
      "execution_count": null,
      "id": "241",
      "metadata": {
        "id": "241"
      },
      "outputs": [],
      "source": [
        "m = geemap.Map(center=[40, -100], zoom=4)\n",
        "m"
      ]
    },
    {
      "cell_type": "code",
      "execution_count": null,
      "id": "242",
      "metadata": {
        "id": "242"
      },
      "outputs": [],
      "source": [
        "roi = m.user_roi\n",
        "if roi is None:\n",
        "    roi = ee.Geometry.BBox(-99.1019, 47.1274, -99.0334, 47.1562)\n",
        "    m.add_layer(roi, {}, \"ROI\")\n",
        "    m.center_object(roi)"
      ]
    },
    {
      "cell_type": "code",
      "execution_count": null,
      "id": "243",
      "metadata": {
        "id": "243"
      },
      "outputs": [],
      "source": [
        "collection = geemap.naip_timeseries(roi, start_year=2009, end_year=2022, RGBN=True)"
      ]
    },
    {
      "cell_type": "code",
      "execution_count": null,
      "id": "244",
      "metadata": {
        "id": "244"
      },
      "outputs": [],
      "source": [
        "years = geemap.image_dates(collection, date_format=\"YYYY\").getInfo()\n",
        "print(years)"
      ]
    },
    {
      "cell_type": "code",
      "execution_count": null,
      "id": "245",
      "metadata": {
        "id": "245"
      },
      "outputs": [],
      "source": [
        "size = len(years)\n",
        "images = collection.toList(size)\n",
        "for i in range(size):\n",
        "    image = ee.Image(images.get(i))\n",
        "    m.add_layer(image, {\"bands\": [\"N\", \"R\", \"G\"]}, years[i])\n",
        "m"
      ]
    },
    {
      "cell_type": "code",
      "execution_count": null,
      "id": "246",
      "metadata": {
        "id": "246"
      },
      "outputs": [],
      "source": [
        "timelapse = geemap.naip_timelapse(\n",
        "    roi,\n",
        "    out_gif=\"naip.gif\",\n",
        "    bands=[\"N\", \"R\", \"G\"],\n",
        "    frames_per_second=3,\n",
        "    title=\"NAIP Timelapse\",\n",
        ")\n",
        "geemap.show_image(timelapse)"
      ]
    },
    {
      "cell_type": "markdown",
      "id": "247",
      "metadata": {
        "id": "247"
      },
      "source": [
        "#### Landsat timelapse"
      ]
    },
    {
      "cell_type": "code",
      "execution_count": null,
      "id": "248",
      "metadata": {
        "id": "248"
      },
      "outputs": [],
      "source": [
        "m = geemap.Map()\n",
        "m"
      ]
    },
    {
      "cell_type": "markdown",
      "id": "249",
      "metadata": {
        "id": "249"
      },
      "source": [
        "Pan and zoom the map to an area of interest. Use the drawing tools to draw a rectangle on the map. If no rectangle is drawn, the default rectangle shown below will be used."
      ]
    },
    {
      "cell_type": "code",
      "execution_count": null,
      "id": "250",
      "metadata": {
        "id": "250"
      },
      "outputs": [],
      "source": [
        "roi = m.user_roi\n",
        "if roi is None:\n",
        "    roi = ee.Geometry.BBox(-74.7222, -8.5867, -74.1596, -8.2824)\n",
        "    m.add_layer(roi)\n",
        "    m.center_object(roi)"
      ]
    },
    {
      "cell_type": "code",
      "execution_count": null,
      "id": "251",
      "metadata": {
        "id": "251"
      },
      "outputs": [],
      "source": [
        "timelapse = geemap.landsat_timelapse(\n",
        "    roi,\n",
        "    out_gif=\"landsat.gif\",\n",
        "    start_year=1984,\n",
        "    end_year=2022,\n",
        "    start_date=\"01-01\",\n",
        "    end_date=\"12-31\",\n",
        "    bands=[\"SWIR1\", \"NIR\", \"Red\"],\n",
        "    frames_per_second=5,\n",
        "    title=\"Landsat Timelapse\",\n",
        "    progress_bar_color=\"blue\",\n",
        "    mp4=True,\n",
        ")\n",
        "geemap.show_image(timelapse)"
      ]
    },
    {
      "cell_type": "code",
      "execution_count": null,
      "id": "252",
      "metadata": {
        "id": "252"
      },
      "outputs": [],
      "source": [
        "m = geemap.Map()\n",
        "roi = ee.Geometry.BBox(-115.5541, 35.8044, -113.9035, 36.5581)\n",
        "m.add_layer(roi)\n",
        "m.center_object(roi)\n",
        "m"
      ]
    },
    {
      "cell_type": "code",
      "execution_count": null,
      "id": "253",
      "metadata": {
        "id": "253"
      },
      "outputs": [],
      "source": [
        "timelapse = geemap.landsat_timelapse(\n",
        "    roi,\n",
        "    out_gif=\"las_vegas.gif\",\n",
        "    start_year=1984,\n",
        "    end_year=2022,\n",
        "    bands=[\"NIR\", \"Red\", \"Green\"],\n",
        "    frames_per_second=5,\n",
        "    title=\"Las Vegas, NV\",\n",
        "    font_color=\"blue\",\n",
        ")\n",
        "geemap.show_image(timelapse)"
      ]
    },
    {
      "cell_type": "code",
      "execution_count": null,
      "id": "254",
      "metadata": {
        "id": "254"
      },
      "outputs": [],
      "source": [
        "m = geemap.Map()\n",
        "roi = ee.Geometry.BBox(113.8252, 22.1988, 114.0851, 22.3497)\n",
        "m.add_layer(roi)\n",
        "m.center_object(roi)\n",
        "m"
      ]
    },
    {
      "cell_type": "code",
      "execution_count": null,
      "id": "255",
      "metadata": {
        "id": "255"
      },
      "outputs": [],
      "source": [
        "timelapse = geemap.landsat_timelapse(\n",
        "    roi,\n",
        "    out_gif=\"hong_kong.gif\",\n",
        "    start_year=1990,\n",
        "    end_year=2022,\n",
        "    start_date=\"01-01\",\n",
        "    end_date=\"12-31\",\n",
        "    bands=[\"SWIR1\", \"NIR\", \"Red\"],\n",
        "    frames_per_second=3,\n",
        "    title=\"Hong Kong\",\n",
        ")\n",
        "geemap.show_image(timelapse)"
      ]
    },
    {
      "cell_type": "markdown",
      "id": "256",
      "metadata": {
        "id": "256"
      },
      "source": [
        "#### Sentinel-2 timelapse"
      ]
    },
    {
      "cell_type": "code",
      "execution_count": null,
      "id": "257",
      "metadata": {
        "id": "257"
      },
      "outputs": [],
      "source": [
        "m = geemap.Map()\n",
        "m"
      ]
    },
    {
      "cell_type": "markdown",
      "id": "258",
      "metadata": {
        "id": "258"
      },
      "source": [
        "Pan and zoom the map to an area of interest. Use the drawing tools to draw a rectangle on the map. If no rectangle is drawn, the default rectangle shown below will be used."
      ]
    },
    {
      "cell_type": "code",
      "execution_count": null,
      "id": "259",
      "metadata": {
        "id": "259"
      },
      "outputs": [],
      "source": [
        "roi = m.user_roi\n",
        "if roi is None:\n",
        "    roi = ee.Geometry.BBox(-74.7222, -8.5867, -74.1596, -8.2824)\n",
        "    m.add_layer(roi)\n",
        "    m.center_object(roi)"
      ]
    },
    {
      "cell_type": "code",
      "execution_count": null,
      "id": "260",
      "metadata": {
        "id": "260"
      },
      "outputs": [],
      "source": [
        "timelapse = geemap.sentinel2_timelapse(\n",
        "    roi,\n",
        "    out_gif=\"sentinel2.gif\",\n",
        "    start_year=2016,\n",
        "    end_year=2021,\n",
        "    start_date=\"01-01\",\n",
        "    end_date=\"12-31\",\n",
        "    frequency=\"year\",\n",
        "    bands=[\"SWIR1\", \"NIR\", \"Red\"],\n",
        "    frames_per_second=3,\n",
        "    title=\"Sentinel-2 Timelapse\",\n",
        ")\n",
        "geemap.show_image(timelapse)"
      ]
    },
    {
      "cell_type": "markdown",
      "id": "261",
      "metadata": {
        "id": "261"
      },
      "source": [
        "#### MODIS timelapse\n",
        "\n",
        "MODIS vegetation indices"
      ]
    },
    {
      "cell_type": "code",
      "execution_count": null,
      "id": "262",
      "metadata": {
        "id": "262"
      },
      "outputs": [],
      "source": [
        "m = geemap.Map()\n",
        "m"
      ]
    },
    {
      "cell_type": "code",
      "execution_count": null,
      "id": "263",
      "metadata": {
        "id": "263"
      },
      "outputs": [],
      "source": [
        "roi = m.user_roi\n",
        "if roi is None:\n",
        "    roi = ee.Geometry.BBox(-18.6983, -36.1630, 52.2293, 38.1446)\n",
        "    m.add_layer(roi)\n",
        "    m.center_object(roi)"
      ]
    },
    {
      "cell_type": "code",
      "execution_count": null,
      "id": "264",
      "metadata": {
        "id": "264"
      },
      "outputs": [],
      "source": [
        "timelapse = geemap.modis_ndvi_timelapse(\n",
        "    roi,\n",
        "    out_gif=\"ndvi.gif\",\n",
        "    data=\"Terra\",\n",
        "    band=\"NDVI\",\n",
        "    start_date=\"2000-01-01\",\n",
        "    end_date=\"2022-12-31\",\n",
        "    frames_per_second=3,\n",
        "    title=\"MODIS NDVI Timelapse\",\n",
        "    overlay_data=\"countries\",\n",
        ")\n",
        "geemap.show_image(timelapse)"
      ]
    },
    {
      "cell_type": "markdown",
      "id": "265",
      "metadata": {
        "id": "265"
      },
      "source": [
        "MODIS temperature"
      ]
    },
    {
      "cell_type": "code",
      "execution_count": null,
      "id": "266",
      "metadata": {
        "id": "266"
      },
      "outputs": [],
      "source": [
        "m = geemap.Map()\n",
        "m"
      ]
    },
    {
      "cell_type": "code",
      "execution_count": null,
      "id": "267",
      "metadata": {
        "id": "267"
      },
      "outputs": [],
      "source": [
        "roi = m.user_roi\n",
        "if roi is None:\n",
        "    roi = ee.Geometry.BBox(-171.21, -57.13, 177.53, 79.99)\n",
        "    m.add_layer(roi)\n",
        "    m.center_object(roi)"
      ]
    },
    {
      "cell_type": "code",
      "execution_count": null,
      "id": "268",
      "metadata": {
        "id": "268"
      },
      "outputs": [],
      "source": [
        "timelapse = geemap.modis_ocean_color_timelapse(\n",
        "    satellite=\"Aqua\",\n",
        "    start_date=\"2018-01-01\",\n",
        "    end_date=\"2020-12-31\",\n",
        "    roi=roi,\n",
        "    frequency=\"month\",\n",
        "    out_gif=\"temperature.gif\",\n",
        "    overlay_data=\"continents\",\n",
        "    overlay_color=\"yellow\",\n",
        "    overlay_opacity=0.5,\n",
        ")\n",
        "geemap.show_image(timelapse)"
      ]
    },
    {
      "cell_type": "markdown",
      "id": "269",
      "metadata": {
        "id": "269"
      },
      "source": [
        "#### GOES timelapse"
      ]
    },
    {
      "cell_type": "code",
      "execution_count": null,
      "id": "270",
      "metadata": {
        "id": "270"
      },
      "outputs": [],
      "source": [
        "roi = ee.Geometry.BBox(167.1898, -28.5757, 202.6258, -12.4411)\n",
        "start_date = \"2022-01-15T03:00:00\"\n",
        "end_date = \"2022-01-15T07:00:00\"\n",
        "data = \"GOES-17\"\n",
        "scan = \"full_disk\""
      ]
    },
    {
      "cell_type": "code",
      "execution_count": null,
      "id": "271",
      "metadata": {
        "id": "271"
      },
      "outputs": [],
      "source": [
        "timelapse = geemap.goes_timelapse(\n",
        "    roi, \"goes.gif\", start_date, end_date, data, scan, framesPerSecond=5\n",
        ")\n",
        "geemap.show_image(timelapse)"
      ]
    },
    {
      "cell_type": "code",
      "execution_count": null,
      "id": "272",
      "metadata": {
        "id": "272"
      },
      "outputs": [],
      "source": [
        "roi = ee.Geometry.BBox(-159.5954, 24.5178, -114.2438, 60.4088)\n",
        "start_date = \"2021-10-24T14:00:00\"\n",
        "end_date = \"2021-10-25T01:00:00\"\n",
        "data = \"GOES-17\"\n",
        "scan = \"full_disk\""
      ]
    },
    {
      "cell_type": "code",
      "execution_count": null,
      "id": "273",
      "metadata": {
        "id": "273"
      },
      "outputs": [],
      "source": [
        "timelapse = geemap.goes_timelapse(\n",
        "    roi, \"hurricane.gif\", start_date, end_date, data, scan, framesPerSecond=5\n",
        ")\n",
        "geemap.show_image(timelapse)"
      ]
    },
    {
      "cell_type": "code",
      "execution_count": null,
      "id": "274",
      "metadata": {
        "id": "274"
      },
      "outputs": [],
      "source": [
        "roi = ee.Geometry.BBox(-121.0034, 36.8488, -117.9052, 39.0490)\n",
        "start_date = \"2020-09-05T15:00:00\"\n",
        "end_date = \"2020-09-06T02:00:00\"\n",
        "data = \"GOES-17\"\n",
        "scan = \"full_disk\""
      ]
    },
    {
      "cell_type": "code",
      "execution_count": null,
      "id": "275",
      "metadata": {
        "id": "275"
      },
      "outputs": [],
      "source": [
        "timelapse = geemap.goes_fire_timelapse(\n",
        "    roi, \"fire.gif\", start_date, end_date, data, scan, framesPerSecond=5\n",
        ")\n",
        "geemap.show_image(timelapse)"
      ]
    },
    {
      "cell_type": "markdown",
      "id": "276",
      "metadata": {
        "id": "276"
      },
      "source": [
        "### Exercise 6 - Creating timelapse animations\n",
        "\n",
        "Use the geemap timelapse GUI to create a timelapse animation for any location of your choice. Share the timelapse on social media and use the hashtagd such as #EarthEngine and #geemap. See [this](https://i.imgur.com/YaCHvKC.gif) example.\n",
        "\n",
        "![](https://i.imgur.com/ohrXeFC.png)"
      ]
    },
    {
      "cell_type": "code",
      "execution_count": null,
      "id": "277",
      "metadata": {
        "id": "277"
      },
      "outputs": [],
      "source": [
        "m = geemap.Map()\n",
        "m.add_gui(\"timelapse\")\n",
        "m"
      ]
    },
    {
      "cell_type": "markdown",
      "id": "278",
      "metadata": {
        "id": "278"
      },
      "source": [
        "## Break 3 (10 mins)\n",
        "\n",
        "## Building interactive web apps (30 mins)\n",
        "\n",
        "This section is optional. We might not have enough time to cover this section.\n",
        "\n",
        "Follow the instructions [here](https://huggingface.co/spaces/giswqs/solara-geemap) to build an interactive Earth Engine web app with [Solara](https://github.com/widgetti/solara) and geemap. You need to [sign up](https://huggingface.co/join) for a free Hugging Face account to create the web app. It is free and easy to sign up.\n",
        "\n",
        "### Exercise 7 - Building an interactive web app for visualizing land cover change\n",
        "\n",
        "After following the instructions above, you should have a web app that looks like this:\n",
        "\n",
        "![](https://i.imgur.com/X3ZFyRr.png)\n",
        "\n",
        "The web app URL should look like this: https://giswqs-solara-geemap.hf.space/split-map."
      ]
    },
    {
      "cell_type": "code",
      "execution_count": null,
      "id": "279",
      "metadata": {
        "id": "279"
      },
      "outputs": [],
      "source": []
    }
  ],
  "metadata": {
    "colab": {
      "provenance": []
    },
    "kernelspec": {
      "display_name": "Python 3",
      "language": "python",
      "name": "python3"
    },
    "language_info": {
      "codemirror_mode": {
        "name": "ipython",
        "version": 3
      },
      "file_extension": ".py",
      "mimetype": "text/x-python",
      "name": "python",
      "nbconvert_exporter": "python",
      "pygments_lexer": "ipython3",
      "version": "3.11.8"
    },
    "widgets": {
      "application/vnd.jupyter.widget-state+json": {
        "008f20233fcd4dc3bdc397e63700e9cb": {
          "model_module": "@jupyter-widgets/controls",
          "model_module_version": "1.5.0",
          "model_name": "ButtonStyleModel",
          "state": {
            "_model_module": "@jupyter-widgets/controls",
            "_model_module_version": "1.5.0",
            "_model_name": "ButtonStyleModel",
            "_view_count": null,
            "_view_module": "@jupyter-widgets/base",
            "_view_module_version": "1.2.0",
            "_view_name": "StyleView",
            "button_color": null,
            "font_weight": ""
          }
        },
        "0130c3df0cb940f7ba6f1266de49ceba": {
          "model_module": "@jupyter-widgets/controls",
          "model_module_version": "1.5.0",
          "model_name": "GridBoxModel",
          "state": {
            "_dom_classes": [],
            "_model_module": "@jupyter-widgets/controls",
            "_model_module_version": "1.5.0",
            "_model_name": "GridBoxModel",
            "_view_count": null,
            "_view_module": "@jupyter-widgets/controls",
            "_view_module_version": "1.5.0",
            "_view_name": "GridBoxView",
            "box_style": "",
            "children": [
              "IPY_MODEL_8678ac0446044f4f87c064fe7f77e546",
              "IPY_MODEL_c801d3ebab4b43fd98f1d20d1b2c33d8",
              "IPY_MODEL_9217c5d25cd64d7db735f9c53ab6345a",
              "IPY_MODEL_46efd8d8d6914a979bd132d2500c8dc9",
              "IPY_MODEL_aa14b35dce3343fe8dc7d35c4643b13e",
              "IPY_MODEL_858efccaed84495090bb7341699c9f1b"
            ],
            "layout": "IPY_MODEL_a9c8faafd2b9426a8787cebd78ceb79a"
          }
        },
        "02f2c89dc93b490fb0b3da96d7ae63dc": {
          "model_module": "@jupyter-widgets/controls",
          "model_module_version": "1.5.0",
          "model_name": "ButtonModel",
          "state": {
            "_dom_classes": [],
            "_model_module": "@jupyter-widgets/controls",
            "_model_module_version": "1.5.0",
            "_model_name": "ButtonModel",
            "_view_count": null,
            "_view_module": "@jupyter-widgets/controls",
            "_view_module_version": "1.5.0",
            "_view_name": "ButtonView",
            "button_style": "",
            "description": "",
            "disabled": false,
            "icon": "gear",
            "layout": "IPY_MODEL_d519f41b79b647f3a593184ccdaadada",
            "style": "IPY_MODEL_5deccf438041493c98fcd64899dd1c98",
            "tooltip": "Esri.WorldImagery"
          }
        },
        "0319ee2bebd34a5ba0e29ea74737c911": {
          "model_module": "@jupyter-widgets/controls",
          "model_module_version": "1.5.0",
          "model_name": "DescriptionStyleModel",
          "state": {
            "_model_module": "@jupyter-widgets/controls",
            "_model_module_version": "1.5.0",
            "_model_name": "DescriptionStyleModel",
            "_view_count": null,
            "_view_module": "@jupyter-widgets/base",
            "_view_module_version": "1.2.0",
            "_view_name": "StyleView",
            "description_width": ""
          }
        },
        "0605172dc90e467d83d642cf541fbc96": {
          "model_module": "@jupyter-widgets/base",
          "model_module_version": "1.2.0",
          "model_name": "LayoutModel",
          "state": {
            "_model_module": "@jupyter-widgets/base",
            "_model_module_version": "1.2.0",
            "_model_name": "LayoutModel",
            "_view_count": null,
            "_view_module": "@jupyter-widgets/base",
            "_view_module_version": "1.2.0",
            "_view_name": "LayoutView",
            "align_content": null,
            "align_items": null,
            "align_self": null,
            "border": null,
            "bottom": null,
            "display": null,
            "flex": null,
            "flex_flow": null,
            "grid_area": null,
            "grid_auto_columns": null,
            "grid_auto_flow": null,
            "grid_auto_rows": null,
            "grid_column": null,
            "grid_gap": null,
            "grid_row": null,
            "grid_template_areas": null,
            "grid_template_columns": null,
            "grid_template_rows": null,
            "height": null,
            "justify_content": null,
            "justify_items": null,
            "left": null,
            "margin": null,
            "max_height": null,
            "max_width": null,
            "min_height": null,
            "min_width": null,
            "object_fit": null,
            "object_position": null,
            "order": null,
            "overflow": null,
            "overflow_x": null,
            "overflow_y": null,
            "padding": null,
            "right": null,
            "top": null,
            "visibility": null,
            "width": "80px"
          }
        },
        "0694f3563ebc4cba8f10adbaca0417cd": {
          "model_module": "@jupyter-widgets/controls",
          "model_module_version": "1.5.0",
          "model_name": "SliderStyleModel",
          "state": {
            "_model_module": "@jupyter-widgets/controls",
            "_model_module_version": "1.5.0",
            "_model_name": "SliderStyleModel",
            "_view_count": null,
            "_view_module": "@jupyter-widgets/base",
            "_view_module_version": "1.2.0",
            "_view_name": "StyleView",
            "description_width": "",
            "handle_color": null
          }
        },
        "07dbcb28e82449f18830a96134719c04": {
          "model_module": "@jupyter-widgets/controls",
          "model_module_version": "1.5.0",
          "model_name": "SliderStyleModel",
          "state": {
            "_model_module": "@jupyter-widgets/controls",
            "_model_module_version": "1.5.0",
            "_model_name": "SliderStyleModel",
            "_view_count": null,
            "_view_module": "@jupyter-widgets/base",
            "_view_module_version": "1.2.0",
            "_view_name": "StyleView",
            "description_width": "",
            "handle_color": null
          }
        },
        "085f45cd114c4182a5ed438bec4d2e05": {
          "model_module": "@jupyter-widgets/controls",
          "model_module_version": "1.5.0",
          "model_name": "ButtonStyleModel",
          "state": {
            "_model_module": "@jupyter-widgets/controls",
            "_model_module_version": "1.5.0",
            "_model_name": "ButtonStyleModel",
            "_view_count": null,
            "_view_module": "@jupyter-widgets/base",
            "_view_module_version": "1.2.0",
            "_view_name": "StyleView",
            "button_color": null,
            "font_weight": ""
          }
        },
        "091cb17218564a39ad63a112f8272b0c": {
          "model_module": "@jupyter-widgets/controls",
          "model_module_version": "1.5.0",
          "model_name": "ButtonModel",
          "state": {
            "_dom_classes": [],
            "_model_module": "@jupyter-widgets/controls",
            "_model_module_version": "1.5.0",
            "_model_name": "ButtonModel",
            "_view_count": null,
            "_view_module": "@jupyter-widgets/controls",
            "_view_module_version": "1.5.0",
            "_view_name": "ButtonView",
            "button_style": "primary",
            "description": "",
            "disabled": false,
            "icon": "times",
            "layout": "IPY_MODEL_4ac8dcd278e943999059847c15c83293",
            "style": "IPY_MODEL_19291c3f1c67497d96f0b5ffc716c592",
            "tooltip": "Close the tool"
          }
        },
        "0a02d8bdccbc42119a845165f18d6c67": {
          "model_module": "@jupyter-widgets/controls",
          "model_module_version": "1.5.0",
          "model_name": "ButtonStyleModel",
          "state": {
            "_model_module": "@jupyter-widgets/controls",
            "_model_module_version": "1.5.0",
            "_model_name": "ButtonStyleModel",
            "_view_count": null,
            "_view_module": "@jupyter-widgets/base",
            "_view_module_version": "1.2.0",
            "_view_name": "StyleView",
            "button_color": null,
            "font_weight": ""
          }
        },
        "0af59eade4c14813a7ed7f4b93c6a0f1": {
          "model_module": "@jupyter-widgets/controls",
          "model_module_version": "1.5.0",
          "model_name": "CheckboxModel",
          "state": {
            "_dom_classes": [],
            "_model_module": "@jupyter-widgets/controls",
            "_model_module_version": "1.5.0",
            "_model_name": "CheckboxModel",
            "_view_count": null,
            "_view_module": "@jupyter-widgets/controls",
            "_view_module_version": "1.5.0",
            "_view_name": "CheckboxView",
            "description": "All layers on/off",
            "description_tooltip": null,
            "disabled": false,
            "indent": false,
            "layout": "IPY_MODEL_1cc94393ae4d4f138dd9e88cb6591be4",
            "style": "IPY_MODEL_3b74d6e0fa7f498f942f5d79b274f2ef",
            "value": false
          }
        },
        "0bd74eb1104f4bbc90ffa690c031f78f": {
          "model_module": "@jupyter-widgets/base",
          "model_module_version": "1.2.0",
          "model_name": "LayoutModel",
          "state": {
            "_model_module": "@jupyter-widgets/base",
            "_model_module_version": "1.2.0",
            "_model_name": "LayoutModel",
            "_view_count": null,
            "_view_module": "@jupyter-widgets/base",
            "_view_module_version": "1.2.0",
            "_view_name": "LayoutView",
            "align_content": null,
            "align_items": null,
            "align_self": null,
            "border": null,
            "bottom": null,
            "display": null,
            "flex": null,
            "flex_flow": null,
            "grid_area": null,
            "grid_auto_columns": null,
            "grid_auto_flow": null,
            "grid_auto_rows": null,
            "grid_column": null,
            "grid_gap": null,
            "grid_row": null,
            "grid_template_areas": null,
            "grid_template_columns": null,
            "grid_template_rows": null,
            "height": null,
            "justify_content": null,
            "justify_items": null,
            "left": null,
            "margin": null,
            "max_height": null,
            "max_width": null,
            "min_height": null,
            "min_width": null,
            "object_fit": null,
            "object_position": null,
            "order": null,
            "overflow": null,
            "overflow_x": null,
            "overflow_y": null,
            "padding": "0px 8px 0px 8px",
            "right": null,
            "top": null,
            "visibility": null,
            "width": null
          }
        },
        "0bdf4be448dc465088750a500a287e20": {
          "model_module": "@jupyter-widgets/base",
          "model_module_version": "1.2.0",
          "model_name": "LayoutModel",
          "state": {
            "_model_module": "@jupyter-widgets/base",
            "_model_module_version": "1.2.0",
            "_model_name": "LayoutModel",
            "_view_count": null,
            "_view_module": "@jupyter-widgets/base",
            "_view_module_version": "1.2.0",
            "_view_name": "LayoutView",
            "align_content": null,
            "align_items": null,
            "align_self": null,
            "border": null,
            "bottom": null,
            "display": null,
            "flex": null,
            "flex_flow": null,
            "grid_area": null,
            "grid_auto_columns": null,
            "grid_auto_flow": null,
            "grid_auto_rows": null,
            "grid_column": null,
            "grid_gap": null,
            "grid_row": null,
            "grid_template_areas": null,
            "grid_template_columns": null,
            "grid_template_rows": null,
            "height": "18px",
            "justify_content": null,
            "justify_items": null,
            "left": null,
            "margin": null,
            "max_height": null,
            "max_width": null,
            "min_height": null,
            "min_width": null,
            "object_fit": null,
            "object_position": null,
            "order": null,
            "overflow": null,
            "overflow_x": null,
            "overflow_y": null,
            "padding": null,
            "right": null,
            "top": null,
            "visibility": null,
            "width": "140px"
          }
        },
        "0ca4fd3df8cd46fb99c233e6c54dda07": {
          "model_module": "@jupyter-widgets/controls",
          "model_module_version": "1.5.0",
          "model_name": "DescriptionStyleModel",
          "state": {
            "_model_module": "@jupyter-widgets/controls",
            "_model_module_version": "1.5.0",
            "_model_name": "DescriptionStyleModel",
            "_view_count": null,
            "_view_module": "@jupyter-widgets/base",
            "_view_module_version": "1.2.0",
            "_view_name": "StyleView",
            "description_width": ""
          }
        },
        "0d24fe36a011488c887f39599e8ee197": {
          "model_module": "@jupyter-widgets/base",
          "model_module_version": "1.2.0",
          "model_name": "LayoutModel",
          "state": {
            "_model_module": "@jupyter-widgets/base",
            "_model_module_version": "1.2.0",
            "_model_name": "LayoutModel",
            "_view_count": null,
            "_view_module": "@jupyter-widgets/base",
            "_view_module_version": "1.2.0",
            "_view_name": "LayoutView",
            "align_content": null,
            "align_items": null,
            "align_self": null,
            "border": null,
            "bottom": null,
            "display": null,
            "flex": null,
            "flex_flow": null,
            "grid_area": null,
            "grid_auto_columns": null,
            "grid_auto_flow": null,
            "grid_auto_rows": null,
            "grid_column": null,
            "grid_gap": null,
            "grid_row": null,
            "grid_template_areas": null,
            "grid_template_columns": null,
            "grid_template_rows": null,
            "height": null,
            "justify_content": null,
            "justify_items": null,
            "left": null,
            "margin": null,
            "max_height": null,
            "max_width": null,
            "min_height": null,
            "min_width": null,
            "object_fit": null,
            "object_position": null,
            "order": null,
            "overflow": null,
            "overflow_x": null,
            "overflow_y": null,
            "padding": null,
            "right": null,
            "top": null,
            "visibility": null,
            "width": null
          }
        },
        "0da61ebc7ef749889baf70b47d48cafb": {
          "model_module": "@jupyter-widgets/controls",
          "model_module_version": "1.5.0",
          "model_name": "DescriptionStyleModel",
          "state": {
            "_model_module": "@jupyter-widgets/controls",
            "_model_module_version": "1.5.0",
            "_model_name": "DescriptionStyleModel",
            "_view_count": null,
            "_view_module": "@jupyter-widgets/base",
            "_view_module_version": "1.2.0",
            "_view_name": "StyleView",
            "description_width": ""
          }
        },
        "0e140aadbe2949469af09f29e3f81ead": {
          "model_module": "@jupyter-widgets/controls",
          "model_module_version": "1.5.0",
          "model_name": "ButtonModel",
          "state": {
            "_dom_classes": [],
            "_model_module": "@jupyter-widgets/controls",
            "_model_module_version": "1.5.0",
            "_model_name": "ButtonModel",
            "_view_count": null,
            "_view_module": "@jupyter-widgets/controls",
            "_view_module_version": "1.5.0",
            "_view_name": "ButtonView",
            "button_style": "",
            "description": "",
            "disabled": false,
            "icon": "gear",
            "layout": "IPY_MODEL_7c7e2b6dcf324e78a96867e98a632dc5",
            "style": "IPY_MODEL_0a02d8bdccbc42119a845165f18d6c67",
            "tooltip": "Esri.WorldImagery"
          }
        },
        "0e2cb7dea2b348889bbb82d9826f2bfe": {
          "model_module": "@jupyter-widgets/base",
          "model_module_version": "1.2.0",
          "model_name": "LayoutModel",
          "state": {
            "_model_module": "@jupyter-widgets/base",
            "_model_module_version": "1.2.0",
            "_model_name": "LayoutModel",
            "_view_count": null,
            "_view_module": "@jupyter-widgets/base",
            "_view_module_version": "1.2.0",
            "_view_name": "LayoutView",
            "align_content": null,
            "align_items": null,
            "align_self": null,
            "border": null,
            "bottom": null,
            "display": null,
            "flex": null,
            "flex_flow": null,
            "grid_area": null,
            "grid_auto_columns": null,
            "grid_auto_flow": null,
            "grid_auto_rows": null,
            "grid_column": null,
            "grid_gap": null,
            "grid_row": null,
            "grid_template_areas": null,
            "grid_template_columns": null,
            "grid_template_rows": null,
            "height": "25px",
            "justify_content": null,
            "justify_items": null,
            "left": null,
            "margin": null,
            "max_height": null,
            "max_width": null,
            "min_height": null,
            "min_width": null,
            "object_fit": null,
            "object_position": null,
            "order": null,
            "overflow": null,
            "overflow_x": null,
            "overflow_y": null,
            "padding": "0px",
            "right": null,
            "top": null,
            "visibility": null,
            "width": "25px"
          }
        },
        "0e78aa9350fd4147883389e595baa47b": {
          "model_module": "@jupyter-widgets/controls",
          "model_module_version": "1.5.0",
          "model_name": "VBoxModel",
          "state": {
            "_dom_classes": [],
            "_model_module": "@jupyter-widgets/controls",
            "_model_module_version": "1.5.0",
            "_model_name": "VBoxModel",
            "_view_count": null,
            "_view_module": "@jupyter-widgets/controls",
            "_view_module_version": "1.5.0",
            "_view_name": "VBoxView",
            "box_style": "",
            "children": [
              "IPY_MODEL_e8934408381448d88c3920d0f24f488f",
              "IPY_MODEL_c5382f26210d401682ce14d43025d8c4",
              "IPY_MODEL_25ea4a66401f43a289cf457c55f5ca92",
              "IPY_MODEL_3e7d0343fddd4911b15b04a837100cb6",
              "IPY_MODEL_7f008072af3549579817c8fe71789c8d",
              "IPY_MODEL_b441abc304fb435991ebf066bbc1f79f",
              "IPY_MODEL_f04a2d34c383491290d59d3b739f5803"
            ],
            "layout": "IPY_MODEL_9d54937668d64c558a7d90434a5ea021"
          }
        },
        "0f36c4f45ece43fb82895c4a8b4b6495": {
          "model_module": "@jupyter-widgets/controls",
          "model_module_version": "1.5.0",
          "model_name": "ButtonStyleModel",
          "state": {
            "_model_module": "@jupyter-widgets/controls",
            "_model_module_version": "1.5.0",
            "_model_name": "ButtonStyleModel",
            "_view_count": null,
            "_view_module": "@jupyter-widgets/base",
            "_view_module_version": "1.2.0",
            "_view_name": "StyleView",
            "button_color": null,
            "font_weight": ""
          }
        },
        "0f61301642724cf792889d20d315139a": {
          "model_module": "@jupyter-widgets/controls",
          "model_module_version": "1.5.0",
          "model_name": "DescriptionStyleModel",
          "state": {
            "_model_module": "@jupyter-widgets/controls",
            "_model_module_version": "1.5.0",
            "_model_name": "DescriptionStyleModel",
            "_view_count": null,
            "_view_module": "@jupyter-widgets/base",
            "_view_module_version": "1.2.0",
            "_view_name": "StyleView",
            "description_width": ""
          }
        },
        "104bfd6364634bddbaed0fc96c4802e8": {
          "model_module": "@jupyter-widgets/controls",
          "model_module_version": "1.5.0",
          "model_name": "CheckboxModel",
          "state": {
            "_dom_classes": [],
            "_model_module": "@jupyter-widgets/controls",
            "_model_module_version": "1.5.0",
            "_model_name": "CheckboxModel",
            "_view_count": null,
            "_view_module": "@jupyter-widgets/controls",
            "_view_module_version": "1.5.0",
            "_view_name": "CheckboxView",
            "description": "Esri.WorldImagery",
            "description_tooltip": null,
            "disabled": false,
            "indent": false,
            "layout": "IPY_MODEL_4883d309d9d143a7ad8fe2a020aede59",
            "style": "IPY_MODEL_95b938f145d64307a17fb08537d0f1fd",
            "value": true
          }
        },
        "10a3aa014ec74f4781d9ba595bef32fe": {
          "model_module": "jupyter-leaflet",
          "model_module_version": "^0.18",
          "model_name": "LeafletFullScreenControlModel",
          "state": {
            "_model_module": "jupyter-leaflet",
            "_model_module_version": "^0.18",
            "_model_name": "LeafletFullScreenControlModel",
            "_view_count": null,
            "_view_module": "jupyter-leaflet",
            "_view_module_version": "^0.18",
            "_view_name": "LeafletFullScreenControlView",
            "options": [
              "position"
            ],
            "position": "topleft"
          }
        },
        "10b133620f194bfa946f85d8b486490c": {
          "model_module": "@jupyter-widgets/controls",
          "model_module_version": "1.5.0",
          "model_name": "FloatSliderModel",
          "state": {
            "_dom_classes": [],
            "_model_module": "@jupyter-widgets/controls",
            "_model_module_version": "1.5.0",
            "_model_name": "FloatSliderModel",
            "_view_count": null,
            "_view_module": "@jupyter-widgets/controls",
            "_view_module_version": "1.5.0",
            "_view_name": "FloatSliderView",
            "continuous_update": true,
            "description": "",
            "description_tooltip": null,
            "disabled": false,
            "layout": "IPY_MODEL_84239fddfc8e4037afdf440d93a35261",
            "max": 1,
            "min": 0,
            "orientation": "horizontal",
            "readout": false,
            "readout_format": ".2f",
            "step": 0.01,
            "style": "IPY_MODEL_aa87cb956e5343518d4fd60956f43429",
            "value": 1
          }
        },
        "11371c61df854d83ae64f920e5b4e964": {
          "model_module": "@jupyter-widgets/controls",
          "model_module_version": "1.5.0",
          "model_name": "CheckboxModel",
          "state": {
            "_dom_classes": [],
            "_model_module": "@jupyter-widgets/controls",
            "_model_module_version": "1.5.0",
            "_model_name": "CheckboxModel",
            "_view_count": null,
            "_view_module": "@jupyter-widgets/controls",
            "_view_module_version": "1.5.0",
            "_view_name": "CheckboxView",
            "description": "OpenTopoMap",
            "description_tooltip": null,
            "disabled": false,
            "indent": false,
            "layout": "IPY_MODEL_e2dbf8d3404d492fbd52e407927a2665",
            "style": "IPY_MODEL_588139f287ea465db89f498aae4bc89e",
            "value": true
          }
        },
        "11dceff1e10e411687c30878de18454c": {
          "model_module": "@jupyter-widgets/base",
          "model_module_version": "1.2.0",
          "model_name": "LayoutModel",
          "state": {
            "_model_module": "@jupyter-widgets/base",
            "_model_module_version": "1.2.0",
            "_model_name": "LayoutModel",
            "_view_count": null,
            "_view_module": "@jupyter-widgets/base",
            "_view_module_version": "1.2.0",
            "_view_name": "LayoutView",
            "align_content": null,
            "align_items": null,
            "align_self": null,
            "border": null,
            "bottom": null,
            "display": null,
            "flex": null,
            "flex_flow": null,
            "grid_area": null,
            "grid_auto_columns": null,
            "grid_auto_flow": null,
            "grid_auto_rows": null,
            "grid_column": null,
            "grid_gap": null,
            "grid_row": null,
            "grid_template_areas": null,
            "grid_template_columns": null,
            "grid_template_rows": null,
            "height": "28px",
            "justify_content": null,
            "justify_items": null,
            "left": null,
            "margin": null,
            "max_height": null,
            "max_width": null,
            "min_height": null,
            "min_width": null,
            "object_fit": null,
            "object_position": null,
            "order": null,
            "overflow": null,
            "overflow_x": null,
            "overflow_y": null,
            "padding": "0px 0px 0px 4px",
            "right": null,
            "top": null,
            "visibility": null,
            "width": "28px"
          }
        },
        "11f9284439e449788987471d84ae9e24": {
          "model_module": "@jupyter-widgets/base",
          "model_module_version": "1.2.0",
          "model_name": "LayoutModel",
          "state": {
            "_model_module": "@jupyter-widgets/base",
            "_model_module_version": "1.2.0",
            "_model_name": "LayoutModel",
            "_view_count": null,
            "_view_module": "@jupyter-widgets/base",
            "_view_module_version": "1.2.0",
            "_view_name": "LayoutView",
            "align_content": null,
            "align_items": null,
            "align_self": null,
            "border": null,
            "bottom": null,
            "display": null,
            "flex": null,
            "flex_flow": null,
            "grid_area": null,
            "grid_auto_columns": null,
            "grid_auto_flow": null,
            "grid_auto_rows": null,
            "grid_column": null,
            "grid_gap": null,
            "grid_row": null,
            "grid_template_areas": null,
            "grid_template_columns": null,
            "grid_template_rows": null,
            "height": null,
            "justify_content": null,
            "justify_items": null,
            "left": null,
            "margin": null,
            "max_height": null,
            "max_width": null,
            "min_height": null,
            "min_width": null,
            "object_fit": null,
            "object_position": null,
            "order": null,
            "overflow": null,
            "overflow_x": null,
            "overflow_y": null,
            "padding": null,
            "right": null,
            "top": null,
            "visibility": null,
            "width": null
          }
        },
        "12f68a83282b41ce8f4d03d30ff5f015": {
          "model_module": "@jupyter-widgets/controls",
          "model_module_version": "1.5.0",
          "model_name": "SliderStyleModel",
          "state": {
            "_model_module": "@jupyter-widgets/controls",
            "_model_module_version": "1.5.0",
            "_model_name": "SliderStyleModel",
            "_view_count": null,
            "_view_module": "@jupyter-widgets/base",
            "_view_module_version": "1.2.0",
            "_view_name": "StyleView",
            "description_width": "",
            "handle_color": null
          }
        },
        "1358e4ebc05f48229e956e38bfb35113": {
          "model_module": "jupyter-leaflet",
          "model_module_version": "^0.18",
          "model_name": "LeafletAttributionControlModel",
          "state": {
            "_model_module": "jupyter-leaflet",
            "_model_module_version": "^0.18",
            "_model_name": "LeafletAttributionControlModel",
            "_view_count": null,
            "_view_module": "jupyter-leaflet",
            "_view_module_version": "^0.18",
            "_view_name": "LeafletAttributionControlView",
            "options": [
              "position",
              "prefix"
            ],
            "position": "bottomright",
            "prefix": "ipyleaflet"
          }
        },
        "135f197d95f44542b21345a58211443e": {
          "model_module": "@jupyter-widgets/base",
          "model_module_version": "1.2.0",
          "model_name": "LayoutModel",
          "state": {
            "_model_module": "@jupyter-widgets/base",
            "_model_module_version": "1.2.0",
            "_model_name": "LayoutModel",
            "_view_count": null,
            "_view_module": "@jupyter-widgets/base",
            "_view_module_version": "1.2.0",
            "_view_name": "LayoutView",
            "align_content": null,
            "align_items": null,
            "align_self": null,
            "border": null,
            "bottom": null,
            "display": null,
            "flex": null,
            "flex_flow": null,
            "grid_area": null,
            "grid_auto_columns": null,
            "grid_auto_flow": null,
            "grid_auto_rows": null,
            "grid_column": null,
            "grid_gap": null,
            "grid_row": null,
            "grid_template_areas": null,
            "grid_template_columns": null,
            "grid_template_rows": null,
            "height": null,
            "justify_content": null,
            "justify_items": null,
            "left": null,
            "margin": null,
            "max_height": null,
            "max_width": null,
            "min_height": null,
            "min_width": null,
            "object_fit": null,
            "object_position": null,
            "order": null,
            "overflow": null,
            "overflow_x": null,
            "overflow_y": null,
            "padding": "0px 8px 0px 8px",
            "right": null,
            "top": null,
            "visibility": null,
            "width": null
          }
        },
        "15380b1fb6c643fe8278b38a5bae37c2": {
          "model_module": "@jupyter-widgets/base",
          "model_module_version": "1.2.0",
          "model_name": "LayoutModel",
          "state": {
            "_model_module": "@jupyter-widgets/base",
            "_model_module_version": "1.2.0",
            "_model_name": "LayoutModel",
            "_view_count": null,
            "_view_module": "@jupyter-widgets/base",
            "_view_module_version": "1.2.0",
            "_view_name": "LayoutView",
            "align_content": null,
            "align_items": null,
            "align_self": null,
            "border": null,
            "bottom": null,
            "display": null,
            "flex": null,
            "flex_flow": null,
            "grid_area": null,
            "grid_auto_columns": null,
            "grid_auto_flow": null,
            "grid_auto_rows": null,
            "grid_column": null,
            "grid_gap": null,
            "grid_row": null,
            "grid_template_areas": null,
            "grid_template_columns": null,
            "grid_template_rows": null,
            "height": null,
            "justify_content": null,
            "justify_items": null,
            "left": null,
            "margin": null,
            "max_height": null,
            "max_width": null,
            "min_height": null,
            "min_width": null,
            "object_fit": null,
            "object_position": null,
            "order": null,
            "overflow": null,
            "overflow_x": null,
            "overflow_y": null,
            "padding": null,
            "right": null,
            "top": null,
            "visibility": null,
            "width": null
          }
        },
        "15fd553307aa4299af2c3c633165b80d": {
          "model_module": "@jupyter-widgets/controls",
          "model_module_version": "1.5.0",
          "model_name": "DescriptionStyleModel",
          "state": {
            "_model_module": "@jupyter-widgets/controls",
            "_model_module_version": "1.5.0",
            "_model_name": "DescriptionStyleModel",
            "_view_count": null,
            "_view_module": "@jupyter-widgets/base",
            "_view_module_version": "1.2.0",
            "_view_name": "StyleView",
            "description_width": ""
          }
        },
        "16737d43e1fa4f1fa59526d54c1e196b": {
          "model_module": "@jupyter-widgets/base",
          "model_module_version": "1.2.0",
          "model_name": "LayoutModel",
          "state": {
            "_model_module": "@jupyter-widgets/base",
            "_model_module_version": "1.2.0",
            "_model_name": "LayoutModel",
            "_view_count": null,
            "_view_module": "@jupyter-widgets/base",
            "_view_module_version": "1.2.0",
            "_view_name": "LayoutView",
            "align_content": null,
            "align_items": null,
            "align_self": null,
            "border": null,
            "bottom": null,
            "display": null,
            "flex": null,
            "flex_flow": null,
            "grid_area": null,
            "grid_auto_columns": null,
            "grid_auto_flow": null,
            "grid_auto_rows": null,
            "grid_column": null,
            "grid_gap": null,
            "grid_row": null,
            "grid_template_areas": null,
            "grid_template_columns": null,
            "grid_template_rows": null,
            "height": "28px",
            "justify_content": null,
            "justify_items": null,
            "left": null,
            "margin": null,
            "max_height": null,
            "max_width": null,
            "min_height": null,
            "min_width": null,
            "object_fit": null,
            "object_position": null,
            "order": null,
            "overflow": null,
            "overflow_x": null,
            "overflow_y": null,
            "padding": "0px",
            "right": null,
            "top": null,
            "visibility": null,
            "width": "28px"
          }
        },
        "179893e47aaa452cbdcfb8fb979c4672": {
          "model_module": "@jupyter-widgets/controls",
          "model_module_version": "1.5.0",
          "model_name": "FloatSliderModel",
          "state": {
            "_dom_classes": [],
            "_model_module": "@jupyter-widgets/controls",
            "_model_module_version": "1.5.0",
            "_model_name": "FloatSliderModel",
            "_view_count": null,
            "_view_module": "@jupyter-widgets/controls",
            "_view_module_version": "1.5.0",
            "_view_name": "FloatSliderView",
            "continuous_update": true,
            "description": "",
            "description_tooltip": null,
            "disabled": false,
            "layout": "IPY_MODEL_87cc5064a6dd42ecbc33cac97a19848a",
            "max": 1,
            "min": 0,
            "orientation": "horizontal",
            "readout": false,
            "readout_format": ".2f",
            "step": 0.01,
            "style": "IPY_MODEL_8c7518250ca9410387ae21043daa2d56",
            "value": 1
          }
        },
        "17ff0c1d5be6433fa8fb1746355d4a8c": {
          "model_module": "@jupyter-widgets/base",
          "model_module_version": "1.2.0",
          "model_name": "LayoutModel",
          "state": {
            "_model_module": "@jupyter-widgets/base",
            "_model_module_version": "1.2.0",
            "_model_name": "LayoutModel",
            "_view_count": null,
            "_view_module": "@jupyter-widgets/base",
            "_view_module_version": "1.2.0",
            "_view_name": "LayoutView",
            "align_content": null,
            "align_items": null,
            "align_self": null,
            "border": null,
            "bottom": null,
            "display": null,
            "flex": null,
            "flex_flow": null,
            "grid_area": null,
            "grid_auto_columns": null,
            "grid_auto_flow": null,
            "grid_auto_rows": null,
            "grid_column": null,
            "grid_gap": null,
            "grid_row": null,
            "grid_template_areas": null,
            "grid_template_columns": null,
            "grid_template_rows": null,
            "height": null,
            "justify_content": null,
            "justify_items": null,
            "left": null,
            "margin": null,
            "max_height": null,
            "max_width": null,
            "min_height": null,
            "min_width": null,
            "object_fit": null,
            "object_position": null,
            "order": null,
            "overflow": null,
            "overflow_x": null,
            "overflow_y": null,
            "padding": null,
            "right": null,
            "top": null,
            "visibility": null,
            "width": "80px"
          }
        },
        "1836544a0b4d43d891b2e2a291f7a78b": {
          "model_module": "@jupyter-widgets/base",
          "model_module_version": "1.2.0",
          "model_name": "LayoutModel",
          "state": {
            "_model_module": "@jupyter-widgets/base",
            "_model_module_version": "1.2.0",
            "_model_name": "LayoutModel",
            "_view_count": null,
            "_view_module": "@jupyter-widgets/base",
            "_view_module_version": "1.2.0",
            "_view_name": "LayoutView",
            "align_content": null,
            "align_items": null,
            "align_self": null,
            "border": null,
            "bottom": null,
            "display": null,
            "flex": null,
            "flex_flow": null,
            "grid_area": null,
            "grid_auto_columns": null,
            "grid_auto_flow": null,
            "grid_auto_rows": null,
            "grid_column": null,
            "grid_gap": null,
            "grid_row": null,
            "grid_template_areas": null,
            "grid_template_columns": null,
            "grid_template_rows": null,
            "height": null,
            "justify_content": null,
            "justify_items": null,
            "left": null,
            "margin": null,
            "max_height": null,
            "max_width": null,
            "min_height": null,
            "min_width": null,
            "object_fit": null,
            "object_position": null,
            "order": null,
            "overflow": null,
            "overflow_x": null,
            "overflow_y": null,
            "padding": null,
            "right": null,
            "top": null,
            "visibility": null,
            "width": "80px"
          }
        },
        "190ff05584f74daebc1b15040bec6e6a": {
          "model_module": "@jupyter-widgets/controls",
          "model_module_version": "1.5.0",
          "model_name": "DescriptionStyleModel",
          "state": {
            "_model_module": "@jupyter-widgets/controls",
            "_model_module_version": "1.5.0",
            "_model_name": "DescriptionStyleModel",
            "_view_count": null,
            "_view_module": "@jupyter-widgets/base",
            "_view_module_version": "1.2.0",
            "_view_name": "StyleView",
            "description_width": ""
          }
        },
        "192494f0811c4b8289a742a8d820859c": {
          "model_module": "@jupyter-widgets/base",
          "model_module_version": "1.2.0",
          "model_name": "LayoutModel",
          "state": {
            "_model_module": "@jupyter-widgets/base",
            "_model_module_version": "1.2.0",
            "_model_name": "LayoutModel",
            "_view_count": null,
            "_view_module": "@jupyter-widgets/base",
            "_view_module_version": "1.2.0",
            "_view_name": "LayoutView",
            "align_content": null,
            "align_items": null,
            "align_self": null,
            "border": null,
            "bottom": null,
            "display": null,
            "flex": null,
            "flex_flow": null,
            "grid_area": null,
            "grid_auto_columns": null,
            "grid_auto_flow": null,
            "grid_auto_rows": null,
            "grid_column": null,
            "grid_gap": null,
            "grid_row": null,
            "grid_template_areas": null,
            "grid_template_columns": null,
            "grid_template_rows": null,
            "height": "18px",
            "justify_content": null,
            "justify_items": null,
            "left": null,
            "margin": null,
            "max_height": null,
            "max_width": null,
            "min_height": null,
            "min_width": null,
            "object_fit": null,
            "object_position": null,
            "order": null,
            "overflow": null,
            "overflow_x": null,
            "overflow_y": null,
            "padding": null,
            "right": null,
            "top": null,
            "visibility": null,
            "width": "140px"
          }
        },
        "19291c3f1c67497d96f0b5ffc716c592": {
          "model_module": "@jupyter-widgets/controls",
          "model_module_version": "1.5.0",
          "model_name": "ButtonStyleModel",
          "state": {
            "_model_module": "@jupyter-widgets/controls",
            "_model_module_version": "1.5.0",
            "_model_name": "ButtonStyleModel",
            "_view_count": null,
            "_view_module": "@jupyter-widgets/base",
            "_view_module_version": "1.2.0",
            "_view_name": "StyleView",
            "button_color": null,
            "font_weight": ""
          }
        },
        "1974e3c57aa1426bafb71fe357b0eddc": {
          "model_module": "@jupyter-widgets/controls",
          "model_module_version": "1.5.0",
          "model_name": "ButtonModel",
          "state": {
            "_dom_classes": [],
            "_model_module": "@jupyter-widgets/controls",
            "_model_module_version": "1.5.0",
            "_model_name": "ButtonModel",
            "_view_count": null,
            "_view_module": "@jupyter-widgets/controls",
            "_view_module_version": "1.5.0",
            "_view_name": "ButtonView",
            "button_style": "",
            "description": "",
            "disabled": false,
            "icon": "gear",
            "layout": "IPY_MODEL_b1ef96924a5f49bd841b1c2422b27986",
            "style": "IPY_MODEL_765a92c7a86c499b922df0211dd3ce99",
            "tooltip": "OpenTopoMap"
          }
        },
        "1bdc0fbe4f544997a53f8bd2ed15eeaf": {
          "model_module": "@jupyter-widgets/base",
          "model_module_version": "1.2.0",
          "model_name": "LayoutModel",
          "state": {
            "_model_module": "@jupyter-widgets/base",
            "_model_module_version": "1.2.0",
            "_model_name": "LayoutModel",
            "_view_count": null,
            "_view_module": "@jupyter-widgets/base",
            "_view_module_version": "1.2.0",
            "_view_name": "LayoutView",
            "align_content": null,
            "align_items": null,
            "align_self": null,
            "border": null,
            "bottom": null,
            "display": null,
            "flex": null,
            "flex_flow": null,
            "grid_area": null,
            "grid_auto_columns": null,
            "grid_auto_flow": null,
            "grid_auto_rows": null,
            "grid_column": null,
            "grid_gap": null,
            "grid_row": null,
            "grid_template_areas": null,
            "grid_template_columns": null,
            "grid_template_rows": null,
            "height": "18px",
            "justify_content": null,
            "justify_items": null,
            "left": null,
            "margin": null,
            "max_height": null,
            "max_width": null,
            "min_height": null,
            "min_width": null,
            "object_fit": null,
            "object_position": null,
            "order": null,
            "overflow": null,
            "overflow_x": null,
            "overflow_y": null,
            "padding": null,
            "right": null,
            "top": null,
            "visibility": null,
            "width": "140px"
          }
        },
        "1c26819526da4d6d83b319fc4572c38f": {
          "model_module": "jupyter-leaflet",
          "model_module_version": "^0.18",
          "model_name": "LeafletAttributionControlModel",
          "state": {
            "_model_module": "jupyter-leaflet",
            "_model_module_version": "^0.18",
            "_model_name": "LeafletAttributionControlModel",
            "_view_count": null,
            "_view_module": "jupyter-leaflet",
            "_view_module_version": "^0.18",
            "_view_name": "LeafletAttributionControlView",
            "options": [
              "position",
              "prefix"
            ],
            "position": "bottomright",
            "prefix": "ipyleaflet"
          }
        },
        "1cc94393ae4d4f138dd9e88cb6591be4": {
          "model_module": "@jupyter-widgets/base",
          "model_module_version": "1.2.0",
          "model_name": "LayoutModel",
          "state": {
            "_model_module": "@jupyter-widgets/base",
            "_model_module_version": "1.2.0",
            "_model_name": "LayoutModel",
            "_view_count": null,
            "_view_module": "@jupyter-widgets/base",
            "_view_module_version": "1.2.0",
            "_view_name": "LayoutView",
            "align_content": null,
            "align_items": null,
            "align_self": null,
            "border": null,
            "bottom": null,
            "display": null,
            "flex": null,
            "flex_flow": null,
            "grid_area": null,
            "grid_auto_columns": null,
            "grid_auto_flow": null,
            "grid_auto_rows": null,
            "grid_column": null,
            "grid_gap": null,
            "grid_row": null,
            "grid_template_areas": null,
            "grid_template_columns": null,
            "grid_template_rows": null,
            "height": "18px",
            "justify_content": null,
            "justify_items": null,
            "left": null,
            "margin": null,
            "max_height": null,
            "max_width": null,
            "min_height": null,
            "min_width": null,
            "object_fit": null,
            "object_position": null,
            "order": null,
            "overflow": null,
            "overflow_x": null,
            "overflow_y": null,
            "padding": "0px 8px 25px 8px",
            "right": null,
            "top": null,
            "visibility": null,
            "width": "30ex"
          }
        },
        "1d473a927c7d458ea4ee7bd52909d025": {
          "model_module": "@jupyter-widgets/base",
          "model_module_version": "1.2.0",
          "model_name": "LayoutModel",
          "state": {
            "_model_module": "@jupyter-widgets/base",
            "_model_module_version": "1.2.0",
            "_model_name": "LayoutModel",
            "_view_count": null,
            "_view_module": "@jupyter-widgets/base",
            "_view_module_version": "1.2.0",
            "_view_name": "LayoutView",
            "align_content": null,
            "align_items": null,
            "align_self": null,
            "border": null,
            "bottom": null,
            "display": null,
            "flex": null,
            "flex_flow": null,
            "grid_area": null,
            "grid_auto_columns": null,
            "grid_auto_flow": null,
            "grid_auto_rows": null,
            "grid_column": null,
            "grid_gap": null,
            "grid_row": null,
            "grid_template_areas": null,
            "grid_template_columns": null,
            "grid_template_rows": null,
            "height": null,
            "justify_content": null,
            "justify_items": null,
            "left": null,
            "margin": null,
            "max_height": null,
            "max_width": null,
            "min_height": null,
            "min_width": null,
            "object_fit": null,
            "object_position": null,
            "order": null,
            "overflow": null,
            "overflow_x": null,
            "overflow_y": null,
            "padding": null,
            "right": null,
            "top": null,
            "visibility": null,
            "width": null
          }
        },
        "1dc48551f9474ea59f1d456cb93bcb77": {
          "model_module": "@jupyter-widgets/controls",
          "model_module_version": "1.5.0",
          "model_name": "DescriptionStyleModel",
          "state": {
            "_model_module": "@jupyter-widgets/controls",
            "_model_module_version": "1.5.0",
            "_model_name": "DescriptionStyleModel",
            "_view_count": null,
            "_view_module": "@jupyter-widgets/base",
            "_view_module_version": "1.2.0",
            "_view_name": "StyleView",
            "description_width": ""
          }
        },
        "1df1c250e8b4437b803f588c4eb23748": {
          "model_module": "@jupyter-widgets/controls",
          "model_module_version": "1.5.0",
          "model_name": "ToggleButtonModel",
          "state": {
            "_dom_classes": [],
            "_model_module": "@jupyter-widgets/controls",
            "_model_module_version": "1.5.0",
            "_model_name": "ToggleButtonModel",
            "_view_count": null,
            "_view_module": "@jupyter-widgets/controls",
            "_view_module_version": "1.5.0",
            "_view_name": "ToggleButtonView",
            "button_style": "",
            "description": "",
            "description_tooltip": null,
            "disabled": false,
            "icon": "server",
            "layout": "IPY_MODEL_5460c77436434406a04767d51279d5bb",
            "style": "IPY_MODEL_85c012bf209540e59db3ea3b50d4bce8",
            "tooltip": "Layer Manager",
            "value": true
          }
        },
        "1e52dc0a1e6949dea315b973d584aa7d": {
          "model_module": "@jupyter-widgets/base",
          "model_module_version": "1.2.0",
          "model_name": "LayoutModel",
          "state": {
            "_model_module": "@jupyter-widgets/base",
            "_model_module_version": "1.2.0",
            "_model_name": "LayoutModel",
            "_view_count": null,
            "_view_module": "@jupyter-widgets/base",
            "_view_module_version": "1.2.0",
            "_view_name": "LayoutView",
            "align_content": null,
            "align_items": null,
            "align_self": null,
            "border": null,
            "bottom": null,
            "display": null,
            "flex": null,
            "flex_flow": null,
            "grid_area": null,
            "grid_auto_columns": null,
            "grid_auto_flow": null,
            "grid_auto_rows": null,
            "grid_column": null,
            "grid_gap": null,
            "grid_row": null,
            "grid_template_areas": null,
            "grid_template_columns": null,
            "grid_template_rows": null,
            "height": null,
            "justify_content": null,
            "justify_items": null,
            "left": null,
            "margin": null,
            "max_height": null,
            "max_width": null,
            "min_height": null,
            "min_width": null,
            "object_fit": null,
            "object_position": null,
            "order": null,
            "overflow": null,
            "overflow_x": null,
            "overflow_y": null,
            "padding": "0px 8px 0px 8px",
            "right": null,
            "top": null,
            "visibility": null,
            "width": null
          }
        },
        "1e94fd3fd7b94ff7a6cf7ff27c0652c9": {
          "model_module": "@jupyter-widgets/base",
          "model_module_version": "1.2.0",
          "model_name": "LayoutModel",
          "state": {
            "_model_module": "@jupyter-widgets/base",
            "_model_module_version": "1.2.0",
            "_model_name": "LayoutModel",
            "_view_count": null,
            "_view_module": "@jupyter-widgets/base",
            "_view_module_version": "1.2.0",
            "_view_name": "LayoutView",
            "align_content": null,
            "align_items": null,
            "align_self": null,
            "border": null,
            "bottom": null,
            "display": null,
            "flex": null,
            "flex_flow": null,
            "grid_area": null,
            "grid_auto_columns": null,
            "grid_auto_flow": null,
            "grid_auto_rows": null,
            "grid_column": null,
            "grid_gap": null,
            "grid_row": null,
            "grid_template_areas": null,
            "grid_template_columns": null,
            "grid_template_rows": null,
            "height": null,
            "justify_content": null,
            "justify_items": null,
            "left": null,
            "margin": null,
            "max_height": null,
            "max_width": null,
            "min_height": null,
            "min_width": null,
            "object_fit": null,
            "object_position": null,
            "order": null,
            "overflow": null,
            "overflow_x": null,
            "overflow_y": null,
            "padding": null,
            "right": null,
            "top": null,
            "visibility": null,
            "width": null
          }
        },
        "1fe3220109e04523bcf8d31a513d66fb": {
          "model_module": "@jupyter-widgets/base",
          "model_module_version": "1.2.0",
          "model_name": "LayoutModel",
          "state": {
            "_model_module": "@jupyter-widgets/base",
            "_model_module_version": "1.2.0",
            "_model_name": "LayoutModel",
            "_view_count": null,
            "_view_module": "@jupyter-widgets/base",
            "_view_module_version": "1.2.0",
            "_view_name": "LayoutView",
            "align_content": null,
            "align_items": null,
            "align_self": null,
            "border": null,
            "bottom": null,
            "display": null,
            "flex": null,
            "flex_flow": null,
            "grid_area": null,
            "grid_auto_columns": null,
            "grid_auto_flow": null,
            "grid_auto_rows": null,
            "grid_column": null,
            "grid_gap": null,
            "grid_row": null,
            "grid_template_areas": null,
            "grid_template_columns": null,
            "grid_template_rows": null,
            "height": "600px",
            "justify_content": null,
            "justify_items": null,
            "left": null,
            "margin": null,
            "max_height": null,
            "max_width": null,
            "min_height": null,
            "min_width": null,
            "object_fit": null,
            "object_position": null,
            "order": null,
            "overflow": null,
            "overflow_x": null,
            "overflow_y": null,
            "padding": null,
            "right": null,
            "top": null,
            "visibility": null,
            "width": null
          }
        },
        "200ff66a061e4c78a528d6a6b103dd05": {
          "model_module": "@jupyter-widgets/controls",
          "model_module_version": "1.5.0",
          "model_name": "DescriptionStyleModel",
          "state": {
            "_model_module": "@jupyter-widgets/controls",
            "_model_module_version": "1.5.0",
            "_model_name": "DescriptionStyleModel",
            "_view_count": null,
            "_view_module": "@jupyter-widgets/base",
            "_view_module_version": "1.2.0",
            "_view_name": "StyleView",
            "description_width": ""
          }
        },
        "2224b92af48a42e0ba030d39c0e64298": {
          "model_module": "jupyter-leaflet",
          "model_module_version": "^0.18",
          "model_name": "LeafletMapStyleModel",
          "state": {
            "_model_module": "jupyter-leaflet",
            "_model_module_version": "^0.18",
            "_model_name": "LeafletMapStyleModel",
            "_view_count": null,
            "_view_module": "@jupyter-widgets/base",
            "_view_module_version": "1.2.0",
            "_view_name": "StyleView",
            "cursor": "move"
          }
        },
        "22c80088d5b645958635540f3a74e28d": {
          "model_module": "@jupyter-widgets/controls",
          "model_module_version": "1.5.0",
          "model_name": "DescriptionStyleModel",
          "state": {
            "_model_module": "@jupyter-widgets/controls",
            "_model_module_version": "1.5.0",
            "_model_name": "DescriptionStyleModel",
            "_view_count": null,
            "_view_module": "@jupyter-widgets/base",
            "_view_module_version": "1.2.0",
            "_view_name": "StyleView",
            "description_width": ""
          }
        },
        "231608e365a749b4b1bbfccfab795661": {
          "model_module": "@jupyter-widgets/base",
          "model_module_version": "1.2.0",
          "model_name": "LayoutModel",
          "state": {
            "_model_module": "@jupyter-widgets/base",
            "_model_module_version": "1.2.0",
            "_model_name": "LayoutModel",
            "_view_count": null,
            "_view_module": "@jupyter-widgets/base",
            "_view_module_version": "1.2.0",
            "_view_name": "LayoutView",
            "align_content": null,
            "align_items": null,
            "align_self": null,
            "border": null,
            "bottom": null,
            "display": null,
            "flex": null,
            "flex_flow": null,
            "grid_area": null,
            "grid_auto_columns": null,
            "grid_auto_flow": null,
            "grid_auto_rows": null,
            "grid_column": null,
            "grid_gap": null,
            "grid_row": null,
            "grid_template_areas": null,
            "grid_template_columns": null,
            "grid_template_rows": null,
            "height": null,
            "justify_content": null,
            "justify_items": null,
            "left": null,
            "margin": null,
            "max_height": null,
            "max_width": null,
            "min_height": null,
            "min_width": null,
            "object_fit": null,
            "object_position": null,
            "order": null,
            "overflow": null,
            "overflow_x": null,
            "overflow_y": null,
            "padding": null,
            "right": null,
            "top": null,
            "visibility": null,
            "width": "80px"
          }
        },
        "231d4c432c7d40a480dc37ea4eb16bfc": {
          "model_module": "@jupyter-widgets/controls",
          "model_module_version": "1.5.0",
          "model_name": "SliderStyleModel",
          "state": {
            "_model_module": "@jupyter-widgets/controls",
            "_model_module_version": "1.5.0",
            "_model_name": "SliderStyleModel",
            "_view_count": null,
            "_view_module": "@jupyter-widgets/base",
            "_view_module_version": "1.2.0",
            "_view_name": "StyleView",
            "description_width": "",
            "handle_color": null
          }
        },
        "24c60153d46e433cb3d6354d96b9e91d": {
          "model_module": "jupyter-leaflet",
          "model_module_version": "^0.18",
          "model_name": "LeafletMapStyleModel",
          "state": {
            "_model_module": "jupyter-leaflet",
            "_model_module_version": "^0.18",
            "_model_name": "LeafletMapStyleModel",
            "_view_count": null,
            "_view_module": "@jupyter-widgets/base",
            "_view_module_version": "1.2.0",
            "_view_name": "StyleView",
            "cursor": "grab"
          }
        },
        "25ea4a66401f43a289cf457c55f5ca92": {
          "model_module": "@jupyter-widgets/controls",
          "model_module_version": "1.5.0",
          "model_name": "HBoxModel",
          "state": {
            "_dom_classes": [],
            "_model_module": "@jupyter-widgets/controls",
            "_model_module_version": "1.5.0",
            "_model_name": "HBoxModel",
            "_view_count": null,
            "_view_module": "@jupyter-widgets/controls",
            "_view_module_version": "1.5.0",
            "_view_name": "HBoxView",
            "box_style": "",
            "children": [
              "IPY_MODEL_8b06989ca4574beba42b02ee04301232",
              "IPY_MODEL_4d9d52145cff4f3ea0bc6cd2fb01657e",
              "IPY_MODEL_8603eb02cc2c442b81e1279655e19cfb"
            ],
            "layout": "IPY_MODEL_af2bd63536fa4621892abf1901ff6d3f"
          }
        },
        "271a97903d1f47cc803654820eb44d7b": {
          "model_module": "jupyter-leaflet",
          "model_module_version": "^0.18",
          "model_name": "LeafletMapStyleModel",
          "state": {
            "_model_module": "jupyter-leaflet",
            "_model_module_version": "^0.18",
            "_model_name": "LeafletMapStyleModel",
            "_view_count": null,
            "_view_module": "@jupyter-widgets/base",
            "_view_module_version": "1.2.0",
            "_view_name": "StyleView",
            "cursor": "grab"
          }
        },
        "27272edb3d4e490cb784c323d884c0a8": {
          "model_module": "@jupyter-widgets/base",
          "model_module_version": "1.2.0",
          "model_name": "LayoutModel",
          "state": {
            "_model_module": "@jupyter-widgets/base",
            "_model_module_version": "1.2.0",
            "_model_name": "LayoutModel",
            "_view_count": null,
            "_view_module": "@jupyter-widgets/base",
            "_view_module_version": "1.2.0",
            "_view_name": "LayoutView",
            "align_content": null,
            "align_items": null,
            "align_self": null,
            "border": null,
            "bottom": null,
            "display": null,
            "flex": null,
            "flex_flow": null,
            "grid_area": null,
            "grid_auto_columns": null,
            "grid_auto_flow": null,
            "grid_auto_rows": null,
            "grid_column": null,
            "grid_gap": null,
            "grid_row": null,
            "grid_template_areas": null,
            "grid_template_columns": null,
            "grid_template_rows": null,
            "height": "18px",
            "justify_content": null,
            "justify_items": null,
            "left": null,
            "margin": null,
            "max_height": null,
            "max_width": null,
            "min_height": null,
            "min_width": null,
            "object_fit": null,
            "object_position": null,
            "order": null,
            "overflow": null,
            "overflow_x": null,
            "overflow_y": null,
            "padding": null,
            "right": null,
            "top": null,
            "visibility": null,
            "width": "140px"
          }
        },
        "272ea1aa4f074bc88b4a6dd9d24dc5ef": {
          "model_module": "@jupyter-widgets/base",
          "model_module_version": "1.2.0",
          "model_name": "LayoutModel",
          "state": {
            "_model_module": "@jupyter-widgets/base",
            "_model_module_version": "1.2.0",
            "_model_name": "LayoutModel",
            "_view_count": null,
            "_view_module": "@jupyter-widgets/base",
            "_view_module_version": "1.2.0",
            "_view_name": "LayoutView",
            "align_content": null,
            "align_items": null,
            "align_self": null,
            "border": null,
            "bottom": null,
            "display": null,
            "flex": null,
            "flex_flow": null,
            "grid_area": null,
            "grid_auto_columns": null,
            "grid_auto_flow": null,
            "grid_auto_rows": null,
            "grid_column": null,
            "grid_gap": null,
            "grid_row": null,
            "grid_template_areas": null,
            "grid_template_columns": null,
            "grid_template_rows": null,
            "height": null,
            "justify_content": null,
            "justify_items": null,
            "left": null,
            "margin": null,
            "max_height": null,
            "max_width": null,
            "min_height": null,
            "min_width": null,
            "object_fit": null,
            "object_position": null,
            "order": null,
            "overflow": null,
            "overflow_x": null,
            "overflow_y": null,
            "padding": null,
            "right": null,
            "top": null,
            "visibility": null,
            "width": "80px"
          }
        },
        "27d3716ad41c4789bf75dcb17eef6e3f": {
          "model_module": "@jupyter-widgets/controls",
          "model_module_version": "1.5.0",
          "model_name": "ButtonStyleModel",
          "state": {
            "_model_module": "@jupyter-widgets/controls",
            "_model_module_version": "1.5.0",
            "_model_name": "ButtonStyleModel",
            "_view_count": null,
            "_view_module": "@jupyter-widgets/base",
            "_view_module_version": "1.2.0",
            "_view_name": "StyleView",
            "button_color": null,
            "font_weight": ""
          }
        },
        "28219216b58e4de1be6fa02cfbea090b": {
          "model_module": "@jupyter-widgets/controls",
          "model_module_version": "1.5.0",
          "model_name": "DescriptionStyleModel",
          "state": {
            "_model_module": "@jupyter-widgets/controls",
            "_model_module_version": "1.5.0",
            "_model_name": "DescriptionStyleModel",
            "_view_count": null,
            "_view_module": "@jupyter-widgets/base",
            "_view_module_version": "1.2.0",
            "_view_name": "StyleView",
            "description_width": ""
          }
        },
        "28781b464578480b8a4eafab2e85769a": {
          "model_module": "@jupyter-widgets/controls",
          "model_module_version": "1.5.0",
          "model_name": "CheckboxModel",
          "state": {
            "_dom_classes": [],
            "_model_module": "@jupyter-widgets/controls",
            "_model_module_version": "1.5.0",
            "_model_name": "CheckboxModel",
            "_view_count": null,
            "_view_module": "@jupyter-widgets/controls",
            "_view_module_version": "1.5.0",
            "_view_name": "CheckboxView",
            "description": "NLCD 2011 CONUS Land Cover",
            "description_tooltip": null,
            "disabled": false,
            "indent": false,
            "layout": "IPY_MODEL_0bdf4be448dc465088750a500a287e20",
            "style": "IPY_MODEL_9766516ad4be421b813630154bd2d4ce",
            "value": false
          }
        },
        "28a9ce75958c42ddb04a25efb734b7a8": {
          "model_module": "@jupyter-widgets/base",
          "model_module_version": "1.2.0",
          "model_name": "LayoutModel",
          "state": {
            "_model_module": "@jupyter-widgets/base",
            "_model_module_version": "1.2.0",
            "_model_name": "LayoutModel",
            "_view_count": null,
            "_view_module": "@jupyter-widgets/base",
            "_view_module_version": "1.2.0",
            "_view_name": "LayoutView",
            "align_content": null,
            "align_items": null,
            "align_self": null,
            "border": null,
            "bottom": null,
            "display": null,
            "flex": null,
            "flex_flow": null,
            "grid_area": null,
            "grid_auto_columns": null,
            "grid_auto_flow": null,
            "grid_auto_rows": null,
            "grid_column": null,
            "grid_gap": null,
            "grid_row": null,
            "grid_template_areas": null,
            "grid_template_columns": null,
            "grid_template_rows": null,
            "height": null,
            "justify_content": null,
            "justify_items": null,
            "left": null,
            "margin": null,
            "max_height": null,
            "max_width": null,
            "min_height": null,
            "min_width": null,
            "object_fit": null,
            "object_position": null,
            "order": null,
            "overflow": null,
            "overflow_x": null,
            "overflow_y": null,
            "padding": "0px 8px 0px 8px",
            "right": null,
            "top": null,
            "visibility": null,
            "width": null
          }
        },
        "292ef64376a941eeaf8e4976293433be": {
          "model_module": "@jupyter-widgets/controls",
          "model_module_version": "1.5.0",
          "model_name": "CheckboxModel",
          "state": {
            "_dom_classes": [],
            "_model_module": "@jupyter-widgets/controls",
            "_model_module_version": "1.5.0",
            "_model_name": "CheckboxModel",
            "_view_count": null,
            "_view_module": "@jupyter-widgets/controls",
            "_view_module_version": "1.5.0",
            "_view_name": "CheckboxView",
            "description": "All layers on/off",
            "description_tooltip": null,
            "disabled": false,
            "indent": false,
            "layout": "IPY_MODEL_43fab0b8a48d4998a8051e2a505e0c99",
            "style": "IPY_MODEL_f927244eb1c141b8a5f7766232dc9bac",
            "value": false
          }
        },
        "29881522c04845f381a4cdf674dc23a3": {
          "model_module": "@jupyter-widgets/controls",
          "model_module_version": "1.5.0",
          "model_name": "DescriptionStyleModel",
          "state": {
            "_model_module": "@jupyter-widgets/controls",
            "_model_module_version": "1.5.0",
            "_model_name": "DescriptionStyleModel",
            "_view_count": null,
            "_view_module": "@jupyter-widgets/base",
            "_view_module_version": "1.2.0",
            "_view_name": "StyleView",
            "description_width": ""
          }
        },
        "29fb62891eee4a1bbd73c22c0f0e1c62": {
          "model_module": "jupyter-leaflet",
          "model_module_version": "^0.18",
          "model_name": "LeafletWidgetControlModel",
          "state": {
            "_model_module": "jupyter-leaflet",
            "_model_module_version": "^0.18",
            "_model_name": "LeafletWidgetControlModel",
            "_view_count": null,
            "_view_module": "jupyter-leaflet",
            "_view_module_version": "^0.18",
            "_view_name": "LeafletWidgetControlView",
            "max_height": null,
            "max_width": null,
            "min_height": null,
            "min_width": null,
            "options": [
              "position",
              "transparent_bg"
            ],
            "position": "topleft",
            "transparent_bg": false,
            "widget": "IPY_MODEL_c9a3ee3dd4d24b0c94d79cf502d81ced"
          }
        },
        "2a940fd9bee9427789ede7d84c1e78e1": {
          "model_module": "@jupyter-widgets/base",
          "model_module_version": "1.2.0",
          "model_name": "LayoutModel",
          "state": {
            "_model_module": "@jupyter-widgets/base",
            "_model_module_version": "1.2.0",
            "_model_name": "LayoutModel",
            "_view_count": null,
            "_view_module": "@jupyter-widgets/base",
            "_view_module_version": "1.2.0",
            "_view_name": "LayoutView",
            "align_content": null,
            "align_items": null,
            "align_self": null,
            "border": null,
            "bottom": null,
            "display": null,
            "flex": null,
            "flex_flow": null,
            "grid_area": null,
            "grid_auto_columns": null,
            "grid_auto_flow": null,
            "grid_auto_rows": null,
            "grid_column": null,
            "grid_gap": null,
            "grid_row": null,
            "grid_template_areas": null,
            "grid_template_columns": null,
            "grid_template_rows": null,
            "height": null,
            "justify_content": null,
            "justify_items": null,
            "left": null,
            "margin": null,
            "max_height": null,
            "max_width": null,
            "min_height": null,
            "min_width": null,
            "object_fit": null,
            "object_position": null,
            "order": null,
            "overflow": null,
            "overflow_x": null,
            "overflow_y": null,
            "padding": null,
            "right": null,
            "top": null,
            "visibility": null,
            "width": "80px"
          }
        },
        "2b55eec80a324f628c7f3072b982bf12": {
          "model_module": "@jupyter-widgets/controls",
          "model_module_version": "1.5.0",
          "model_name": "ButtonStyleModel",
          "state": {
            "_model_module": "@jupyter-widgets/controls",
            "_model_module_version": "1.5.0",
            "_model_name": "ButtonStyleModel",
            "_view_count": null,
            "_view_module": "@jupyter-widgets/base",
            "_view_module_version": "1.2.0",
            "_view_name": "StyleView",
            "button_color": null,
            "font_weight": ""
          }
        },
        "2b95a0fb930647de8406aed18b970505": {
          "model_module": "@jupyter-widgets/controls",
          "model_module_version": "1.5.0",
          "model_name": "SliderStyleModel",
          "state": {
            "_model_module": "@jupyter-widgets/controls",
            "_model_module_version": "1.5.0",
            "_model_name": "SliderStyleModel",
            "_view_count": null,
            "_view_module": "@jupyter-widgets/base",
            "_view_module_version": "1.2.0",
            "_view_name": "StyleView",
            "description_width": "",
            "handle_color": null
          }
        },
        "2c3770938e0a4644a4eb88e263240962": {
          "model_module": "@jupyter-widgets/controls",
          "model_module_version": "1.5.0",
          "model_name": "ToggleButtonModel",
          "state": {
            "_dom_classes": [],
            "_model_module": "@jupyter-widgets/controls",
            "_model_module_version": "1.5.0",
            "_model_name": "ToggleButtonModel",
            "_view_count": null,
            "_view_module": "@jupyter-widgets/controls",
            "_view_module_version": "1.5.0",
            "_view_name": "ToggleButtonView",
            "button_style": "",
            "description": "",
            "description_tooltip": null,
            "disabled": false,
            "icon": "globe",
            "layout": "IPY_MODEL_688c1a0d84844940b715771be4e1c473",
            "style": "IPY_MODEL_200ff66a061e4c78a528d6a6b103dd05",
            "tooltip": "Search location/data",
            "value": false
          }
        },
        "2c7d8985a06f4302b73e507a176d4f49": {
          "model_module": "@jupyter-widgets/controls",
          "model_module_version": "1.5.0",
          "model_name": "DescriptionStyleModel",
          "state": {
            "_model_module": "@jupyter-widgets/controls",
            "_model_module_version": "1.5.0",
            "_model_name": "DescriptionStyleModel",
            "_view_count": null,
            "_view_module": "@jupyter-widgets/base",
            "_view_module_version": "1.2.0",
            "_view_name": "StyleView",
            "description_width": ""
          }
        },
        "2ee92a6d56f9407a886d452d7bc997f6": {
          "model_module": "@jupyter-widgets/controls",
          "model_module_version": "1.5.0",
          "model_name": "FloatSliderModel",
          "state": {
            "_dom_classes": [],
            "_model_module": "@jupyter-widgets/controls",
            "_model_module_version": "1.5.0",
            "_model_name": "FloatSliderModel",
            "_view_count": null,
            "_view_module": "@jupyter-widgets/controls",
            "_view_module_version": "1.5.0",
            "_view_name": "FloatSliderView",
            "continuous_update": true,
            "description": "",
            "description_tooltip": null,
            "disabled": false,
            "layout": "IPY_MODEL_85c59e63890c4755bd9320ea46deb494",
            "max": 1,
            "min": 0,
            "orientation": "horizontal",
            "readout": false,
            "readout_format": ".2f",
            "step": 0.01,
            "style": "IPY_MODEL_3a7a4ea8dffd4b5dbf8ee49130f71a5c",
            "value": 1
          }
        },
        "3065af6ecde14700883b6f0c4eacefc5": {
          "model_module": "@jupyter-widgets/base",
          "model_module_version": "1.2.0",
          "model_name": "LayoutModel",
          "state": {
            "_model_module": "@jupyter-widgets/base",
            "_model_module_version": "1.2.0",
            "_model_name": "LayoutModel",
            "_view_count": null,
            "_view_module": "@jupyter-widgets/base",
            "_view_module_version": "1.2.0",
            "_view_name": "LayoutView",
            "align_content": null,
            "align_items": null,
            "align_self": null,
            "border": null,
            "bottom": null,
            "display": null,
            "flex": null,
            "flex_flow": null,
            "grid_area": null,
            "grid_auto_columns": null,
            "grid_auto_flow": null,
            "grid_auto_rows": null,
            "grid_column": null,
            "grid_gap": null,
            "grid_row": null,
            "grid_template_areas": null,
            "grid_template_columns": null,
            "grid_template_rows": null,
            "height": "25px",
            "justify_content": null,
            "justify_items": null,
            "left": null,
            "margin": null,
            "max_height": null,
            "max_width": null,
            "min_height": null,
            "min_width": null,
            "object_fit": null,
            "object_position": null,
            "order": null,
            "overflow": null,
            "overflow_x": null,
            "overflow_y": null,
            "padding": "0px",
            "right": null,
            "top": null,
            "visibility": null,
            "width": "25px"
          }
        },
        "30acc6fbb6e348208546e75917259d6f": {
          "model_module": "@jupyter-widgets/base",
          "model_module_version": "1.2.0",
          "model_name": "LayoutModel",
          "state": {
            "_model_module": "@jupyter-widgets/base",
            "_model_module_version": "1.2.0",
            "_model_name": "LayoutModel",
            "_view_count": null,
            "_view_module": "@jupyter-widgets/base",
            "_view_module_version": "1.2.0",
            "_view_name": "LayoutView",
            "align_content": null,
            "align_items": null,
            "align_self": null,
            "border": null,
            "bottom": null,
            "display": null,
            "flex": null,
            "flex_flow": null,
            "grid_area": null,
            "grid_auto_columns": null,
            "grid_auto_flow": null,
            "grid_auto_rows": null,
            "grid_column": null,
            "grid_gap": null,
            "grid_row": null,
            "grid_template_areas": null,
            "grid_template_columns": null,
            "grid_template_rows": null,
            "height": "28px",
            "justify_content": null,
            "justify_items": null,
            "left": null,
            "margin": null,
            "max_height": null,
            "max_width": null,
            "min_height": null,
            "min_width": null,
            "object_fit": null,
            "object_position": null,
            "order": null,
            "overflow": null,
            "overflow_x": null,
            "overflow_y": null,
            "padding": null,
            "right": null,
            "top": null,
            "visibility": null,
            "width": "72px"
          }
        },
        "318709a28c7246fe9f4db53efe9f3428": {
          "model_module": "@jupyter-widgets/controls",
          "model_module_version": "1.5.0",
          "model_name": "DescriptionStyleModel",
          "state": {
            "_model_module": "@jupyter-widgets/controls",
            "_model_module_version": "1.5.0",
            "_model_name": "DescriptionStyleModel",
            "_view_count": null,
            "_view_module": "@jupyter-widgets/base",
            "_view_module_version": "1.2.0",
            "_view_name": "StyleView",
            "description_width": ""
          }
        },
        "3189eaa7fd5a4e9e9cbc4ca85781b470": {
          "model_module": "@jupyter-widgets/base",
          "model_module_version": "1.2.0",
          "model_name": "LayoutModel",
          "state": {
            "_model_module": "@jupyter-widgets/base",
            "_model_module_version": "1.2.0",
            "_model_name": "LayoutModel",
            "_view_count": null,
            "_view_module": "@jupyter-widgets/base",
            "_view_module_version": "1.2.0",
            "_view_name": "LayoutView",
            "align_content": null,
            "align_items": null,
            "align_self": null,
            "border": null,
            "bottom": null,
            "display": null,
            "flex": null,
            "flex_flow": null,
            "grid_area": null,
            "grid_auto_columns": null,
            "grid_auto_flow": null,
            "grid_auto_rows": null,
            "grid_column": null,
            "grid_gap": null,
            "grid_row": null,
            "grid_template_areas": null,
            "grid_template_columns": null,
            "grid_template_rows": null,
            "height": null,
            "justify_content": null,
            "justify_items": null,
            "left": null,
            "margin": null,
            "max_height": null,
            "max_width": null,
            "min_height": null,
            "min_width": null,
            "object_fit": null,
            "object_position": null,
            "order": null,
            "overflow": null,
            "overflow_x": null,
            "overflow_y": null,
            "padding": null,
            "right": null,
            "top": null,
            "visibility": null,
            "width": "80px"
          }
        },
        "3296a517f35246ab9d53a7db74c197f1": {
          "model_module": "@jupyter-widgets/base",
          "model_module_version": "1.2.0",
          "model_name": "LayoutModel",
          "state": {
            "_model_module": "@jupyter-widgets/base",
            "_model_module_version": "1.2.0",
            "_model_name": "LayoutModel",
            "_view_count": null,
            "_view_module": "@jupyter-widgets/base",
            "_view_module_version": "1.2.0",
            "_view_name": "LayoutView",
            "align_content": null,
            "align_items": null,
            "align_self": null,
            "border": null,
            "bottom": null,
            "display": null,
            "flex": null,
            "flex_flow": null,
            "grid_area": null,
            "grid_auto_columns": null,
            "grid_auto_flow": null,
            "grid_auto_rows": null,
            "grid_column": null,
            "grid_gap": null,
            "grid_row": null,
            "grid_template_areas": null,
            "grid_template_columns": null,
            "grid_template_rows": null,
            "height": "600px",
            "justify_content": null,
            "justify_items": null,
            "left": null,
            "margin": null,
            "max_height": null,
            "max_width": null,
            "min_height": null,
            "min_width": null,
            "object_fit": null,
            "object_position": null,
            "order": null,
            "overflow": null,
            "overflow_x": null,
            "overflow_y": null,
            "padding": null,
            "right": null,
            "top": null,
            "visibility": null,
            "width": null
          }
        },
        "32edb069f7b440288156f15ebc81fe21": {
          "model_module": "@jupyter-widgets/controls",
          "model_module_version": "1.5.0",
          "model_name": "ButtonModel",
          "state": {
            "_dom_classes": [],
            "_model_module": "@jupyter-widgets/controls",
            "_model_module_version": "1.5.0",
            "_model_name": "ButtonModel",
            "_view_count": null,
            "_view_module": "@jupyter-widgets/controls",
            "_view_module_version": "1.5.0",
            "_view_name": "ButtonView",
            "button_style": "",
            "description": "",
            "disabled": false,
            "icon": "gear",
            "layout": "IPY_MODEL_4cdf266ef5444226b5b6c853262257dd",
            "style": "IPY_MODEL_c1238a6026ce48c980ee7cc3feb52a20",
            "tooltip": "NLCD 2011 CONUS Land Cover"
          }
        },
        "33963332255345eba7d0fab7c4f8d890": {
          "model_module": "@jupyter-widgets/base",
          "model_module_version": "1.2.0",
          "model_name": "LayoutModel",
          "state": {
            "_model_module": "@jupyter-widgets/base",
            "_model_module_version": "1.2.0",
            "_model_name": "LayoutModel",
            "_view_count": null,
            "_view_module": "@jupyter-widgets/base",
            "_view_module_version": "1.2.0",
            "_view_name": "LayoutView",
            "align_content": null,
            "align_items": null,
            "align_self": null,
            "border": null,
            "bottom": null,
            "display": null,
            "flex": null,
            "flex_flow": null,
            "grid_area": null,
            "grid_auto_columns": null,
            "grid_auto_flow": null,
            "grid_auto_rows": null,
            "grid_column": null,
            "grid_gap": null,
            "grid_row": null,
            "grid_template_areas": null,
            "grid_template_columns": null,
            "grid_template_rows": null,
            "height": null,
            "justify_content": null,
            "justify_items": null,
            "left": null,
            "margin": null,
            "max_height": null,
            "max_width": null,
            "min_height": null,
            "min_width": null,
            "object_fit": null,
            "object_position": null,
            "order": null,
            "overflow": null,
            "overflow_x": null,
            "overflow_y": null,
            "padding": null,
            "right": null,
            "top": null,
            "visibility": null,
            "width": "80px"
          }
        },
        "34182f8427aa448b9f317466ddfb79d3": {
          "model_module": "@jupyter-widgets/controls",
          "model_module_version": "1.5.0",
          "model_name": "ButtonStyleModel",
          "state": {
            "_model_module": "@jupyter-widgets/controls",
            "_model_module_version": "1.5.0",
            "_model_name": "ButtonStyleModel",
            "_view_count": null,
            "_view_module": "@jupyter-widgets/base",
            "_view_module_version": "1.2.0",
            "_view_name": "StyleView",
            "button_color": null,
            "font_weight": ""
          }
        },
        "34b3ffb535004c8280d04813f6d688b5": {
          "model_module": "@jupyter-widgets/base",
          "model_module_version": "1.2.0",
          "model_name": "LayoutModel",
          "state": {
            "_model_module": "@jupyter-widgets/base",
            "_model_module_version": "1.2.0",
            "_model_name": "LayoutModel",
            "_view_count": null,
            "_view_module": "@jupyter-widgets/base",
            "_view_module_version": "1.2.0",
            "_view_name": "LayoutView",
            "align_content": null,
            "align_items": null,
            "align_self": null,
            "border": null,
            "bottom": null,
            "display": null,
            "flex": null,
            "flex_flow": null,
            "grid_area": null,
            "grid_auto_columns": null,
            "grid_auto_flow": null,
            "grid_auto_rows": null,
            "grid_column": null,
            "grid_gap": null,
            "grid_row": null,
            "grid_template_areas": null,
            "grid_template_columns": null,
            "grid_template_rows": null,
            "height": null,
            "justify_content": null,
            "justify_items": null,
            "left": null,
            "margin": null,
            "max_height": null,
            "max_width": null,
            "min_height": null,
            "min_width": null,
            "object_fit": null,
            "object_position": null,
            "order": null,
            "overflow": null,
            "overflow_x": null,
            "overflow_y": null,
            "padding": null,
            "right": null,
            "top": null,
            "visibility": null,
            "width": "32px"
          }
        },
        "3636bbe634f3449da28e6cc8d35cf2a2": {
          "model_module": "@jupyter-widgets/base",
          "model_module_version": "1.2.0",
          "model_name": "LayoutModel",
          "state": {
            "_model_module": "@jupyter-widgets/base",
            "_model_module_version": "1.2.0",
            "_model_name": "LayoutModel",
            "_view_count": null,
            "_view_module": "@jupyter-widgets/base",
            "_view_module_version": "1.2.0",
            "_view_name": "LayoutView",
            "align_content": null,
            "align_items": null,
            "align_self": null,
            "border": null,
            "bottom": null,
            "display": null,
            "flex": null,
            "flex_flow": null,
            "grid_area": null,
            "grid_auto_columns": null,
            "grid_auto_flow": null,
            "grid_auto_rows": null,
            "grid_column": null,
            "grid_gap": null,
            "grid_row": null,
            "grid_template_areas": null,
            "grid_template_columns": null,
            "grid_template_rows": null,
            "height": "18px",
            "justify_content": null,
            "justify_items": null,
            "left": null,
            "margin": null,
            "max_height": null,
            "max_width": null,
            "min_height": null,
            "min_width": null,
            "object_fit": null,
            "object_position": null,
            "order": null,
            "overflow": null,
            "overflow_x": null,
            "overflow_y": null,
            "padding": null,
            "right": null,
            "top": null,
            "visibility": null,
            "width": "140px"
          }
        },
        "3652b484497048bc9ce37edccd0ee3d1": {
          "model_module": "@jupyter-widgets/base",
          "model_module_version": "1.2.0",
          "model_name": "LayoutModel",
          "state": {
            "_model_module": "@jupyter-widgets/base",
            "_model_module_version": "1.2.0",
            "_model_name": "LayoutModel",
            "_view_count": null,
            "_view_module": "@jupyter-widgets/base",
            "_view_module_version": "1.2.0",
            "_view_name": "LayoutView",
            "align_content": null,
            "align_items": null,
            "align_self": null,
            "border": null,
            "bottom": null,
            "display": null,
            "flex": null,
            "flex_flow": null,
            "grid_area": null,
            "grid_auto_columns": null,
            "grid_auto_flow": null,
            "grid_auto_rows": null,
            "grid_column": null,
            "grid_gap": null,
            "grid_row": null,
            "grid_template_areas": null,
            "grid_template_columns": null,
            "grid_template_rows": null,
            "height": null,
            "justify_content": null,
            "justify_items": null,
            "left": null,
            "margin": null,
            "max_height": null,
            "max_width": null,
            "min_height": null,
            "min_width": null,
            "object_fit": null,
            "object_position": null,
            "order": null,
            "overflow": null,
            "overflow_x": null,
            "overflow_y": null,
            "padding": "0px 8px 0px 8px",
            "right": null,
            "top": null,
            "visibility": null,
            "width": null
          }
        },
        "36af11d474bf486da2c1f8c7666607c6": {
          "model_module": "@jupyter-widgets/controls",
          "model_module_version": "1.5.0",
          "model_name": "HBoxModel",
          "state": {
            "_dom_classes": [],
            "_model_module": "@jupyter-widgets/controls",
            "_model_module_version": "1.5.0",
            "_model_name": "HBoxModel",
            "_view_count": null,
            "_view_module": "@jupyter-widgets/controls",
            "_view_module_version": "1.5.0",
            "_view_name": "HBoxView",
            "box_style": "",
            "children": [
              "IPY_MODEL_d1a5760ee1204a5caeac56ef12d0359a",
              "IPY_MODEL_486bfbbdebe044aab0969549be64180b"
            ],
            "layout": "IPY_MODEL_991cc875933f45778c7f390f198b0c50"
          }
        },
        "3703ea2b565d4e7f8e2aa6a954b29f30": {
          "model_module": "@jupyter-widgets/controls",
          "model_module_version": "1.5.0",
          "model_name": "FloatSliderModel",
          "state": {
            "_dom_classes": [],
            "_model_module": "@jupyter-widgets/controls",
            "_model_module_version": "1.5.0",
            "_model_name": "FloatSliderModel",
            "_view_count": null,
            "_view_module": "@jupyter-widgets/controls",
            "_view_module_version": "1.5.0",
            "_view_name": "FloatSliderView",
            "continuous_update": true,
            "description": "",
            "description_tooltip": null,
            "disabled": false,
            "layout": "IPY_MODEL_0605172dc90e467d83d642cf541fbc96",
            "max": 1,
            "min": 0,
            "orientation": "horizontal",
            "readout": false,
            "readout_format": ".2f",
            "step": 0.01,
            "style": "IPY_MODEL_b9497144946a444c933e96dc2f8b9b70",
            "value": 1
          }
        },
        "373b468013694a40b469541f0ac1c7bf": {
          "model_module": "@jupyter-widgets/controls",
          "model_module_version": "1.5.0",
          "model_name": "HBoxModel",
          "state": {
            "_dom_classes": [],
            "_model_module": "@jupyter-widgets/controls",
            "_model_module_version": "1.5.0",
            "_model_name": "HBoxModel",
            "_view_count": null,
            "_view_module": "@jupyter-widgets/controls",
            "_view_module_version": "1.5.0",
            "_view_name": "HBoxView",
            "box_style": "",
            "children": [
              "IPY_MODEL_bbc67a4e11034a918ad977c565b64dfc",
              "IPY_MODEL_32edb069f7b440288156f15ebc81fe21",
              "IPY_MODEL_e97eda2172cb4982b2ebe7e9cfee2e69"
            ],
            "layout": "IPY_MODEL_1e52dc0a1e6949dea315b973d584aa7d"
          }
        },
        "3752cd59fafa4a60ac3c38f41f540d42": {
          "model_module": "@jupyter-widgets/base",
          "model_module_version": "1.2.0",
          "model_name": "LayoutModel",
          "state": {
            "_model_module": "@jupyter-widgets/base",
            "_model_module_version": "1.2.0",
            "_model_name": "LayoutModel",
            "_view_count": null,
            "_view_module": "@jupyter-widgets/base",
            "_view_module_version": "1.2.0",
            "_view_name": "LayoutView",
            "align_content": null,
            "align_items": null,
            "align_self": null,
            "border": null,
            "bottom": null,
            "display": null,
            "flex": null,
            "flex_flow": null,
            "grid_area": null,
            "grid_auto_columns": null,
            "grid_auto_flow": null,
            "grid_auto_rows": null,
            "grid_column": null,
            "grid_gap": null,
            "grid_row": null,
            "grid_template_areas": null,
            "grid_template_columns": null,
            "grid_template_rows": null,
            "height": "18px",
            "justify_content": null,
            "justify_items": null,
            "left": null,
            "margin": null,
            "max_height": null,
            "max_width": null,
            "min_height": null,
            "min_width": null,
            "object_fit": null,
            "object_position": null,
            "order": null,
            "overflow": null,
            "overflow_x": null,
            "overflow_y": null,
            "padding": null,
            "right": null,
            "top": null,
            "visibility": null,
            "width": "140px"
          }
        },
        "37d0d0ee35f44042bf5b1d65334e6f2d": {
          "model_module": "@jupyter-widgets/controls",
          "model_module_version": "1.5.0",
          "model_name": "VBoxModel",
          "state": {
            "_dom_classes": [],
            "_model_module": "@jupyter-widgets/controls",
            "_model_module_version": "1.5.0",
            "_model_name": "VBoxModel",
            "_view_count": null,
            "_view_module": "@jupyter-widgets/controls",
            "_view_module_version": "1.5.0",
            "_view_name": "VBoxView",
            "box_style": "",
            "children": [
              "IPY_MODEL_0af59eade4c14813a7ed7f4b93c6a0f1",
              "IPY_MODEL_667d021f6419499bafeff4df98653fc6",
              "IPY_MODEL_3d0ccd47fd2648709e15f1be2ef29630",
              "IPY_MODEL_e46114b55fdf4799aef1181593fb112c"
            ],
            "layout": "IPY_MODEL_1d473a927c7d458ea4ee7bd52909d025"
          }
        },
        "3a7a4ea8dffd4b5dbf8ee49130f71a5c": {
          "model_module": "@jupyter-widgets/controls",
          "model_module_version": "1.5.0",
          "model_name": "SliderStyleModel",
          "state": {
            "_model_module": "@jupyter-widgets/controls",
            "_model_module_version": "1.5.0",
            "_model_name": "SliderStyleModel",
            "_view_count": null,
            "_view_module": "@jupyter-widgets/base",
            "_view_module_version": "1.2.0",
            "_view_name": "StyleView",
            "description_width": "",
            "handle_color": null
          }
        },
        "3acd7011a6344bbda4d6cd9c1026ea8e": {
          "model_module": "@jupyter-widgets/controls",
          "model_module_version": "1.5.0",
          "model_name": "SliderStyleModel",
          "state": {
            "_model_module": "@jupyter-widgets/controls",
            "_model_module_version": "1.5.0",
            "_model_name": "SliderStyleModel",
            "_view_count": null,
            "_view_module": "@jupyter-widgets/base",
            "_view_module_version": "1.2.0",
            "_view_name": "StyleView",
            "description_width": "",
            "handle_color": null
          }
        },
        "3b6719d623814fa097568489003a164b": {
          "model_module": "jupyter-leaflet",
          "model_module_version": "^0.18",
          "model_name": "LeafletZoomControlModel",
          "state": {
            "_model_module": "jupyter-leaflet",
            "_model_module_version": "^0.18",
            "_model_name": "LeafletZoomControlModel",
            "_view_count": null,
            "_view_module": "jupyter-leaflet",
            "_view_module_version": "^0.18",
            "_view_name": "LeafletZoomControlView",
            "options": [
              "position",
              "zoom_in_text",
              "zoom_in_title",
              "zoom_out_text",
              "zoom_out_title"
            ],
            "position": "topleft",
            "zoom_in_text": "+",
            "zoom_in_title": "Zoom in",
            "zoom_out_text": "-",
            "zoom_out_title": "Zoom out"
          }
        },
        "3b74d6e0fa7f498f942f5d79b274f2ef": {
          "model_module": "@jupyter-widgets/controls",
          "model_module_version": "1.5.0",
          "model_name": "DescriptionStyleModel",
          "state": {
            "_model_module": "@jupyter-widgets/controls",
            "_model_module_version": "1.5.0",
            "_model_name": "DescriptionStyleModel",
            "_view_count": null,
            "_view_module": "@jupyter-widgets/base",
            "_view_module_version": "1.2.0",
            "_view_name": "StyleView",
            "description_width": ""
          }
        },
        "3c5111b751b240f884bdc0c123de839e": {
          "model_module": "jupyter-leaflet",
          "model_module_version": "^0.18",
          "model_name": "LeafletFullScreenControlModel",
          "state": {
            "_model_module": "jupyter-leaflet",
            "_model_module_version": "^0.18",
            "_model_name": "LeafletFullScreenControlModel",
            "_view_count": null,
            "_view_module": "jupyter-leaflet",
            "_view_module_version": "^0.18",
            "_view_name": "LeafletFullScreenControlView",
            "options": [
              "position"
            ],
            "position": "topleft"
          }
        },
        "3d0ccd47fd2648709e15f1be2ef29630": {
          "model_module": "@jupyter-widgets/controls",
          "model_module_version": "1.5.0",
          "model_name": "HBoxModel",
          "state": {
            "_dom_classes": [],
            "_model_module": "@jupyter-widgets/controls",
            "_model_module_version": "1.5.0",
            "_model_name": "HBoxModel",
            "_view_count": null,
            "_view_module": "@jupyter-widgets/controls",
            "_view_module_version": "1.5.0",
            "_view_name": "HBoxView",
            "box_style": "",
            "children": [
              "IPY_MODEL_da9b7cf50c4c4e4a86495bab03ec6bb3",
              "IPY_MODEL_e45e6869b17346ddb36aa947628b4899",
              "IPY_MODEL_9bbbaf7caebb4ba1a4cd0e886d6e6e16"
            ],
            "layout": "IPY_MODEL_3652b484497048bc9ce37edccd0ee3d1"
          }
        },
        "3d3e5d8997c84ab1a9bbaf4afc80b17c": {
          "model_module": "@jupyter-widgets/base",
          "model_module_version": "1.2.0",
          "model_name": "LayoutModel",
          "state": {
            "_model_module": "@jupyter-widgets/base",
            "_model_module_version": "1.2.0",
            "_model_name": "LayoutModel",
            "_view_count": null,
            "_view_module": "@jupyter-widgets/base",
            "_view_module_version": "1.2.0",
            "_view_name": "LayoutView",
            "align_content": null,
            "align_items": null,
            "align_self": null,
            "border": null,
            "bottom": null,
            "display": null,
            "flex": null,
            "flex_flow": null,
            "grid_area": null,
            "grid_auto_columns": null,
            "grid_auto_flow": null,
            "grid_auto_rows": null,
            "grid_column": null,
            "grid_gap": null,
            "grid_row": null,
            "grid_template_areas": null,
            "grid_template_columns": null,
            "grid_template_rows": null,
            "height": null,
            "justify_content": null,
            "justify_items": null,
            "left": null,
            "margin": null,
            "max_height": null,
            "max_width": null,
            "min_height": null,
            "min_width": null,
            "object_fit": null,
            "object_position": null,
            "order": null,
            "overflow": null,
            "overflow_x": null,
            "overflow_y": null,
            "padding": "0px 8px 0px 8px",
            "right": null,
            "top": null,
            "visibility": null,
            "width": null
          }
        },
        "3dd0a28f01c046f68d75caa9cf69c624": {
          "model_module": "@jupyter-widgets/base",
          "model_module_version": "1.2.0",
          "model_name": "LayoutModel",
          "state": {
            "_model_module": "@jupyter-widgets/base",
            "_model_module_version": "1.2.0",
            "_model_name": "LayoutModel",
            "_view_count": null,
            "_view_module": "@jupyter-widgets/base",
            "_view_module_version": "1.2.0",
            "_view_name": "LayoutView",
            "align_content": null,
            "align_items": null,
            "align_self": null,
            "border": null,
            "bottom": null,
            "display": "none",
            "flex": null,
            "flex_flow": null,
            "grid_area": null,
            "grid_auto_columns": null,
            "grid_auto_flow": null,
            "grid_auto_rows": null,
            "grid_column": null,
            "grid_gap": null,
            "grid_row": null,
            "grid_template_areas": null,
            "grid_template_columns": null,
            "grid_template_rows": null,
            "height": null,
            "justify_content": null,
            "justify_items": null,
            "left": null,
            "margin": null,
            "max_height": null,
            "max_width": null,
            "min_height": null,
            "min_width": null,
            "object_fit": null,
            "object_position": null,
            "order": null,
            "overflow": null,
            "overflow_x": null,
            "overflow_y": null,
            "padding": null,
            "right": null,
            "top": null,
            "visibility": null,
            "width": null
          }
        },
        "3e7d0343fddd4911b15b04a837100cb6": {
          "model_module": "@jupyter-widgets/controls",
          "model_module_version": "1.5.0",
          "model_name": "HBoxModel",
          "state": {
            "_dom_classes": [],
            "_model_module": "@jupyter-widgets/controls",
            "_model_module_version": "1.5.0",
            "_model_name": "HBoxModel",
            "_view_count": null,
            "_view_module": "@jupyter-widgets/controls",
            "_view_module_version": "1.5.0",
            "_view_name": "HBoxView",
            "box_style": "",
            "children": [
              "IPY_MODEL_e4ea1445c6454e93b244a1f22b02ecf9",
              "IPY_MODEL_7c21d13185904be2876cab632397a6e3",
              "IPY_MODEL_b9f024cfa8104ce4a24ca9149328e695"
            ],
            "layout": "IPY_MODEL_abcb41172110446cb03ac862dca78d11"
          }
        },
        "3e9e9b39cf9248c5901c4f8ddb0ad8b0": {
          "model_module": "jupyter-leaflet",
          "model_module_version": "^0.18",
          "model_name": "LeafletWidgetControlModel",
          "state": {
            "_model_module": "jupyter-leaflet",
            "_model_module_version": "^0.18",
            "_model_name": "LeafletWidgetControlModel",
            "_view_count": null,
            "_view_module": "jupyter-leaflet",
            "_view_module_version": "^0.18",
            "_view_name": "LeafletWidgetControlView",
            "max_height": null,
            "max_width": null,
            "min_height": null,
            "min_width": null,
            "options": [
              "position",
              "transparent_bg"
            ],
            "position": "topright",
            "transparent_bg": false,
            "widget": "IPY_MODEL_c0969c17f8bd4edb9d2162784e5ddc39"
          }
        },
        "3ea22d155c6d40098a39858ccae830d4": {
          "model_module": "@jupyter-widgets/controls",
          "model_module_version": "1.5.0",
          "model_name": "HBoxModel",
          "state": {
            "_dom_classes": [],
            "_model_module": "@jupyter-widgets/controls",
            "_model_module_version": "1.5.0",
            "_model_name": "HBoxModel",
            "_view_count": null,
            "_view_module": "@jupyter-widgets/controls",
            "_view_module_version": "1.5.0",
            "_view_name": "HBoxView",
            "box_style": "",
            "children": [
              "IPY_MODEL_ec6c2591379b4e6b9995bb3b9468cf41",
              "IPY_MODEL_ccafa8ea25ae464ea90cb670545b7807",
              "IPY_MODEL_ec553e2fc6784cebb159287617f11e7a"
            ],
            "layout": "IPY_MODEL_28a9ce75958c42ddb04a25efb734b7a8"
          }
        },
        "3edf5a140e7e47f69265cc96b8e4920a": {
          "model_module": "@jupyter-widgets/controls",
          "model_module_version": "1.5.0",
          "model_name": "CheckboxModel",
          "state": {
            "_dom_classes": [],
            "_model_module": "@jupyter-widgets/controls",
            "_model_module_version": "1.5.0",
            "_model_name": "CheckboxModel",
            "_view_count": null,
            "_view_module": "@jupyter-widgets/controls",
            "_view_module_version": "1.5.0",
            "_view_name": "CheckboxView",
            "description": "OpenTopoMap",
            "description_tooltip": null,
            "disabled": false,
            "indent": false,
            "layout": "IPY_MODEL_3752cd59fafa4a60ac3c38f41f540d42",
            "style": "IPY_MODEL_0319ee2bebd34a5ba0e29ea74737c911",
            "value": true
          }
        },
        "3f0d1a08d5744e2c82115871f5326ecb": {
          "model_module": "@jupyter-widgets/base",
          "model_module_version": "1.2.0",
          "model_name": "LayoutModel",
          "state": {
            "_model_module": "@jupyter-widgets/base",
            "_model_module_version": "1.2.0",
            "_model_name": "LayoutModel",
            "_view_count": null,
            "_view_module": "@jupyter-widgets/base",
            "_view_module_version": "1.2.0",
            "_view_name": "LayoutView",
            "align_content": null,
            "align_items": null,
            "align_self": null,
            "border": null,
            "bottom": null,
            "display": null,
            "flex": null,
            "flex_flow": null,
            "grid_area": null,
            "grid_auto_columns": null,
            "grid_auto_flow": null,
            "grid_auto_rows": null,
            "grid_column": null,
            "grid_gap": null,
            "grid_row": null,
            "grid_template_areas": null,
            "grid_template_columns": null,
            "grid_template_rows": null,
            "height": null,
            "justify_content": null,
            "justify_items": null,
            "left": null,
            "margin": null,
            "max_height": null,
            "max_width": null,
            "min_height": null,
            "min_width": null,
            "object_fit": null,
            "object_position": null,
            "order": null,
            "overflow": null,
            "overflow_x": null,
            "overflow_y": null,
            "padding": null,
            "right": null,
            "top": null,
            "visibility": null,
            "width": null
          }
        },
        "3fd3675903d647b79f88e6f8157be939": {
          "model_module": "jupyter-leaflet",
          "model_module_version": "^0.18",
          "model_name": "LeafletTileLayerModel",
          "state": {
            "_model_module": "jupyter-leaflet",
            "_model_module_version": "^0.18",
            "_model_name": "LeafletTileLayerModel",
            "_view_count": null,
            "_view_module": "jupyter-leaflet",
            "_view_module_version": "^0.18",
            "_view_name": "LeafletTileLayerView",
            "attribution": "Esri",
            "base": true,
            "bottom": true,
            "bounds": null,
            "detect_retina": false,
            "loading": false,
            "max_native_zoom": null,
            "max_zoom": 24,
            "min_native_zoom": null,
            "min_zoom": 0,
            "name": "Esri.WorldImagery",
            "no_wrap": false,
            "opacity": 1,
            "options": [
              "attribution",
              "bounds",
              "detect_retina",
              "max_native_zoom",
              "max_zoom",
              "min_native_zoom",
              "min_zoom",
              "no_wrap",
              "tile_size",
              "tms",
              "zoom_offset"
            ],
            "pane": "",
            "popup": null,
            "popup_max_height": null,
            "popup_max_width": 300,
            "popup_min_width": 50,
            "show_loading": false,
            "subitems": [],
            "tile_size": 256,
            "tms": false,
            "url": "https://server.arcgisonline.com/ArcGIS/rest/services/World_Imagery/MapServer/tile/{z}/{y}/{x}",
            "visible": false,
            "zoom_offset": 0
          }
        },
        "404deed85e8d4760a4b28ddd49e9b68f": {
          "model_module": "@jupyter-widgets/controls",
          "model_module_version": "1.5.0",
          "model_name": "SliderStyleModel",
          "state": {
            "_model_module": "@jupyter-widgets/controls",
            "_model_module_version": "1.5.0",
            "_model_name": "SliderStyleModel",
            "_view_count": null,
            "_view_module": "@jupyter-widgets/base",
            "_view_module_version": "1.2.0",
            "_view_name": "StyleView",
            "description_width": "",
            "handle_color": null
          }
        },
        "40836f033c81414888a74244448e76b9": {
          "model_module": "@jupyter-widgets/controls",
          "model_module_version": "1.5.0",
          "model_name": "SliderStyleModel",
          "state": {
            "_model_module": "@jupyter-widgets/controls",
            "_model_module_version": "1.5.0",
            "_model_name": "SliderStyleModel",
            "_view_count": null,
            "_view_module": "@jupyter-widgets/base",
            "_view_module_version": "1.2.0",
            "_view_name": "StyleView",
            "description_width": "",
            "handle_color": null
          }
        },
        "416866922e78444b9c14450d262138fc": {
          "model_module": "jupyter-leaflet",
          "model_module_version": "^0.18",
          "model_name": "LeafletTileLayerModel",
          "state": {
            "_model_module": "jupyter-leaflet",
            "_model_module_version": "^0.18",
            "_model_name": "LeafletTileLayerModel",
            "_view_count": null,
            "_view_module": "jupyter-leaflet",
            "_view_module_version": "^0.18",
            "_view_name": "LeafletTileLayerView",
            "attribution": "&copy; <a href=\"https://www.openstreetmap.org/copyright\">OpenStreetMap</a> contributors",
            "base": true,
            "bottom": true,
            "bounds": null,
            "detect_retina": false,
            "loading": false,
            "max_native_zoom": null,
            "max_zoom": 19,
            "min_native_zoom": null,
            "min_zoom": 1,
            "name": "OpenStreetMap.Mapnik",
            "no_wrap": false,
            "opacity": 1,
            "options": [
              "attribution",
              "bounds",
              "detect_retina",
              "max_native_zoom",
              "max_zoom",
              "min_native_zoom",
              "min_zoom",
              "no_wrap",
              "tile_size",
              "tms",
              "zoom_offset"
            ],
            "pane": "",
            "popup": null,
            "popup_max_height": null,
            "popup_max_width": 300,
            "popup_min_width": 50,
            "show_loading": false,
            "subitems": [],
            "tile_size": 256,
            "tms": false,
            "url": "https://tile.openstreetmap.org/{z}/{x}/{y}.png",
            "visible": true,
            "zoom_offset": 0
          }
        },
        "420da750250e4e469a730b525ea45b0e": {
          "model_module": "jupyter-leaflet",
          "model_module_version": "^0.18",
          "model_name": "LeafletMapStyleModel",
          "state": {
            "_model_module": "jupyter-leaflet",
            "_model_module_version": "^0.18",
            "_model_name": "LeafletMapStyleModel",
            "_view_count": null,
            "_view_module": "@jupyter-widgets/base",
            "_view_module_version": "1.2.0",
            "_view_name": "StyleView",
            "cursor": "grab"
          }
        },
        "4235c16f87594ed1af038e845bc1d1bf": {
          "model_module": "@jupyter-widgets/controls",
          "model_module_version": "1.5.0",
          "model_name": "FloatSliderModel",
          "state": {
            "_dom_classes": [],
            "_model_module": "@jupyter-widgets/controls",
            "_model_module_version": "1.5.0",
            "_model_name": "FloatSliderModel",
            "_view_count": null,
            "_view_module": "@jupyter-widgets/controls",
            "_view_module_version": "1.5.0",
            "_view_name": "FloatSliderView",
            "continuous_update": true,
            "description": "",
            "description_tooltip": null,
            "disabled": false,
            "layout": "IPY_MODEL_ff95b7753ad949cc9f4ad2cc097aa117",
            "max": 1,
            "min": 0,
            "orientation": "horizontal",
            "readout": false,
            "readout_format": ".2f",
            "step": 0.01,
            "style": "IPY_MODEL_07dbcb28e82449f18830a96134719c04",
            "value": 1
          }
        },
        "42d4f8569c734f63be4d5e6ce959764d": {
          "model_module": "@jupyter-widgets/controls",
          "model_module_version": "1.5.0",
          "model_name": "VBoxModel",
          "state": {
            "_dom_classes": [],
            "_model_module": "@jupyter-widgets/controls",
            "_model_module_version": "1.5.0",
            "_model_name": "VBoxModel",
            "_view_count": null,
            "_view_module": "@jupyter-widgets/controls",
            "_view_module_version": "1.5.0",
            "_view_name": "VBoxView",
            "box_style": "",
            "children": [
              "IPY_MODEL_ced2a4a0d4b44394baee8c88c1b7b9f4",
              "IPY_MODEL_d2b4b133aca74936a8a5298a69b3d281",
              "IPY_MODEL_d1dca999e21d447e8779e0b012144b19",
              "IPY_MODEL_cb3d3c6c63f247739361002159fda84d"
            ],
            "layout": "IPY_MODEL_7b7cd74724154beaa7afce5133a3fe5e"
          }
        },
        "43a8783128be4d4a9fb75d2aec144f71": {
          "model_module": "@jupyter-widgets/base",
          "model_module_version": "1.2.0",
          "model_name": "LayoutModel",
          "state": {
            "_model_module": "@jupyter-widgets/base",
            "_model_module_version": "1.2.0",
            "_model_name": "LayoutModel",
            "_view_count": null,
            "_view_module": "@jupyter-widgets/base",
            "_view_module_version": "1.2.0",
            "_view_name": "LayoutView",
            "align_content": null,
            "align_items": null,
            "align_self": null,
            "border": null,
            "bottom": null,
            "display": null,
            "flex": null,
            "flex_flow": null,
            "grid_area": null,
            "grid_auto_columns": null,
            "grid_auto_flow": null,
            "grid_auto_rows": null,
            "grid_column": null,
            "grid_gap": null,
            "grid_row": null,
            "grid_template_areas": null,
            "grid_template_columns": null,
            "grid_template_rows": null,
            "height": null,
            "justify_content": null,
            "justify_items": null,
            "left": null,
            "margin": null,
            "max_height": null,
            "max_width": null,
            "min_height": null,
            "min_width": null,
            "object_fit": null,
            "object_position": null,
            "order": null,
            "overflow": null,
            "overflow_x": null,
            "overflow_y": null,
            "padding": "0px 8px 0px 8px",
            "right": null,
            "top": null,
            "visibility": null,
            "width": null
          }
        },
        "43fab0b8a48d4998a8051e2a505e0c99": {
          "model_module": "@jupyter-widgets/base",
          "model_module_version": "1.2.0",
          "model_name": "LayoutModel",
          "state": {
            "_model_module": "@jupyter-widgets/base",
            "_model_module_version": "1.2.0",
            "_model_name": "LayoutModel",
            "_view_count": null,
            "_view_module": "@jupyter-widgets/base",
            "_view_module_version": "1.2.0",
            "_view_name": "LayoutView",
            "align_content": null,
            "align_items": null,
            "align_self": null,
            "border": null,
            "bottom": null,
            "display": null,
            "flex": null,
            "flex_flow": null,
            "grid_area": null,
            "grid_auto_columns": null,
            "grid_auto_flow": null,
            "grid_auto_rows": null,
            "grid_column": null,
            "grid_gap": null,
            "grid_row": null,
            "grid_template_areas": null,
            "grid_template_columns": null,
            "grid_template_rows": null,
            "height": "18px",
            "justify_content": null,
            "justify_items": null,
            "left": null,
            "margin": null,
            "max_height": null,
            "max_width": null,
            "min_height": null,
            "min_width": null,
            "object_fit": null,
            "object_position": null,
            "order": null,
            "overflow": null,
            "overflow_x": null,
            "overflow_y": null,
            "padding": "0px 8px 25px 8px",
            "right": null,
            "top": null,
            "visibility": null,
            "width": "30ex"
          }
        },
        "464571edae17489aa7d6de436222a5cf": {
          "model_module": "@jupyter-widgets/controls",
          "model_module_version": "1.5.0",
          "model_name": "DescriptionStyleModel",
          "state": {
            "_model_module": "@jupyter-widgets/controls",
            "_model_module_version": "1.5.0",
            "_model_name": "DescriptionStyleModel",
            "_view_count": null,
            "_view_module": "@jupyter-widgets/base",
            "_view_module_version": "1.2.0",
            "_view_name": "StyleView",
            "description_width": ""
          }
        },
        "46efd8d8d6914a979bd132d2500c8dc9": {
          "model_module": "@jupyter-widgets/controls",
          "model_module_version": "1.5.0",
          "model_name": "ToggleButtonModel",
          "state": {
            "_dom_classes": [],
            "_model_module": "@jupyter-widgets/controls",
            "_model_module_version": "1.5.0",
            "_model_name": "ToggleButtonModel",
            "_view_count": null,
            "_view_module": "@jupyter-widgets/controls",
            "_view_module_version": "1.5.0",
            "_view_name": "ToggleButtonView",
            "button_style": "primary",
            "description": "",
            "description_tooltip": null,
            "disabled": false,
            "icon": "map",
            "layout": "IPY_MODEL_cff3e574436c4fafbffb6ee10500a357",
            "style": "IPY_MODEL_f1b93148c72449349cd92b200c1d0ff8",
            "tooltip": "Change basemap",
            "value": true
          }
        },
        "47a89d64733c42539021f08543b79dcc": {
          "model_module": "@jupyter-widgets/base",
          "model_module_version": "1.2.0",
          "model_name": "LayoutModel",
          "state": {
            "_model_module": "@jupyter-widgets/base",
            "_model_module_version": "1.2.0",
            "_model_name": "LayoutModel",
            "_view_count": null,
            "_view_module": "@jupyter-widgets/base",
            "_view_module_version": "1.2.0",
            "_view_name": "LayoutView",
            "align_content": null,
            "align_items": null,
            "align_self": null,
            "border": null,
            "bottom": null,
            "display": null,
            "flex": null,
            "flex_flow": null,
            "grid_area": null,
            "grid_auto_columns": null,
            "grid_auto_flow": null,
            "grid_auto_rows": null,
            "grid_column": null,
            "grid_gap": null,
            "grid_row": null,
            "grid_template_areas": null,
            "grid_template_columns": null,
            "grid_template_rows": null,
            "height": null,
            "justify_content": null,
            "justify_items": null,
            "left": null,
            "margin": null,
            "max_height": null,
            "max_width": null,
            "min_height": null,
            "min_width": null,
            "object_fit": null,
            "object_position": null,
            "order": null,
            "overflow": null,
            "overflow_x": null,
            "overflow_y": null,
            "padding": "0px 8px 0px 8px",
            "right": null,
            "top": null,
            "visibility": null,
            "width": null
          }
        },
        "4861530512a74ab6a13ccdf7f9e293bb": {
          "model_module": "@jupyter-widgets/controls",
          "model_module_version": "1.5.0",
          "model_name": "DescriptionStyleModel",
          "state": {
            "_model_module": "@jupyter-widgets/controls",
            "_model_module_version": "1.5.0",
            "_model_name": "DescriptionStyleModel",
            "_view_count": null,
            "_view_module": "@jupyter-widgets/base",
            "_view_module_version": "1.2.0",
            "_view_name": "StyleView",
            "description_width": ""
          }
        },
        "486bfbbdebe044aab0969549be64180b": {
          "model_module": "@jupyter-widgets/controls",
          "model_module_version": "1.5.0",
          "model_name": "ToggleButtonModel",
          "state": {
            "_dom_classes": [],
            "_model_module": "@jupyter-widgets/controls",
            "_model_module_version": "1.5.0",
            "_model_name": "ToggleButtonModel",
            "_view_count": null,
            "_view_module": "@jupyter-widgets/controls",
            "_view_module_version": "1.5.0",
            "_view_name": "ToggleButtonView",
            "button_style": "",
            "description": "",
            "description_tooltip": null,
            "disabled": false,
            "icon": "wrench",
            "layout": "IPY_MODEL_a4c4def9a2cd49438a715e20b9bc3d0b",
            "style": "IPY_MODEL_190ff05584f74daebc1b15040bec6e6a",
            "tooltip": "Toolbar",
            "value": true
          }
        },
        "4883d309d9d143a7ad8fe2a020aede59": {
          "model_module": "@jupyter-widgets/base",
          "model_module_version": "1.2.0",
          "model_name": "LayoutModel",
          "state": {
            "_model_module": "@jupyter-widgets/base",
            "_model_module_version": "1.2.0",
            "_model_name": "LayoutModel",
            "_view_count": null,
            "_view_module": "@jupyter-widgets/base",
            "_view_module_version": "1.2.0",
            "_view_name": "LayoutView",
            "align_content": null,
            "align_items": null,
            "align_self": null,
            "border": null,
            "bottom": null,
            "display": null,
            "flex": null,
            "flex_flow": null,
            "grid_area": null,
            "grid_auto_columns": null,
            "grid_auto_flow": null,
            "grid_auto_rows": null,
            "grid_column": null,
            "grid_gap": null,
            "grid_row": null,
            "grid_template_areas": null,
            "grid_template_columns": null,
            "grid_template_rows": null,
            "height": "18px",
            "justify_content": null,
            "justify_items": null,
            "left": null,
            "margin": null,
            "max_height": null,
            "max_width": null,
            "min_height": null,
            "min_width": null,
            "object_fit": null,
            "object_position": null,
            "order": null,
            "overflow": null,
            "overflow_x": null,
            "overflow_y": null,
            "padding": null,
            "right": null,
            "top": null,
            "visibility": null,
            "width": "140px"
          }
        },
        "48e636632c8a40ce90256810aa234933": {
          "model_module": "@jupyter-widgets/controls",
          "model_module_version": "1.5.0",
          "model_name": "DescriptionStyleModel",
          "state": {
            "_model_module": "@jupyter-widgets/controls",
            "_model_module_version": "1.5.0",
            "_model_name": "DescriptionStyleModel",
            "_view_count": null,
            "_view_module": "@jupyter-widgets/base",
            "_view_module_version": "1.2.0",
            "_view_name": "StyleView",
            "description_width": ""
          }
        },
        "49d7d05f6b5d49de8865ddcb5c235cae": {
          "model_module": "@jupyter-widgets/base",
          "model_module_version": "1.2.0",
          "model_name": "LayoutModel",
          "state": {
            "_model_module": "@jupyter-widgets/base",
            "_model_module_version": "1.2.0",
            "_model_name": "LayoutModel",
            "_view_count": null,
            "_view_module": "@jupyter-widgets/base",
            "_view_module_version": "1.2.0",
            "_view_name": "LayoutView",
            "align_content": null,
            "align_items": null,
            "align_self": null,
            "border": null,
            "bottom": null,
            "display": null,
            "flex": null,
            "flex_flow": null,
            "grid_area": null,
            "grid_auto_columns": null,
            "grid_auto_flow": null,
            "grid_auto_rows": null,
            "grid_column": null,
            "grid_gap": null,
            "grid_row": null,
            "grid_template_areas": null,
            "grid_template_columns": null,
            "grid_template_rows": null,
            "height": "28px",
            "justify_content": null,
            "justify_items": null,
            "left": null,
            "margin": null,
            "max_height": null,
            "max_width": null,
            "min_height": null,
            "min_width": null,
            "object_fit": null,
            "object_position": null,
            "order": null,
            "overflow": null,
            "overflow_x": null,
            "overflow_y": null,
            "padding": "0px 0px 0px 4px",
            "right": null,
            "top": null,
            "visibility": null,
            "width": "28px"
          }
        },
        "49fee1a5f92f4835aa8d51237d9bc0e0": {
          "model_module": "@jupyter-widgets/controls",
          "model_module_version": "1.5.0",
          "model_name": "DropdownModel",
          "state": {
            "_dom_classes": [],
            "_model_module": "@jupyter-widgets/controls",
            "_model_module_version": "1.5.0",
            "_model_name": "DropdownModel",
            "_options_labels": [
              "OpenStreetMap",
              "Esri.WorldStreetMap",
              "Esri.WorldImagery",
              "Esri.WorldTopoMap",
              "FWS NWI Wetlands",
              "FWS NWI Wetlands Raster",
              "NLCD 2021 CONUS Land Cover",
              "NLCD 2019 CONUS Land Cover",
              "NLCD 2016 CONUS Land Cover",
              "NLCD 2013 CONUS Land Cover",
              "NLCD 2011 CONUS Land Cover",
              "NLCD 2008 CONUS Land Cover",
              "NLCD 2006 CONUS Land Cover",
              "NLCD 2004 CONUS Land Cover",
              "NLCD 2001 CONUS Land Cover",
              "USGS NAIP Imagery",
              "USGS NAIP Imagery False Color",
              "USGS NAIP Imagery NDVI",
              "USGS Hydrography",
              "USGS 3DEP Elevation",
              "ESA Worldcover 2020",
              "ESA Worldcover 2020 S2 FCC",
              "ESA Worldcover 2020 S2 TCC",
              "ESA Worldcover 2021",
              "ESA Worldcover 2021 S2 FCC",
              "ESA Worldcover 2021 S2 TCC",
              "BasemapAT.basemap",
              "BasemapAT.grau",
              "BasemapAT.highdpi",
              "BasemapAT.orthofoto",
              "BasemapAT.overlay",
              "BasemapAT.surface",
              "BasemapAT.terrain",
              "CartoDB.DarkMatter",
              "CartoDB.DarkMatterNoLabels",
              "CartoDB.DarkMatterOnlyLabels",
              "CartoDB.Positron",
              "CartoDB.PositronNoLabels",
              "CartoDB.PositronOnlyLabels",
              "CartoDB.Voyager",
              "CartoDB.VoyagerLabelsUnder",
              "CartoDB.VoyagerNoLabels",
              "CartoDB.VoyagerOnlyLabels",
              "CyclOSM",
              "Esri.AntarcticBasemap",
              "Esri.AntarcticImagery",
              "Esri.ArcticImagery",
              "Esri.ArcticOceanBase",
              "Esri.ArcticOceanReference",
              "Esri.DeLorme",
              "Esri.NatGeoWorldMap",
              "Esri.OceanBasemap",
              "Esri.WorldGrayCanvas",
              "Esri.WorldPhysical",
              "Esri.WorldShadedRelief",
              "Esri.WorldTerrain",
              "FreeMapSK",
              "Gaode.Normal",
              "Gaode.Satellite",
              "HikeBike.HikeBike",
              "HikeBike.HillShading",
              "JusticeMap.americanIndian",
              "JusticeMap.asian",
              "JusticeMap.black",
              "JusticeMap.hispanic",
              "JusticeMap.income",
              "JusticeMap.multi",
              "JusticeMap.nonWhite",
              "JusticeMap.plurality",
              "JusticeMap.white",
              "MtbMap",
              "NASAGIBS.ASTER_GDEM_Greyscale_Shaded_Relief",
              "NASAGIBS.BlueMarble",
              "NASAGIBS.BlueMarble3031",
              "NASAGIBS.BlueMarble3413",
              "NASAGIBS.ModisAquaBands721CR",
              "NASAGIBS.ModisAquaTrueColorCR",
              "NASAGIBS.ModisTerraAOD",
              "NASAGIBS.ModisTerraBands367CR",
              "NASAGIBS.ModisTerraBands721CR",
              "NASAGIBS.ModisTerraChlorophyll",
              "NASAGIBS.ModisTerraLSTDay",
              "NASAGIBS.ModisTerraSnowCover",
              "NASAGIBS.ModisTerraTrueColorCR",
              "NASAGIBS.ViirsEarthAtNight2012",
              "NASAGIBS.ViirsTrueColorCR",
              "NLS",
              "OPNVKarte",
              "OneMapSG.Default",
              "OneMapSG.Grey",
              "OneMapSG.LandLot",
              "OneMapSG.Night",
              "OneMapSG.Original",
              "OpenAIP",
              "OpenFireMap",
              "OpenRailwayMap",
              "OpenSeaMap",
              "OpenSnowMap.pistes",
              "OpenStreetMap.BZH",
              "OpenStreetMap.BlackAndWhite",
              "OpenStreetMap.CH",
              "OpenStreetMap.DE",
              "OpenStreetMap.HOT",
              "OpenStreetMap.Mapnik",
              "OpenTopoMap",
              "SafeCast",
              "Stadia.AlidadeSmooth",
              "Stadia.AlidadeSmoothDark",
              "Stadia.OSMBright",
              "Stadia.Outdoors",
              "Stadia.StamenTerrain",
              "Stadia.StamenTerrainBackground",
              "Stadia.StamenTerrainLabels",
              "Stadia.StamenTerrainLines",
              "Stadia.StamenToner",
              "Stadia.StamenTonerBackground",
              "Stadia.StamenTonerLabels",
              "Stadia.StamenTonerLines",
              "Stadia.StamenTonerLite",
              "Stadia.StamenWatercolor",
              "Strava.All",
              "Strava.Ride",
              "Strava.Run",
              "Strava.Water",
              "Strava.Winter",
              "SwissFederalGeoportal.JourneyThroughTime",
              "SwissFederalGeoportal.NationalMapColor",
              "SwissFederalGeoportal.NationalMapGrey",
              "SwissFederalGeoportal.SWISSIMAGE",
              "USGS.USImagery",
              "USGS.USImageryTopo",
              "USGS.USTopo",
              "WaymarkedTrails.cycling",
              "WaymarkedTrails.hiking",
              "WaymarkedTrails.mtb",
              "WaymarkedTrails.riding",
              "WaymarkedTrails.skating",
              "WaymarkedTrails.slopes",
              "nlmaps.grijs",
              "nlmaps.luchtfoto",
              "nlmaps.pastel",
              "nlmaps.standaard",
              "nlmaps.water"
            ],
            "_view_count": null,
            "_view_module": "@jupyter-widgets/controls",
            "_view_module_version": "1.5.0",
            "_view_name": "DropdownView",
            "description": "",
            "description_tooltip": null,
            "disabled": false,
            "index": 2,
            "layout": "IPY_MODEL_a1ca68b2b54b4e938ce855f2d1fd6ce2",
            "style": "IPY_MODEL_5cb4fecf2b3b4171b44c04520df64f20"
          }
        },
        "4ac8dcd278e943999059847c15c83293": {
          "model_module": "@jupyter-widgets/base",
          "model_module_version": "1.2.0",
          "model_name": "LayoutModel",
          "state": {
            "_model_module": "@jupyter-widgets/base",
            "_model_module_version": "1.2.0",
            "_model_name": "LayoutModel",
            "_view_count": null,
            "_view_module": "@jupyter-widgets/base",
            "_view_module_version": "1.2.0",
            "_view_name": "LayoutView",
            "align_content": null,
            "align_items": null,
            "align_self": null,
            "border": null,
            "bottom": null,
            "display": null,
            "flex": null,
            "flex_flow": null,
            "grid_area": null,
            "grid_auto_columns": null,
            "grid_auto_flow": null,
            "grid_auto_rows": null,
            "grid_column": null,
            "grid_gap": null,
            "grid_row": null,
            "grid_template_areas": null,
            "grid_template_columns": null,
            "grid_template_rows": null,
            "height": "28px",
            "justify_content": null,
            "justify_items": null,
            "left": null,
            "margin": null,
            "max_height": null,
            "max_width": null,
            "min_height": null,
            "min_width": null,
            "object_fit": null,
            "object_position": null,
            "order": null,
            "overflow": null,
            "overflow_x": null,
            "overflow_y": null,
            "padding": "0px",
            "right": null,
            "top": null,
            "visibility": null,
            "width": "28px"
          }
        },
        "4ae515d5ee0847828e0b10f21efe1921": {
          "model_module": "@jupyter-widgets/base",
          "model_module_version": "1.2.0",
          "model_name": "LayoutModel",
          "state": {
            "_model_module": "@jupyter-widgets/base",
            "_model_module_version": "1.2.0",
            "_model_name": "LayoutModel",
            "_view_count": null,
            "_view_module": "@jupyter-widgets/base",
            "_view_module_version": "1.2.0",
            "_view_name": "LayoutView",
            "align_content": null,
            "align_items": null,
            "align_self": null,
            "border": null,
            "bottom": null,
            "display": null,
            "flex": null,
            "flex_flow": null,
            "grid_area": null,
            "grid_auto_columns": null,
            "grid_auto_flow": null,
            "grid_auto_rows": null,
            "grid_column": null,
            "grid_gap": null,
            "grid_row": null,
            "grid_template_areas": null,
            "grid_template_columns": null,
            "grid_template_rows": null,
            "height": "18px",
            "justify_content": null,
            "justify_items": null,
            "left": null,
            "margin": null,
            "max_height": null,
            "max_width": null,
            "min_height": null,
            "min_width": null,
            "object_fit": null,
            "object_position": null,
            "order": null,
            "overflow": null,
            "overflow_x": null,
            "overflow_y": null,
            "padding": null,
            "right": null,
            "top": null,
            "visibility": null,
            "width": "140px"
          }
        },
        "4b0e4f28cc0a40a69ee4868a1bf527ba": {
          "model_module": "@jupyter-widgets/controls",
          "model_module_version": "1.5.0",
          "model_name": "ButtonModel",
          "state": {
            "_dom_classes": [],
            "_model_module": "@jupyter-widgets/controls",
            "_model_module_version": "1.5.0",
            "_model_name": "ButtonModel",
            "_view_count": null,
            "_view_module": "@jupyter-widgets/controls",
            "_view_module_version": "1.5.0",
            "_view_name": "ButtonView",
            "button_style": "",
            "description": "",
            "disabled": false,
            "icon": "gear",
            "layout": "IPY_MODEL_6f200ba1255a491583d68996eb3e4b29",
            "style": "IPY_MODEL_f887a798fe3c4a7ca69662ab0a3d111a",
            "tooltip": "Esri.WorldTopoMap"
          }
        },
        "4cdf266ef5444226b5b6c853262257dd": {
          "model_module": "@jupyter-widgets/base",
          "model_module_version": "1.2.0",
          "model_name": "LayoutModel",
          "state": {
            "_model_module": "@jupyter-widgets/base",
            "_model_module_version": "1.2.0",
            "_model_name": "LayoutModel",
            "_view_count": null,
            "_view_module": "@jupyter-widgets/base",
            "_view_module_version": "1.2.0",
            "_view_name": "LayoutView",
            "align_content": null,
            "align_items": null,
            "align_self": null,
            "border": null,
            "bottom": null,
            "display": null,
            "flex": null,
            "flex_flow": null,
            "grid_area": null,
            "grid_auto_columns": null,
            "grid_auto_flow": null,
            "grid_auto_rows": null,
            "grid_column": null,
            "grid_gap": null,
            "grid_row": null,
            "grid_template_areas": null,
            "grid_template_columns": null,
            "grid_template_rows": null,
            "height": "25px",
            "justify_content": null,
            "justify_items": null,
            "left": null,
            "margin": null,
            "max_height": null,
            "max_width": null,
            "min_height": null,
            "min_width": null,
            "object_fit": null,
            "object_position": null,
            "order": null,
            "overflow": null,
            "overflow_x": null,
            "overflow_y": null,
            "padding": "0px",
            "right": null,
            "top": null,
            "visibility": null,
            "width": "25px"
          }
        },
        "4d215284330b4f3f966b3e6abecbcc81": {
          "model_module": "@jupyter-widgets/base",
          "model_module_version": "1.2.0",
          "model_name": "LayoutModel",
          "state": {
            "_model_module": "@jupyter-widgets/base",
            "_model_module_version": "1.2.0",
            "_model_name": "LayoutModel",
            "_view_count": null,
            "_view_module": "@jupyter-widgets/base",
            "_view_module_version": "1.2.0",
            "_view_name": "LayoutView",
            "align_content": null,
            "align_items": null,
            "align_self": null,
            "border": null,
            "bottom": null,
            "display": null,
            "flex": null,
            "flex_flow": null,
            "grid_area": null,
            "grid_auto_columns": null,
            "grid_auto_flow": null,
            "grid_auto_rows": null,
            "grid_column": null,
            "grid_gap": null,
            "grid_row": null,
            "grid_template_areas": null,
            "grid_template_columns": null,
            "grid_template_rows": null,
            "height": "25px",
            "justify_content": null,
            "justify_items": null,
            "left": null,
            "margin": null,
            "max_height": null,
            "max_width": null,
            "min_height": null,
            "min_width": null,
            "object_fit": null,
            "object_position": null,
            "order": null,
            "overflow": null,
            "overflow_x": null,
            "overflow_y": null,
            "padding": "0px",
            "right": null,
            "top": null,
            "visibility": null,
            "width": "25px"
          }
        },
        "4d7419d33dda47168af097224853b37d": {
          "model_module": "jupyter-leaflet",
          "model_module_version": "^0.18",
          "model_name": "LeafletTileLayerModel",
          "state": {
            "_model_module": "jupyter-leaflet",
            "_model_module_version": "^0.18",
            "_model_name": "LeafletTileLayerModel",
            "_view_count": null,
            "_view_module": "jupyter-leaflet",
            "_view_module_version": "^0.18",
            "_view_name": "LeafletTileLayerView",
            "attribution": "Esri",
            "base": false,
            "bottom": true,
            "bounds": null,
            "detect_retina": false,
            "loading": false,
            "max_native_zoom": null,
            "max_zoom": 24,
            "min_native_zoom": null,
            "min_zoom": 0,
            "name": "Esri.WorldStreetMap",
            "no_wrap": false,
            "opacity": 1,
            "options": [
              "attribution",
              "bounds",
              "detect_retina",
              "max_native_zoom",
              "max_zoom",
              "min_native_zoom",
              "min_zoom",
              "no_wrap",
              "tile_size",
              "tms",
              "zoom_offset"
            ],
            "pane": "",
            "popup": null,
            "popup_max_height": null,
            "popup_max_width": 300,
            "popup_min_width": 50,
            "show_loading": false,
            "subitems": [],
            "tile_size": 256,
            "tms": false,
            "url": "https://server.arcgisonline.com/ArcGIS/rest/services/World_Street_Map/MapServer/tile/{z}/{y}/{x}",
            "visible": false,
            "zoom_offset": 0
          }
        },
        "4d9d52145cff4f3ea0bc6cd2fb01657e": {
          "model_module": "@jupyter-widgets/controls",
          "model_module_version": "1.5.0",
          "model_name": "ButtonModel",
          "state": {
            "_dom_classes": [],
            "_model_module": "@jupyter-widgets/controls",
            "_model_module_version": "1.5.0",
            "_model_name": "ButtonModel",
            "_view_count": null,
            "_view_module": "@jupyter-widgets/controls",
            "_view_module_version": "1.5.0",
            "_view_name": "ButtonView",
            "button_style": "",
            "description": "",
            "disabled": false,
            "icon": "gear",
            "layout": "IPY_MODEL_e1ceb1dba57041598638feaf72910ffc",
            "style": "IPY_MODEL_5c4ac289c17d486ebe8ca59ab9669a60",
            "tooltip": "Esri.WorldTopoMap"
          }
        },
        "4de66f1126344397b3617f36b45ec836": {
          "model_module": "@jupyter-widgets/controls",
          "model_module_version": "1.5.0",
          "model_name": "VBoxModel",
          "state": {
            "_dom_classes": [
              "geemap-colab"
            ],
            "_model_module": "@jupyter-widgets/controls",
            "_model_module_version": "1.5.0",
            "_model_name": "VBoxModel",
            "_view_count": null,
            "_view_module": "@jupyter-widgets/controls",
            "_view_module_version": "1.5.0",
            "_view_name": "VBoxView",
            "box_style": "",
            "children": [
              "IPY_MODEL_9e46e1ec1c7c460288d478466e01b11c",
              "IPY_MODEL_0e78aa9350fd4147883389e595baa47b"
            ],
            "layout": "IPY_MODEL_5d7c06afdfe4425bb2adafb9a42108b9"
          }
        },
        "4f09ee2e192d455a949a076f78eb9935": {
          "model_module": "jupyter-leaflet",
          "model_module_version": "^0.18",
          "model_name": "LeafletTileLayerModel",
          "state": {
            "_model_module": "jupyter-leaflet",
            "_model_module_version": "^0.18",
            "_model_name": "LeafletTileLayerModel",
            "_view_count": null,
            "_view_module": "jupyter-leaflet",
            "_view_module_version": "^0.18",
            "_view_name": "LeafletTileLayerView",
            "attribution": "&copy; <a href=\"https://www.openstreetmap.org/copyright\">OpenStreetMap</a> contributors",
            "base": true,
            "bottom": true,
            "bounds": null,
            "detect_retina": false,
            "loading": false,
            "max_native_zoom": null,
            "max_zoom": 19,
            "min_native_zoom": null,
            "min_zoom": 1,
            "name": "OpenStreetMap.Mapnik",
            "no_wrap": false,
            "opacity": 1,
            "options": [
              "attribution",
              "bounds",
              "detect_retina",
              "max_native_zoom",
              "max_zoom",
              "min_native_zoom",
              "min_zoom",
              "no_wrap",
              "tile_size",
              "tms",
              "zoom_offset"
            ],
            "pane": "",
            "popup": null,
            "popup_max_height": null,
            "popup_max_width": 300,
            "popup_min_width": 50,
            "show_loading": false,
            "subitems": [],
            "tile_size": 256,
            "tms": false,
            "url": "https://tile.openstreetmap.org/{z}/{x}/{y}.png",
            "visible": true,
            "zoom_offset": 0
          }
        },
        "4fd2ae77799243c6890db98911a16828": {
          "model_module": "@jupyter-widgets/controls",
          "model_module_version": "1.5.0",
          "model_name": "CheckboxModel",
          "state": {
            "_dom_classes": [],
            "_model_module": "@jupyter-widgets/controls",
            "_model_module_version": "1.5.0",
            "_model_name": "CheckboxModel",
            "_view_count": null,
            "_view_module": "@jupyter-widgets/controls",
            "_view_module_version": "1.5.0",
            "_view_name": "CheckboxView",
            "description": "All layers on/off",
            "description_tooltip": null,
            "disabled": false,
            "indent": false,
            "layout": "IPY_MODEL_5259dd761c5542a7b3142d6330c399e2",
            "style": "IPY_MODEL_bbd245a9ad694a5ca33cf85222b79ebd",
            "value": false
          }
        },
        "501ddd88c22a48b781e4e5cd06bdce32": {
          "model_module": "jupyter-leaflet",
          "model_module_version": "^0.18",
          "model_name": "LeafletWidgetControlModel",
          "state": {
            "_model_module": "jupyter-leaflet",
            "_model_module_version": "^0.18",
            "_model_name": "LeafletWidgetControlModel",
            "_view_count": null,
            "_view_module": "jupyter-leaflet",
            "_view_module_version": "^0.18",
            "_view_name": "LeafletWidgetControlView",
            "max_height": null,
            "max_width": null,
            "min_height": null,
            "min_width": null,
            "options": [
              "position",
              "transparent_bg"
            ],
            "position": "topright",
            "transparent_bg": false,
            "widget": "IPY_MODEL_d00684dd9a2c4050a6fcd8170b3342ca"
          }
        },
        "511aa68cb540401081c8f9164dddd4f8": {
          "model_module": "jupyter-leaflet",
          "model_module_version": "^0.18",
          "model_name": "LeafletDrawControlModel",
          "state": {
            "_model_module": "jupyter-leaflet",
            "_model_module_version": "^0.18",
            "_model_name": "LeafletDrawControlModel",
            "_view_count": null,
            "_view_module": "jupyter-leaflet",
            "_view_module_version": "^0.18",
            "_view_name": "LeafletDrawControlView",
            "circle": {},
            "circlemarker": {},
            "data": [],
            "edit": true,
            "marker": {
              "shapeOptions": {
                "color": "#3388ff"
              }
            },
            "options": [
              "position"
            ],
            "polygon": {
              "shapeOptions": {}
            },
            "polyline": {
              "shapeOptions": {}
            },
            "position": "topleft",
            "rectangle": {
              "shapeOptions": {
                "color": "#3388ff"
              }
            },
            "remove": true
          }
        },
        "5259dd761c5542a7b3142d6330c399e2": {
          "model_module": "@jupyter-widgets/base",
          "model_module_version": "1.2.0",
          "model_name": "LayoutModel",
          "state": {
            "_model_module": "@jupyter-widgets/base",
            "_model_module_version": "1.2.0",
            "_model_name": "LayoutModel",
            "_view_count": null,
            "_view_module": "@jupyter-widgets/base",
            "_view_module_version": "1.2.0",
            "_view_name": "LayoutView",
            "align_content": null,
            "align_items": null,
            "align_self": null,
            "border": null,
            "bottom": null,
            "display": null,
            "flex": null,
            "flex_flow": null,
            "grid_area": null,
            "grid_auto_columns": null,
            "grid_auto_flow": null,
            "grid_auto_rows": null,
            "grid_column": null,
            "grid_gap": null,
            "grid_row": null,
            "grid_template_areas": null,
            "grid_template_columns": null,
            "grid_template_rows": null,
            "height": "18px",
            "justify_content": null,
            "justify_items": null,
            "left": null,
            "margin": null,
            "max_height": null,
            "max_width": null,
            "min_height": null,
            "min_width": null,
            "object_fit": null,
            "object_position": null,
            "order": null,
            "overflow": null,
            "overflow_x": null,
            "overflow_y": null,
            "padding": "0px 8px 25px 8px",
            "right": null,
            "top": null,
            "visibility": null,
            "width": "30ex"
          }
        },
        "5392ab60f73f4ea5a019329803fac4fe": {
          "model_module": "@jupyter-widgets/controls",
          "model_module_version": "1.5.0",
          "model_name": "VBoxModel",
          "state": {
            "_dom_classes": [
              "geemap-colab"
            ],
            "_model_module": "@jupyter-widgets/controls",
            "_model_module_version": "1.5.0",
            "_model_name": "VBoxModel",
            "_view_count": null,
            "_view_module": "@jupyter-widgets/controls",
            "_view_module_version": "1.5.0",
            "_view_name": "VBoxView",
            "box_style": "",
            "children": [
              "IPY_MODEL_56a53e8681d84bb8861a0d9a89f9097a",
              "IPY_MODEL_37d0d0ee35f44042bf5b1d65334e6f2d"
            ],
            "layout": "IPY_MODEL_0d24fe36a011488c887f39599e8ee197"
          }
        },
        "53cae4e292e045f7ad04be1fbfb4d521": {
          "model_module": "@jupyter-widgets/base",
          "model_module_version": "1.2.0",
          "model_name": "LayoutModel",
          "state": {
            "_model_module": "@jupyter-widgets/base",
            "_model_module_version": "1.2.0",
            "_model_name": "LayoutModel",
            "_view_count": null,
            "_view_module": "@jupyter-widgets/base",
            "_view_module_version": "1.2.0",
            "_view_name": "LayoutView",
            "align_content": null,
            "align_items": null,
            "align_self": null,
            "border": null,
            "bottom": null,
            "display": null,
            "flex": null,
            "flex_flow": null,
            "grid_area": null,
            "grid_auto_columns": null,
            "grid_auto_flow": null,
            "grid_auto_rows": null,
            "grid_column": null,
            "grid_gap": null,
            "grid_row": null,
            "grid_template_areas": null,
            "grid_template_columns": null,
            "grid_template_rows": null,
            "height": "auto",
            "justify_content": null,
            "justify_items": null,
            "left": null,
            "margin": null,
            "max_height": null,
            "max_width": null,
            "min_height": null,
            "min_width": null,
            "object_fit": null,
            "object_position": null,
            "order": null,
            "overflow": null,
            "overflow_x": null,
            "overflow_y": null,
            "padding": "0px 0px 0px 4px",
            "right": null,
            "top": null,
            "visibility": null,
            "width": "auto"
          }
        },
        "5447bfd60fda42119e1a68cd81578016": {
          "model_module": "@jupyter-widgets/base",
          "model_module_version": "1.2.0",
          "model_name": "LayoutModel",
          "state": {
            "_model_module": "@jupyter-widgets/base",
            "_model_module_version": "1.2.0",
            "_model_name": "LayoutModel",
            "_view_count": null,
            "_view_module": "@jupyter-widgets/base",
            "_view_module_version": "1.2.0",
            "_view_name": "LayoutView",
            "align_content": null,
            "align_items": null,
            "align_self": null,
            "border": null,
            "bottom": null,
            "display": null,
            "flex": null,
            "flex_flow": null,
            "grid_area": null,
            "grid_auto_columns": null,
            "grid_auto_flow": null,
            "grid_auto_rows": null,
            "grid_column": null,
            "grid_gap": null,
            "grid_row": null,
            "grid_template_areas": null,
            "grid_template_columns": null,
            "grid_template_rows": null,
            "height": null,
            "justify_content": null,
            "justify_items": null,
            "left": null,
            "margin": null,
            "max_height": null,
            "max_width": null,
            "min_height": null,
            "min_width": null,
            "object_fit": null,
            "object_position": null,
            "order": null,
            "overflow": null,
            "overflow_x": null,
            "overflow_y": null,
            "padding": null,
            "right": null,
            "top": null,
            "visibility": null,
            "width": "80px"
          }
        },
        "5460c77436434406a04767d51279d5bb": {
          "model_module": "@jupyter-widgets/base",
          "model_module_version": "1.2.0",
          "model_name": "LayoutModel",
          "state": {
            "_model_module": "@jupyter-widgets/base",
            "_model_module_version": "1.2.0",
            "_model_name": "LayoutModel",
            "_view_count": null,
            "_view_module": "@jupyter-widgets/base",
            "_view_module_version": "1.2.0",
            "_view_name": "LayoutView",
            "align_content": null,
            "align_items": null,
            "align_self": null,
            "border": null,
            "bottom": null,
            "display": null,
            "flex": null,
            "flex_flow": null,
            "grid_area": null,
            "grid_auto_columns": null,
            "grid_auto_flow": null,
            "grid_auto_rows": null,
            "grid_column": null,
            "grid_gap": null,
            "grid_row": null,
            "grid_template_areas": null,
            "grid_template_columns": null,
            "grid_template_rows": null,
            "height": "28px",
            "justify_content": null,
            "justify_items": null,
            "left": null,
            "margin": null,
            "max_height": null,
            "max_width": null,
            "min_height": null,
            "min_width": null,
            "object_fit": null,
            "object_position": null,
            "order": null,
            "overflow": null,
            "overflow_x": null,
            "overflow_y": null,
            "padding": "0px 0px 0px 4px",
            "right": null,
            "top": null,
            "visibility": null,
            "width": "28px"
          }
        },
        "5513c09ab06844d196eb48c3705a4e5e": {
          "model_module": "@jupyter-widgets/base",
          "model_module_version": "1.2.0",
          "model_name": "LayoutModel",
          "state": {
            "_model_module": "@jupyter-widgets/base",
            "_model_module_version": "1.2.0",
            "_model_name": "LayoutModel",
            "_view_count": null,
            "_view_module": "@jupyter-widgets/base",
            "_view_module_version": "1.2.0",
            "_view_name": "LayoutView",
            "align_content": null,
            "align_items": null,
            "align_self": null,
            "border": null,
            "bottom": null,
            "display": null,
            "flex": null,
            "flex_flow": null,
            "grid_area": null,
            "grid_auto_columns": null,
            "grid_auto_flow": null,
            "grid_auto_rows": null,
            "grid_column": null,
            "grid_gap": null,
            "grid_row": null,
            "grid_template_areas": null,
            "grid_template_columns": null,
            "grid_template_rows": null,
            "height": "25px",
            "justify_content": null,
            "justify_items": null,
            "left": null,
            "margin": null,
            "max_height": null,
            "max_width": null,
            "min_height": null,
            "min_width": null,
            "object_fit": null,
            "object_position": null,
            "order": null,
            "overflow": null,
            "overflow_x": null,
            "overflow_y": null,
            "padding": "0px",
            "right": null,
            "top": null,
            "visibility": null,
            "width": "25px"
          }
        },
        "5570e27dcc0b46289ab44fc93af9e8a1": {
          "model_module": "@jupyter-widgets/controls",
          "model_module_version": "1.5.0",
          "model_name": "ButtonStyleModel",
          "state": {
            "_model_module": "@jupyter-widgets/controls",
            "_model_module_version": "1.5.0",
            "_model_name": "ButtonStyleModel",
            "_view_count": null,
            "_view_module": "@jupyter-widgets/base",
            "_view_module_version": "1.2.0",
            "_view_name": "StyleView",
            "button_color": null,
            "font_weight": ""
          }
        },
        "5594af267f874978b202e8913a5071ab": {
          "model_module": "@jupyter-widgets/controls",
          "model_module_version": "1.5.0",
          "model_name": "DescriptionStyleModel",
          "state": {
            "_model_module": "@jupyter-widgets/controls",
            "_model_module_version": "1.5.0",
            "_model_name": "DescriptionStyleModel",
            "_view_count": null,
            "_view_module": "@jupyter-widgets/base",
            "_view_module_version": "1.2.0",
            "_view_name": "StyleView",
            "description_width": ""
          }
        },
        "56a53e8681d84bb8861a0d9a89f9097a": {
          "model_module": "@jupyter-widgets/controls",
          "model_module_version": "1.5.0",
          "model_name": "HBoxModel",
          "state": {
            "_dom_classes": [],
            "_model_module": "@jupyter-widgets/controls",
            "_model_module_version": "1.5.0",
            "_model_name": "HBoxModel",
            "_view_count": null,
            "_view_module": "@jupyter-widgets/controls",
            "_view_module_version": "1.5.0",
            "_view_name": "HBoxView",
            "box_style": "",
            "children": [
              "IPY_MODEL_93c759477dfd4e26b9fd0d3fb0352803",
              "IPY_MODEL_1df1c250e8b4437b803f588c4eb23748"
            ],
            "layout": "IPY_MODEL_fe35574e7af74925a4b78c28bcd36aa0"
          }
        },
        "56bcdf515f9c4ec2b4296b9787fea399": {
          "model_module": "@jupyter-widgets/base",
          "model_module_version": "1.2.0",
          "model_name": "LayoutModel",
          "state": {
            "_model_module": "@jupyter-widgets/base",
            "_model_module_version": "1.2.0",
            "_model_name": "LayoutModel",
            "_view_count": null,
            "_view_module": "@jupyter-widgets/base",
            "_view_module_version": "1.2.0",
            "_view_name": "LayoutView",
            "align_content": null,
            "align_items": null,
            "align_self": null,
            "border": null,
            "bottom": null,
            "display": null,
            "flex": null,
            "flex_flow": null,
            "grid_area": null,
            "grid_auto_columns": null,
            "grid_auto_flow": null,
            "grid_auto_rows": null,
            "grid_column": null,
            "grid_gap": null,
            "grid_row": null,
            "grid_template_areas": null,
            "grid_template_columns": null,
            "grid_template_rows": null,
            "height": null,
            "justify_content": null,
            "justify_items": null,
            "left": null,
            "margin": null,
            "max_height": null,
            "max_width": null,
            "min_height": null,
            "min_width": null,
            "object_fit": null,
            "object_position": null,
            "order": null,
            "overflow": null,
            "overflow_x": null,
            "overflow_y": null,
            "padding": null,
            "right": null,
            "top": null,
            "visibility": null,
            "width": "80px"
          }
        },
        "574e462681794ce1b9185cd56d12c978": {
          "model_module": "jupyter-leaflet",
          "model_module_version": "^0.18",
          "model_name": "LeafletMapStyleModel",
          "state": {
            "_model_module": "jupyter-leaflet",
            "_model_module_version": "^0.18",
            "_model_name": "LeafletMapStyleModel",
            "_view_count": null,
            "_view_module": "@jupyter-widgets/base",
            "_view_module_version": "1.2.0",
            "_view_name": "StyleView",
            "cursor": "move"
          }
        },
        "578aeffa0485431bad3279565bc276d1": {
          "model_module": "@jupyter-widgets/controls",
          "model_module_version": "1.5.0",
          "model_name": "DescriptionStyleModel",
          "state": {
            "_model_module": "@jupyter-widgets/controls",
            "_model_module_version": "1.5.0",
            "_model_name": "DescriptionStyleModel",
            "_view_count": null,
            "_view_module": "@jupyter-widgets/base",
            "_view_module_version": "1.2.0",
            "_view_name": "StyleView",
            "description_width": ""
          }
        },
        "588139f287ea465db89f498aae4bc89e": {
          "model_module": "@jupyter-widgets/controls",
          "model_module_version": "1.5.0",
          "model_name": "DescriptionStyleModel",
          "state": {
            "_model_module": "@jupyter-widgets/controls",
            "_model_module_version": "1.5.0",
            "_model_name": "DescriptionStyleModel",
            "_view_count": null,
            "_view_module": "@jupyter-widgets/base",
            "_view_module_version": "1.2.0",
            "_view_name": "StyleView",
            "description_width": ""
          }
        },
        "59cc2039d57c49c7978c5fd6d472f2b2": {
          "model_module": "@jupyter-widgets/controls",
          "model_module_version": "1.5.0",
          "model_name": "DescriptionStyleModel",
          "state": {
            "_model_module": "@jupyter-widgets/controls",
            "_model_module_version": "1.5.0",
            "_model_name": "DescriptionStyleModel",
            "_view_count": null,
            "_view_module": "@jupyter-widgets/base",
            "_view_module_version": "1.2.0",
            "_view_name": "StyleView",
            "description_width": ""
          }
        },
        "5a1cedf961974969873e4285c327f058": {
          "model_module": "@jupyter-widgets/base",
          "model_module_version": "1.2.0",
          "model_name": "LayoutModel",
          "state": {
            "_model_module": "@jupyter-widgets/base",
            "_model_module_version": "1.2.0",
            "_model_name": "LayoutModel",
            "_view_count": null,
            "_view_module": "@jupyter-widgets/base",
            "_view_module_version": "1.2.0",
            "_view_name": "LayoutView",
            "align_content": null,
            "align_items": null,
            "align_self": null,
            "border": null,
            "bottom": null,
            "display": null,
            "flex": null,
            "flex_flow": null,
            "grid_area": null,
            "grid_auto_columns": null,
            "grid_auto_flow": null,
            "grid_auto_rows": null,
            "grid_column": null,
            "grid_gap": null,
            "grid_row": null,
            "grid_template_areas": null,
            "grid_template_columns": null,
            "grid_template_rows": null,
            "height": null,
            "justify_content": null,
            "justify_items": null,
            "left": null,
            "margin": null,
            "max_height": null,
            "max_width": null,
            "min_height": null,
            "min_width": null,
            "object_fit": null,
            "object_position": null,
            "order": null,
            "overflow": null,
            "overflow_x": null,
            "overflow_y": null,
            "padding": null,
            "right": null,
            "top": null,
            "visibility": null,
            "width": null
          }
        },
        "5aebc12f38cf48a785e1bf840f154f82": {
          "model_module": "@jupyter-widgets/controls",
          "model_module_version": "1.5.0",
          "model_name": "FloatSliderModel",
          "state": {
            "_dom_classes": [],
            "_model_module": "@jupyter-widgets/controls",
            "_model_module_version": "1.5.0",
            "_model_name": "FloatSliderModel",
            "_view_count": null,
            "_view_module": "@jupyter-widgets/controls",
            "_view_module_version": "1.5.0",
            "_view_name": "FloatSliderView",
            "continuous_update": true,
            "description": "",
            "description_tooltip": null,
            "disabled": false,
            "layout": "IPY_MODEL_5447bfd60fda42119e1a68cd81578016",
            "max": 1,
            "min": 0,
            "orientation": "horizontal",
            "readout": false,
            "readout_format": ".2f",
            "step": 0.01,
            "style": "IPY_MODEL_3acd7011a6344bbda4d6cd9c1026ea8e",
            "value": 1
          }
        },
        "5c33531a710b4880a1b297e7c36e24da": {
          "model_module": "@jupyter-widgets/controls",
          "model_module_version": "1.5.0",
          "model_name": "ButtonModel",
          "state": {
            "_dom_classes": [],
            "_model_module": "@jupyter-widgets/controls",
            "_model_module_version": "1.5.0",
            "_model_name": "ButtonModel",
            "_view_count": null,
            "_view_module": "@jupyter-widgets/controls",
            "_view_module_version": "1.5.0",
            "_view_name": "ButtonView",
            "button_style": "primary",
            "description": "",
            "disabled": false,
            "icon": "times",
            "layout": "IPY_MODEL_e7bc3f3a5d764d02af19719cb0deb96e",
            "style": "IPY_MODEL_085f45cd114c4182a5ed438bec4d2e05",
            "tooltip": "Close the tool"
          }
        },
        "5c4ac289c17d486ebe8ca59ab9669a60": {
          "model_module": "@jupyter-widgets/controls",
          "model_module_version": "1.5.0",
          "model_name": "ButtonStyleModel",
          "state": {
            "_model_module": "@jupyter-widgets/controls",
            "_model_module_version": "1.5.0",
            "_model_name": "ButtonStyleModel",
            "_view_count": null,
            "_view_module": "@jupyter-widgets/base",
            "_view_module_version": "1.2.0",
            "_view_name": "StyleView",
            "button_color": null,
            "font_weight": ""
          }
        },
        "5cb4fecf2b3b4171b44c04520df64f20": {
          "model_module": "@jupyter-widgets/controls",
          "model_module_version": "1.5.0",
          "model_name": "DescriptionStyleModel",
          "state": {
            "_model_module": "@jupyter-widgets/controls",
            "_model_module_version": "1.5.0",
            "_model_name": "DescriptionStyleModel",
            "_view_count": null,
            "_view_module": "@jupyter-widgets/base",
            "_view_module_version": "1.2.0",
            "_view_name": "StyleView",
            "description_width": ""
          }
        },
        "5d517226c98f4a1d9bc776d5d28be09e": {
          "model_module": "@jupyter-widgets/base",
          "model_module_version": "1.2.0",
          "model_name": "LayoutModel",
          "state": {
            "_model_module": "@jupyter-widgets/base",
            "_model_module_version": "1.2.0",
            "_model_name": "LayoutModel",
            "_view_count": null,
            "_view_module": "@jupyter-widgets/base",
            "_view_module_version": "1.2.0",
            "_view_name": "LayoutView",
            "align_content": null,
            "align_items": null,
            "align_self": null,
            "border": null,
            "bottom": null,
            "display": null,
            "flex": null,
            "flex_flow": null,
            "grid_area": null,
            "grid_auto_columns": null,
            "grid_auto_flow": null,
            "grid_auto_rows": null,
            "grid_column": null,
            "grid_gap": null,
            "grid_row": null,
            "grid_template_areas": null,
            "grid_template_columns": null,
            "grid_template_rows": null,
            "height": null,
            "justify_content": null,
            "justify_items": null,
            "left": null,
            "margin": null,
            "max_height": null,
            "max_width": null,
            "min_height": null,
            "min_width": null,
            "object_fit": null,
            "object_position": null,
            "order": null,
            "overflow": null,
            "overflow_x": null,
            "overflow_y": null,
            "padding": "0px 8px 0px 8px",
            "right": null,
            "top": null,
            "visibility": null,
            "width": null
          }
        },
        "5d7c06afdfe4425bb2adafb9a42108b9": {
          "model_module": "@jupyter-widgets/base",
          "model_module_version": "1.2.0",
          "model_name": "LayoutModel",
          "state": {
            "_model_module": "@jupyter-widgets/base",
            "_model_module_version": "1.2.0",
            "_model_name": "LayoutModel",
            "_view_count": null,
            "_view_module": "@jupyter-widgets/base",
            "_view_module_version": "1.2.0",
            "_view_name": "LayoutView",
            "align_content": null,
            "align_items": null,
            "align_self": null,
            "border": null,
            "bottom": null,
            "display": null,
            "flex": null,
            "flex_flow": null,
            "grid_area": null,
            "grid_auto_columns": null,
            "grid_auto_flow": null,
            "grid_auto_rows": null,
            "grid_column": null,
            "grid_gap": null,
            "grid_row": null,
            "grid_template_areas": null,
            "grid_template_columns": null,
            "grid_template_rows": null,
            "height": null,
            "justify_content": null,
            "justify_items": null,
            "left": null,
            "margin": null,
            "max_height": null,
            "max_width": null,
            "min_height": null,
            "min_width": null,
            "object_fit": null,
            "object_position": null,
            "order": null,
            "overflow": null,
            "overflow_x": null,
            "overflow_y": null,
            "padding": null,
            "right": null,
            "top": null,
            "visibility": null,
            "width": null
          }
        },
        "5dce25df44cd4f5e84437d7c08ff1215": {
          "model_module": "jupyter-leaflet",
          "model_module_version": "^0.18",
          "model_name": "LeafletMapStyleModel",
          "state": {
            "_model_module": "jupyter-leaflet",
            "_model_module_version": "^0.18",
            "_model_name": "LeafletMapStyleModel",
            "_view_count": null,
            "_view_module": "@jupyter-widgets/base",
            "_view_module_version": "1.2.0",
            "_view_name": "StyleView",
            "cursor": "move"
          }
        },
        "5deccf438041493c98fcd64899dd1c98": {
          "model_module": "@jupyter-widgets/controls",
          "model_module_version": "1.5.0",
          "model_name": "ButtonStyleModel",
          "state": {
            "_model_module": "@jupyter-widgets/controls",
            "_model_module_version": "1.5.0",
            "_model_name": "ButtonStyleModel",
            "_view_count": null,
            "_view_module": "@jupyter-widgets/base",
            "_view_module_version": "1.2.0",
            "_view_name": "StyleView",
            "button_color": null,
            "font_weight": ""
          }
        },
        "5e6389a0cd1e48ba8bda57b365be096e": {
          "model_module": "@jupyter-widgets/base",
          "model_module_version": "1.2.0",
          "model_name": "LayoutModel",
          "state": {
            "_model_module": "@jupyter-widgets/base",
            "_model_module_version": "1.2.0",
            "_model_name": "LayoutModel",
            "_view_count": null,
            "_view_module": "@jupyter-widgets/base",
            "_view_module_version": "1.2.0",
            "_view_name": "LayoutView",
            "align_content": null,
            "align_items": null,
            "align_self": null,
            "border": null,
            "bottom": null,
            "display": null,
            "flex": null,
            "flex_flow": null,
            "grid_area": null,
            "grid_auto_columns": null,
            "grid_auto_flow": null,
            "grid_auto_rows": null,
            "grid_column": null,
            "grid_gap": null,
            "grid_row": null,
            "grid_template_areas": null,
            "grid_template_columns": null,
            "grid_template_rows": null,
            "height": "auto",
            "justify_content": null,
            "justify_items": null,
            "left": null,
            "margin": null,
            "max_height": null,
            "max_width": null,
            "min_height": null,
            "min_width": null,
            "object_fit": null,
            "object_position": null,
            "order": null,
            "overflow": null,
            "overflow_x": null,
            "overflow_y": null,
            "padding": "0px 0px 0px 4px",
            "right": null,
            "top": null,
            "visibility": null,
            "width": "auto"
          }
        },
        "5f0ce9c7d7284fcd94ee14bf173817d2": {
          "model_module": "jupyter-leaflet",
          "model_module_version": "^0.18",
          "model_name": "LeafletMapStyleModel",
          "state": {
            "_model_module": "jupyter-leaflet",
            "_model_module_version": "^0.18",
            "_model_name": "LeafletMapStyleModel",
            "_view_count": null,
            "_view_module": "@jupyter-widgets/base",
            "_view_module_version": "1.2.0",
            "_view_name": "StyleView",
            "cursor": "grab"
          }
        },
        "5fc9f9ce9ccd4e168009221493e6387f": {
          "model_module": "@jupyter-widgets/controls",
          "model_module_version": "1.5.0",
          "model_name": "ButtonModel",
          "state": {
            "_dom_classes": [],
            "_model_module": "@jupyter-widgets/controls",
            "_model_module_version": "1.5.0",
            "_model_name": "ButtonModel",
            "_view_count": null,
            "_view_module": "@jupyter-widgets/controls",
            "_view_module_version": "1.5.0",
            "_view_name": "ButtonView",
            "button_style": "",
            "description": "",
            "disabled": false,
            "icon": "gear",
            "layout": "IPY_MODEL_fe559f76f911498191b0649e2d4f0030",
            "style": "IPY_MODEL_82a1ff60fb984dfe9e39f8b1c1bdb6b8",
            "tooltip": "Esri.WorldImagery"
          }
        },
        "61dc3427ef574cd8a3b77c1f25c5c5cb": {
          "model_module": "@jupyter-widgets/base",
          "model_module_version": "1.2.0",
          "model_name": "LayoutModel",
          "state": {
            "_model_module": "@jupyter-widgets/base",
            "_model_module_version": "1.2.0",
            "_model_name": "LayoutModel",
            "_view_count": null,
            "_view_module": "@jupyter-widgets/base",
            "_view_module_version": "1.2.0",
            "_view_name": "LayoutView",
            "align_content": null,
            "align_items": null,
            "align_self": null,
            "border": null,
            "bottom": null,
            "display": null,
            "flex": null,
            "flex_flow": null,
            "grid_area": null,
            "grid_auto_columns": null,
            "grid_auto_flow": null,
            "grid_auto_rows": null,
            "grid_column": null,
            "grid_gap": null,
            "grid_row": null,
            "grid_template_areas": null,
            "grid_template_columns": null,
            "grid_template_rows": null,
            "height": null,
            "justify_content": null,
            "justify_items": null,
            "left": null,
            "margin": null,
            "max_height": null,
            "max_width": null,
            "min_height": null,
            "min_width": null,
            "object_fit": null,
            "object_position": null,
            "order": null,
            "overflow": null,
            "overflow_x": null,
            "overflow_y": null,
            "padding": null,
            "right": null,
            "top": null,
            "visibility": null,
            "width": null
          }
        },
        "6264b42581434394a743ac7930c15094": {
          "model_module": "@jupyter-widgets/controls",
          "model_module_version": "1.5.0",
          "model_name": "SliderStyleModel",
          "state": {
            "_model_module": "@jupyter-widgets/controls",
            "_model_module_version": "1.5.0",
            "_model_name": "SliderStyleModel",
            "_view_count": null,
            "_view_module": "@jupyter-widgets/base",
            "_view_module_version": "1.2.0",
            "_view_name": "StyleView",
            "description_width": "",
            "handle_color": null
          }
        },
        "63b9dac5865e4c5eaa3cf8179a3c6e39": {
          "model_module": "jupyter-leaflet",
          "model_module_version": "^0.18",
          "model_name": "LeafletScaleControlModel",
          "state": {
            "_model_module": "jupyter-leaflet",
            "_model_module_version": "^0.18",
            "_model_name": "LeafletScaleControlModel",
            "_view_count": null,
            "_view_module": "jupyter-leaflet",
            "_view_module_version": "^0.18",
            "_view_name": "LeafletScaleControlView",
            "imperial": true,
            "max_width": 100,
            "metric": true,
            "options": [
              "imperial",
              "max_width",
              "metric",
              "position",
              "update_when_idle"
            ],
            "position": "bottomleft",
            "update_when_idle": false
          }
        },
        "643fb2ba8ad3474d8831dd02cfcbefa1": {
          "model_module": "jupyter-leaflet",
          "model_module_version": "^0.18",
          "model_name": "LeafletMeasureControlModel",
          "state": {
            "_custom_units": {},
            "_model_module": "jupyter-leaflet",
            "_model_module_version": "^0.18",
            "_model_name": "LeafletMeasureControlModel",
            "_view_count": null,
            "_view_module": "jupyter-leaflet",
            "_view_module_version": "^0.18",
            "_view_name": "LeafletMeasureControlView",
            "active_color": "orange",
            "capture_z_index": 10000,
            "completed_color": "#C8F2BE",
            "options": [
              "active_color",
              "capture_z_index",
              "completed_color",
              "popup_options",
              "position",
              "primary_area_unit",
              "primary_length_unit",
              "secondary_area_unit",
              "secondary_length_unit"
            ],
            "popup_options": {
              "autoPanPadding": [
                10,
                10
              ],
              "className": "leaflet-measure-resultpopup"
            },
            "position": "bottomleft",
            "primary_area_unit": "acres",
            "primary_length_unit": "kilometers",
            "secondary_area_unit": null,
            "secondary_length_unit": null
          }
        },
        "64abec213a3549d8ad8c3f69ddf6b5b3": {
          "model_module": "@jupyter-widgets/controls",
          "model_module_version": "1.5.0",
          "model_name": "SliderStyleModel",
          "state": {
            "_model_module": "@jupyter-widgets/controls",
            "_model_module_version": "1.5.0",
            "_model_name": "SliderStyleModel",
            "_view_count": null,
            "_view_module": "@jupyter-widgets/base",
            "_view_module_version": "1.2.0",
            "_view_name": "StyleView",
            "description_width": "",
            "handle_color": null
          }
        },
        "659a91c8d70d4968beb1267da574cc3d": {
          "model_module": "@jupyter-widgets/base",
          "model_module_version": "1.2.0",
          "model_name": "LayoutModel",
          "state": {
            "_model_module": "@jupyter-widgets/base",
            "_model_module_version": "1.2.0",
            "_model_name": "LayoutModel",
            "_view_count": null,
            "_view_module": "@jupyter-widgets/base",
            "_view_module_version": "1.2.0",
            "_view_name": "LayoutView",
            "align_content": null,
            "align_items": null,
            "align_self": null,
            "border": null,
            "bottom": null,
            "display": null,
            "flex": null,
            "flex_flow": null,
            "grid_area": null,
            "grid_auto_columns": null,
            "grid_auto_flow": null,
            "grid_auto_rows": null,
            "grid_column": null,
            "grid_gap": null,
            "grid_row": null,
            "grid_template_areas": null,
            "grid_template_columns": null,
            "grid_template_rows": null,
            "height": null,
            "justify_content": null,
            "justify_items": null,
            "left": null,
            "margin": null,
            "max_height": null,
            "max_width": null,
            "min_height": null,
            "min_width": null,
            "object_fit": null,
            "object_position": null,
            "order": null,
            "overflow": null,
            "overflow_x": null,
            "overflow_y": null,
            "padding": "0px 8px 0px 8px",
            "right": null,
            "top": null,
            "visibility": null,
            "width": null
          }
        },
        "65cc7aaf1080431b91231558e86881cb": {
          "model_module": "@jupyter-widgets/base",
          "model_module_version": "1.2.0",
          "model_name": "LayoutModel",
          "state": {
            "_model_module": "@jupyter-widgets/base",
            "_model_module_version": "1.2.0",
            "_model_name": "LayoutModel",
            "_view_count": null,
            "_view_module": "@jupyter-widgets/base",
            "_view_module_version": "1.2.0",
            "_view_name": "LayoutView",
            "align_content": null,
            "align_items": null,
            "align_self": null,
            "border": null,
            "bottom": null,
            "display": null,
            "flex": null,
            "flex_flow": null,
            "grid_area": null,
            "grid_auto_columns": null,
            "grid_auto_flow": null,
            "grid_auto_rows": null,
            "grid_column": null,
            "grid_gap": null,
            "grid_row": null,
            "grid_template_areas": null,
            "grid_template_columns": null,
            "grid_template_rows": null,
            "height": "28px",
            "justify_content": null,
            "justify_items": null,
            "left": null,
            "margin": null,
            "max_height": null,
            "max_width": null,
            "min_height": null,
            "min_width": null,
            "object_fit": null,
            "object_position": null,
            "order": null,
            "overflow": null,
            "overflow_x": null,
            "overflow_y": null,
            "padding": "0px 0px 0px 4px",
            "right": null,
            "top": null,
            "visibility": null,
            "width": "28px"
          }
        },
        "667d021f6419499bafeff4df98653fc6": {
          "model_module": "@jupyter-widgets/controls",
          "model_module_version": "1.5.0",
          "model_name": "HBoxModel",
          "state": {
            "_dom_classes": [],
            "_model_module": "@jupyter-widgets/controls",
            "_model_module_version": "1.5.0",
            "_model_name": "HBoxModel",
            "_view_count": null,
            "_view_module": "@jupyter-widgets/controls",
            "_view_module_version": "1.5.0",
            "_view_name": "HBoxView",
            "box_style": "",
            "children": [
              "IPY_MODEL_c03b6fda46a64d058ea276ef236945e0",
              "IPY_MODEL_860a4b08c3f64f88a0a944b930260e81",
              "IPY_MODEL_10b133620f194bfa946f85d8b486490c"
            ],
            "layout": "IPY_MODEL_43a8783128be4d4a9fb75d2aec144f71"
          }
        },
        "66c1bb29eed5438e95cb9c472776940d": {
          "model_module": "@jupyter-widgets/controls",
          "model_module_version": "1.5.0",
          "model_name": "ToggleButtonModel",
          "state": {
            "_dom_classes": [],
            "_model_module": "@jupyter-widgets/controls",
            "_model_module_version": "1.5.0",
            "_model_name": "ToggleButtonModel",
            "_view_count": null,
            "_view_module": "@jupyter-widgets/controls",
            "_view_module_version": "1.5.0",
            "_view_name": "ToggleButtonView",
            "button_style": "",
            "description": "",
            "description_tooltip": null,
            "disabled": false,
            "icon": "globe",
            "layout": "IPY_MODEL_6a9d3a9dc4bb4a1482dd033afe970476",
            "style": "IPY_MODEL_578aeffa0485431bad3279565bc276d1",
            "tooltip": "Search location/data",
            "value": false
          }
        },
        "66f87785b68b40c791a7395afc8efd91": {
          "model_module": "@jupyter-widgets/controls",
          "model_module_version": "1.5.0",
          "model_name": "ButtonStyleModel",
          "state": {
            "_model_module": "@jupyter-widgets/controls",
            "_model_module_version": "1.5.0",
            "_model_name": "ButtonStyleModel",
            "_view_count": null,
            "_view_module": "@jupyter-widgets/base",
            "_view_module_version": "1.2.0",
            "_view_name": "StyleView",
            "button_color": null,
            "font_weight": ""
          }
        },
        "688c1a0d84844940b715771be4e1c473": {
          "model_module": "@jupyter-widgets/base",
          "model_module_version": "1.2.0",
          "model_name": "LayoutModel",
          "state": {
            "_model_module": "@jupyter-widgets/base",
            "_model_module_version": "1.2.0",
            "_model_name": "LayoutModel",
            "_view_count": null,
            "_view_module": "@jupyter-widgets/base",
            "_view_module_version": "1.2.0",
            "_view_name": "LayoutView",
            "align_content": null,
            "align_items": null,
            "align_self": null,
            "border": null,
            "bottom": null,
            "display": null,
            "flex": null,
            "flex_flow": null,
            "grid_area": null,
            "grid_auto_columns": null,
            "grid_auto_flow": null,
            "grid_auto_rows": null,
            "grid_column": null,
            "grid_gap": null,
            "grid_row": null,
            "grid_template_areas": null,
            "grid_template_columns": null,
            "grid_template_rows": null,
            "height": "28px",
            "justify_content": null,
            "justify_items": null,
            "left": null,
            "margin": null,
            "max_height": null,
            "max_width": null,
            "min_height": null,
            "min_width": null,
            "object_fit": null,
            "object_position": null,
            "order": null,
            "overflow": null,
            "overflow_x": null,
            "overflow_y": null,
            "padding": "0px 0px 0px 4px",
            "right": null,
            "top": null,
            "visibility": null,
            "width": "28px"
          }
        },
        "6920b97f0e2a44a38e45eccd07ff478f": {
          "model_module": "@jupyter-widgets/controls",
          "model_module_version": "1.5.0",
          "model_name": "ToggleButtonModel",
          "state": {
            "_dom_classes": [],
            "_model_module": "@jupyter-widgets/controls",
            "_model_module_version": "1.5.0",
            "_model_name": "ToggleButtonModel",
            "_view_count": null,
            "_view_module": "@jupyter-widgets/controls",
            "_view_module_version": "1.5.0",
            "_view_name": "ToggleButtonView",
            "button_style": "",
            "description": "",
            "description_tooltip": null,
            "disabled": false,
            "icon": "globe",
            "layout": "IPY_MODEL_11dceff1e10e411687c30878de18454c",
            "style": "IPY_MODEL_0ca4fd3df8cd46fb99c233e6c54dda07",
            "tooltip": "Search location/data",
            "value": false
          }
        },
        "69732f03aa664e62868e7eccf734fad9": {
          "model_module": "@jupyter-widgets/base",
          "model_module_version": "1.2.0",
          "model_name": "LayoutModel",
          "state": {
            "_model_module": "@jupyter-widgets/base",
            "_model_module_version": "1.2.0",
            "_model_name": "LayoutModel",
            "_view_count": null,
            "_view_module": "@jupyter-widgets/base",
            "_view_module_version": "1.2.0",
            "_view_name": "LayoutView",
            "align_content": null,
            "align_items": null,
            "align_self": null,
            "border": null,
            "bottom": null,
            "display": null,
            "flex": null,
            "flex_flow": null,
            "grid_area": null,
            "grid_auto_columns": null,
            "grid_auto_flow": null,
            "grid_auto_rows": null,
            "grid_column": null,
            "grid_gap": null,
            "grid_row": null,
            "grid_template_areas": null,
            "grid_template_columns": null,
            "grid_template_rows": null,
            "height": null,
            "justify_content": null,
            "justify_items": null,
            "left": null,
            "margin": null,
            "max_height": null,
            "max_width": null,
            "min_height": null,
            "min_width": null,
            "object_fit": null,
            "object_position": null,
            "order": null,
            "overflow": null,
            "overflow_x": null,
            "overflow_y": null,
            "padding": null,
            "right": null,
            "top": null,
            "visibility": null,
            "width": "80px"
          }
        },
        "6991af1c36d5422da3b672203c0374ac": {
          "model_module": "@jupyter-widgets/base",
          "model_module_version": "1.2.0",
          "model_name": "LayoutModel",
          "state": {
            "_model_module": "@jupyter-widgets/base",
            "_model_module_version": "1.2.0",
            "_model_name": "LayoutModel",
            "_view_count": null,
            "_view_module": "@jupyter-widgets/base",
            "_view_module_version": "1.2.0",
            "_view_name": "LayoutView",
            "align_content": null,
            "align_items": null,
            "align_self": null,
            "border": null,
            "bottom": null,
            "display": null,
            "flex": null,
            "flex_flow": null,
            "grid_area": null,
            "grid_auto_columns": null,
            "grid_auto_flow": null,
            "grid_auto_rows": null,
            "grid_column": null,
            "grid_gap": null,
            "grid_row": null,
            "grid_template_areas": null,
            "grid_template_columns": null,
            "grid_template_rows": null,
            "height": "18px",
            "justify_content": null,
            "justify_items": null,
            "left": null,
            "margin": null,
            "max_height": null,
            "max_width": null,
            "min_height": null,
            "min_width": null,
            "object_fit": null,
            "object_position": null,
            "order": null,
            "overflow": null,
            "overflow_x": null,
            "overflow_y": null,
            "padding": null,
            "right": null,
            "top": null,
            "visibility": null,
            "width": "140px"
          }
        },
        "6a9d3a9dc4bb4a1482dd033afe970476": {
          "model_module": "@jupyter-widgets/base",
          "model_module_version": "1.2.0",
          "model_name": "LayoutModel",
          "state": {
            "_model_module": "@jupyter-widgets/base",
            "_model_module_version": "1.2.0",
            "_model_name": "LayoutModel",
            "_view_count": null,
            "_view_module": "@jupyter-widgets/base",
            "_view_module_version": "1.2.0",
            "_view_name": "LayoutView",
            "align_content": null,
            "align_items": null,
            "align_self": null,
            "border": null,
            "bottom": null,
            "display": null,
            "flex": null,
            "flex_flow": null,
            "grid_area": null,
            "grid_auto_columns": null,
            "grid_auto_flow": null,
            "grid_auto_rows": null,
            "grid_column": null,
            "grid_gap": null,
            "grid_row": null,
            "grid_template_areas": null,
            "grid_template_columns": null,
            "grid_template_rows": null,
            "height": "28px",
            "justify_content": null,
            "justify_items": null,
            "left": null,
            "margin": null,
            "max_height": null,
            "max_width": null,
            "min_height": null,
            "min_width": null,
            "object_fit": null,
            "object_position": null,
            "order": null,
            "overflow": null,
            "overflow_x": null,
            "overflow_y": null,
            "padding": "0px 0px 0px 4px",
            "right": null,
            "top": null,
            "visibility": null,
            "width": "28px"
          }
        },
        "6adeb6ae16104b4d982cd7803e269732": {
          "model_module": "@jupyter-widgets/controls",
          "model_module_version": "1.5.0",
          "model_name": "HBoxModel",
          "state": {
            "_dom_classes": [
              "geemap-colab"
            ],
            "_model_module": "@jupyter-widgets/controls",
            "_model_module_version": "1.5.0",
            "_model_name": "HBoxModel",
            "_view_count": null,
            "_view_module": "@jupyter-widgets/controls",
            "_view_module_version": "1.5.0",
            "_view_name": "HBoxView",
            "box_style": "",
            "children": [
              "IPY_MODEL_2c3770938e0a4644a4eb88e263240962"
            ],
            "layout": "IPY_MODEL_1e94fd3fd7b94ff7a6cf7ff27c0652c9"
          }
        },
        "6ae94a9d10c3436bb89a93b481fd10b6": {
          "model_module": "@jupyter-widgets/base",
          "model_module_version": "1.2.0",
          "model_name": "LayoutModel",
          "state": {
            "_model_module": "@jupyter-widgets/base",
            "_model_module_version": "1.2.0",
            "_model_name": "LayoutModel",
            "_view_count": null,
            "_view_module": "@jupyter-widgets/base",
            "_view_module_version": "1.2.0",
            "_view_name": "LayoutView",
            "align_content": null,
            "align_items": null,
            "align_self": null,
            "border": null,
            "bottom": null,
            "display": null,
            "flex": null,
            "flex_flow": null,
            "grid_area": null,
            "grid_auto_columns": null,
            "grid_auto_flow": null,
            "grid_auto_rows": null,
            "grid_column": null,
            "grid_gap": null,
            "grid_row": null,
            "grid_template_areas": null,
            "grid_template_columns": null,
            "grid_template_rows": null,
            "height": "18px",
            "justify_content": null,
            "justify_items": null,
            "left": null,
            "margin": null,
            "max_height": null,
            "max_width": null,
            "min_height": null,
            "min_width": null,
            "object_fit": null,
            "object_position": null,
            "order": null,
            "overflow": null,
            "overflow_x": null,
            "overflow_y": null,
            "padding": null,
            "right": null,
            "top": null,
            "visibility": null,
            "width": "140px"
          }
        },
        "6afbc353712547579066861a2351af9a": {
          "model_module": "jupyter-leaflet",
          "model_module_version": "^0.18",
          "model_name": "LeafletFullScreenControlModel",
          "state": {
            "_model_module": "jupyter-leaflet",
            "_model_module_version": "^0.18",
            "_model_name": "LeafletFullScreenControlModel",
            "_view_count": null,
            "_view_module": "jupyter-leaflet",
            "_view_module_version": "^0.18",
            "_view_name": "LeafletFullScreenControlView",
            "options": [
              "position"
            ],
            "position": "topleft"
          }
        },
        "6bb360b6d25b4eae83159bae2cfa740d": {
          "model_module": "@jupyter-widgets/base",
          "model_module_version": "1.2.0",
          "model_name": "LayoutModel",
          "state": {
            "_model_module": "@jupyter-widgets/base",
            "_model_module_version": "1.2.0",
            "_model_name": "LayoutModel",
            "_view_count": null,
            "_view_module": "@jupyter-widgets/base",
            "_view_module_version": "1.2.0",
            "_view_name": "LayoutView",
            "align_content": null,
            "align_items": null,
            "align_self": null,
            "border": null,
            "bottom": null,
            "display": null,
            "flex": null,
            "flex_flow": null,
            "grid_area": null,
            "grid_auto_columns": null,
            "grid_auto_flow": null,
            "grid_auto_rows": null,
            "grid_column": null,
            "grid_gap": null,
            "grid_row": null,
            "grid_template_areas": null,
            "grid_template_columns": null,
            "grid_template_rows": null,
            "height": null,
            "justify_content": null,
            "justify_items": null,
            "left": null,
            "margin": null,
            "max_height": null,
            "max_width": null,
            "min_height": null,
            "min_width": null,
            "object_fit": null,
            "object_position": null,
            "order": null,
            "overflow": null,
            "overflow_x": null,
            "overflow_y": null,
            "padding": null,
            "right": null,
            "top": null,
            "visibility": null,
            "width": null
          }
        },
        "6cc5a8a24f874142b21d438e7642e392": {
          "model_module": "@jupyter-widgets/controls",
          "model_module_version": "1.5.0",
          "model_name": "SliderStyleModel",
          "state": {
            "_model_module": "@jupyter-widgets/controls",
            "_model_module_version": "1.5.0",
            "_model_name": "SliderStyleModel",
            "_view_count": null,
            "_view_module": "@jupyter-widgets/base",
            "_view_module_version": "1.2.0",
            "_view_name": "StyleView",
            "description_width": "",
            "handle_color": null
          }
        },
        "6ce80ea050cb4fcf82bd8f073a693461": {
          "model_module": "jupyter-leaflet",
          "model_module_version": "^0.18",
          "model_name": "LeafletZoomControlModel",
          "state": {
            "_model_module": "jupyter-leaflet",
            "_model_module_version": "^0.18",
            "_model_name": "LeafletZoomControlModel",
            "_view_count": null,
            "_view_module": "jupyter-leaflet",
            "_view_module_version": "^0.18",
            "_view_name": "LeafletZoomControlView",
            "options": [
              "position",
              "zoom_in_text",
              "zoom_in_title",
              "zoom_out_text",
              "zoom_out_title"
            ],
            "position": "topleft",
            "zoom_in_text": "+",
            "zoom_in_title": "Zoom in",
            "zoom_out_text": "-",
            "zoom_out_title": "Zoom out"
          }
        },
        "6ea50ba1f2f74cd9a2b3995651f9d07f": {
          "model_module": "@jupyter-widgets/base",
          "model_module_version": "1.2.0",
          "model_name": "LayoutModel",
          "state": {
            "_model_module": "@jupyter-widgets/base",
            "_model_module_version": "1.2.0",
            "_model_name": "LayoutModel",
            "_view_count": null,
            "_view_module": "@jupyter-widgets/base",
            "_view_module_version": "1.2.0",
            "_view_name": "LayoutView",
            "align_content": null,
            "align_items": null,
            "align_self": null,
            "border": null,
            "bottom": null,
            "display": null,
            "flex": null,
            "flex_flow": null,
            "grid_area": null,
            "grid_auto_columns": null,
            "grid_auto_flow": null,
            "grid_auto_rows": null,
            "grid_column": null,
            "grid_gap": null,
            "grid_row": null,
            "grid_template_areas": null,
            "grid_template_columns": null,
            "grid_template_rows": null,
            "height": null,
            "justify_content": null,
            "justify_items": null,
            "left": null,
            "margin": null,
            "max_height": null,
            "max_width": null,
            "min_height": null,
            "min_width": null,
            "object_fit": null,
            "object_position": null,
            "order": null,
            "overflow": null,
            "overflow_x": null,
            "overflow_y": null,
            "padding": null,
            "right": null,
            "top": null,
            "visibility": null,
            "width": "80px"
          }
        },
        "6f0791ef099e4fb2913f632a2475a727": {
          "model_module": "@jupyter-widgets/base",
          "model_module_version": "1.2.0",
          "model_name": "LayoutModel",
          "state": {
            "_model_module": "@jupyter-widgets/base",
            "_model_module_version": "1.2.0",
            "_model_name": "LayoutModel",
            "_view_count": null,
            "_view_module": "@jupyter-widgets/base",
            "_view_module_version": "1.2.0",
            "_view_name": "LayoutView",
            "align_content": null,
            "align_items": null,
            "align_self": null,
            "border": null,
            "bottom": null,
            "display": null,
            "flex": null,
            "flex_flow": null,
            "grid_area": null,
            "grid_auto_columns": null,
            "grid_auto_flow": null,
            "grid_auto_rows": null,
            "grid_column": null,
            "grid_gap": null,
            "grid_row": null,
            "grid_template_areas": null,
            "grid_template_columns": null,
            "grid_template_rows": null,
            "height": null,
            "justify_content": null,
            "justify_items": null,
            "left": null,
            "margin": null,
            "max_height": null,
            "max_width": null,
            "min_height": null,
            "min_width": null,
            "object_fit": null,
            "object_position": null,
            "order": null,
            "overflow": null,
            "overflow_x": null,
            "overflow_y": null,
            "padding": "0px 8px 0px 8px",
            "right": null,
            "top": null,
            "visibility": null,
            "width": null
          }
        },
        "6f200ba1255a491583d68996eb3e4b29": {
          "model_module": "@jupyter-widgets/base",
          "model_module_version": "1.2.0",
          "model_name": "LayoutModel",
          "state": {
            "_model_module": "@jupyter-widgets/base",
            "_model_module_version": "1.2.0",
            "_model_name": "LayoutModel",
            "_view_count": null,
            "_view_module": "@jupyter-widgets/base",
            "_view_module_version": "1.2.0",
            "_view_name": "LayoutView",
            "align_content": null,
            "align_items": null,
            "align_self": null,
            "border": null,
            "bottom": null,
            "display": null,
            "flex": null,
            "flex_flow": null,
            "grid_area": null,
            "grid_auto_columns": null,
            "grid_auto_flow": null,
            "grid_auto_rows": null,
            "grid_column": null,
            "grid_gap": null,
            "grid_row": null,
            "grid_template_areas": null,
            "grid_template_columns": null,
            "grid_template_rows": null,
            "height": "25px",
            "justify_content": null,
            "justify_items": null,
            "left": null,
            "margin": null,
            "max_height": null,
            "max_width": null,
            "min_height": null,
            "min_width": null,
            "object_fit": null,
            "object_position": null,
            "order": null,
            "overflow": null,
            "overflow_x": null,
            "overflow_y": null,
            "padding": "0px",
            "right": null,
            "top": null,
            "visibility": null,
            "width": "25px"
          }
        },
        "6f65f82566e14c638e7819fda8847f28": {
          "model_module": "@jupyter-widgets/controls",
          "model_module_version": "1.5.0",
          "model_name": "CheckboxModel",
          "state": {
            "_dom_classes": [],
            "_model_module": "@jupyter-widgets/controls",
            "_model_module_version": "1.5.0",
            "_model_name": "CheckboxModel",
            "_view_count": null,
            "_view_module": "@jupyter-widgets/controls",
            "_view_module_version": "1.5.0",
            "_view_name": "CheckboxView",
            "description": "Esri.WorldImagery",
            "description_tooltip": null,
            "disabled": false,
            "indent": false,
            "layout": "IPY_MODEL_b904d2c6e6024aafaa3ba3e03a112d37",
            "style": "IPY_MODEL_923d66ff7da24f0e8df77341dd21d22c",
            "value": true
          }
        },
        "70242e6617db44df93c634aa3661d82e": {
          "model_module": "jupyter-leaflet",
          "model_module_version": "^0.18",
          "model_name": "LeafletScaleControlModel",
          "state": {
            "_model_module": "jupyter-leaflet",
            "_model_module_version": "^0.18",
            "_model_name": "LeafletScaleControlModel",
            "_view_count": null,
            "_view_module": "jupyter-leaflet",
            "_view_module_version": "^0.18",
            "_view_name": "LeafletScaleControlView",
            "imperial": true,
            "max_width": 100,
            "metric": true,
            "options": [
              "imperial",
              "max_width",
              "metric",
              "position",
              "update_when_idle"
            ],
            "position": "bottomleft",
            "update_when_idle": false
          }
        },
        "718645e39ed64906808d35f60f90977f": {
          "model_module": "@jupyter-widgets/controls",
          "model_module_version": "1.5.0",
          "model_name": "DescriptionStyleModel",
          "state": {
            "_model_module": "@jupyter-widgets/controls",
            "_model_module_version": "1.5.0",
            "_model_name": "DescriptionStyleModel",
            "_view_count": null,
            "_view_module": "@jupyter-widgets/base",
            "_view_module_version": "1.2.0",
            "_view_name": "StyleView",
            "description_width": ""
          }
        },
        "73b779f3f48d4b659db5a22c256c200a": {
          "model_module": "@jupyter-widgets/controls",
          "model_module_version": "1.5.0",
          "model_name": "HBoxModel",
          "state": {
            "_dom_classes": [],
            "_model_module": "@jupyter-widgets/controls",
            "_model_module_version": "1.5.0",
            "_model_name": "HBoxModel",
            "_view_count": null,
            "_view_module": "@jupyter-widgets/controls",
            "_view_module_version": "1.5.0",
            "_view_name": "HBoxView",
            "box_style": "",
            "children": [
              "IPY_MODEL_e07de98e1e4f4d32bf7a7fe1a619ca9f",
              "IPY_MODEL_9924467304a44723a2a4677634bc071d",
              "IPY_MODEL_cfebefbc73ee47bdac7075f463164998"
            ],
            "layout": "IPY_MODEL_0bd74eb1104f4bbc90ffa690c031f78f"
          }
        },
        "765a92c7a86c499b922df0211dd3ce99": {
          "model_module": "@jupyter-widgets/controls",
          "model_module_version": "1.5.0",
          "model_name": "ButtonStyleModel",
          "state": {
            "_model_module": "@jupyter-widgets/controls",
            "_model_module_version": "1.5.0",
            "_model_name": "ButtonStyleModel",
            "_view_count": null,
            "_view_module": "@jupyter-widgets/base",
            "_view_module_version": "1.2.0",
            "_view_name": "StyleView",
            "button_color": null,
            "font_weight": ""
          }
        },
        "781c39c948834c37b5d166bd02d8ff5d": {
          "model_module": "@jupyter-widgets/controls",
          "model_module_version": "1.5.0",
          "model_name": "DescriptionStyleModel",
          "state": {
            "_model_module": "@jupyter-widgets/controls",
            "_model_module_version": "1.5.0",
            "_model_name": "DescriptionStyleModel",
            "_view_count": null,
            "_view_module": "@jupyter-widgets/base",
            "_view_module_version": "1.2.0",
            "_view_name": "StyleView",
            "description_width": ""
          }
        },
        "782c74743f054a9d9639328265914bc1": {
          "model_module": "@jupyter-widgets/base",
          "model_module_version": "1.2.0",
          "model_name": "LayoutModel",
          "state": {
            "_model_module": "@jupyter-widgets/base",
            "_model_module_version": "1.2.0",
            "_model_name": "LayoutModel",
            "_view_count": null,
            "_view_module": "@jupyter-widgets/base",
            "_view_module_version": "1.2.0",
            "_view_name": "LayoutView",
            "align_content": null,
            "align_items": null,
            "align_self": null,
            "border": null,
            "bottom": null,
            "display": null,
            "flex": null,
            "flex_flow": null,
            "grid_area": null,
            "grid_auto_columns": null,
            "grid_auto_flow": null,
            "grid_auto_rows": null,
            "grid_column": null,
            "grid_gap": null,
            "grid_row": null,
            "grid_template_areas": null,
            "grid_template_columns": null,
            "grid_template_rows": null,
            "height": "auto",
            "justify_content": null,
            "justify_items": null,
            "left": null,
            "margin": null,
            "max_height": null,
            "max_width": null,
            "min_height": null,
            "min_width": null,
            "object_fit": null,
            "object_position": null,
            "order": null,
            "overflow": null,
            "overflow_x": null,
            "overflow_y": null,
            "padding": "0px 0px 0px 4px",
            "right": null,
            "top": null,
            "visibility": null,
            "width": "auto"
          }
        },
        "78b5fe5915b84295b9d64ef816cc006b": {
          "model_module": "jupyter-leaflet",
          "model_module_version": "^0.18",
          "model_name": "LeafletTileLayerModel",
          "state": {
            "_model_module": "jupyter-leaflet",
            "_model_module_version": "^0.18",
            "_model_name": "LeafletTileLayerModel",
            "_view_count": null,
            "_view_module": "jupyter-leaflet",
            "_view_module_version": "^0.18",
            "_view_name": "LeafletTileLayerView",
            "attribution": "OpenStreetMap",
            "base": false,
            "bottom": true,
            "bounds": null,
            "detect_retina": false,
            "loading": false,
            "max_native_zoom": null,
            "max_zoom": 24,
            "min_native_zoom": null,
            "min_zoom": 0,
            "name": "OpenStreetMap",
            "no_wrap": false,
            "opacity": 1,
            "options": [
              "attribution",
              "bounds",
              "detect_retina",
              "max_native_zoom",
              "max_zoom",
              "min_native_zoom",
              "min_zoom",
              "no_wrap",
              "tile_size",
              "tms",
              "zoom_offset"
            ],
            "pane": "",
            "popup": null,
            "popup_max_height": null,
            "popup_max_width": 300,
            "popup_min_width": 50,
            "show_loading": false,
            "subitems": [],
            "tile_size": 256,
            "tms": false,
            "url": "https://{s}.tile.openstreetmap.org/{z}/{x}/{y}.png",
            "visible": true,
            "zoom_offset": 0
          }
        },
        "7911462ab52e454e9a5904d2c24c9f38": {
          "model_module": "@jupyter-widgets/base",
          "model_module_version": "1.2.0",
          "model_name": "LayoutModel",
          "state": {
            "_model_module": "@jupyter-widgets/base",
            "_model_module_version": "1.2.0",
            "_model_name": "LayoutModel",
            "_view_count": null,
            "_view_module": "@jupyter-widgets/base",
            "_view_module_version": "1.2.0",
            "_view_name": "LayoutView",
            "align_content": null,
            "align_items": null,
            "align_self": null,
            "border": null,
            "bottom": null,
            "display": null,
            "flex": null,
            "flex_flow": null,
            "grid_area": null,
            "grid_auto_columns": null,
            "grid_auto_flow": null,
            "grid_auto_rows": null,
            "grid_column": null,
            "grid_gap": null,
            "grid_row": null,
            "grid_template_areas": null,
            "grid_template_columns": null,
            "grid_template_rows": null,
            "height": "auto",
            "justify_content": null,
            "justify_items": null,
            "left": null,
            "margin": null,
            "max_height": null,
            "max_width": null,
            "min_height": null,
            "min_width": null,
            "object_fit": null,
            "object_position": null,
            "order": null,
            "overflow": null,
            "overflow_x": null,
            "overflow_y": null,
            "padding": "0px 0px 0px 4px",
            "right": null,
            "top": null,
            "visibility": null,
            "width": "auto"
          }
        },
        "79268dbe0d1d4f4d8563c378930bf570": {
          "model_module": "@jupyter-widgets/controls",
          "model_module_version": "1.5.0",
          "model_name": "CheckboxModel",
          "state": {
            "_dom_classes": [],
            "_model_module": "@jupyter-widgets/controls",
            "_model_module_version": "1.5.0",
            "_model_name": "CheckboxModel",
            "_view_count": null,
            "_view_module": "@jupyter-widgets/controls",
            "_view_module_version": "1.5.0",
            "_view_name": "CheckboxView",
            "description": "OpenStreetMap",
            "description_tooltip": null,
            "disabled": false,
            "indent": false,
            "layout": "IPY_MODEL_f94429f3afcc4d7c9bdb03f6420e99af",
            "style": "IPY_MODEL_59cc2039d57c49c7978c5fd6d472f2b2",
            "value": true
          }
        },
        "7b7cd74724154beaa7afce5133a3fe5e": {
          "model_module": "@jupyter-widgets/base",
          "model_module_version": "1.2.0",
          "model_name": "LayoutModel",
          "state": {
            "_model_module": "@jupyter-widgets/base",
            "_model_module_version": "1.2.0",
            "_model_name": "LayoutModel",
            "_view_count": null,
            "_view_module": "@jupyter-widgets/base",
            "_view_module_version": "1.2.0",
            "_view_name": "LayoutView",
            "align_content": null,
            "align_items": null,
            "align_self": null,
            "border": null,
            "bottom": null,
            "display": null,
            "flex": null,
            "flex_flow": null,
            "grid_area": null,
            "grid_auto_columns": null,
            "grid_auto_flow": null,
            "grid_auto_rows": null,
            "grid_column": null,
            "grid_gap": null,
            "grid_row": null,
            "grid_template_areas": null,
            "grid_template_columns": null,
            "grid_template_rows": null,
            "height": null,
            "justify_content": null,
            "justify_items": null,
            "left": null,
            "margin": null,
            "max_height": null,
            "max_width": null,
            "min_height": null,
            "min_width": null,
            "object_fit": null,
            "object_position": null,
            "order": null,
            "overflow": null,
            "overflow_x": null,
            "overflow_y": null,
            "padding": null,
            "right": null,
            "top": null,
            "visibility": null,
            "width": null
          }
        },
        "7c21d13185904be2876cab632397a6e3": {
          "model_module": "@jupyter-widgets/controls",
          "model_module_version": "1.5.0",
          "model_name": "ButtonModel",
          "state": {
            "_dom_classes": [],
            "_model_module": "@jupyter-widgets/controls",
            "_model_module_version": "1.5.0",
            "_model_name": "ButtonModel",
            "_view_count": null,
            "_view_module": "@jupyter-widgets/controls",
            "_view_module_version": "1.5.0",
            "_view_name": "ButtonView",
            "button_style": "",
            "description": "",
            "disabled": false,
            "icon": "gear",
            "layout": "IPY_MODEL_4d215284330b4f3f966b3e6abecbcc81",
            "style": "IPY_MODEL_eb984d033e4447f4b8ddc4d9f4ec4413",
            "tooltip": "OpenTopoMap"
          }
        },
        "7c7e2b6dcf324e78a96867e98a632dc5": {
          "model_module": "@jupyter-widgets/base",
          "model_module_version": "1.2.0",
          "model_name": "LayoutModel",
          "state": {
            "_model_module": "@jupyter-widgets/base",
            "_model_module_version": "1.2.0",
            "_model_name": "LayoutModel",
            "_view_count": null,
            "_view_module": "@jupyter-widgets/base",
            "_view_module_version": "1.2.0",
            "_view_name": "LayoutView",
            "align_content": null,
            "align_items": null,
            "align_self": null,
            "border": null,
            "bottom": null,
            "display": null,
            "flex": null,
            "flex_flow": null,
            "grid_area": null,
            "grid_auto_columns": null,
            "grid_auto_flow": null,
            "grid_auto_rows": null,
            "grid_column": null,
            "grid_gap": null,
            "grid_row": null,
            "grid_template_areas": null,
            "grid_template_columns": null,
            "grid_template_rows": null,
            "height": "25px",
            "justify_content": null,
            "justify_items": null,
            "left": null,
            "margin": null,
            "max_height": null,
            "max_width": null,
            "min_height": null,
            "min_width": null,
            "object_fit": null,
            "object_position": null,
            "order": null,
            "overflow": null,
            "overflow_x": null,
            "overflow_y": null,
            "padding": "0px",
            "right": null,
            "top": null,
            "visibility": null,
            "width": "25px"
          }
        },
        "7ceff699297343379febb4d666f62141": {
          "model_module": "@jupyter-widgets/controls",
          "model_module_version": "1.5.0",
          "model_name": "FloatSliderModel",
          "state": {
            "_dom_classes": [],
            "_model_module": "@jupyter-widgets/controls",
            "_model_module_version": "1.5.0",
            "_model_name": "FloatSliderModel",
            "_view_count": null,
            "_view_module": "@jupyter-widgets/controls",
            "_view_module_version": "1.5.0",
            "_view_name": "FloatSliderView",
            "continuous_update": true,
            "description": "",
            "description_tooltip": null,
            "disabled": false,
            "layout": "IPY_MODEL_9d3ae4b9a81f4e06a57c0bfed2ee44bf",
            "max": 1,
            "min": 0,
            "orientation": "horizontal",
            "readout": false,
            "readout_format": ".2f",
            "step": 0.01,
            "style": "IPY_MODEL_eff6e1c6c2d44483a50c7372ed7e18b3",
            "value": 1
          }
        },
        "7f008072af3549579817c8fe71789c8d": {
          "model_module": "@jupyter-widgets/controls",
          "model_module_version": "1.5.0",
          "model_name": "HBoxModel",
          "state": {
            "_dom_classes": [],
            "_model_module": "@jupyter-widgets/controls",
            "_model_module_version": "1.5.0",
            "_model_name": "HBoxModel",
            "_view_count": null,
            "_view_module": "@jupyter-widgets/controls",
            "_view_module_version": "1.5.0",
            "_view_name": "HBoxView",
            "box_style": "",
            "children": [
              "IPY_MODEL_28781b464578480b8a4eafab2e85769a",
              "IPY_MODEL_ecb63c422f364fc3b72ac918a2f8aabb",
              "IPY_MODEL_9767dc21227744de8dc561fb316915b0"
            ],
            "layout": "IPY_MODEL_bf95152a2c924c9b83f3a7953d05925e"
          }
        },
        "7f332235a26849939f061e87feee738d": {
          "model_module": "@jupyter-widgets/controls",
          "model_module_version": "1.5.0",
          "model_name": "ButtonStyleModel",
          "state": {
            "_model_module": "@jupyter-widgets/controls",
            "_model_module_version": "1.5.0",
            "_model_name": "ButtonStyleModel",
            "_view_count": null,
            "_view_module": "@jupyter-widgets/base",
            "_view_module_version": "1.2.0",
            "_view_name": "StyleView",
            "button_color": null,
            "font_weight": ""
          }
        },
        "80aeea53c2564cc2a27cc585abadd086": {
          "model_module": "@jupyter-widgets/base",
          "model_module_version": "1.2.0",
          "model_name": "LayoutModel",
          "state": {
            "_model_module": "@jupyter-widgets/base",
            "_model_module_version": "1.2.0",
            "_model_name": "LayoutModel",
            "_view_count": null,
            "_view_module": "@jupyter-widgets/base",
            "_view_module_version": "1.2.0",
            "_view_name": "LayoutView",
            "align_content": null,
            "align_items": null,
            "align_self": null,
            "border": null,
            "bottom": null,
            "display": null,
            "flex": null,
            "flex_flow": null,
            "grid_area": null,
            "grid_auto_columns": null,
            "grid_auto_flow": null,
            "grid_auto_rows": null,
            "grid_column": null,
            "grid_gap": null,
            "grid_row": null,
            "grid_template_areas": null,
            "grid_template_columns": null,
            "grid_template_rows": null,
            "height": "18px",
            "justify_content": null,
            "justify_items": null,
            "left": null,
            "margin": null,
            "max_height": null,
            "max_width": null,
            "min_height": null,
            "min_width": null,
            "object_fit": null,
            "object_position": null,
            "order": null,
            "overflow": null,
            "overflow_x": null,
            "overflow_y": null,
            "padding": "0px 8px 25px 8px",
            "right": null,
            "top": null,
            "visibility": null,
            "width": "30ex"
          }
        },
        "80f54dc109c14f8880943eef1223306c": {
          "model_module": "@jupyter-widgets/controls",
          "model_module_version": "1.5.0",
          "model_name": "HBoxModel",
          "state": {
            "_dom_classes": [],
            "_model_module": "@jupyter-widgets/controls",
            "_model_module_version": "1.5.0",
            "_model_name": "HBoxModel",
            "_view_count": null,
            "_view_module": "@jupyter-widgets/controls",
            "_view_module_version": "1.5.0",
            "_view_name": "HBoxView",
            "box_style": "",
            "children": [
              "IPY_MODEL_8c45c7b570834bc3bb861e42908da04a",
              "IPY_MODEL_a00211dcf2c741f5b6ea9f0130c4fb0a",
              "IPY_MODEL_9a9fcc1c54a845e992577b12101e10e9"
            ],
            "layout": "IPY_MODEL_c8099d2cc18e4f149fdf3bd266c14fe1"
          }
        },
        "81c18cb03bb643c89ded747938500cea": {
          "model_module": "@jupyter-widgets/base",
          "model_module_version": "1.2.0",
          "model_name": "LayoutModel",
          "state": {
            "_model_module": "@jupyter-widgets/base",
            "_model_module_version": "1.2.0",
            "_model_name": "LayoutModel",
            "_view_count": null,
            "_view_module": "@jupyter-widgets/base",
            "_view_module_version": "1.2.0",
            "_view_name": "LayoutView",
            "align_content": null,
            "align_items": null,
            "align_self": null,
            "border": null,
            "bottom": null,
            "display": null,
            "flex": null,
            "flex_flow": null,
            "grid_area": null,
            "grid_auto_columns": null,
            "grid_auto_flow": null,
            "grid_auto_rows": null,
            "grid_column": null,
            "grid_gap": null,
            "grid_row": null,
            "grid_template_areas": null,
            "grid_template_columns": null,
            "grid_template_rows": null,
            "height": null,
            "justify_content": null,
            "justify_items": null,
            "left": null,
            "margin": null,
            "max_height": null,
            "max_width": null,
            "min_height": null,
            "min_width": null,
            "object_fit": null,
            "object_position": null,
            "order": null,
            "overflow": null,
            "overflow_x": null,
            "overflow_y": null,
            "padding": null,
            "right": null,
            "top": null,
            "visibility": null,
            "width": "80px"
          }
        },
        "82a1ff60fb984dfe9e39f8b1c1bdb6b8": {
          "model_module": "@jupyter-widgets/controls",
          "model_module_version": "1.5.0",
          "model_name": "ButtonStyleModel",
          "state": {
            "_model_module": "@jupyter-widgets/controls",
            "_model_module_version": "1.5.0",
            "_model_name": "ButtonStyleModel",
            "_view_count": null,
            "_view_module": "@jupyter-widgets/base",
            "_view_module_version": "1.2.0",
            "_view_name": "StyleView",
            "button_color": null,
            "font_weight": ""
          }
        },
        "82b7e8081c3a4761adb51275f2094254": {
          "model_module": "@jupyter-widgets/controls",
          "model_module_version": "1.5.0",
          "model_name": "ButtonModel",
          "state": {
            "_dom_classes": [],
            "_model_module": "@jupyter-widgets/controls",
            "_model_module_version": "1.5.0",
            "_model_name": "ButtonModel",
            "_view_count": null,
            "_view_module": "@jupyter-widgets/controls",
            "_view_module_version": "1.5.0",
            "_view_name": "ButtonView",
            "button_style": "",
            "description": "",
            "disabled": false,
            "icon": "gear",
            "layout": "IPY_MODEL_5513c09ab06844d196eb48c3705a4e5e",
            "style": "IPY_MODEL_2b55eec80a324f628c7f3072b982bf12",
            "tooltip": "OpenStreetMap"
          }
        },
        "84239fddfc8e4037afdf440d93a35261": {
          "model_module": "@jupyter-widgets/base",
          "model_module_version": "1.2.0",
          "model_name": "LayoutModel",
          "state": {
            "_model_module": "@jupyter-widgets/base",
            "_model_module_version": "1.2.0",
            "_model_name": "LayoutModel",
            "_view_count": null,
            "_view_module": "@jupyter-widgets/base",
            "_view_module_version": "1.2.0",
            "_view_name": "LayoutView",
            "align_content": null,
            "align_items": null,
            "align_self": null,
            "border": null,
            "bottom": null,
            "display": null,
            "flex": null,
            "flex_flow": null,
            "grid_area": null,
            "grid_auto_columns": null,
            "grid_auto_flow": null,
            "grid_auto_rows": null,
            "grid_column": null,
            "grid_gap": null,
            "grid_row": null,
            "grid_template_areas": null,
            "grid_template_columns": null,
            "grid_template_rows": null,
            "height": null,
            "justify_content": null,
            "justify_items": null,
            "left": null,
            "margin": null,
            "max_height": null,
            "max_width": null,
            "min_height": null,
            "min_width": null,
            "object_fit": null,
            "object_position": null,
            "order": null,
            "overflow": null,
            "overflow_x": null,
            "overflow_y": null,
            "padding": null,
            "right": null,
            "top": null,
            "visibility": null,
            "width": "80px"
          }
        },
        "8489ba776f7f47eeac62fa0facd96926": {
          "model_module": "@jupyter-widgets/base",
          "model_module_version": "1.2.0",
          "model_name": "LayoutModel",
          "state": {
            "_model_module": "@jupyter-widgets/base",
            "_model_module_version": "1.2.0",
            "_model_name": "LayoutModel",
            "_view_count": null,
            "_view_module": "@jupyter-widgets/base",
            "_view_module_version": "1.2.0",
            "_view_name": "LayoutView",
            "align_content": null,
            "align_items": null,
            "align_self": null,
            "border": null,
            "bottom": null,
            "display": null,
            "flex": null,
            "flex_flow": null,
            "grid_area": null,
            "grid_auto_columns": null,
            "grid_auto_flow": null,
            "grid_auto_rows": null,
            "grid_column": null,
            "grid_gap": null,
            "grid_row": null,
            "grid_template_areas": null,
            "grid_template_columns": null,
            "grid_template_rows": null,
            "height": "18px",
            "justify_content": null,
            "justify_items": null,
            "left": null,
            "margin": null,
            "max_height": null,
            "max_width": null,
            "min_height": null,
            "min_width": null,
            "object_fit": null,
            "object_position": null,
            "order": null,
            "overflow": null,
            "overflow_x": null,
            "overflow_y": null,
            "padding": null,
            "right": null,
            "top": null,
            "visibility": null,
            "width": "140px"
          }
        },
        "858efccaed84495090bb7341699c9f1b": {
          "model_module": "@jupyter-widgets/controls",
          "model_module_version": "1.5.0",
          "model_name": "ToggleButtonModel",
          "state": {
            "_dom_classes": [],
            "_model_module": "@jupyter-widgets/controls",
            "_model_module_version": "1.5.0",
            "_model_name": "ToggleButtonModel",
            "_view_count": null,
            "_view_module": "@jupyter-widgets/controls",
            "_view_module_version": "1.5.0",
            "_view_name": "ToggleButtonView",
            "button_style": "primary",
            "description": "",
            "description_tooltip": null,
            "disabled": false,
            "icon": "plus",
            "layout": "IPY_MODEL_ec52b2b38a364186aaf8aa6e57284982",
            "style": "IPY_MODEL_718645e39ed64906808d35f60f90977f",
            "tooltip": "Expand toolbar",
            "value": false
          }
        },
        "85c012bf209540e59db3ea3b50d4bce8": {
          "model_module": "@jupyter-widgets/controls",
          "model_module_version": "1.5.0",
          "model_name": "DescriptionStyleModel",
          "state": {
            "_model_module": "@jupyter-widgets/controls",
            "_model_module_version": "1.5.0",
            "_model_name": "DescriptionStyleModel",
            "_view_count": null,
            "_view_module": "@jupyter-widgets/base",
            "_view_module_version": "1.2.0",
            "_view_name": "StyleView",
            "description_width": ""
          }
        },
        "85c59e63890c4755bd9320ea46deb494": {
          "model_module": "@jupyter-widgets/base",
          "model_module_version": "1.2.0",
          "model_name": "LayoutModel",
          "state": {
            "_model_module": "@jupyter-widgets/base",
            "_model_module_version": "1.2.0",
            "_model_name": "LayoutModel",
            "_view_count": null,
            "_view_module": "@jupyter-widgets/base",
            "_view_module_version": "1.2.0",
            "_view_name": "LayoutView",
            "align_content": null,
            "align_items": null,
            "align_self": null,
            "border": null,
            "bottom": null,
            "display": null,
            "flex": null,
            "flex_flow": null,
            "grid_area": null,
            "grid_auto_columns": null,
            "grid_auto_flow": null,
            "grid_auto_rows": null,
            "grid_column": null,
            "grid_gap": null,
            "grid_row": null,
            "grid_template_areas": null,
            "grid_template_columns": null,
            "grid_template_rows": null,
            "height": null,
            "justify_content": null,
            "justify_items": null,
            "left": null,
            "margin": null,
            "max_height": null,
            "max_width": null,
            "min_height": null,
            "min_width": null,
            "object_fit": null,
            "object_position": null,
            "order": null,
            "overflow": null,
            "overflow_x": null,
            "overflow_y": null,
            "padding": null,
            "right": null,
            "top": null,
            "visibility": null,
            "width": "80px"
          }
        },
        "8603eb02cc2c442b81e1279655e19cfb": {
          "model_module": "@jupyter-widgets/controls",
          "model_module_version": "1.5.0",
          "model_name": "FloatSliderModel",
          "state": {
            "_dom_classes": [],
            "_model_module": "@jupyter-widgets/controls",
            "_model_module_version": "1.5.0",
            "_model_name": "FloatSliderModel",
            "_view_count": null,
            "_view_module": "@jupyter-widgets/controls",
            "_view_module_version": "1.5.0",
            "_view_name": "FloatSliderView",
            "continuous_update": true,
            "description": "",
            "description_tooltip": null,
            "disabled": false,
            "layout": "IPY_MODEL_1836544a0b4d43d891b2e2a291f7a78b",
            "max": 1,
            "min": 0,
            "orientation": "horizontal",
            "readout": false,
            "readout_format": ".2f",
            "step": 0.01,
            "style": "IPY_MODEL_404deed85e8d4760a4b28ddd49e9b68f",
            "value": 1
          }
        },
        "860a4b08c3f64f88a0a944b930260e81": {
          "model_module": "@jupyter-widgets/controls",
          "model_module_version": "1.5.0",
          "model_name": "ButtonModel",
          "state": {
            "_dom_classes": [],
            "_model_module": "@jupyter-widgets/controls",
            "_model_module_version": "1.5.0",
            "_model_name": "ButtonModel",
            "_view_count": null,
            "_view_module": "@jupyter-widgets/controls",
            "_view_module_version": "1.5.0",
            "_view_name": "ButtonView",
            "button_style": "",
            "description": "",
            "disabled": false,
            "icon": "gear",
            "layout": "IPY_MODEL_9a220e2ae860453285716e0234091e7b",
            "style": "IPY_MODEL_d8035dd8e1dc4430bebb82c43cc75c5a",
            "tooltip": "Esri.WorldImagery"
          }
        },
        "8678ac0446044f4f87c064fe7f77e546": {
          "model_module": "@jupyter-widgets/controls",
          "model_module_version": "1.5.0",
          "model_name": "ToggleButtonModel",
          "state": {
            "_dom_classes": [],
            "_model_module": "@jupyter-widgets/controls",
            "_model_module_version": "1.5.0",
            "_model_name": "ToggleButtonModel",
            "_view_count": null,
            "_view_module": "@jupyter-widgets/controls",
            "_view_module_version": "1.5.0",
            "_view_name": "ToggleButtonView",
            "button_style": "primary",
            "description": "",
            "description_tooltip": null,
            "disabled": false,
            "icon": "info",
            "layout": "IPY_MODEL_7911462ab52e454e9a5904d2c24c9f38",
            "style": "IPY_MODEL_1dc48551f9474ea59f1d456cb93bcb77",
            "tooltip": "Inspector",
            "value": false
          }
        },
        "87c9c54fd4ec4e60906b398464ec02f3": {
          "model_module": "@jupyter-widgets/controls",
          "model_module_version": "1.5.0",
          "model_name": "ButtonModel",
          "state": {
            "_dom_classes": [],
            "_model_module": "@jupyter-widgets/controls",
            "_model_module_version": "1.5.0",
            "_model_name": "ButtonModel",
            "_view_count": null,
            "_view_module": "@jupyter-widgets/controls",
            "_view_module_version": "1.5.0",
            "_view_name": "ButtonView",
            "button_style": "",
            "description": "",
            "disabled": false,
            "icon": "gear",
            "layout": "IPY_MODEL_afe9e6003a6643e2af499bcebbcd2935",
            "style": "IPY_MODEL_27d3716ad41c4789bf75dcb17eef6e3f",
            "tooltip": "Esri.WorldStreetMap"
          }
        },
        "87cb1d6a0f714c09b924f31596557722": {
          "model_module": "@jupyter-widgets/controls",
          "model_module_version": "1.5.0",
          "model_name": "SliderStyleModel",
          "state": {
            "_model_module": "@jupyter-widgets/controls",
            "_model_module_version": "1.5.0",
            "_model_name": "SliderStyleModel",
            "_view_count": null,
            "_view_module": "@jupyter-widgets/base",
            "_view_module_version": "1.2.0",
            "_view_name": "StyleView",
            "description_width": "",
            "handle_color": null
          }
        },
        "87cc5064a6dd42ecbc33cac97a19848a": {
          "model_module": "@jupyter-widgets/base",
          "model_module_version": "1.2.0",
          "model_name": "LayoutModel",
          "state": {
            "_model_module": "@jupyter-widgets/base",
            "_model_module_version": "1.2.0",
            "_model_name": "LayoutModel",
            "_view_count": null,
            "_view_module": "@jupyter-widgets/base",
            "_view_module_version": "1.2.0",
            "_view_name": "LayoutView",
            "align_content": null,
            "align_items": null,
            "align_self": null,
            "border": null,
            "bottom": null,
            "display": null,
            "flex": null,
            "flex_flow": null,
            "grid_area": null,
            "grid_auto_columns": null,
            "grid_auto_flow": null,
            "grid_auto_rows": null,
            "grid_column": null,
            "grid_gap": null,
            "grid_row": null,
            "grid_template_areas": null,
            "grid_template_columns": null,
            "grid_template_rows": null,
            "height": null,
            "justify_content": null,
            "justify_items": null,
            "left": null,
            "margin": null,
            "max_height": null,
            "max_width": null,
            "min_height": null,
            "min_width": null,
            "object_fit": null,
            "object_position": null,
            "order": null,
            "overflow": null,
            "overflow_x": null,
            "overflow_y": null,
            "padding": null,
            "right": null,
            "top": null,
            "visibility": null,
            "width": "80px"
          }
        },
        "8a7d7c0c809a4f96ac332bb9fd87b894": {
          "model_module": "jupyter-leaflet",
          "model_module_version": "^0.18",
          "model_name": "LeafletWidgetControlModel",
          "state": {
            "_model_module": "jupyter-leaflet",
            "_model_module_version": "^0.18",
            "_model_name": "LeafletWidgetControlModel",
            "_view_count": null,
            "_view_module": "jupyter-leaflet",
            "_view_module_version": "^0.18",
            "_view_name": "LeafletWidgetControlView",
            "max_height": null,
            "max_width": null,
            "min_height": null,
            "min_width": null,
            "options": [
              "position",
              "transparent_bg"
            ],
            "position": "topright",
            "transparent_bg": false,
            "widget": "IPY_MODEL_aeb7d0cacf3747c19be6e39240feb651"
          }
        },
        "8b06989ca4574beba42b02ee04301232": {
          "model_module": "@jupyter-widgets/controls",
          "model_module_version": "1.5.0",
          "model_name": "CheckboxModel",
          "state": {
            "_dom_classes": [],
            "_model_module": "@jupyter-widgets/controls",
            "_model_module_version": "1.5.0",
            "_model_name": "CheckboxModel",
            "_view_count": null,
            "_view_module": "@jupyter-widgets/controls",
            "_view_module_version": "1.5.0",
            "_view_name": "CheckboxView",
            "description": "Esri.WorldTopoMap",
            "description_tooltip": null,
            "disabled": false,
            "indent": false,
            "layout": "IPY_MODEL_ffe7af5d740e4564a7289db7adde6f90",
            "style": "IPY_MODEL_5594af267f874978b202e8913a5071ab",
            "value": false
          }
        },
        "8ba632a540b94eeea3ad97018e2ec5e4": {
          "model_module": "@jupyter-widgets/base",
          "model_module_version": "1.2.0",
          "model_name": "LayoutModel",
          "state": {
            "_model_module": "@jupyter-widgets/base",
            "_model_module_version": "1.2.0",
            "_model_name": "LayoutModel",
            "_view_count": null,
            "_view_module": "@jupyter-widgets/base",
            "_view_module_version": "1.2.0",
            "_view_name": "LayoutView",
            "align_content": null,
            "align_items": null,
            "align_self": null,
            "border": null,
            "bottom": null,
            "display": "none",
            "flex": null,
            "flex_flow": null,
            "grid_area": null,
            "grid_auto_columns": null,
            "grid_auto_flow": null,
            "grid_auto_rows": null,
            "grid_column": null,
            "grid_gap": null,
            "grid_row": null,
            "grid_template_areas": null,
            "grid_template_columns": null,
            "grid_template_rows": null,
            "height": null,
            "justify_content": null,
            "justify_items": null,
            "left": null,
            "margin": null,
            "max_height": null,
            "max_width": null,
            "min_height": null,
            "min_width": null,
            "object_fit": null,
            "object_position": null,
            "order": null,
            "overflow": null,
            "overflow_x": null,
            "overflow_y": null,
            "padding": null,
            "right": null,
            "top": null,
            "visibility": null,
            "width": null
          }
        },
        "8c45c7b570834bc3bb861e42908da04a": {
          "model_module": "@jupyter-widgets/controls",
          "model_module_version": "1.5.0",
          "model_name": "CheckboxModel",
          "state": {
            "_dom_classes": [],
            "_model_module": "@jupyter-widgets/controls",
            "_model_module_version": "1.5.0",
            "_model_name": "CheckboxModel",
            "_view_count": null,
            "_view_module": "@jupyter-widgets/controls",
            "_view_module_version": "1.5.0",
            "_view_name": "CheckboxView",
            "description": "Esri.WorldTopoMap",
            "description_tooltip": null,
            "disabled": false,
            "indent": false,
            "layout": "IPY_MODEL_3636bbe634f3449da28e6cc8d35cf2a2",
            "style": "IPY_MODEL_aaa60acd741c49d3bca0618690e4c3ae",
            "value": true
          }
        },
        "8c7518250ca9410387ae21043daa2d56": {
          "model_module": "@jupyter-widgets/controls",
          "model_module_version": "1.5.0",
          "model_name": "SliderStyleModel",
          "state": {
            "_model_module": "@jupyter-widgets/controls",
            "_model_module_version": "1.5.0",
            "_model_name": "SliderStyleModel",
            "_view_count": null,
            "_view_module": "@jupyter-widgets/base",
            "_view_module_version": "1.2.0",
            "_view_name": "StyleView",
            "description_width": "",
            "handle_color": null
          }
        },
        "8cb062ca4b5d431e81f1a8deadd6362e": {
          "model_module": "jupyter-leaflet",
          "model_module_version": "^0.18",
          "model_name": "LeafletScaleControlModel",
          "state": {
            "_model_module": "jupyter-leaflet",
            "_model_module_version": "^0.18",
            "_model_name": "LeafletScaleControlModel",
            "_view_count": null,
            "_view_module": "jupyter-leaflet",
            "_view_module_version": "^0.18",
            "_view_name": "LeafletScaleControlView",
            "imperial": true,
            "max_width": 100,
            "metric": true,
            "options": [
              "imperial",
              "max_width",
              "metric",
              "position",
              "update_when_idle"
            ],
            "position": "bottomleft",
            "update_when_idle": false
          }
        },
        "8e6f6135d66c4579a15d7dd4c59a4109": {
          "model_module": "jupyter-leaflet",
          "model_module_version": "^0.18",
          "model_name": "LeafletFullScreenControlModel",
          "state": {
            "_model_module": "jupyter-leaflet",
            "_model_module_version": "^0.18",
            "_model_name": "LeafletFullScreenControlModel",
            "_view_count": null,
            "_view_module": "jupyter-leaflet",
            "_view_module_version": "^0.18",
            "_view_name": "LeafletFullScreenControlView",
            "options": [
              "position"
            ],
            "position": "topleft"
          }
        },
        "919e9b746897450ea5c25dbc7cef0321": {
          "model_module": "@jupyter-widgets/controls",
          "model_module_version": "1.5.0",
          "model_name": "ButtonModel",
          "state": {
            "_dom_classes": [],
            "_model_module": "@jupyter-widgets/controls",
            "_model_module_version": "1.5.0",
            "_model_name": "ButtonModel",
            "_view_count": null,
            "_view_module": "@jupyter-widgets/controls",
            "_view_module_version": "1.5.0",
            "_view_name": "ButtonView",
            "button_style": "",
            "description": "",
            "disabled": false,
            "icon": "gear",
            "layout": "IPY_MODEL_e87c0755546a49e68ae30b986564c1b6",
            "style": "IPY_MODEL_7f332235a26849939f061e87feee738d",
            "tooltip": "Esri.WorldTopoMap"
          }
        },
        "9217c5d25cd64d7db735f9c53ab6345a": {
          "model_module": "@jupyter-widgets/controls",
          "model_module_version": "1.5.0",
          "model_name": "ToggleButtonModel",
          "state": {
            "_dom_classes": [],
            "_model_module": "@jupyter-widgets/controls",
            "_model_module_version": "1.5.0",
            "_model_name": "ToggleButtonModel",
            "_view_count": null,
            "_view_module": "@jupyter-widgets/controls",
            "_view_module_version": "1.5.0",
            "_view_name": "ToggleButtonView",
            "button_style": "primary",
            "description": "",
            "description_tooltip": null,
            "disabled": false,
            "icon": "globe",
            "layout": "IPY_MODEL_782c74743f054a9d9639328265914bc1",
            "style": "IPY_MODEL_28219216b58e4de1be6fa02cfbea090b",
            "tooltip": "Create timelapse",
            "value": false
          }
        },
        "923d66ff7da24f0e8df77341dd21d22c": {
          "model_module": "@jupyter-widgets/controls",
          "model_module_version": "1.5.0",
          "model_name": "DescriptionStyleModel",
          "state": {
            "_model_module": "@jupyter-widgets/controls",
            "_model_module_version": "1.5.0",
            "_model_name": "DescriptionStyleModel",
            "_view_count": null,
            "_view_module": "@jupyter-widgets/base",
            "_view_module_version": "1.2.0",
            "_view_name": "StyleView",
            "description_width": ""
          }
        },
        "9269b7e0d9e644b0a9b2eb26b255c9fa": {
          "model_module": "@jupyter-widgets/controls",
          "model_module_version": "1.5.0",
          "model_name": "DescriptionStyleModel",
          "state": {
            "_model_module": "@jupyter-widgets/controls",
            "_model_module_version": "1.5.0",
            "_model_name": "DescriptionStyleModel",
            "_view_count": null,
            "_view_module": "@jupyter-widgets/base",
            "_view_module_version": "1.2.0",
            "_view_name": "StyleView",
            "description_width": ""
          }
        },
        "938a4748f37e49949a809d85cdc2b356": {
          "model_module": "@jupyter-widgets/controls",
          "model_module_version": "1.5.0",
          "model_name": "ButtonStyleModel",
          "state": {
            "_model_module": "@jupyter-widgets/controls",
            "_model_module_version": "1.5.0",
            "_model_name": "ButtonStyleModel",
            "_view_count": null,
            "_view_module": "@jupyter-widgets/base",
            "_view_module_version": "1.2.0",
            "_view_name": "StyleView",
            "button_color": null,
            "font_weight": ""
          }
        },
        "93c759477dfd4e26b9fd0d3fb0352803": {
          "model_module": "@jupyter-widgets/controls",
          "model_module_version": "1.5.0",
          "model_name": "ButtonModel",
          "state": {
            "_dom_classes": [],
            "_model_module": "@jupyter-widgets/controls",
            "_model_module_version": "1.5.0",
            "_model_name": "ButtonModel",
            "_view_count": null,
            "_view_module": "@jupyter-widgets/controls",
            "_view_module_version": "1.5.0",
            "_view_name": "ButtonView",
            "button_style": "primary",
            "description": "",
            "disabled": false,
            "icon": "times",
            "layout": "IPY_MODEL_16737d43e1fa4f1fa59526d54c1e196b",
            "style": "IPY_MODEL_f48693d3f4b542dd8dbbb3c5e008adc5",
            "tooltip": "Close the tool"
          }
        },
        "9541a6846f38409cadc3fe87312c3f07": {
          "model_module": "@jupyter-widgets/controls",
          "model_module_version": "1.5.0",
          "model_name": "CheckboxModel",
          "state": {
            "_dom_classes": [],
            "_model_module": "@jupyter-widgets/controls",
            "_model_module_version": "1.5.0",
            "_model_name": "CheckboxModel",
            "_view_count": null,
            "_view_module": "@jupyter-widgets/controls",
            "_view_module_version": "1.5.0",
            "_view_name": "CheckboxView",
            "description": "Esri.WorldStreetMap",
            "description_tooltip": null,
            "disabled": false,
            "indent": false,
            "layout": "IPY_MODEL_95ae933557ec46d3bb90a8827dac607c",
            "style": "IPY_MODEL_781c39c948834c37b5d166bd02d8ff5d",
            "value": false
          }
        },
        "95ae933557ec46d3bb90a8827dac607c": {
          "model_module": "@jupyter-widgets/base",
          "model_module_version": "1.2.0",
          "model_name": "LayoutModel",
          "state": {
            "_model_module": "@jupyter-widgets/base",
            "_model_module_version": "1.2.0",
            "_model_name": "LayoutModel",
            "_view_count": null,
            "_view_module": "@jupyter-widgets/base",
            "_view_module_version": "1.2.0",
            "_view_name": "LayoutView",
            "align_content": null,
            "align_items": null,
            "align_self": null,
            "border": null,
            "bottom": null,
            "display": null,
            "flex": null,
            "flex_flow": null,
            "grid_area": null,
            "grid_auto_columns": null,
            "grid_auto_flow": null,
            "grid_auto_rows": null,
            "grid_column": null,
            "grid_gap": null,
            "grid_row": null,
            "grid_template_areas": null,
            "grid_template_columns": null,
            "grid_template_rows": null,
            "height": "18px",
            "justify_content": null,
            "justify_items": null,
            "left": null,
            "margin": null,
            "max_height": null,
            "max_width": null,
            "min_height": null,
            "min_width": null,
            "object_fit": null,
            "object_position": null,
            "order": null,
            "overflow": null,
            "overflow_x": null,
            "overflow_y": null,
            "padding": null,
            "right": null,
            "top": null,
            "visibility": null,
            "width": "140px"
          }
        },
        "95b938f145d64307a17fb08537d0f1fd": {
          "model_module": "@jupyter-widgets/controls",
          "model_module_version": "1.5.0",
          "model_name": "DescriptionStyleModel",
          "state": {
            "_model_module": "@jupyter-widgets/controls",
            "_model_module_version": "1.5.0",
            "_model_name": "DescriptionStyleModel",
            "_view_count": null,
            "_view_module": "@jupyter-widgets/base",
            "_view_module_version": "1.2.0",
            "_view_name": "StyleView",
            "description_width": ""
          }
        },
        "9766516ad4be421b813630154bd2d4ce": {
          "model_module": "@jupyter-widgets/controls",
          "model_module_version": "1.5.0",
          "model_name": "DescriptionStyleModel",
          "state": {
            "_model_module": "@jupyter-widgets/controls",
            "_model_module_version": "1.5.0",
            "_model_name": "DescriptionStyleModel",
            "_view_count": null,
            "_view_module": "@jupyter-widgets/base",
            "_view_module_version": "1.2.0",
            "_view_name": "StyleView",
            "description_width": ""
          }
        },
        "9767dc21227744de8dc561fb316915b0": {
          "model_module": "@jupyter-widgets/controls",
          "model_module_version": "1.5.0",
          "model_name": "FloatSliderModel",
          "state": {
            "_dom_classes": [],
            "_model_module": "@jupyter-widgets/controls",
            "_model_module_version": "1.5.0",
            "_model_name": "FloatSliderModel",
            "_view_count": null,
            "_view_module": "@jupyter-widgets/controls",
            "_view_module_version": "1.5.0",
            "_view_name": "FloatSliderView",
            "continuous_update": true,
            "description": "",
            "description_tooltip": null,
            "disabled": false,
            "layout": "IPY_MODEL_17ff0c1d5be6433fa8fb1746355d4a8c",
            "max": 1,
            "min": 0,
            "orientation": "horizontal",
            "readout": false,
            "readout_format": ".2f",
            "step": 0.01,
            "style": "IPY_MODEL_2b95a0fb930647de8406aed18b970505",
            "value": 1
          }
        },
        "991cc875933f45778c7f390f198b0c50": {
          "model_module": "@jupyter-widgets/base",
          "model_module_version": "1.2.0",
          "model_name": "LayoutModel",
          "state": {
            "_model_module": "@jupyter-widgets/base",
            "_model_module_version": "1.2.0",
            "_model_name": "LayoutModel",
            "_view_count": null,
            "_view_module": "@jupyter-widgets/base",
            "_view_module_version": "1.2.0",
            "_view_name": "LayoutView",
            "align_content": null,
            "align_items": null,
            "align_self": null,
            "border": null,
            "bottom": null,
            "display": null,
            "flex": null,
            "flex_flow": null,
            "grid_area": null,
            "grid_auto_columns": null,
            "grid_auto_flow": null,
            "grid_auto_rows": null,
            "grid_column": null,
            "grid_gap": null,
            "grid_row": null,
            "grid_template_areas": null,
            "grid_template_columns": null,
            "grid_template_rows": null,
            "height": null,
            "justify_content": null,
            "justify_items": null,
            "left": null,
            "margin": null,
            "max_height": null,
            "max_width": null,
            "min_height": null,
            "min_width": null,
            "object_fit": null,
            "object_position": null,
            "order": null,
            "overflow": null,
            "overflow_x": null,
            "overflow_y": null,
            "padding": null,
            "right": null,
            "top": null,
            "visibility": null,
            "width": null
          }
        },
        "9924467304a44723a2a4677634bc071d": {
          "model_module": "@jupyter-widgets/controls",
          "model_module_version": "1.5.0",
          "model_name": "ButtonModel",
          "state": {
            "_dom_classes": [],
            "_model_module": "@jupyter-widgets/controls",
            "_model_module_version": "1.5.0",
            "_model_name": "ButtonModel",
            "_view_count": null,
            "_view_module": "@jupyter-widgets/controls",
            "_view_module_version": "1.5.0",
            "_view_name": "ButtonView",
            "button_style": "",
            "description": "",
            "disabled": false,
            "icon": "gear",
            "layout": "IPY_MODEL_d8140c78b18d4db0ae24f16e16ea0668",
            "style": "IPY_MODEL_66f87785b68b40c791a7395afc8efd91",
            "tooltip": "NLCD 2011 CONUS Land Cover"
          }
        },
        "9a220e2ae860453285716e0234091e7b": {
          "model_module": "@jupyter-widgets/base",
          "model_module_version": "1.2.0",
          "model_name": "LayoutModel",
          "state": {
            "_model_module": "@jupyter-widgets/base",
            "_model_module_version": "1.2.0",
            "_model_name": "LayoutModel",
            "_view_count": null,
            "_view_module": "@jupyter-widgets/base",
            "_view_module_version": "1.2.0",
            "_view_name": "LayoutView",
            "align_content": null,
            "align_items": null,
            "align_self": null,
            "border": null,
            "bottom": null,
            "display": null,
            "flex": null,
            "flex_flow": null,
            "grid_area": null,
            "grid_auto_columns": null,
            "grid_auto_flow": null,
            "grid_auto_rows": null,
            "grid_column": null,
            "grid_gap": null,
            "grid_row": null,
            "grid_template_areas": null,
            "grid_template_columns": null,
            "grid_template_rows": null,
            "height": "25px",
            "justify_content": null,
            "justify_items": null,
            "left": null,
            "margin": null,
            "max_height": null,
            "max_width": null,
            "min_height": null,
            "min_width": null,
            "object_fit": null,
            "object_position": null,
            "order": null,
            "overflow": null,
            "overflow_x": null,
            "overflow_y": null,
            "padding": "0px",
            "right": null,
            "top": null,
            "visibility": null,
            "width": "25px"
          }
        },
        "9a9fcc1c54a845e992577b12101e10e9": {
          "model_module": "@jupyter-widgets/controls",
          "model_module_version": "1.5.0",
          "model_name": "FloatSliderModel",
          "state": {
            "_dom_classes": [],
            "_model_module": "@jupyter-widgets/controls",
            "_model_module_version": "1.5.0",
            "_model_name": "FloatSliderModel",
            "_view_count": null,
            "_view_module": "@jupyter-widgets/controls",
            "_view_module_version": "1.5.0",
            "_view_name": "FloatSliderView",
            "continuous_update": true,
            "description": "",
            "description_tooltip": null,
            "disabled": false,
            "layout": "IPY_MODEL_69732f03aa664e62868e7eccf734fad9",
            "max": 1,
            "min": 0,
            "orientation": "horizontal",
            "readout": false,
            "readout_format": ".2f",
            "step": 0.01,
            "style": "IPY_MODEL_9f4193b26b6044e4bf2d76a27c588abf",
            "value": 1
          }
        },
        "9bbbaf7caebb4ba1a4cd0e886d6e6e16": {
          "model_module": "@jupyter-widgets/controls",
          "model_module_version": "1.5.0",
          "model_name": "FloatSliderModel",
          "state": {
            "_dom_classes": [],
            "_model_module": "@jupyter-widgets/controls",
            "_model_module_version": "1.5.0",
            "_model_name": "FloatSliderModel",
            "_view_count": null,
            "_view_module": "@jupyter-widgets/controls",
            "_view_module_version": "1.5.0",
            "_view_name": "FloatSliderView",
            "continuous_update": true,
            "description": "",
            "description_tooltip": null,
            "disabled": false,
            "layout": "IPY_MODEL_56bcdf515f9c4ec2b4296b9787fea399",
            "max": 1,
            "min": 0,
            "orientation": "horizontal",
            "readout": false,
            "readout_format": ".2f",
            "step": 0.01,
            "style": "IPY_MODEL_64abec213a3549d8ad8c3f69ddf6b5b3",
            "value": 1
          }
        },
        "9cfd9c5e68204addac0edc586b55f3a6": {
          "model_module": "@jupyter-widgets/controls",
          "model_module_version": "1.5.0",
          "model_name": "HBoxModel",
          "state": {
            "_dom_classes": [],
            "_model_module": "@jupyter-widgets/controls",
            "_model_module_version": "1.5.0",
            "_model_name": "HBoxModel",
            "_view_count": null,
            "_view_module": "@jupyter-widgets/controls",
            "_view_module_version": "1.5.0",
            "_view_name": "HBoxView",
            "box_style": "",
            "children": [
              "IPY_MODEL_3edf5a140e7e47f69265cc96b8e4920a",
              "IPY_MODEL_ee83ab03e3a042da9533042bbcb60b9e",
              "IPY_MODEL_7ceff699297343379febb4d666f62141"
            ],
            "layout": "IPY_MODEL_9ef9de8e3b7a4c7f857266ccd47307fc"
          }
        },
        "9d3ae4b9a81f4e06a57c0bfed2ee44bf": {
          "model_module": "@jupyter-widgets/base",
          "model_module_version": "1.2.0",
          "model_name": "LayoutModel",
          "state": {
            "_model_module": "@jupyter-widgets/base",
            "_model_module_version": "1.2.0",
            "_model_name": "LayoutModel",
            "_view_count": null,
            "_view_module": "@jupyter-widgets/base",
            "_view_module_version": "1.2.0",
            "_view_name": "LayoutView",
            "align_content": null,
            "align_items": null,
            "align_self": null,
            "border": null,
            "bottom": null,
            "display": null,
            "flex": null,
            "flex_flow": null,
            "grid_area": null,
            "grid_auto_columns": null,
            "grid_auto_flow": null,
            "grid_auto_rows": null,
            "grid_column": null,
            "grid_gap": null,
            "grid_row": null,
            "grid_template_areas": null,
            "grid_template_columns": null,
            "grid_template_rows": null,
            "height": null,
            "justify_content": null,
            "justify_items": null,
            "left": null,
            "margin": null,
            "max_height": null,
            "max_width": null,
            "min_height": null,
            "min_width": null,
            "object_fit": null,
            "object_position": null,
            "order": null,
            "overflow": null,
            "overflow_x": null,
            "overflow_y": null,
            "padding": null,
            "right": null,
            "top": null,
            "visibility": null,
            "width": "80px"
          }
        },
        "9d54937668d64c558a7d90434a5ea021": {
          "model_module": "@jupyter-widgets/base",
          "model_module_version": "1.2.0",
          "model_name": "LayoutModel",
          "state": {
            "_model_module": "@jupyter-widgets/base",
            "_model_module_version": "1.2.0",
            "_model_name": "LayoutModel",
            "_view_count": null,
            "_view_module": "@jupyter-widgets/base",
            "_view_module_version": "1.2.0",
            "_view_name": "LayoutView",
            "align_content": null,
            "align_items": null,
            "align_self": null,
            "border": null,
            "bottom": null,
            "display": null,
            "flex": null,
            "flex_flow": null,
            "grid_area": null,
            "grid_auto_columns": null,
            "grid_auto_flow": null,
            "grid_auto_rows": null,
            "grid_column": null,
            "grid_gap": null,
            "grid_row": null,
            "grid_template_areas": null,
            "grid_template_columns": null,
            "grid_template_rows": null,
            "height": null,
            "justify_content": null,
            "justify_items": null,
            "left": null,
            "margin": null,
            "max_height": null,
            "max_width": null,
            "min_height": null,
            "min_width": null,
            "object_fit": null,
            "object_position": null,
            "order": null,
            "overflow": null,
            "overflow_x": null,
            "overflow_y": null,
            "padding": null,
            "right": null,
            "top": null,
            "visibility": null,
            "width": null
          }
        },
        "9da8dd9d98834732a883da510b54b1c0": {
          "model_module": "@jupyter-widgets/controls",
          "model_module_version": "1.5.0",
          "model_name": "ButtonModel",
          "state": {
            "_dom_classes": [],
            "_model_module": "@jupyter-widgets/controls",
            "_model_module_version": "1.5.0",
            "_model_name": "ButtonModel",
            "_view_count": null,
            "_view_module": "@jupyter-widgets/controls",
            "_view_module_version": "1.5.0",
            "_view_name": "ButtonView",
            "button_style": "",
            "description": "",
            "disabled": false,
            "icon": "gear",
            "layout": "IPY_MODEL_fbff4f3d9f05442bb0dd2b24d12e8726",
            "style": "IPY_MODEL_34182f8427aa448b9f317466ddfb79d3",
            "tooltip": "OpenTopoMap"
          }
        },
        "9e46e1ec1c7c460288d478466e01b11c": {
          "model_module": "@jupyter-widgets/controls",
          "model_module_version": "1.5.0",
          "model_name": "HBoxModel",
          "state": {
            "_dom_classes": [],
            "_model_module": "@jupyter-widgets/controls",
            "_model_module_version": "1.5.0",
            "_model_name": "HBoxModel",
            "_view_count": null,
            "_view_module": "@jupyter-widgets/controls",
            "_view_module_version": "1.5.0",
            "_view_name": "HBoxView",
            "box_style": "",
            "children": [
              "IPY_MODEL_5c33531a710b4880a1b297e7c36e24da",
              "IPY_MODEL_a966d721a1df4a2986edd3e6e0699279"
            ],
            "layout": "IPY_MODEL_8ba632a540b94eeea3ad97018e2ec5e4"
          }
        },
        "9e6be763150f4621a4f18f54da9004fb": {
          "model_module": "@jupyter-widgets/controls",
          "model_module_version": "1.5.0",
          "model_name": "DescriptionStyleModel",
          "state": {
            "_model_module": "@jupyter-widgets/controls",
            "_model_module_version": "1.5.0",
            "_model_name": "DescriptionStyleModel",
            "_view_count": null,
            "_view_module": "@jupyter-widgets/base",
            "_view_module_version": "1.2.0",
            "_view_name": "StyleView",
            "description_width": ""
          }
        },
        "9ef9de8e3b7a4c7f857266ccd47307fc": {
          "model_module": "@jupyter-widgets/base",
          "model_module_version": "1.2.0",
          "model_name": "LayoutModel",
          "state": {
            "_model_module": "@jupyter-widgets/base",
            "_model_module_version": "1.2.0",
            "_model_name": "LayoutModel",
            "_view_count": null,
            "_view_module": "@jupyter-widgets/base",
            "_view_module_version": "1.2.0",
            "_view_name": "LayoutView",
            "align_content": null,
            "align_items": null,
            "align_self": null,
            "border": null,
            "bottom": null,
            "display": null,
            "flex": null,
            "flex_flow": null,
            "grid_area": null,
            "grid_auto_columns": null,
            "grid_auto_flow": null,
            "grid_auto_rows": null,
            "grid_column": null,
            "grid_gap": null,
            "grid_row": null,
            "grid_template_areas": null,
            "grid_template_columns": null,
            "grid_template_rows": null,
            "height": null,
            "justify_content": null,
            "justify_items": null,
            "left": null,
            "margin": null,
            "max_height": null,
            "max_width": null,
            "min_height": null,
            "min_width": null,
            "object_fit": null,
            "object_position": null,
            "order": null,
            "overflow": null,
            "overflow_x": null,
            "overflow_y": null,
            "padding": "0px 8px 0px 8px",
            "right": null,
            "top": null,
            "visibility": null,
            "width": null
          }
        },
        "9f3c3fa4ea904a09a7095321400b6156": {
          "model_module": "@jupyter-widgets/controls",
          "model_module_version": "1.5.0",
          "model_name": "CheckboxModel",
          "state": {
            "_dom_classes": [],
            "_model_module": "@jupyter-widgets/controls",
            "_model_module_version": "1.5.0",
            "_model_name": "CheckboxModel",
            "_view_count": null,
            "_view_module": "@jupyter-widgets/controls",
            "_view_module_version": "1.5.0",
            "_view_name": "CheckboxView",
            "description": "Esri.WorldTopoMap",
            "description_tooltip": null,
            "disabled": false,
            "indent": false,
            "layout": "IPY_MODEL_d3d57157bb224eeb83553b503d699eed",
            "style": "IPY_MODEL_0da61ebc7ef749889baf70b47d48cafb",
            "value": true
          }
        },
        "9f4193b26b6044e4bf2d76a27c588abf": {
          "model_module": "@jupyter-widgets/controls",
          "model_module_version": "1.5.0",
          "model_name": "SliderStyleModel",
          "state": {
            "_model_module": "@jupyter-widgets/controls",
            "_model_module_version": "1.5.0",
            "_model_name": "SliderStyleModel",
            "_view_count": null,
            "_view_module": "@jupyter-widgets/base",
            "_view_module_version": "1.2.0",
            "_view_name": "StyleView",
            "description_width": "",
            "handle_color": null
          }
        },
        "9f8a86353c5049be86dd3edcf1d852b9": {
          "model_module": "@jupyter-widgets/base",
          "model_module_version": "1.2.0",
          "model_name": "LayoutModel",
          "state": {
            "_model_module": "@jupyter-widgets/base",
            "_model_module_version": "1.2.0",
            "_model_name": "LayoutModel",
            "_view_count": null,
            "_view_module": "@jupyter-widgets/base",
            "_view_module_version": "1.2.0",
            "_view_name": "LayoutView",
            "align_content": null,
            "align_items": null,
            "align_self": null,
            "border": null,
            "bottom": null,
            "display": null,
            "flex": null,
            "flex_flow": null,
            "grid_area": null,
            "grid_auto_columns": null,
            "grid_auto_flow": null,
            "grid_auto_rows": null,
            "grid_column": null,
            "grid_gap": null,
            "grid_row": null,
            "grid_template_areas": null,
            "grid_template_columns": null,
            "grid_template_rows": null,
            "height": "18px",
            "justify_content": null,
            "justify_items": null,
            "left": null,
            "margin": null,
            "max_height": null,
            "max_width": null,
            "min_height": null,
            "min_width": null,
            "object_fit": null,
            "object_position": null,
            "order": null,
            "overflow": null,
            "overflow_x": null,
            "overflow_y": null,
            "padding": null,
            "right": null,
            "top": null,
            "visibility": null,
            "width": "140px"
          }
        },
        "9f9f509f7b244f9e9f8f5f4b0fa29609": {
          "model_module": "@jupyter-widgets/base",
          "model_module_version": "1.2.0",
          "model_name": "LayoutModel",
          "state": {
            "_model_module": "@jupyter-widgets/base",
            "_model_module_version": "1.2.0",
            "_model_name": "LayoutModel",
            "_view_count": null,
            "_view_module": "@jupyter-widgets/base",
            "_view_module_version": "1.2.0",
            "_view_name": "LayoutView",
            "align_content": null,
            "align_items": null,
            "align_self": null,
            "border": null,
            "bottom": null,
            "display": null,
            "flex": null,
            "flex_flow": null,
            "grid_area": null,
            "grid_auto_columns": null,
            "grid_auto_flow": null,
            "grid_auto_rows": null,
            "grid_column": null,
            "grid_gap": null,
            "grid_row": null,
            "grid_template_areas": null,
            "grid_template_columns": null,
            "grid_template_rows": null,
            "height": null,
            "justify_content": null,
            "justify_items": null,
            "left": null,
            "margin": null,
            "max_height": null,
            "max_width": null,
            "min_height": null,
            "min_width": null,
            "object_fit": null,
            "object_position": null,
            "order": null,
            "overflow": null,
            "overflow_x": null,
            "overflow_y": null,
            "padding": null,
            "right": null,
            "top": null,
            "visibility": null,
            "width": null
          }
        },
        "a00211dcf2c741f5b6ea9f0130c4fb0a": {
          "model_module": "@jupyter-widgets/controls",
          "model_module_version": "1.5.0",
          "model_name": "ButtonModel",
          "state": {
            "_dom_classes": [],
            "_model_module": "@jupyter-widgets/controls",
            "_model_module_version": "1.5.0",
            "_model_name": "ButtonModel",
            "_view_count": null,
            "_view_module": "@jupyter-widgets/controls",
            "_view_module_version": "1.5.0",
            "_view_name": "ButtonView",
            "button_style": "",
            "description": "",
            "disabled": false,
            "icon": "gear",
            "layout": "IPY_MODEL_ba8bd86849d147c282c80b66bbb631d0",
            "style": "IPY_MODEL_5570e27dcc0b46289ab44fc93af9e8a1",
            "tooltip": "Esri.WorldTopoMap"
          }
        },
        "a1ca68b2b54b4e938ce855f2d1fd6ce2": {
          "model_module": "@jupyter-widgets/base",
          "model_module_version": "1.2.0",
          "model_name": "LayoutModel",
          "state": {
            "_model_module": "@jupyter-widgets/base",
            "_model_module_version": "1.2.0",
            "_model_name": "LayoutModel",
            "_view_count": null,
            "_view_module": "@jupyter-widgets/base",
            "_view_module_version": "1.2.0",
            "_view_name": "LayoutView",
            "align_content": null,
            "align_items": null,
            "align_self": null,
            "border": null,
            "bottom": null,
            "display": null,
            "flex": null,
            "flex_flow": null,
            "grid_area": null,
            "grid_auto_columns": null,
            "grid_auto_flow": null,
            "grid_auto_rows": null,
            "grid_column": null,
            "grid_gap": null,
            "grid_row": null,
            "grid_template_areas": null,
            "grid_template_columns": null,
            "grid_template_rows": null,
            "height": null,
            "justify_content": null,
            "justify_items": null,
            "left": null,
            "margin": null,
            "max_height": null,
            "max_width": null,
            "min_height": null,
            "min_width": null,
            "object_fit": null,
            "object_position": null,
            "order": null,
            "overflow": null,
            "overflow_x": null,
            "overflow_y": null,
            "padding": null,
            "right": null,
            "top": null,
            "visibility": null,
            "width": "200px"
          }
        },
        "a4c4def9a2cd49438a715e20b9bc3d0b": {
          "model_module": "@jupyter-widgets/base",
          "model_module_version": "1.2.0",
          "model_name": "LayoutModel",
          "state": {
            "_model_module": "@jupyter-widgets/base",
            "_model_module_version": "1.2.0",
            "_model_name": "LayoutModel",
            "_view_count": null,
            "_view_module": "@jupyter-widgets/base",
            "_view_module_version": "1.2.0",
            "_view_name": "LayoutView",
            "align_content": null,
            "align_items": null,
            "align_self": null,
            "border": null,
            "bottom": null,
            "display": null,
            "flex": null,
            "flex_flow": null,
            "grid_area": null,
            "grid_auto_columns": null,
            "grid_auto_flow": null,
            "grid_auto_rows": null,
            "grid_column": null,
            "grid_gap": null,
            "grid_row": null,
            "grid_template_areas": null,
            "grid_template_columns": null,
            "grid_template_rows": null,
            "height": "28px",
            "justify_content": null,
            "justify_items": null,
            "left": null,
            "margin": null,
            "max_height": null,
            "max_width": null,
            "min_height": null,
            "min_width": null,
            "object_fit": null,
            "object_position": null,
            "order": null,
            "overflow": null,
            "overflow_x": null,
            "overflow_y": null,
            "padding": "0px 0px 0px 4px",
            "right": null,
            "top": null,
            "visibility": null,
            "width": "28px"
          }
        },
        "a585d867a7504ea780107f864b6b3537": {
          "model_module": "jupyter-leaflet",
          "model_module_version": "^0.18",
          "model_name": "LeafletMapModel",
          "state": {
            "_dom_classes": [],
            "_model_module": "jupyter-leaflet",
            "_model_module_version": "^0.18",
            "_model_name": "LeafletMapModel",
            "_view_count": null,
            "_view_module": "jupyter-leaflet",
            "_view_module_version": "^0.18",
            "_view_name": "LeafletMapView",
            "bottom": 812,
            "bounce_at_zoom_limits": true,
            "box_zoom": true,
            "center": [
              0,
              0
            ],
            "close_popup_on_click": true,
            "controls": [
              "IPY_MODEL_6ce80ea050cb4fcf82bd8f073a693461",
              "IPY_MODEL_6afbc353712547579066861a2351af9a",
              "IPY_MODEL_63b9dac5865e4c5eaa3cf8179a3c6e39",
              "IPY_MODEL_cf9f0d1d6a0842e6baa51e6bae631b68",
              "IPY_MODEL_1358e4ebc05f48229e956e38bfb35113"
            ],
            "crs": {
              "custom": false,
              "name": "EPSG3857"
            },
            "default_style": "IPY_MODEL_5f0ce9c7d7284fcd94ee14bf173817d2",
            "double_click_zoom": true,
            "dragging": true,
            "dragging_style": "IPY_MODEL_574e462681794ce1b9185cd56d12c978",
            "east": 243.28125000000003,
            "fullscreen": false,
            "inertia": true,
            "inertia_deceleration": 3000,
            "inertia_max_speed": 1500,
            "interpolation": "bilinear",
            "keyboard": true,
            "keyboard_pan_offset": 80,
            "keyboard_zoom_offset": 1,
            "layers": [
              "IPY_MODEL_cdc98a674b7e4e48b73ed37fe8e09c16"
            ],
            "layout": "IPY_MODEL_3296a517f35246ab9d53a7db74c197f1",
            "left": -180,
            "max_zoom": 24,
            "min_zoom": null,
            "modisdate": "2024-04-07",
            "north": 71.9653876991313,
            "options": [
              "bounce_at_zoom_limits",
              "box_zoom",
              "center",
              "close_popup_on_click",
              "double_click_zoom",
              "dragging",
              "fullscreen",
              "inertia",
              "inertia_deceleration",
              "inertia_max_speed",
              "interpolation",
              "keyboard",
              "keyboard_pan_offset",
              "keyboard_zoom_offset",
              "max_zoom",
              "min_zoom",
              "prefer_canvas",
              "scroll_wheel_zoom",
              "tap",
              "tap_tolerance",
              "touch_zoom",
              "world_copy_jump",
              "zoom",
              "zoom_animation_threshold",
              "zoom_delta",
              "zoom_snap"
            ],
            "panes": {},
            "prefer_canvas": false,
            "right": 1204,
            "scroll_wheel_zoom": true,
            "south": -71.96538769913128,
            "style": "IPY_MODEL_24c60153d46e433cb3d6354d96b9e91d",
            "tap": true,
            "tap_tolerance": 15,
            "top": 212,
            "touch_zoom": true,
            "west": -243.28125000000003,
            "window_url": "https://ieuvzy0r7gl-496ff2e9c6d22116-0-colab.googleusercontent.com/outputframe.html?vrz=colab_20240404-060114_RC00_621812230",
            "world_copy_jump": false,
            "zoom": 2,
            "zoom_animation_threshold": 4,
            "zoom_delta": 1,
            "zoom_snap": 1
          }
        },
        "a5bd2412a6f547e6b793fe91469a342f": {
          "model_module": "@jupyter-widgets/base",
          "model_module_version": "1.2.0",
          "model_name": "LayoutModel",
          "state": {
            "_model_module": "@jupyter-widgets/base",
            "_model_module_version": "1.2.0",
            "_model_name": "LayoutModel",
            "_view_count": null,
            "_view_module": "@jupyter-widgets/base",
            "_view_module_version": "1.2.0",
            "_view_name": "LayoutView",
            "align_content": null,
            "align_items": null,
            "align_self": null,
            "border": null,
            "bottom": null,
            "display": null,
            "flex": null,
            "flex_flow": null,
            "grid_area": null,
            "grid_auto_columns": null,
            "grid_auto_flow": null,
            "grid_auto_rows": null,
            "grid_column": null,
            "grid_gap": null,
            "grid_row": null,
            "grid_template_areas": null,
            "grid_template_columns": null,
            "grid_template_rows": null,
            "height": "600px",
            "justify_content": null,
            "justify_items": null,
            "left": null,
            "margin": null,
            "max_height": null,
            "max_width": null,
            "min_height": null,
            "min_width": null,
            "object_fit": null,
            "object_position": null,
            "order": null,
            "overflow": null,
            "overflow_x": null,
            "overflow_y": null,
            "padding": null,
            "right": null,
            "top": null,
            "visibility": null,
            "width": null
          }
        },
        "a643687d2e7b4130ae4bdd0d1456d9cb": {
          "model_module": "@jupyter-widgets/controls",
          "model_module_version": "1.5.0",
          "model_name": "DescriptionStyleModel",
          "state": {
            "_model_module": "@jupyter-widgets/controls",
            "_model_module_version": "1.5.0",
            "_model_name": "DescriptionStyleModel",
            "_view_count": null,
            "_view_module": "@jupyter-widgets/base",
            "_view_module_version": "1.2.0",
            "_view_name": "StyleView",
            "description_width": ""
          }
        },
        "a82b3675b6404191b6cb3a7e8ed9b1a0": {
          "model_module": "@jupyter-widgets/controls",
          "model_module_version": "1.5.0",
          "model_name": "HBoxModel",
          "state": {
            "_dom_classes": [],
            "_model_module": "@jupyter-widgets/controls",
            "_model_module_version": "1.5.0",
            "_model_name": "HBoxModel",
            "_view_count": null,
            "_view_module": "@jupyter-widgets/controls",
            "_view_module_version": "1.5.0",
            "_view_name": "HBoxView",
            "box_style": "",
            "children": [
              "IPY_MODEL_6f65f82566e14c638e7819fda8847f28",
              "IPY_MODEL_0e140aadbe2949469af09f29e3f81ead",
              "IPY_MODEL_f84868685a334832a9da09bd8cb7f994"
            ],
            "layout": "IPY_MODEL_135f197d95f44542b21345a58211443e"
          }
        },
        "a857a4abd8954ce78663405da08a5d58": {
          "model_module": "@jupyter-widgets/controls",
          "model_module_version": "1.5.0",
          "model_name": "VBoxModel",
          "state": {
            "_dom_classes": [
              "geemap-colab"
            ],
            "_model_module": "@jupyter-widgets/controls",
            "_model_module_version": "1.5.0",
            "_model_name": "VBoxModel",
            "_view_count": null,
            "_view_module": "@jupyter-widgets/controls",
            "_view_module_version": "1.5.0",
            "_view_name": "VBoxView",
            "box_style": "",
            "children": [
              "IPY_MODEL_d1ca5471ab5749bdba72677a30f23f59",
              "IPY_MODEL_42d4f8569c734f63be4d5e6ce959764d"
            ],
            "layout": "IPY_MODEL_ca42b45d7d804f23aa53bf736650c576"
          }
        },
        "a966d721a1df4a2986edd3e6e0699279": {
          "model_module": "@jupyter-widgets/controls",
          "model_module_version": "1.5.0",
          "model_name": "ToggleButtonModel",
          "state": {
            "_dom_classes": [],
            "_model_module": "@jupyter-widgets/controls",
            "_model_module_version": "1.5.0",
            "_model_name": "ToggleButtonModel",
            "_view_count": null,
            "_view_module": "@jupyter-widgets/controls",
            "_view_module_version": "1.5.0",
            "_view_name": "ToggleButtonView",
            "button_style": "",
            "description": "",
            "description_tooltip": null,
            "disabled": false,
            "icon": "server",
            "layout": "IPY_MODEL_65cc7aaf1080431b91231558e86881cb",
            "style": "IPY_MODEL_bcc1e7312e8e41629a5acf67d23053b2",
            "tooltip": "Layer Manager",
            "value": true
          }
        },
        "a9c8faafd2b9426a8787cebd78ceb79a": {
          "model_module": "@jupyter-widgets/base",
          "model_module_version": "1.2.0",
          "model_name": "LayoutModel",
          "state": {
            "_model_module": "@jupyter-widgets/base",
            "_model_module_version": "1.2.0",
            "_model_name": "LayoutModel",
            "_view_count": null,
            "_view_module": "@jupyter-widgets/base",
            "_view_module_version": "1.2.0",
            "_view_name": "LayoutView",
            "align_content": null,
            "align_items": null,
            "align_self": null,
            "border": null,
            "bottom": null,
            "display": null,
            "flex": null,
            "flex_flow": null,
            "grid_area": null,
            "grid_auto_columns": null,
            "grid_auto_flow": null,
            "grid_auto_rows": null,
            "grid_column": null,
            "grid_gap": "1px 1px",
            "grid_row": null,
            "grid_template_areas": null,
            "grid_template_columns": "32px 32px 32px ",
            "grid_template_rows": "32px 32px ",
            "height": null,
            "justify_content": null,
            "justify_items": null,
            "left": null,
            "margin": null,
            "max_height": null,
            "max_width": null,
            "min_height": null,
            "min_width": null,
            "object_fit": null,
            "object_position": null,
            "order": null,
            "overflow": null,
            "overflow_x": null,
            "overflow_y": null,
            "padding": "5px",
            "right": null,
            "top": null,
            "visibility": null,
            "width": "109px"
          }
        },
        "aa14b35dce3343fe8dc7d35c4643b13e": {
          "model_module": "@jupyter-widgets/controls",
          "model_module_version": "1.5.0",
          "model_name": "ToggleButtonModel",
          "state": {
            "_dom_classes": [],
            "_model_module": "@jupyter-widgets/controls",
            "_model_module_version": "1.5.0",
            "_model_name": "ToggleButtonModel",
            "_view_count": null,
            "_view_module": "@jupyter-widgets/controls",
            "_view_module_version": "1.5.0",
            "_view_name": "ToggleButtonView",
            "button_style": "primary",
            "description": "",
            "description_tooltip": null,
            "disabled": false,
            "icon": "retweet",
            "layout": "IPY_MODEL_53cae4e292e045f7ad04be1fbfb4d521",
            "style": "IPY_MODEL_f8ce1162ac064e6c8583a42bee3878ae",
            "tooltip": "Convert Earth Engine JavaScript to Python",
            "value": false
          }
        },
        "aa87cb956e5343518d4fd60956f43429": {
          "model_module": "@jupyter-widgets/controls",
          "model_module_version": "1.5.0",
          "model_name": "SliderStyleModel",
          "state": {
            "_model_module": "@jupyter-widgets/controls",
            "_model_module_version": "1.5.0",
            "_model_name": "SliderStyleModel",
            "_view_count": null,
            "_view_module": "@jupyter-widgets/base",
            "_view_module_version": "1.2.0",
            "_view_name": "StyleView",
            "description_width": "",
            "handle_color": null
          }
        },
        "aaa60acd741c49d3bca0618690e4c3ae": {
          "model_module": "@jupyter-widgets/controls",
          "model_module_version": "1.5.0",
          "model_name": "DescriptionStyleModel",
          "state": {
            "_model_module": "@jupyter-widgets/controls",
            "_model_module_version": "1.5.0",
            "_model_name": "DescriptionStyleModel",
            "_view_count": null,
            "_view_module": "@jupyter-widgets/base",
            "_view_module_version": "1.2.0",
            "_view_name": "StyleView",
            "description_width": ""
          }
        },
        "abcb41172110446cb03ac862dca78d11": {
          "model_module": "@jupyter-widgets/base",
          "model_module_version": "1.2.0",
          "model_name": "LayoutModel",
          "state": {
            "_model_module": "@jupyter-widgets/base",
            "_model_module_version": "1.2.0",
            "_model_name": "LayoutModel",
            "_view_count": null,
            "_view_module": "@jupyter-widgets/base",
            "_view_module_version": "1.2.0",
            "_view_name": "LayoutView",
            "align_content": null,
            "align_items": null,
            "align_self": null,
            "border": null,
            "bottom": null,
            "display": null,
            "flex": null,
            "flex_flow": null,
            "grid_area": null,
            "grid_auto_columns": null,
            "grid_auto_flow": null,
            "grid_auto_rows": null,
            "grid_column": null,
            "grid_gap": null,
            "grid_row": null,
            "grid_template_areas": null,
            "grid_template_columns": null,
            "grid_template_rows": null,
            "height": null,
            "justify_content": null,
            "justify_items": null,
            "left": null,
            "margin": null,
            "max_height": null,
            "max_width": null,
            "min_height": null,
            "min_width": null,
            "object_fit": null,
            "object_position": null,
            "order": null,
            "overflow": null,
            "overflow_x": null,
            "overflow_y": null,
            "padding": "0px 8px 0px 8px",
            "right": null,
            "top": null,
            "visibility": null,
            "width": null
          }
        },
        "abf016a2399a41be961bff7315e3a364": {
          "model_module": "jupyter-leaflet",
          "model_module_version": "^0.18",
          "model_name": "LeafletMapStyleModel",
          "state": {
            "_model_module": "jupyter-leaflet",
            "_model_module_version": "^0.18",
            "_model_name": "LeafletMapStyleModel",
            "_view_count": null,
            "_view_module": "@jupyter-widgets/base",
            "_view_module_version": "1.2.0",
            "_view_name": "StyleView",
            "cursor": "grab"
          }
        },
        "ad225d1ee0d942a3b931ec249e863cda": {
          "model_module": "@jupyter-widgets/controls",
          "model_module_version": "1.5.0",
          "model_name": "ButtonStyleModel",
          "state": {
            "_model_module": "@jupyter-widgets/controls",
            "_model_module_version": "1.5.0",
            "_model_name": "ButtonStyleModel",
            "_view_count": null,
            "_view_module": "@jupyter-widgets/base",
            "_view_module_version": "1.2.0",
            "_view_name": "StyleView",
            "button_color": null,
            "font_weight": ""
          }
        },
        "aeb7d0cacf3747c19be6e39240feb651": {
          "model_module": "@jupyter-widgets/controls",
          "model_module_version": "1.5.0",
          "model_name": "HBoxModel",
          "state": {
            "_dom_classes": [
              "geemap-colab"
            ],
            "_model_module": "@jupyter-widgets/controls",
            "_model_module_version": "1.5.0",
            "_model_name": "HBoxModel",
            "_view_count": null,
            "_view_module": "@jupyter-widgets/controls",
            "_view_module_version": "1.5.0",
            "_view_name": "HBoxView",
            "box_style": "",
            "children": [
              "IPY_MODEL_49fee1a5f92f4835aa8d51237d9bc0e0",
              "IPY_MODEL_c27b87bd017b4e59a554b96fcdc8271b"
            ],
            "layout": "IPY_MODEL_5a1cedf961974969873e4285c327f058"
          }
        },
        "af2bd63536fa4621892abf1901ff6d3f": {
          "model_module": "@jupyter-widgets/base",
          "model_module_version": "1.2.0",
          "model_name": "LayoutModel",
          "state": {
            "_model_module": "@jupyter-widgets/base",
            "_model_module_version": "1.2.0",
            "_model_name": "LayoutModel",
            "_view_count": null,
            "_view_module": "@jupyter-widgets/base",
            "_view_module_version": "1.2.0",
            "_view_name": "LayoutView",
            "align_content": null,
            "align_items": null,
            "align_self": null,
            "border": null,
            "bottom": null,
            "display": null,
            "flex": null,
            "flex_flow": null,
            "grid_area": null,
            "grid_auto_columns": null,
            "grid_auto_flow": null,
            "grid_auto_rows": null,
            "grid_column": null,
            "grid_gap": null,
            "grid_row": null,
            "grid_template_areas": null,
            "grid_template_columns": null,
            "grid_template_rows": null,
            "height": null,
            "justify_content": null,
            "justify_items": null,
            "left": null,
            "margin": null,
            "max_height": null,
            "max_width": null,
            "min_height": null,
            "min_width": null,
            "object_fit": null,
            "object_position": null,
            "order": null,
            "overflow": null,
            "overflow_x": null,
            "overflow_y": null,
            "padding": "0px 8px 0px 8px",
            "right": null,
            "top": null,
            "visibility": null,
            "width": null
          }
        },
        "afd547bd9785430ab4b54a1abe96ee8d": {
          "model_module": "jupyter-leaflet",
          "model_module_version": "^0.18",
          "model_name": "LeafletWidgetControlModel",
          "state": {
            "_model_module": "jupyter-leaflet",
            "_model_module_version": "^0.18",
            "_model_name": "LeafletWidgetControlModel",
            "_view_count": null,
            "_view_module": "jupyter-leaflet",
            "_view_module_version": "^0.18",
            "_view_name": "LeafletWidgetControlView",
            "max_height": null,
            "max_width": null,
            "min_height": null,
            "min_width": null,
            "options": [
              "position",
              "transparent_bg"
            ],
            "position": "topleft",
            "transparent_bg": false,
            "widget": "IPY_MODEL_6adeb6ae16104b4d982cd7803e269732"
          }
        },
        "afe9e6003a6643e2af499bcebbcd2935": {
          "model_module": "@jupyter-widgets/base",
          "model_module_version": "1.2.0",
          "model_name": "LayoutModel",
          "state": {
            "_model_module": "@jupyter-widgets/base",
            "_model_module_version": "1.2.0",
            "_model_name": "LayoutModel",
            "_view_count": null,
            "_view_module": "@jupyter-widgets/base",
            "_view_module_version": "1.2.0",
            "_view_name": "LayoutView",
            "align_content": null,
            "align_items": null,
            "align_self": null,
            "border": null,
            "bottom": null,
            "display": null,
            "flex": null,
            "flex_flow": null,
            "grid_area": null,
            "grid_auto_columns": null,
            "grid_auto_flow": null,
            "grid_auto_rows": null,
            "grid_column": null,
            "grid_gap": null,
            "grid_row": null,
            "grid_template_areas": null,
            "grid_template_columns": null,
            "grid_template_rows": null,
            "height": "25px",
            "justify_content": null,
            "justify_items": null,
            "left": null,
            "margin": null,
            "max_height": null,
            "max_width": null,
            "min_height": null,
            "min_width": null,
            "object_fit": null,
            "object_position": null,
            "order": null,
            "overflow": null,
            "overflow_x": null,
            "overflow_y": null,
            "padding": "0px",
            "right": null,
            "top": null,
            "visibility": null,
            "width": "25px"
          }
        },
        "b0af129b7fea41bf9a133e720e46c9c6": {
          "model_module": "jupyter-leaflet",
          "model_module_version": "^0.18",
          "model_name": "LeafletMapStyleModel",
          "state": {
            "_model_module": "jupyter-leaflet",
            "_model_module_version": "^0.18",
            "_model_name": "LeafletMapStyleModel",
            "_view_count": null,
            "_view_module": "@jupyter-widgets/base",
            "_view_module_version": "1.2.0",
            "_view_name": "StyleView",
            "cursor": "grab"
          }
        },
        "b1563ff1e831465788c434dd7c3e7ac0": {
          "model_module": "@jupyter-widgets/controls",
          "model_module_version": "1.5.0",
          "model_name": "DescriptionStyleModel",
          "state": {
            "_model_module": "@jupyter-widgets/controls",
            "_model_module_version": "1.5.0",
            "_model_name": "DescriptionStyleModel",
            "_view_count": null,
            "_view_module": "@jupyter-widgets/base",
            "_view_module_version": "1.2.0",
            "_view_name": "StyleView",
            "description_width": ""
          }
        },
        "b1ef96924a5f49bd841b1c2422b27986": {
          "model_module": "@jupyter-widgets/base",
          "model_module_version": "1.2.0",
          "model_name": "LayoutModel",
          "state": {
            "_model_module": "@jupyter-widgets/base",
            "_model_module_version": "1.2.0",
            "_model_name": "LayoutModel",
            "_view_count": null,
            "_view_module": "@jupyter-widgets/base",
            "_view_module_version": "1.2.0",
            "_view_name": "LayoutView",
            "align_content": null,
            "align_items": null,
            "align_self": null,
            "border": null,
            "bottom": null,
            "display": null,
            "flex": null,
            "flex_flow": null,
            "grid_area": null,
            "grid_auto_columns": null,
            "grid_auto_flow": null,
            "grid_auto_rows": null,
            "grid_column": null,
            "grid_gap": null,
            "grid_row": null,
            "grid_template_areas": null,
            "grid_template_columns": null,
            "grid_template_rows": null,
            "height": "25px",
            "justify_content": null,
            "justify_items": null,
            "left": null,
            "margin": null,
            "max_height": null,
            "max_width": null,
            "min_height": null,
            "min_width": null,
            "object_fit": null,
            "object_position": null,
            "order": null,
            "overflow": null,
            "overflow_x": null,
            "overflow_y": null,
            "padding": "0px",
            "right": null,
            "top": null,
            "visibility": null,
            "width": "25px"
          }
        },
        "b21d013e98044006b2d467fcbf96b97b": {
          "model_module": "@jupyter-widgets/controls",
          "model_module_version": "1.5.0",
          "model_name": "FloatSliderModel",
          "state": {
            "_dom_classes": [],
            "_model_module": "@jupyter-widgets/controls",
            "_model_module_version": "1.5.0",
            "_model_name": "FloatSliderModel",
            "_view_count": null,
            "_view_module": "@jupyter-widgets/controls",
            "_view_module_version": "1.5.0",
            "_view_name": "FloatSliderView",
            "continuous_update": true,
            "description": "",
            "description_tooltip": null,
            "disabled": false,
            "layout": "IPY_MODEL_231608e365a749b4b1bbfccfab795661",
            "max": 1,
            "min": 0,
            "orientation": "horizontal",
            "readout": false,
            "readout_format": ".2f",
            "step": 0.01,
            "style": "IPY_MODEL_6cc5a8a24f874142b21d438e7642e392",
            "value": 1
          }
        },
        "b2ec11db9b0942c681230d43d47e602f": {
          "model_module": "@jupyter-widgets/base",
          "model_module_version": "1.2.0",
          "model_name": "LayoutModel",
          "state": {
            "_model_module": "@jupyter-widgets/base",
            "_model_module_version": "1.2.0",
            "_model_name": "LayoutModel",
            "_view_count": null,
            "_view_module": "@jupyter-widgets/base",
            "_view_module_version": "1.2.0",
            "_view_name": "LayoutView",
            "align_content": null,
            "align_items": null,
            "align_self": null,
            "border": null,
            "bottom": null,
            "display": null,
            "flex": null,
            "flex_flow": null,
            "grid_area": null,
            "grid_auto_columns": null,
            "grid_auto_flow": null,
            "grid_auto_rows": null,
            "grid_column": null,
            "grid_gap": null,
            "grid_row": null,
            "grid_template_areas": null,
            "grid_template_columns": null,
            "grid_template_rows": null,
            "height": null,
            "justify_content": null,
            "justify_items": null,
            "left": null,
            "margin": null,
            "max_height": null,
            "max_width": null,
            "min_height": null,
            "min_width": null,
            "object_fit": null,
            "object_position": null,
            "order": null,
            "overflow": null,
            "overflow_x": null,
            "overflow_y": null,
            "padding": "0px 8px 0px 8px",
            "right": null,
            "top": null,
            "visibility": null,
            "width": null
          }
        },
        "b3a22be8c95a44a485d896ca7ca175ba": {
          "model_module": "jupyter-leaflet",
          "model_module_version": "^0.18",
          "model_name": "LeafletMapStyleModel",
          "state": {
            "_model_module": "jupyter-leaflet",
            "_model_module_version": "^0.18",
            "_model_name": "LeafletMapStyleModel",
            "_view_count": null,
            "_view_module": "@jupyter-widgets/base",
            "_view_module_version": "1.2.0",
            "_view_name": "StyleView",
            "cursor": "grab"
          }
        },
        "b3e7de359f644f05b281f9891d012f8b": {
          "model_module": "@jupyter-widgets/controls",
          "model_module_version": "1.5.0",
          "model_name": "ButtonStyleModel",
          "state": {
            "_model_module": "@jupyter-widgets/controls",
            "_model_module_version": "1.5.0",
            "_model_name": "ButtonStyleModel",
            "_view_count": null,
            "_view_module": "@jupyter-widgets/base",
            "_view_module_version": "1.2.0",
            "_view_name": "StyleView",
            "button_color": null,
            "font_weight": ""
          }
        },
        "b441abc304fb435991ebf066bbc1f79f": {
          "model_module": "@jupyter-widgets/controls",
          "model_module_version": "1.5.0",
          "model_name": "HBoxModel",
          "state": {
            "_dom_classes": [],
            "_model_module": "@jupyter-widgets/controls",
            "_model_module_version": "1.5.0",
            "_model_name": "HBoxModel",
            "_view_count": null,
            "_view_module": "@jupyter-widgets/controls",
            "_view_module_version": "1.5.0",
            "_view_name": "HBoxView",
            "box_style": "",
            "children": [
              "IPY_MODEL_c5e0ca7f6efc42c99678e436c7ec421a",
              "IPY_MODEL_87c9c54fd4ec4e60906b398464ec02f3",
              "IPY_MODEL_d5df273d82c943bb9740ae8b81688ff8"
            ],
            "layout": "IPY_MODEL_659a91c8d70d4968beb1267da574cc3d"
          }
        },
        "b490b71130a84543ba6d230b07e5cd78": {
          "model_module": "@jupyter-widgets/controls",
          "model_module_version": "1.5.0",
          "model_name": "CheckboxModel",
          "state": {
            "_dom_classes": [],
            "_model_module": "@jupyter-widgets/controls",
            "_model_module_version": "1.5.0",
            "_model_name": "CheckboxModel",
            "_view_count": null,
            "_view_module": "@jupyter-widgets/controls",
            "_view_module_version": "1.5.0",
            "_view_name": "CheckboxView",
            "description": "OpenTopoMap",
            "description_tooltip": null,
            "disabled": false,
            "indent": false,
            "layout": "IPY_MODEL_4ae515d5ee0847828e0b10f21efe1921",
            "style": "IPY_MODEL_0f61301642724cf792889d20d315139a",
            "value": true
          }
        },
        "b49fe24523d84456a42c70c6c8a99c31": {
          "model_module": "@jupyter-widgets/base",
          "model_module_version": "1.2.0",
          "model_name": "LayoutModel",
          "state": {
            "_model_module": "@jupyter-widgets/base",
            "_model_module_version": "1.2.0",
            "_model_name": "LayoutModel",
            "_view_count": null,
            "_view_module": "@jupyter-widgets/base",
            "_view_module_version": "1.2.0",
            "_view_name": "LayoutView",
            "align_content": null,
            "align_items": null,
            "align_self": null,
            "border": null,
            "bottom": null,
            "display": null,
            "flex": null,
            "flex_flow": null,
            "grid_area": null,
            "grid_auto_columns": null,
            "grid_auto_flow": null,
            "grid_auto_rows": null,
            "grid_column": null,
            "grid_gap": null,
            "grid_row": null,
            "grid_template_areas": null,
            "grid_template_columns": null,
            "grid_template_rows": null,
            "height": null,
            "justify_content": null,
            "justify_items": null,
            "left": null,
            "margin": null,
            "max_height": null,
            "max_width": null,
            "min_height": null,
            "min_width": null,
            "object_fit": null,
            "object_position": null,
            "order": null,
            "overflow": null,
            "overflow_x": null,
            "overflow_y": null,
            "padding": null,
            "right": null,
            "top": null,
            "visibility": null,
            "width": "80px"
          }
        },
        "b4c0deb1055a47a49acdb0bd56f58865": {
          "model_module": "@jupyter-widgets/base",
          "model_module_version": "1.2.0",
          "model_name": "LayoutModel",
          "state": {
            "_model_module": "@jupyter-widgets/base",
            "_model_module_version": "1.2.0",
            "_model_name": "LayoutModel",
            "_view_count": null,
            "_view_module": "@jupyter-widgets/base",
            "_view_module_version": "1.2.0",
            "_view_name": "LayoutView",
            "align_content": null,
            "align_items": null,
            "align_self": null,
            "border": null,
            "bottom": null,
            "display": null,
            "flex": null,
            "flex_flow": null,
            "grid_area": null,
            "grid_auto_columns": null,
            "grid_auto_flow": null,
            "grid_auto_rows": null,
            "grid_column": null,
            "grid_gap": null,
            "grid_row": null,
            "grid_template_areas": null,
            "grid_template_columns": null,
            "grid_template_rows": null,
            "height": "18px",
            "justify_content": null,
            "justify_items": null,
            "left": null,
            "margin": null,
            "max_height": null,
            "max_width": null,
            "min_height": null,
            "min_width": null,
            "object_fit": null,
            "object_position": null,
            "order": null,
            "overflow": null,
            "overflow_x": null,
            "overflow_y": null,
            "padding": null,
            "right": null,
            "top": null,
            "visibility": null,
            "width": "140px"
          }
        },
        "b66c949b5fc241fa8e85f4cf05eb9f8c": {
          "model_module": "jupyter-leaflet",
          "model_module_version": "^0.18",
          "model_name": "LeafletMapModel",
          "state": {
            "_dom_classes": [],
            "_model_module": "jupyter-leaflet",
            "_model_module_version": "^0.18",
            "_model_name": "LeafletMapModel",
            "_view_count": null,
            "_view_module": "jupyter-leaflet",
            "_view_module_version": "^0.18",
            "_view_name": "LeafletMapView",
            "bottom": 14173795,
            "bounce_at_zoom_limits": true,
            "box_zoom": true,
            "center": [
              26.889703231556876,
              75.97538352012636
            ],
            "close_popup_on_click": true,
            "controls": [
              "IPY_MODEL_afd547bd9785430ab4b54a1abe96ee8d",
              "IPY_MODEL_d53f31c5b89e4c5fb7134f043d6416c8",
              "IPY_MODEL_8e6f6135d66c4579a15d7dd4c59a4109",
              "IPY_MODEL_eb91291006bb431e876e4b22d8508b5e",
              "IPY_MODEL_70242e6617db44df93c634aa3661d82e",
              "IPY_MODEL_ba94b0d85b144eb69ad955781d3d1ac4",
              "IPY_MODEL_3e9e9b39cf9248c5901c4f8ddb0ad8b0",
              "IPY_MODEL_1c26819526da4d6d83b319fc4572c38f",
              "IPY_MODEL_8a7d7c0c809a4f96ac332bb9fd87b894"
            ],
            "crs": {
              "custom": false,
              "name": "EPSG3857"
            },
            "default_style": "IPY_MODEL_b3a22be8c95a44a485d896ca7ca175ba",
            "double_click_zoom": true,
            "dragging": true,
            "dragging_style": "IPY_MODEL_5dce25df44cd4f5e84437d7c08ff1215",
            "east": 75.98280787467957,
            "fullscreen": false,
            "inertia": true,
            "inertia_deceleration": 3000,
            "inertia_max_speed": 1500,
            "interpolation": "bilinear",
            "keyboard": true,
            "keyboard_pan_offset": 80,
            "keyboard_zoom_offset": 1,
            "layers": [
              "IPY_MODEL_3fd3675903d647b79f88e6f8157be939",
              "IPY_MODEL_fb2f7cb416e4408daa8f22926ce2c17a",
              "IPY_MODEL_c8d7094155df4c88bc0de9dd1596be4e",
              "IPY_MODEL_d93dba443a48456496eb0445603c99ca",
              "IPY_MODEL_4d7419d33dda47168af097224853b37d",
              "IPY_MODEL_78b5fe5915b84295b9d64ef816cc006b"
            ],
            "layout": "IPY_MODEL_a5bd2412a6f547e6b793fe91469a342f",
            "left": 23857943,
            "max_zoom": 24,
            "min_zoom": null,
            "modisdate": "2024-04-07",
            "north": 26.892573841593066,
            "options": [
              "bounce_at_zoom_limits",
              "box_zoom",
              "center",
              "close_popup_on_click",
              "double_click_zoom",
              "dragging",
              "fullscreen",
              "inertia",
              "inertia_deceleration",
              "inertia_max_speed",
              "interpolation",
              "keyboard",
              "keyboard_pan_offset",
              "keyboard_zoom_offset",
              "max_zoom",
              "min_zoom",
              "prefer_canvas",
              "scroll_wheel_zoom",
              "tap",
              "tap_tolerance",
              "touch_zoom",
              "world_copy_jump",
              "zoom",
              "zoom_animation_threshold",
              "zoom_delta",
              "zoom_snap"
            ],
            "panes": {},
            "prefer_canvas": false,
            "right": 23859327,
            "scroll_wheel_zoom": true,
            "south": 26.886832548586217,
            "style": "IPY_MODEL_b3a22be8c95a44a485d896ca7ca175ba",
            "tap": true,
            "tap_tolerance": 15,
            "top": 14173195,
            "touch_zoom": true,
            "west": 75.96795916557313,
            "window_url": "https://ieuvzy0r7gl-496ff2e9c6d22116-0-colab.googleusercontent.com/outputframe.html?vrz=colab_20240404-060114_RC00_621812230",
            "world_copy_jump": false,
            "zoom": 17,
            "zoom_animation_threshold": 4,
            "zoom_delta": 1,
            "zoom_snap": 1
          }
        },
        "b89ce31b0f1a47e797fd5016c8dc7fcd": {
          "model_module": "@jupyter-widgets/base",
          "model_module_version": "1.2.0",
          "model_name": "LayoutModel",
          "state": {
            "_model_module": "@jupyter-widgets/base",
            "_model_module_version": "1.2.0",
            "_model_name": "LayoutModel",
            "_view_count": null,
            "_view_module": "@jupyter-widgets/base",
            "_view_module_version": "1.2.0",
            "_view_name": "LayoutView",
            "align_content": null,
            "align_items": null,
            "align_self": null,
            "border": null,
            "bottom": null,
            "display": null,
            "flex": null,
            "flex_flow": null,
            "grid_area": null,
            "grid_auto_columns": null,
            "grid_auto_flow": null,
            "grid_auto_rows": null,
            "grid_column": null,
            "grid_gap": null,
            "grid_row": null,
            "grid_template_areas": null,
            "grid_template_columns": null,
            "grid_template_rows": null,
            "height": "18px",
            "justify_content": null,
            "justify_items": null,
            "left": null,
            "margin": null,
            "max_height": null,
            "max_width": null,
            "min_height": null,
            "min_width": null,
            "object_fit": null,
            "object_position": null,
            "order": null,
            "overflow": null,
            "overflow_x": null,
            "overflow_y": null,
            "padding": "0px 8px 25px 8px",
            "right": null,
            "top": null,
            "visibility": null,
            "width": "30ex"
          }
        },
        "b904d2c6e6024aafaa3ba3e03a112d37": {
          "model_module": "@jupyter-widgets/base",
          "model_module_version": "1.2.0",
          "model_name": "LayoutModel",
          "state": {
            "_model_module": "@jupyter-widgets/base",
            "_model_module_version": "1.2.0",
            "_model_name": "LayoutModel",
            "_view_count": null,
            "_view_module": "@jupyter-widgets/base",
            "_view_module_version": "1.2.0",
            "_view_name": "LayoutView",
            "align_content": null,
            "align_items": null,
            "align_self": null,
            "border": null,
            "bottom": null,
            "display": null,
            "flex": null,
            "flex_flow": null,
            "grid_area": null,
            "grid_auto_columns": null,
            "grid_auto_flow": null,
            "grid_auto_rows": null,
            "grid_column": null,
            "grid_gap": null,
            "grid_row": null,
            "grid_template_areas": null,
            "grid_template_columns": null,
            "grid_template_rows": null,
            "height": "18px",
            "justify_content": null,
            "justify_items": null,
            "left": null,
            "margin": null,
            "max_height": null,
            "max_width": null,
            "min_height": null,
            "min_width": null,
            "object_fit": null,
            "object_position": null,
            "order": null,
            "overflow": null,
            "overflow_x": null,
            "overflow_y": null,
            "padding": null,
            "right": null,
            "top": null,
            "visibility": null,
            "width": "140px"
          }
        },
        "b92edefd4e2d403c94f61491f9bc9ff2": {
          "model_module": "@jupyter-widgets/base",
          "model_module_version": "1.2.0",
          "model_name": "LayoutModel",
          "state": {
            "_model_module": "@jupyter-widgets/base",
            "_model_module_version": "1.2.0",
            "_model_name": "LayoutModel",
            "_view_count": null,
            "_view_module": "@jupyter-widgets/base",
            "_view_module_version": "1.2.0",
            "_view_name": "LayoutView",
            "align_content": null,
            "align_items": null,
            "align_self": null,
            "border": null,
            "bottom": null,
            "display": null,
            "flex": null,
            "flex_flow": null,
            "grid_area": null,
            "grid_auto_columns": null,
            "grid_auto_flow": null,
            "grid_auto_rows": null,
            "grid_column": null,
            "grid_gap": null,
            "grid_row": null,
            "grid_template_areas": null,
            "grid_template_columns": null,
            "grid_template_rows": null,
            "height": "18px",
            "justify_content": null,
            "justify_items": null,
            "left": null,
            "margin": null,
            "max_height": null,
            "max_width": null,
            "min_height": null,
            "min_width": null,
            "object_fit": null,
            "object_position": null,
            "order": null,
            "overflow": null,
            "overflow_x": null,
            "overflow_y": null,
            "padding": null,
            "right": null,
            "top": null,
            "visibility": null,
            "width": "140px"
          }
        },
        "b946cdd7211a41469478a1d64ff75934": {
          "model_module": "@jupyter-widgets/base",
          "model_module_version": "1.2.0",
          "model_name": "LayoutModel",
          "state": {
            "_model_module": "@jupyter-widgets/base",
            "_model_module_version": "1.2.0",
            "_model_name": "LayoutModel",
            "_view_count": null,
            "_view_module": "@jupyter-widgets/base",
            "_view_module_version": "1.2.0",
            "_view_name": "LayoutView",
            "align_content": null,
            "align_items": null,
            "align_self": null,
            "border": null,
            "bottom": null,
            "display": null,
            "flex": null,
            "flex_flow": null,
            "grid_area": null,
            "grid_auto_columns": null,
            "grid_auto_flow": null,
            "grid_auto_rows": null,
            "grid_column": null,
            "grid_gap": null,
            "grid_row": null,
            "grid_template_areas": null,
            "grid_template_columns": null,
            "grid_template_rows": null,
            "height": "25px",
            "justify_content": null,
            "justify_items": null,
            "left": null,
            "margin": null,
            "max_height": null,
            "max_width": null,
            "min_height": null,
            "min_width": null,
            "object_fit": null,
            "object_position": null,
            "order": null,
            "overflow": null,
            "overflow_x": null,
            "overflow_y": null,
            "padding": "0px",
            "right": null,
            "top": null,
            "visibility": null,
            "width": "25px"
          }
        },
        "b9497144946a444c933e96dc2f8b9b70": {
          "model_module": "@jupyter-widgets/controls",
          "model_module_version": "1.5.0",
          "model_name": "SliderStyleModel",
          "state": {
            "_model_module": "@jupyter-widgets/controls",
            "_model_module_version": "1.5.0",
            "_model_name": "SliderStyleModel",
            "_view_count": null,
            "_view_module": "@jupyter-widgets/base",
            "_view_module_version": "1.2.0",
            "_view_name": "StyleView",
            "description_width": "",
            "handle_color": null
          }
        },
        "b974790c17604e338511fe09601bde32": {
          "model_module": "@jupyter-widgets/controls",
          "model_module_version": "1.5.0",
          "model_name": "HBoxModel",
          "state": {
            "_dom_classes": [
              "geemap-colab"
            ],
            "_model_module": "@jupyter-widgets/controls",
            "_model_module_version": "1.5.0",
            "_model_name": "HBoxModel",
            "_view_count": null,
            "_view_module": "@jupyter-widgets/controls",
            "_view_module_version": "1.5.0",
            "_view_name": "HBoxView",
            "box_style": "",
            "children": [
              "IPY_MODEL_66c1bb29eed5438e95cb9c472776940d"
            ],
            "layout": "IPY_MODEL_9f9f509f7b244f9e9f8f5f4b0fa29609"
          }
        },
        "b9f024cfa8104ce4a24ca9149328e695": {
          "model_module": "@jupyter-widgets/controls",
          "model_module_version": "1.5.0",
          "model_name": "FloatSliderModel",
          "state": {
            "_dom_classes": [],
            "_model_module": "@jupyter-widgets/controls",
            "_model_module_version": "1.5.0",
            "_model_name": "FloatSliderModel",
            "_view_count": null,
            "_view_module": "@jupyter-widgets/controls",
            "_view_module_version": "1.5.0",
            "_view_name": "FloatSliderView",
            "continuous_update": true,
            "description": "",
            "description_tooltip": null,
            "disabled": false,
            "layout": "IPY_MODEL_f47e6f25a06e4436b7ad710cf5e1c1ca",
            "max": 1,
            "min": 0,
            "orientation": "horizontal",
            "readout": false,
            "readout_format": ".2f",
            "step": 0.01,
            "style": "IPY_MODEL_87cb1d6a0f714c09b924f31596557722",
            "value": 1
          }
        },
        "ba8bd86849d147c282c80b66bbb631d0": {
          "model_module": "@jupyter-widgets/base",
          "model_module_version": "1.2.0",
          "model_name": "LayoutModel",
          "state": {
            "_model_module": "@jupyter-widgets/base",
            "_model_module_version": "1.2.0",
            "_model_name": "LayoutModel",
            "_view_count": null,
            "_view_module": "@jupyter-widgets/base",
            "_view_module_version": "1.2.0",
            "_view_name": "LayoutView",
            "align_content": null,
            "align_items": null,
            "align_self": null,
            "border": null,
            "bottom": null,
            "display": null,
            "flex": null,
            "flex_flow": null,
            "grid_area": null,
            "grid_auto_columns": null,
            "grid_auto_flow": null,
            "grid_auto_rows": null,
            "grid_column": null,
            "grid_gap": null,
            "grid_row": null,
            "grid_template_areas": null,
            "grid_template_columns": null,
            "grid_template_rows": null,
            "height": "25px",
            "justify_content": null,
            "justify_items": null,
            "left": null,
            "margin": null,
            "max_height": null,
            "max_width": null,
            "min_height": null,
            "min_width": null,
            "object_fit": null,
            "object_position": null,
            "order": null,
            "overflow": null,
            "overflow_x": null,
            "overflow_y": null,
            "padding": "0px",
            "right": null,
            "top": null,
            "visibility": null,
            "width": "25px"
          }
        },
        "ba94b0d85b144eb69ad955781d3d1ac4": {
          "model_module": "jupyter-leaflet",
          "model_module_version": "^0.18",
          "model_name": "LeafletMeasureControlModel",
          "state": {
            "_custom_units": {},
            "_model_module": "jupyter-leaflet",
            "_model_module_version": "^0.18",
            "_model_name": "LeafletMeasureControlModel",
            "_view_count": null,
            "_view_module": "jupyter-leaflet",
            "_view_module_version": "^0.18",
            "_view_name": "LeafletMeasureControlView",
            "active_color": "orange",
            "capture_z_index": 10000,
            "completed_color": "#C8F2BE",
            "options": [
              "active_color",
              "capture_z_index",
              "completed_color",
              "popup_options",
              "position",
              "primary_area_unit",
              "primary_length_unit",
              "secondary_area_unit",
              "secondary_length_unit"
            ],
            "popup_options": {
              "autoPanPadding": [
                10,
                10
              ],
              "className": "leaflet-measure-resultpopup"
            },
            "position": "bottomleft",
            "primary_area_unit": "acres",
            "primary_length_unit": "kilometers",
            "secondary_area_unit": null,
            "secondary_length_unit": null
          }
        },
        "bbc67a4e11034a918ad977c565b64dfc": {
          "model_module": "@jupyter-widgets/controls",
          "model_module_version": "1.5.0",
          "model_name": "CheckboxModel",
          "state": {
            "_dom_classes": [],
            "_model_module": "@jupyter-widgets/controls",
            "_model_module_version": "1.5.0",
            "_model_name": "CheckboxModel",
            "_view_count": null,
            "_view_module": "@jupyter-widgets/controls",
            "_view_module_version": "1.5.0",
            "_view_name": "CheckboxView",
            "description": "NLCD 2011 CONUS Land Cover",
            "description_tooltip": null,
            "disabled": false,
            "indent": false,
            "layout": "IPY_MODEL_b92edefd4e2d403c94f61491f9bc9ff2",
            "style": "IPY_MODEL_29881522c04845f381a4cdf674dc23a3",
            "value": true
          }
        },
        "bbd245a9ad694a5ca33cf85222b79ebd": {
          "model_module": "@jupyter-widgets/controls",
          "model_module_version": "1.5.0",
          "model_name": "DescriptionStyleModel",
          "state": {
            "_model_module": "@jupyter-widgets/controls",
            "_model_module_version": "1.5.0",
            "_model_name": "DescriptionStyleModel",
            "_view_count": null,
            "_view_module": "@jupyter-widgets/base",
            "_view_module_version": "1.2.0",
            "_view_name": "StyleView",
            "description_width": ""
          }
        },
        "bcc1e7312e8e41629a5acf67d23053b2": {
          "model_module": "@jupyter-widgets/controls",
          "model_module_version": "1.5.0",
          "model_name": "DescriptionStyleModel",
          "state": {
            "_model_module": "@jupyter-widgets/controls",
            "_model_module_version": "1.5.0",
            "_model_name": "DescriptionStyleModel",
            "_view_count": null,
            "_view_module": "@jupyter-widgets/base",
            "_view_module_version": "1.2.0",
            "_view_name": "StyleView",
            "description_width": ""
          }
        },
        "bd7c259f60e6476fb99eb1a0b1640c37": {
          "model_module": "@jupyter-widgets/controls",
          "model_module_version": "1.5.0",
          "model_name": "VBoxModel",
          "state": {
            "_dom_classes": [
              "geemap-colab"
            ],
            "_model_module": "@jupyter-widgets/controls",
            "_model_module_version": "1.5.0",
            "_model_name": "VBoxModel",
            "_view_count": null,
            "_view_module": "@jupyter-widgets/controls",
            "_view_module_version": "1.5.0",
            "_view_name": "VBoxView",
            "box_style": "",
            "children": [
              "IPY_MODEL_dc20c85a509a4ebfb39dd73cdf82ae3a"
            ],
            "layout": "IPY_MODEL_61dc3427ef574cd8a3b77c1f25c5c5cb"
          }
        },
        "be43ee4f0f144d8d850cdadfb900d623": {
          "model_module": "@jupyter-widgets/base",
          "model_module_version": "1.2.0",
          "model_name": "LayoutModel",
          "state": {
            "_model_module": "@jupyter-widgets/base",
            "_model_module_version": "1.2.0",
            "_model_name": "LayoutModel",
            "_view_count": null,
            "_view_module": "@jupyter-widgets/base",
            "_view_module_version": "1.2.0",
            "_view_name": "LayoutView",
            "align_content": null,
            "align_items": null,
            "align_self": null,
            "border": null,
            "bottom": null,
            "display": null,
            "flex": null,
            "flex_flow": null,
            "grid_area": null,
            "grid_auto_columns": null,
            "grid_auto_flow": null,
            "grid_auto_rows": null,
            "grid_column": null,
            "grid_gap": null,
            "grid_row": null,
            "grid_template_areas": null,
            "grid_template_columns": null,
            "grid_template_rows": null,
            "height": "25px",
            "justify_content": null,
            "justify_items": null,
            "left": null,
            "margin": null,
            "max_height": null,
            "max_width": null,
            "min_height": null,
            "min_width": null,
            "object_fit": null,
            "object_position": null,
            "order": null,
            "overflow": null,
            "overflow_x": null,
            "overflow_y": null,
            "padding": "0px",
            "right": null,
            "top": null,
            "visibility": null,
            "width": "25px"
          }
        },
        "be8c67c9b8814c49a0fb5e72fb9b3e56": {
          "model_module": "@jupyter-widgets/controls",
          "model_module_version": "1.5.0",
          "model_name": "SliderStyleModel",
          "state": {
            "_model_module": "@jupyter-widgets/controls",
            "_model_module_version": "1.5.0",
            "_model_name": "SliderStyleModel",
            "_view_count": null,
            "_view_module": "@jupyter-widgets/base",
            "_view_module_version": "1.2.0",
            "_view_name": "StyleView",
            "description_width": "",
            "handle_color": null
          }
        },
        "bf95152a2c924c9b83f3a7953d05925e": {
          "model_module": "@jupyter-widgets/base",
          "model_module_version": "1.2.0",
          "model_name": "LayoutModel",
          "state": {
            "_model_module": "@jupyter-widgets/base",
            "_model_module_version": "1.2.0",
            "_model_name": "LayoutModel",
            "_view_count": null,
            "_view_module": "@jupyter-widgets/base",
            "_view_module_version": "1.2.0",
            "_view_name": "LayoutView",
            "align_content": null,
            "align_items": null,
            "align_self": null,
            "border": null,
            "bottom": null,
            "display": null,
            "flex": null,
            "flex_flow": null,
            "grid_area": null,
            "grid_auto_columns": null,
            "grid_auto_flow": null,
            "grid_auto_rows": null,
            "grid_column": null,
            "grid_gap": null,
            "grid_row": null,
            "grid_template_areas": null,
            "grid_template_columns": null,
            "grid_template_rows": null,
            "height": null,
            "justify_content": null,
            "justify_items": null,
            "left": null,
            "margin": null,
            "max_height": null,
            "max_width": null,
            "min_height": null,
            "min_width": null,
            "object_fit": null,
            "object_position": null,
            "order": null,
            "overflow": null,
            "overflow_x": null,
            "overflow_y": null,
            "padding": "0px 8px 0px 8px",
            "right": null,
            "top": null,
            "visibility": null,
            "width": null
          }
        },
        "c03b6fda46a64d058ea276ef236945e0": {
          "model_module": "@jupyter-widgets/controls",
          "model_module_version": "1.5.0",
          "model_name": "CheckboxModel",
          "state": {
            "_dom_classes": [],
            "_model_module": "@jupyter-widgets/controls",
            "_model_module_version": "1.5.0",
            "_model_name": "CheckboxModel",
            "_view_count": null,
            "_view_module": "@jupyter-widgets/controls",
            "_view_module_version": "1.5.0",
            "_view_name": "CheckboxView",
            "description": "Esri.WorldImagery",
            "description_tooltip": null,
            "disabled": false,
            "indent": false,
            "layout": "IPY_MODEL_9f8a86353c5049be86dd3edcf1d852b9",
            "style": "IPY_MODEL_efc8793f70634c70a86af8e47b48d0d4",
            "value": true
          }
        },
        "c092d1da50184c5eb6b0417bebeeec83": {
          "model_module": "@jupyter-widgets/controls",
          "model_module_version": "1.5.0",
          "model_name": "FloatSliderModel",
          "state": {
            "_dom_classes": [],
            "_model_module": "@jupyter-widgets/controls",
            "_model_module_version": "1.5.0",
            "_model_name": "FloatSliderModel",
            "_view_count": null,
            "_view_module": "@jupyter-widgets/controls",
            "_view_module_version": "1.5.0",
            "_view_name": "FloatSliderView",
            "continuous_update": true,
            "description": "",
            "description_tooltip": null,
            "disabled": false,
            "layout": "IPY_MODEL_d1076e25aad541f897e301a3b546b4f1",
            "max": 1,
            "min": 0,
            "orientation": "horizontal",
            "readout": false,
            "readout_format": ".2f",
            "step": 0.01,
            "style": "IPY_MODEL_be8c67c9b8814c49a0fb5e72fb9b3e56",
            "value": 1
          }
        },
        "c0969c17f8bd4edb9d2162784e5ddc39": {
          "model_module": "@jupyter-widgets/controls",
          "model_module_version": "1.5.0",
          "model_name": "VBoxModel",
          "state": {
            "_dom_classes": [
              "geemap-colab"
            ],
            "_model_module": "@jupyter-widgets/controls",
            "_model_module_version": "1.5.0",
            "_model_name": "VBoxModel",
            "_view_count": null,
            "_view_module": "@jupyter-widgets/controls",
            "_view_module_version": "1.5.0",
            "_view_name": "VBoxView",
            "box_style": "",
            "children": [
              "IPY_MODEL_36af11d474bf486da2c1f8c7666607c6",
              "IPY_MODEL_d253df90f73b46c8838212bfc5bd347d"
            ],
            "layout": "IPY_MODEL_15380b1fb6c643fe8278b38a5bae37c2"
          }
        },
        "c1238a6026ce48c980ee7cc3feb52a20": {
          "model_module": "@jupyter-widgets/controls",
          "model_module_version": "1.5.0",
          "model_name": "ButtonStyleModel",
          "state": {
            "_model_module": "@jupyter-widgets/controls",
            "_model_module_version": "1.5.0",
            "_model_name": "ButtonStyleModel",
            "_view_count": null,
            "_view_module": "@jupyter-widgets/base",
            "_view_module_version": "1.2.0",
            "_view_name": "StyleView",
            "button_color": null,
            "font_weight": ""
          }
        },
        "c27b87bd017b4e59a554b96fcdc8271b": {
          "model_module": "@jupyter-widgets/controls",
          "model_module_version": "1.5.0",
          "model_name": "ButtonModel",
          "state": {
            "_dom_classes": [],
            "_model_module": "@jupyter-widgets/controls",
            "_model_module_version": "1.5.0",
            "_model_name": "ButtonModel",
            "_view_count": null,
            "_view_module": "@jupyter-widgets/controls",
            "_view_module_version": "1.5.0",
            "_view_name": "ButtonView",
            "button_style": "primary",
            "description": "",
            "disabled": false,
            "icon": "times",
            "layout": "IPY_MODEL_34b3ffb535004c8280d04813f6d688b5",
            "style": "IPY_MODEL_e5061ded99d140ffa2f18c7e071a166f",
            "tooltip": "Close the basemap widget"
          }
        },
        "c37b60e433564d62845aa2cdea3c5e9c": {
          "model_module": "@jupyter-widgets/controls",
          "model_module_version": "1.5.0",
          "model_name": "DescriptionStyleModel",
          "state": {
            "_model_module": "@jupyter-widgets/controls",
            "_model_module_version": "1.5.0",
            "_model_name": "DescriptionStyleModel",
            "_view_count": null,
            "_view_module": "@jupyter-widgets/base",
            "_view_module_version": "1.2.0",
            "_view_name": "StyleView",
            "description_width": ""
          }
        },
        "c441a24cb20a44bcaa11374a0a4caf91": {
          "model_module": "@jupyter-widgets/controls",
          "model_module_version": "1.5.0",
          "model_name": "ButtonModel",
          "state": {
            "_dom_classes": [],
            "_model_module": "@jupyter-widgets/controls",
            "_model_module_version": "1.5.0",
            "_model_name": "ButtonModel",
            "_view_count": null,
            "_view_module": "@jupyter-widgets/controls",
            "_view_module_version": "1.5.0",
            "_view_name": "ButtonView",
            "button_style": "",
            "description": "",
            "disabled": false,
            "icon": "gear",
            "layout": "IPY_MODEL_3065af6ecde14700883b6f0c4eacefc5",
            "style": "IPY_MODEL_008f20233fcd4dc3bdc397e63700e9cb",
            "tooltip": "Esri.WorldStreetMap"
          }
        },
        "c46cd7baa41742eb85bf06fef79e3bad": {
          "model_module": "jupyter-leaflet",
          "model_module_version": "^0.18",
          "model_name": "LeafletMapModel",
          "state": {
            "_dom_classes": [],
            "_model_module": "jupyter-leaflet",
            "_model_module_version": "^0.18",
            "_model_name": "LeafletMapModel",
            "_view_count": null,
            "_view_module": "jupyter-leaflet",
            "_view_module_version": "^0.18",
            "_view_name": "LeafletMapView",
            "bottom": 812,
            "bounce_at_zoom_limits": true,
            "box_zoom": true,
            "center": [
              0,
              0
            ],
            "close_popup_on_click": true,
            "controls": [
              "IPY_MODEL_29fb62891eee4a1bbd73c22c0f0e1c62",
              "IPY_MODEL_f59529aa7cf44b299b394b91b0a08b9f",
              "IPY_MODEL_3c5111b751b240f884bdc0c123de839e",
              "IPY_MODEL_e9de19a7098a4b148d5f930ea0085003",
              "IPY_MODEL_8cb062ca4b5d431e81f1a8deadd6362e",
              "IPY_MODEL_643fb2ba8ad3474d8831dd02cfcbefa1",
              "IPY_MODEL_501ddd88c22a48b781e4e5cd06bdce32",
              "IPY_MODEL_ed3c4d57ac2f4290a03645a5bd14ea38"
            ],
            "crs": {
              "custom": false,
              "name": "EPSG3857"
            },
            "default_style": "IPY_MODEL_abf016a2399a41be961bff7315e3a364",
            "double_click_zoom": true,
            "dragging": true,
            "dragging_style": "IPY_MODEL_dd172fdc11624b91a71a2d0b54407e27",
            "east": 243.28125000000003,
            "fullscreen": false,
            "inertia": true,
            "inertia_deceleration": 3000,
            "inertia_max_speed": 1500,
            "interpolation": "bilinear",
            "keyboard": true,
            "keyboard_pan_offset": 80,
            "keyboard_zoom_offset": 1,
            "layers": [
              "IPY_MODEL_416866922e78444b9c14450d262138fc"
            ],
            "layout": "IPY_MODEL_c761780c0aab4f0d87abdf5221028e05",
            "left": -180,
            "max_zoom": 24,
            "min_zoom": null,
            "modisdate": "2024-04-07",
            "north": 71.9653876991313,
            "options": [
              "bounce_at_zoom_limits",
              "box_zoom",
              "center",
              "close_popup_on_click",
              "double_click_zoom",
              "dragging",
              "fullscreen",
              "inertia",
              "inertia_deceleration",
              "inertia_max_speed",
              "interpolation",
              "keyboard",
              "keyboard_pan_offset",
              "keyboard_zoom_offset",
              "max_zoom",
              "min_zoom",
              "prefer_canvas",
              "scroll_wheel_zoom",
              "tap",
              "tap_tolerance",
              "touch_zoom",
              "world_copy_jump",
              "zoom",
              "zoom_animation_threshold",
              "zoom_delta",
              "zoom_snap"
            ],
            "panes": {},
            "prefer_canvas": false,
            "right": 1204,
            "scroll_wheel_zoom": true,
            "south": -71.96538769913128,
            "style": "IPY_MODEL_420da750250e4e469a730b525ea45b0e",
            "tap": true,
            "tap_tolerance": 15,
            "top": 212,
            "touch_zoom": true,
            "west": -243.28125000000003,
            "window_url": "https://ieuvzy0r7gl-496ff2e9c6d22116-0-colab.googleusercontent.com/outputframe.html?vrz=colab_20240404-060114_RC00_621812230",
            "world_copy_jump": false,
            "zoom": 2,
            "zoom_animation_threshold": 4,
            "zoom_delta": 1,
            "zoom_snap": 1
          }
        },
        "c5382f26210d401682ce14d43025d8c4": {
          "model_module": "@jupyter-widgets/controls",
          "model_module_version": "1.5.0",
          "model_name": "HBoxModel",
          "state": {
            "_dom_classes": [],
            "_model_module": "@jupyter-widgets/controls",
            "_model_module_version": "1.5.0",
            "_model_name": "HBoxModel",
            "_view_count": null,
            "_view_module": "@jupyter-widgets/controls",
            "_view_module_version": "1.5.0",
            "_view_name": "HBoxView",
            "box_style": "",
            "children": [
              "IPY_MODEL_dd8e8a1f93d94e4280ff8ae78f65d7d6",
              "IPY_MODEL_5fc9f9ce9ccd4e168009221493e6387f",
              "IPY_MODEL_2ee92a6d56f9407a886d452d7bc997f6"
            ],
            "layout": "IPY_MODEL_c969849a2de04f4ab88c745b07aa8fec"
          }
        },
        "c5e0ca7f6efc42c99678e436c7ec421a": {
          "model_module": "@jupyter-widgets/controls",
          "model_module_version": "1.5.0",
          "model_name": "CheckboxModel",
          "state": {
            "_dom_classes": [],
            "_model_module": "@jupyter-widgets/controls",
            "_model_module_version": "1.5.0",
            "_model_name": "CheckboxModel",
            "_view_count": null,
            "_view_module": "@jupyter-widgets/controls",
            "_view_module_version": "1.5.0",
            "_view_name": "CheckboxView",
            "description": "Esri.WorldStreetMap",
            "description_tooltip": null,
            "disabled": false,
            "indent": false,
            "layout": "IPY_MODEL_6ae94a9d10c3436bb89a93b481fd10b6",
            "style": "IPY_MODEL_db39fac0f36744e88307620193c41376",
            "value": false
          }
        },
        "c761780c0aab4f0d87abdf5221028e05": {
          "model_module": "@jupyter-widgets/base",
          "model_module_version": "1.2.0",
          "model_name": "LayoutModel",
          "state": {
            "_model_module": "@jupyter-widgets/base",
            "_model_module_version": "1.2.0",
            "_model_name": "LayoutModel",
            "_view_count": null,
            "_view_module": "@jupyter-widgets/base",
            "_view_module_version": "1.2.0",
            "_view_name": "LayoutView",
            "align_content": null,
            "align_items": null,
            "align_self": null,
            "border": null,
            "bottom": null,
            "display": null,
            "flex": null,
            "flex_flow": null,
            "grid_area": null,
            "grid_auto_columns": null,
            "grid_auto_flow": null,
            "grid_auto_rows": null,
            "grid_column": null,
            "grid_gap": null,
            "grid_row": null,
            "grid_template_areas": null,
            "grid_template_columns": null,
            "grid_template_rows": null,
            "height": "600px",
            "justify_content": null,
            "justify_items": null,
            "left": null,
            "margin": null,
            "max_height": null,
            "max_width": null,
            "min_height": null,
            "min_width": null,
            "object_fit": null,
            "object_position": null,
            "order": null,
            "overflow": null,
            "overflow_x": null,
            "overflow_y": null,
            "padding": null,
            "right": null,
            "top": null,
            "visibility": null,
            "width": null
          }
        },
        "c7a658a9abbb43a88ee71789a8b2713a": {
          "model_module": "jupyter-leaflet",
          "model_module_version": "^0.18",
          "model_name": "LeafletMeasureControlModel",
          "state": {
            "_custom_units": {},
            "_model_module": "jupyter-leaflet",
            "_model_module_version": "^0.18",
            "_model_name": "LeafletMeasureControlModel",
            "_view_count": null,
            "_view_module": "jupyter-leaflet",
            "_view_module_version": "^0.18",
            "_view_name": "LeafletMeasureControlView",
            "active_color": "orange",
            "capture_z_index": 10000,
            "completed_color": "#C8F2BE",
            "options": [
              "active_color",
              "capture_z_index",
              "completed_color",
              "popup_options",
              "position",
              "primary_area_unit",
              "primary_length_unit",
              "secondary_area_unit",
              "secondary_length_unit"
            ],
            "popup_options": {
              "autoPanPadding": [
                10,
                10
              ],
              "className": "leaflet-measure-resultpopup"
            },
            "position": "bottomleft",
            "primary_area_unit": "acres",
            "primary_length_unit": "kilometers",
            "secondary_area_unit": null,
            "secondary_length_unit": null
          }
        },
        "c801d3ebab4b43fd98f1d20d1b2c33d8": {
          "model_module": "@jupyter-widgets/controls",
          "model_module_version": "1.5.0",
          "model_name": "ToggleButtonModel",
          "state": {
            "_dom_classes": [],
            "_model_module": "@jupyter-widgets/controls",
            "_model_module_version": "1.5.0",
            "_model_name": "ToggleButtonModel",
            "_view_count": null,
            "_view_module": "@jupyter-widgets/controls",
            "_view_module_version": "1.5.0",
            "_view_name": "ToggleButtonView",
            "button_style": "primary",
            "description": "",
            "description_tooltip": null,
            "disabled": false,
            "icon": "bar-chart",
            "layout": "IPY_MODEL_5e6389a0cd1e48ba8bda57b365be096e",
            "style": "IPY_MODEL_464571edae17489aa7d6de436222a5cf",
            "tooltip": "Plotting",
            "value": false
          }
        },
        "c8099d2cc18e4f149fdf3bd266c14fe1": {
          "model_module": "@jupyter-widgets/base",
          "model_module_version": "1.2.0",
          "model_name": "LayoutModel",
          "state": {
            "_model_module": "@jupyter-widgets/base",
            "_model_module_version": "1.2.0",
            "_model_name": "LayoutModel",
            "_view_count": null,
            "_view_module": "@jupyter-widgets/base",
            "_view_module_version": "1.2.0",
            "_view_name": "LayoutView",
            "align_content": null,
            "align_items": null,
            "align_self": null,
            "border": null,
            "bottom": null,
            "display": null,
            "flex": null,
            "flex_flow": null,
            "grid_area": null,
            "grid_auto_columns": null,
            "grid_auto_flow": null,
            "grid_auto_rows": null,
            "grid_column": null,
            "grid_gap": null,
            "grid_row": null,
            "grid_template_areas": null,
            "grid_template_columns": null,
            "grid_template_rows": null,
            "height": null,
            "justify_content": null,
            "justify_items": null,
            "left": null,
            "margin": null,
            "max_height": null,
            "max_width": null,
            "min_height": null,
            "min_width": null,
            "object_fit": null,
            "object_position": null,
            "order": null,
            "overflow": null,
            "overflow_x": null,
            "overflow_y": null,
            "padding": "0px 8px 0px 8px",
            "right": null,
            "top": null,
            "visibility": null,
            "width": null
          }
        },
        "c8d7094155df4c88bc0de9dd1596be4e": {
          "model_module": "jupyter-leaflet",
          "model_module_version": "^0.18",
          "model_name": "LeafletTileLayerModel",
          "state": {
            "_model_module": "jupyter-leaflet",
            "_model_module_version": "^0.18",
            "_model_name": "LeafletTileLayerModel",
            "_view_count": null,
            "_view_module": "jupyter-leaflet",
            "_view_module_version": "^0.18",
            "_view_name": "LeafletTileLayerView",
            "attribution": "Map data: (C) OpenStreetMap contributors, SRTM | Map style: (C) OpenTopoMap (CC-BY-SA)",
            "base": false,
            "bottom": true,
            "bounds": null,
            "detect_retina": false,
            "loading": true,
            "max_native_zoom": null,
            "max_zoom": 24,
            "min_native_zoom": null,
            "min_zoom": 0,
            "name": "OpenTopoMap",
            "no_wrap": false,
            "opacity": 1,
            "options": [
              "attribution",
              "bounds",
              "detect_retina",
              "max_native_zoom",
              "max_zoom",
              "min_native_zoom",
              "min_zoom",
              "no_wrap",
              "tile_size",
              "tms",
              "zoom_offset"
            ],
            "pane": "",
            "popup": null,
            "popup_max_height": null,
            "popup_max_width": 300,
            "popup_min_width": 50,
            "show_loading": false,
            "subitems": [],
            "tile_size": 256,
            "tms": false,
            "url": "https://a.tile.opentopomap.org/{z}/{x}/{y}.png",
            "visible": false,
            "zoom_offset": 0
          }
        },
        "c969849a2de04f4ab88c745b07aa8fec": {
          "model_module": "@jupyter-widgets/base",
          "model_module_version": "1.2.0",
          "model_name": "LayoutModel",
          "state": {
            "_model_module": "@jupyter-widgets/base",
            "_model_module_version": "1.2.0",
            "_model_name": "LayoutModel",
            "_view_count": null,
            "_view_module": "@jupyter-widgets/base",
            "_view_module_version": "1.2.0",
            "_view_name": "LayoutView",
            "align_content": null,
            "align_items": null,
            "align_self": null,
            "border": null,
            "bottom": null,
            "display": null,
            "flex": null,
            "flex_flow": null,
            "grid_area": null,
            "grid_auto_columns": null,
            "grid_auto_flow": null,
            "grid_auto_rows": null,
            "grid_column": null,
            "grid_gap": null,
            "grid_row": null,
            "grid_template_areas": null,
            "grid_template_columns": null,
            "grid_template_rows": null,
            "height": null,
            "justify_content": null,
            "justify_items": null,
            "left": null,
            "margin": null,
            "max_height": null,
            "max_width": null,
            "min_height": null,
            "min_width": null,
            "object_fit": null,
            "object_position": null,
            "order": null,
            "overflow": null,
            "overflow_x": null,
            "overflow_y": null,
            "padding": "0px 8px 0px 8px",
            "right": null,
            "top": null,
            "visibility": null,
            "width": null
          }
        },
        "c9a3ee3dd4d24b0c94d79cf502d81ced": {
          "model_module": "@jupyter-widgets/controls",
          "model_module_version": "1.5.0",
          "model_name": "HBoxModel",
          "state": {
            "_dom_classes": [
              "geemap-colab"
            ],
            "_model_module": "@jupyter-widgets/controls",
            "_model_module_version": "1.5.0",
            "_model_name": "HBoxModel",
            "_view_count": null,
            "_view_module": "@jupyter-widgets/controls",
            "_view_module_version": "1.5.0",
            "_view_name": "HBoxView",
            "box_style": "",
            "children": [
              "IPY_MODEL_6920b97f0e2a44a38e45eccd07ff478f"
            ],
            "layout": "IPY_MODEL_3f0d1a08d5744e2c82115871f5326ecb"
          }
        },
        "c9c9f45d03de4f01b7aa60aaff36cab1": {
          "model_module": "@jupyter-widgets/controls",
          "model_module_version": "1.5.0",
          "model_name": "SliderStyleModel",
          "state": {
            "_model_module": "@jupyter-widgets/controls",
            "_model_module_version": "1.5.0",
            "_model_name": "SliderStyleModel",
            "_view_count": null,
            "_view_module": "@jupyter-widgets/base",
            "_view_module_version": "1.2.0",
            "_view_name": "StyleView",
            "description_width": "",
            "handle_color": null
          }
        },
        "ca42b45d7d804f23aa53bf736650c576": {
          "model_module": "@jupyter-widgets/base",
          "model_module_version": "1.2.0",
          "model_name": "LayoutModel",
          "state": {
            "_model_module": "@jupyter-widgets/base",
            "_model_module_version": "1.2.0",
            "_model_name": "LayoutModel",
            "_view_count": null,
            "_view_module": "@jupyter-widgets/base",
            "_view_module_version": "1.2.0",
            "_view_name": "LayoutView",
            "align_content": null,
            "align_items": null,
            "align_self": null,
            "border": null,
            "bottom": null,
            "display": null,
            "flex": null,
            "flex_flow": null,
            "grid_area": null,
            "grid_auto_columns": null,
            "grid_auto_flow": null,
            "grid_auto_rows": null,
            "grid_column": null,
            "grid_gap": null,
            "grid_row": null,
            "grid_template_areas": null,
            "grid_template_columns": null,
            "grid_template_rows": null,
            "height": null,
            "justify_content": null,
            "justify_items": null,
            "left": null,
            "margin": null,
            "max_height": null,
            "max_width": null,
            "min_height": null,
            "min_width": null,
            "object_fit": null,
            "object_position": null,
            "order": null,
            "overflow": null,
            "overflow_x": null,
            "overflow_y": null,
            "padding": null,
            "right": null,
            "top": null,
            "visibility": null,
            "width": null
          }
        },
        "cb3d3c6c63f247739361002159fda84d": {
          "model_module": "@jupyter-widgets/controls",
          "model_module_version": "1.5.0",
          "model_name": "HBoxModel",
          "state": {
            "_dom_classes": [],
            "_model_module": "@jupyter-widgets/controls",
            "_model_module_version": "1.5.0",
            "_model_name": "HBoxModel",
            "_view_count": null,
            "_view_module": "@jupyter-widgets/controls",
            "_view_module_version": "1.5.0",
            "_view_name": "HBoxView",
            "box_style": "",
            "children": [
              "IPY_MODEL_f69c83f2db99482c80b60e744709ba8a",
              "IPY_MODEL_1974e3c57aa1426bafb71fe357b0eddc",
              "IPY_MODEL_ce67cdf5e2d94a1aaa6ef5d7a072bea6"
            ],
            "layout": "IPY_MODEL_d62805f9acc947e8b7bdb0003853b664"
          }
        },
        "ccafa8ea25ae464ea90cb670545b7807": {
          "model_module": "@jupyter-widgets/controls",
          "model_module_version": "1.5.0",
          "model_name": "ButtonModel",
          "state": {
            "_dom_classes": [],
            "_model_module": "@jupyter-widgets/controls",
            "_model_module_version": "1.5.0",
            "_model_name": "ButtonModel",
            "_view_count": null,
            "_view_module": "@jupyter-widgets/controls",
            "_view_module_version": "1.5.0",
            "_view_name": "ButtonView",
            "button_style": "",
            "description": "",
            "disabled": false,
            "icon": "gear",
            "layout": "IPY_MODEL_eeef807389d14856a626414be93dcc60",
            "style": "IPY_MODEL_ad225d1ee0d942a3b931ec249e863cda",
            "tooltip": "Esri.WorldImagery"
          }
        },
        "cdc98a674b7e4e48b73ed37fe8e09c16": {
          "model_module": "jupyter-leaflet",
          "model_module_version": "^0.18",
          "model_name": "LeafletTileLayerModel",
          "state": {
            "_model_module": "jupyter-leaflet",
            "_model_module_version": "^0.18",
            "_model_name": "LeafletTileLayerModel",
            "_view_count": null,
            "_view_module": "jupyter-leaflet",
            "_view_module_version": "^0.18",
            "_view_name": "LeafletTileLayerView",
            "attribution": "&copy; <a href=\"https://www.openstreetmap.org/copyright\">OpenStreetMap</a> contributors",
            "base": true,
            "bottom": true,
            "bounds": null,
            "detect_retina": false,
            "loading": false,
            "max_native_zoom": null,
            "max_zoom": 19,
            "min_native_zoom": null,
            "min_zoom": 1,
            "name": "OpenStreetMap.Mapnik",
            "no_wrap": false,
            "opacity": 1,
            "options": [
              "attribution",
              "bounds",
              "detect_retina",
              "max_native_zoom",
              "max_zoom",
              "min_native_zoom",
              "min_zoom",
              "no_wrap",
              "tile_size",
              "tms",
              "zoom_offset"
            ],
            "pane": "",
            "popup": null,
            "popup_max_height": null,
            "popup_max_width": 300,
            "popup_min_width": 50,
            "show_loading": false,
            "subitems": [],
            "tile_size": 256,
            "tms": false,
            "url": "https://tile.openstreetmap.org/{z}/{x}/{y}.png",
            "visible": true,
            "zoom_offset": 0
          }
        },
        "ce67cdf5e2d94a1aaa6ef5d7a072bea6": {
          "model_module": "@jupyter-widgets/controls",
          "model_module_version": "1.5.0",
          "model_name": "FloatSliderModel",
          "state": {
            "_dom_classes": [],
            "_model_module": "@jupyter-widgets/controls",
            "_model_module_version": "1.5.0",
            "_model_name": "FloatSliderModel",
            "_view_count": null,
            "_view_module": "@jupyter-widgets/controls",
            "_view_module_version": "1.5.0",
            "_view_name": "FloatSliderView",
            "continuous_update": true,
            "description": "",
            "description_tooltip": null,
            "disabled": false,
            "layout": "IPY_MODEL_33963332255345eba7d0fab7c4f8d890",
            "max": 1,
            "min": 0,
            "orientation": "horizontal",
            "readout": false,
            "readout_format": ".2f",
            "step": 0.01,
            "style": "IPY_MODEL_6264b42581434394a743ac7930c15094",
            "value": 1
          }
        },
        "ced2a4a0d4b44394baee8c88c1b7b9f4": {
          "model_module": "@jupyter-widgets/controls",
          "model_module_version": "1.5.0",
          "model_name": "CheckboxModel",
          "state": {
            "_dom_classes": [],
            "_model_module": "@jupyter-widgets/controls",
            "_model_module_version": "1.5.0",
            "_model_name": "CheckboxModel",
            "_view_count": null,
            "_view_module": "@jupyter-widgets/controls",
            "_view_module_version": "1.5.0",
            "_view_name": "CheckboxView",
            "description": "All layers on/off",
            "description_tooltip": null,
            "disabled": false,
            "indent": false,
            "layout": "IPY_MODEL_80aeea53c2564cc2a27cc585abadd086",
            "style": "IPY_MODEL_318709a28c7246fe9f4db53efe9f3428",
            "value": false
          }
        },
        "cf10596b5a184285ae2a462ca856fbc2": {
          "model_module": "@jupyter-widgets/controls",
          "model_module_version": "1.5.0",
          "model_name": "HBoxModel",
          "state": {
            "_dom_classes": [],
            "_model_module": "@jupyter-widgets/controls",
            "_model_module_version": "1.5.0",
            "_model_name": "HBoxModel",
            "_view_count": null,
            "_view_module": "@jupyter-widgets/controls",
            "_view_module_version": "1.5.0",
            "_view_name": "HBoxView",
            "box_style": "",
            "children": [
              "IPY_MODEL_9541a6846f38409cadc3fe87312c3f07",
              "IPY_MODEL_c441a24cb20a44bcaa11374a0a4caf91",
              "IPY_MODEL_4235c16f87594ed1af038e845bc1d1bf"
            ],
            "layout": "IPY_MODEL_3d3e5d8997c84ab1a9bbaf4afc80b17c"
          }
        },
        "cf9f0d1d6a0842e6baa51e6bae631b68": {
          "model_module": "jupyter-leaflet",
          "model_module_version": "^0.18",
          "model_name": "LeafletMeasureControlModel",
          "state": {
            "_custom_units": {},
            "_model_module": "jupyter-leaflet",
            "_model_module_version": "^0.18",
            "_model_name": "LeafletMeasureControlModel",
            "_view_count": null,
            "_view_module": "jupyter-leaflet",
            "_view_module_version": "^0.18",
            "_view_name": "LeafletMeasureControlView",
            "active_color": "orange",
            "capture_z_index": 10000,
            "completed_color": "#C8F2BE",
            "options": [
              "active_color",
              "capture_z_index",
              "completed_color",
              "popup_options",
              "position",
              "primary_area_unit",
              "primary_length_unit",
              "secondary_area_unit",
              "secondary_length_unit"
            ],
            "popup_options": {
              "autoPanPadding": [
                10,
                10
              ],
              "className": "leaflet-measure-resultpopup"
            },
            "position": "bottomleft",
            "primary_area_unit": "acres",
            "primary_length_unit": "kilometers",
            "secondary_area_unit": null,
            "secondary_length_unit": null
          }
        },
        "cfebefbc73ee47bdac7075f463164998": {
          "model_module": "@jupyter-widgets/controls",
          "model_module_version": "1.5.0",
          "model_name": "FloatSliderModel",
          "state": {
            "_dom_classes": [],
            "_model_module": "@jupyter-widgets/controls",
            "_model_module_version": "1.5.0",
            "_model_name": "FloatSliderModel",
            "_view_count": null,
            "_view_module": "@jupyter-widgets/controls",
            "_view_module_version": "1.5.0",
            "_view_name": "FloatSliderView",
            "continuous_update": true,
            "description": "",
            "description_tooltip": null,
            "disabled": false,
            "layout": "IPY_MODEL_2a940fd9bee9427789ede7d84c1e78e1",
            "max": 1,
            "min": 0,
            "orientation": "horizontal",
            "readout": false,
            "readout_format": ".2f",
            "step": 0.01,
            "style": "IPY_MODEL_12f68a83282b41ce8f4d03d30ff5f015",
            "value": 1
          }
        },
        "cff3e574436c4fafbffb6ee10500a357": {
          "model_module": "@jupyter-widgets/base",
          "model_module_version": "1.2.0",
          "model_name": "LayoutModel",
          "state": {
            "_model_module": "@jupyter-widgets/base",
            "_model_module_version": "1.2.0",
            "_model_name": "LayoutModel",
            "_view_count": null,
            "_view_module": "@jupyter-widgets/base",
            "_view_module_version": "1.2.0",
            "_view_name": "LayoutView",
            "align_content": null,
            "align_items": null,
            "align_self": null,
            "border": null,
            "bottom": null,
            "display": null,
            "flex": null,
            "flex_flow": null,
            "grid_area": null,
            "grid_auto_columns": null,
            "grid_auto_flow": null,
            "grid_auto_rows": null,
            "grid_column": null,
            "grid_gap": null,
            "grid_row": null,
            "grid_template_areas": null,
            "grid_template_columns": null,
            "grid_template_rows": null,
            "height": "auto",
            "justify_content": null,
            "justify_items": null,
            "left": null,
            "margin": null,
            "max_height": null,
            "max_width": null,
            "min_height": null,
            "min_width": null,
            "object_fit": null,
            "object_position": null,
            "order": null,
            "overflow": null,
            "overflow_x": null,
            "overflow_y": null,
            "padding": "0px 0px 0px 4px",
            "right": null,
            "top": null,
            "visibility": null,
            "width": "auto"
          }
        },
        "d00684dd9a2c4050a6fcd8170b3342ca": {
          "model_module": "@jupyter-widgets/controls",
          "model_module_version": "1.5.0",
          "model_name": "VBoxModel",
          "state": {
            "_dom_classes": [
              "geemap-colab"
            ],
            "_model_module": "@jupyter-widgets/controls",
            "_model_module_version": "1.5.0",
            "_model_name": "VBoxModel",
            "_view_count": null,
            "_view_module": "@jupyter-widgets/controls",
            "_view_module_version": "1.5.0",
            "_view_name": "VBoxView",
            "box_style": "",
            "children": [
              "IPY_MODEL_d41f49d0e42b4cc6aa3200081fd2ce24"
            ],
            "layout": "IPY_MODEL_6bb360b6d25b4eae83159bae2cfa740d"
          }
        },
        "d1076e25aad541f897e301a3b546b4f1": {
          "model_module": "@jupyter-widgets/base",
          "model_module_version": "1.2.0",
          "model_name": "LayoutModel",
          "state": {
            "_model_module": "@jupyter-widgets/base",
            "_model_module_version": "1.2.0",
            "_model_name": "LayoutModel",
            "_view_count": null,
            "_view_module": "@jupyter-widgets/base",
            "_view_module_version": "1.2.0",
            "_view_name": "LayoutView",
            "align_content": null,
            "align_items": null,
            "align_self": null,
            "border": null,
            "bottom": null,
            "display": null,
            "flex": null,
            "flex_flow": null,
            "grid_area": null,
            "grid_auto_columns": null,
            "grid_auto_flow": null,
            "grid_auto_rows": null,
            "grid_column": null,
            "grid_gap": null,
            "grid_row": null,
            "grid_template_areas": null,
            "grid_template_columns": null,
            "grid_template_rows": null,
            "height": null,
            "justify_content": null,
            "justify_items": null,
            "left": null,
            "margin": null,
            "max_height": null,
            "max_width": null,
            "min_height": null,
            "min_width": null,
            "object_fit": null,
            "object_position": null,
            "order": null,
            "overflow": null,
            "overflow_x": null,
            "overflow_y": null,
            "padding": null,
            "right": null,
            "top": null,
            "visibility": null,
            "width": "80px"
          }
        },
        "d15d191ee06343f59fc1515fe979bee4": {
          "model_module": "@jupyter-widgets/base",
          "model_module_version": "1.2.0",
          "model_name": "LayoutModel",
          "state": {
            "_model_module": "@jupyter-widgets/base",
            "_model_module_version": "1.2.0",
            "_model_name": "LayoutModel",
            "_view_count": null,
            "_view_module": "@jupyter-widgets/base",
            "_view_module_version": "1.2.0",
            "_view_name": "LayoutView",
            "align_content": null,
            "align_items": null,
            "align_self": null,
            "border": null,
            "bottom": null,
            "display": null,
            "flex": null,
            "flex_flow": null,
            "grid_area": null,
            "grid_auto_columns": null,
            "grid_auto_flow": null,
            "grid_auto_rows": null,
            "grid_column": null,
            "grid_gap": null,
            "grid_row": null,
            "grid_template_areas": null,
            "grid_template_columns": null,
            "grid_template_rows": null,
            "height": "28px",
            "justify_content": null,
            "justify_items": null,
            "left": null,
            "margin": null,
            "max_height": null,
            "max_width": null,
            "min_height": null,
            "min_width": null,
            "object_fit": null,
            "object_position": null,
            "order": null,
            "overflow": null,
            "overflow_x": null,
            "overflow_y": null,
            "padding": "0px 0px 0px 4px",
            "right": null,
            "top": null,
            "visibility": null,
            "width": "28px"
          }
        },
        "d1a5760ee1204a5caeac56ef12d0359a": {
          "model_module": "@jupyter-widgets/controls",
          "model_module_version": "1.5.0",
          "model_name": "ToggleButtonModel",
          "state": {
            "_dom_classes": [],
            "_model_module": "@jupyter-widgets/controls",
            "_model_module_version": "1.5.0",
            "_model_name": "ToggleButtonModel",
            "_view_count": null,
            "_view_module": "@jupyter-widgets/controls",
            "_view_module_version": "1.5.0",
            "_view_name": "ToggleButtonView",
            "button_style": "",
            "description": "",
            "description_tooltip": null,
            "disabled": false,
            "icon": "server",
            "layout": "IPY_MODEL_30acc6fbb6e348208546e75917259d6f",
            "style": "IPY_MODEL_48e636632c8a40ce90256810aa234933",
            "tooltip": "Layers",
            "value": true
          }
        },
        "d1ca5471ab5749bdba72677a30f23f59": {
          "model_module": "@jupyter-widgets/controls",
          "model_module_version": "1.5.0",
          "model_name": "HBoxModel",
          "state": {
            "_dom_classes": [],
            "_model_module": "@jupyter-widgets/controls",
            "_model_module_version": "1.5.0",
            "_model_name": "HBoxModel",
            "_view_count": null,
            "_view_module": "@jupyter-widgets/controls",
            "_view_module_version": "1.5.0",
            "_view_name": "HBoxView",
            "box_style": "",
            "children": [
              "IPY_MODEL_091cb17218564a39ad63a112f8272b0c",
              "IPY_MODEL_e01f9215a6114017a460372dc6e5e965"
            ],
            "layout": "IPY_MODEL_3dd0a28f01c046f68d75caa9cf69c624"
          }
        },
        "d1dca999e21d447e8779e0b012144b19": {
          "model_module": "@jupyter-widgets/controls",
          "model_module_version": "1.5.0",
          "model_name": "HBoxModel",
          "state": {
            "_dom_classes": [],
            "_model_module": "@jupyter-widgets/controls",
            "_model_module_version": "1.5.0",
            "_model_name": "HBoxModel",
            "_view_count": null,
            "_view_module": "@jupyter-widgets/controls",
            "_view_module_version": "1.5.0",
            "_view_name": "HBoxView",
            "box_style": "",
            "children": [
              "IPY_MODEL_9f3c3fa4ea904a09a7095321400b6156",
              "IPY_MODEL_4b0e4f28cc0a40a69ee4868a1bf527ba",
              "IPY_MODEL_b21d013e98044006b2d467fcbf96b97b"
            ],
            "layout": "IPY_MODEL_47a89d64733c42539021f08543b79dcc"
          }
        },
        "d253df90f73b46c8838212bfc5bd347d": {
          "model_module": "@jupyter-widgets/controls",
          "model_module_version": "1.5.0",
          "model_name": "VBoxModel",
          "state": {
            "_dom_classes": [],
            "_model_module": "@jupyter-widgets/controls",
            "_model_module_version": "1.5.0",
            "_model_name": "VBoxModel",
            "_view_count": null,
            "_view_module": "@jupyter-widgets/controls",
            "_view_module_version": "1.5.0",
            "_view_name": "VBoxView",
            "box_style": "",
            "children": [
              "IPY_MODEL_4de66f1126344397b3617f36b45ec836"
            ],
            "layout": "IPY_MODEL_11f9284439e449788987471d84ae9e24"
          }
        },
        "d2b4b133aca74936a8a5298a69b3d281": {
          "model_module": "@jupyter-widgets/controls",
          "model_module_version": "1.5.0",
          "model_name": "HBoxModel",
          "state": {
            "_dom_classes": [],
            "_model_module": "@jupyter-widgets/controls",
            "_model_module_version": "1.5.0",
            "_model_name": "HBoxModel",
            "_view_count": null,
            "_view_module": "@jupyter-widgets/controls",
            "_view_module_version": "1.5.0",
            "_view_name": "HBoxView",
            "box_style": "",
            "children": [
              "IPY_MODEL_104bfd6364634bddbaed0fc96c4802e8",
              "IPY_MODEL_02f2c89dc93b490fb0b3da96d7ae63dc",
              "IPY_MODEL_3703ea2b565d4e7f8e2aa6a954b29f30"
            ],
            "layout": "IPY_MODEL_5d517226c98f4a1d9bc776d5d28be09e"
          }
        },
        "d301be3c07af4fcfa36d329353513bf8": {
          "model_module": "jupyter-leaflet",
          "model_module_version": "^0.18",
          "model_name": "LeafletMapModel",
          "state": {
            "_dom_classes": [],
            "_model_module": "jupyter-leaflet",
            "_model_module_version": "^0.18",
            "_model_name": "LeafletMapModel",
            "_view_count": null,
            "_view_module": "jupyter-leaflet",
            "_view_module_version": "^0.18",
            "_view_name": "LeafletMapView",
            "bottom": 3505033,
            "bounce_at_zoom_limits": true,
            "box_zoom": true,
            "center": [
              28.358899,
              75.587724
            ],
            "close_popup_on_click": true,
            "controls": [
              "IPY_MODEL_f2430f4baa644291bde97d8ce6ad1b35",
              "IPY_MODEL_3b6719d623814fa097568489003a164b",
              "IPY_MODEL_10a3aa014ec74f4781d9ba595bef32fe",
              "IPY_MODEL_511aa68cb540401081c8f9164dddd4f8",
              "IPY_MODEL_e23c630c52a945b19c633547f2d2b986",
              "IPY_MODEL_c7a658a9abbb43a88ee71789a8b2713a",
              "IPY_MODEL_e3a14f85a2cb4334be1c2ffb56060435",
              "IPY_MODEL_e215eb18d32a4d838ccee0d51f87ec04"
            ],
            "crs": {
              "custom": false,
              "name": "EPSG3857"
            },
            "default_style": "IPY_MODEL_271a97903d1f47cc803654820eb44d7b",
            "double_click_zoom": true,
            "dragging": true,
            "dragging_style": "IPY_MODEL_2224b92af48a42e0ba030d39c0e64298",
            "east": 75.6174373626709,
            "fullscreen": false,
            "inertia": true,
            "inertia_deceleration": 3000,
            "inertia_max_speed": 1500,
            "interpolation": "bilinear",
            "keyboard": true,
            "keyboard_pan_offset": 80,
            "keyboard_zoom_offset": 1,
            "layers": [
              "IPY_MODEL_4f09ee2e192d455a949a076f78eb9935"
            ],
            "layout": "IPY_MODEL_1fe3220109e04523bcf8d31a513d66fb",
            "left": 5954934,
            "max_zoom": 24,
            "min_zoom": null,
            "modisdate": "2024-04-07",
            "north": 28.370218555500223,
            "options": [
              "bounce_at_zoom_limits",
              "box_zoom",
              "center",
              "close_popup_on_click",
              "double_click_zoom",
              "dragging",
              "fullscreen",
              "inertia",
              "inertia_deceleration",
              "inertia_max_speed",
              "interpolation",
              "keyboard",
              "keyboard_pan_offset",
              "keyboard_zoom_offset",
              "max_zoom",
              "min_zoom",
              "prefer_canvas",
              "scroll_wheel_zoom",
              "tap",
              "tap_tolerance",
              "touch_zoom",
              "world_copy_jump",
              "zoom",
              "zoom_animation_threshold",
              "zoom_delta",
              "zoom_snap"
            ],
            "panes": {},
            "prefer_canvas": false,
            "right": 5956318,
            "scroll_wheel_zoom": true,
            "south": 28.347559521328545,
            "style": "IPY_MODEL_e4c49f6c0a3d42099230e8faefa0e832",
            "tap": true,
            "tap_tolerance": 15,
            "top": 3504433,
            "touch_zoom": true,
            "west": 75.55804252624513,
            "window_url": "https://ieuvzy0r7gl-496ff2e9c6d22116-0-colab.googleusercontent.com/outputframe.html?vrz=colab_20240404-060114_RC00_621812230",
            "world_copy_jump": false,
            "zoom": 15,
            "zoom_animation_threshold": 4,
            "zoom_delta": 1,
            "zoom_snap": 1
          }
        },
        "d3d57157bb224eeb83553b503d699eed": {
          "model_module": "@jupyter-widgets/base",
          "model_module_version": "1.2.0",
          "model_name": "LayoutModel",
          "state": {
            "_model_module": "@jupyter-widgets/base",
            "_model_module_version": "1.2.0",
            "_model_name": "LayoutModel",
            "_view_count": null,
            "_view_module": "@jupyter-widgets/base",
            "_view_module_version": "1.2.0",
            "_view_name": "LayoutView",
            "align_content": null,
            "align_items": null,
            "align_self": null,
            "border": null,
            "bottom": null,
            "display": null,
            "flex": null,
            "flex_flow": null,
            "grid_area": null,
            "grid_auto_columns": null,
            "grid_auto_flow": null,
            "grid_auto_rows": null,
            "grid_column": null,
            "grid_gap": null,
            "grid_row": null,
            "grid_template_areas": null,
            "grid_template_columns": null,
            "grid_template_rows": null,
            "height": "18px",
            "justify_content": null,
            "justify_items": null,
            "left": null,
            "margin": null,
            "max_height": null,
            "max_width": null,
            "min_height": null,
            "min_width": null,
            "object_fit": null,
            "object_position": null,
            "order": null,
            "overflow": null,
            "overflow_x": null,
            "overflow_y": null,
            "padding": null,
            "right": null,
            "top": null,
            "visibility": null,
            "width": "140px"
          }
        },
        "d41f49d0e42b4cc6aa3200081fd2ce24": {
          "model_module": "@jupyter-widgets/controls",
          "model_module_version": "1.5.0",
          "model_name": "ToggleButtonModel",
          "state": {
            "_dom_classes": [],
            "_model_module": "@jupyter-widgets/controls",
            "_model_module_version": "1.5.0",
            "_model_name": "ToggleButtonModel",
            "_view_count": null,
            "_view_module": "@jupyter-widgets/controls",
            "_view_module_version": "1.5.0",
            "_view_name": "ToggleButtonView",
            "button_style": "",
            "description": "",
            "description_tooltip": null,
            "disabled": false,
            "icon": "wrench",
            "layout": "IPY_MODEL_49d7d05f6b5d49de8865ddcb5c235cae",
            "style": "IPY_MODEL_15fd553307aa4299af2c3c633165b80d",
            "tooltip": "Toolbar",
            "value": false
          }
        },
        "d519f41b79b647f3a593184ccdaadada": {
          "model_module": "@jupyter-widgets/base",
          "model_module_version": "1.2.0",
          "model_name": "LayoutModel",
          "state": {
            "_model_module": "@jupyter-widgets/base",
            "_model_module_version": "1.2.0",
            "_model_name": "LayoutModel",
            "_view_count": null,
            "_view_module": "@jupyter-widgets/base",
            "_view_module_version": "1.2.0",
            "_view_name": "LayoutView",
            "align_content": null,
            "align_items": null,
            "align_self": null,
            "border": null,
            "bottom": null,
            "display": null,
            "flex": null,
            "flex_flow": null,
            "grid_area": null,
            "grid_auto_columns": null,
            "grid_auto_flow": null,
            "grid_auto_rows": null,
            "grid_column": null,
            "grid_gap": null,
            "grid_row": null,
            "grid_template_areas": null,
            "grid_template_columns": null,
            "grid_template_rows": null,
            "height": "25px",
            "justify_content": null,
            "justify_items": null,
            "left": null,
            "margin": null,
            "max_height": null,
            "max_width": null,
            "min_height": null,
            "min_width": null,
            "object_fit": null,
            "object_position": null,
            "order": null,
            "overflow": null,
            "overflow_x": null,
            "overflow_y": null,
            "padding": "0px",
            "right": null,
            "top": null,
            "visibility": null,
            "width": "25px"
          }
        },
        "d53f31c5b89e4c5fb7134f043d6416c8": {
          "model_module": "jupyter-leaflet",
          "model_module_version": "^0.18",
          "model_name": "LeafletZoomControlModel",
          "state": {
            "_model_module": "jupyter-leaflet",
            "_model_module_version": "^0.18",
            "_model_name": "LeafletZoomControlModel",
            "_view_count": null,
            "_view_module": "jupyter-leaflet",
            "_view_module_version": "^0.18",
            "_view_name": "LeafletZoomControlView",
            "options": [
              "position",
              "zoom_in_text",
              "zoom_in_title",
              "zoom_out_text",
              "zoom_out_title"
            ],
            "position": "topleft",
            "zoom_in_text": "+",
            "zoom_in_title": "Zoom in",
            "zoom_out_text": "-",
            "zoom_out_title": "Zoom out"
          }
        },
        "d5df273d82c943bb9740ae8b81688ff8": {
          "model_module": "@jupyter-widgets/controls",
          "model_module_version": "1.5.0",
          "model_name": "FloatSliderModel",
          "state": {
            "_dom_classes": [],
            "_model_module": "@jupyter-widgets/controls",
            "_model_module_version": "1.5.0",
            "_model_name": "FloatSliderModel",
            "_view_count": null,
            "_view_module": "@jupyter-widgets/controls",
            "_view_module_version": "1.5.0",
            "_view_name": "FloatSliderView",
            "continuous_update": true,
            "description": "",
            "description_tooltip": null,
            "disabled": false,
            "layout": "IPY_MODEL_6ea50ba1f2f74cd9a2b3995651f9d07f",
            "max": 1,
            "min": 0,
            "orientation": "horizontal",
            "readout": false,
            "readout_format": ".2f",
            "step": 0.01,
            "style": "IPY_MODEL_c9c9f45d03de4f01b7aa60aaff36cab1",
            "value": 1
          }
        },
        "d62805f9acc947e8b7bdb0003853b664": {
          "model_module": "@jupyter-widgets/base",
          "model_module_version": "1.2.0",
          "model_name": "LayoutModel",
          "state": {
            "_model_module": "@jupyter-widgets/base",
            "_model_module_version": "1.2.0",
            "_model_name": "LayoutModel",
            "_view_count": null,
            "_view_module": "@jupyter-widgets/base",
            "_view_module_version": "1.2.0",
            "_view_name": "LayoutView",
            "align_content": null,
            "align_items": null,
            "align_self": null,
            "border": null,
            "bottom": null,
            "display": null,
            "flex": null,
            "flex_flow": null,
            "grid_area": null,
            "grid_auto_columns": null,
            "grid_auto_flow": null,
            "grid_auto_rows": null,
            "grid_column": null,
            "grid_gap": null,
            "grid_row": null,
            "grid_template_areas": null,
            "grid_template_columns": null,
            "grid_template_rows": null,
            "height": null,
            "justify_content": null,
            "justify_items": null,
            "left": null,
            "margin": null,
            "max_height": null,
            "max_width": null,
            "min_height": null,
            "min_width": null,
            "object_fit": null,
            "object_position": null,
            "order": null,
            "overflow": null,
            "overflow_x": null,
            "overflow_y": null,
            "padding": "0px 8px 0px 8px",
            "right": null,
            "top": null,
            "visibility": null,
            "width": null
          }
        },
        "d6b062a0cd9248f89e22e7b68b8cfad9": {
          "model_module": "@jupyter-widgets/base",
          "model_module_version": "1.2.0",
          "model_name": "LayoutModel",
          "state": {
            "_model_module": "@jupyter-widgets/base",
            "_model_module_version": "1.2.0",
            "_model_name": "LayoutModel",
            "_view_count": null,
            "_view_module": "@jupyter-widgets/base",
            "_view_module_version": "1.2.0",
            "_view_name": "LayoutView",
            "align_content": null,
            "align_items": null,
            "align_self": null,
            "border": null,
            "bottom": null,
            "display": null,
            "flex": null,
            "flex_flow": null,
            "grid_area": null,
            "grid_auto_columns": null,
            "grid_auto_flow": null,
            "grid_auto_rows": null,
            "grid_column": null,
            "grid_gap": null,
            "grid_row": null,
            "grid_template_areas": null,
            "grid_template_columns": null,
            "grid_template_rows": null,
            "height": null,
            "justify_content": null,
            "justify_items": null,
            "left": null,
            "margin": null,
            "max_height": null,
            "max_width": null,
            "min_height": null,
            "min_width": null,
            "object_fit": null,
            "object_position": null,
            "order": null,
            "overflow": null,
            "overflow_x": null,
            "overflow_y": null,
            "padding": "0px 8px 0px 8px",
            "right": null,
            "top": null,
            "visibility": null,
            "width": null
          }
        },
        "d6e7ea7e6cc44374b445d513db69debe": {
          "model_module": "@jupyter-widgets/base",
          "model_module_version": "1.2.0",
          "model_name": "LayoutModel",
          "state": {
            "_model_module": "@jupyter-widgets/base",
            "_model_module_version": "1.2.0",
            "_model_name": "LayoutModel",
            "_view_count": null,
            "_view_module": "@jupyter-widgets/base",
            "_view_module_version": "1.2.0",
            "_view_name": "LayoutView",
            "align_content": null,
            "align_items": null,
            "align_self": null,
            "border": null,
            "bottom": null,
            "display": null,
            "flex": null,
            "flex_flow": null,
            "grid_area": null,
            "grid_auto_columns": null,
            "grid_auto_flow": null,
            "grid_auto_rows": null,
            "grid_column": null,
            "grid_gap": null,
            "grid_row": null,
            "grid_template_areas": null,
            "grid_template_columns": null,
            "grid_template_rows": null,
            "height": "25px",
            "justify_content": null,
            "justify_items": null,
            "left": null,
            "margin": null,
            "max_height": null,
            "max_width": null,
            "min_height": null,
            "min_width": null,
            "object_fit": null,
            "object_position": null,
            "order": null,
            "overflow": null,
            "overflow_x": null,
            "overflow_y": null,
            "padding": "0px",
            "right": null,
            "top": null,
            "visibility": null,
            "width": "25px"
          }
        },
        "d8035dd8e1dc4430bebb82c43cc75c5a": {
          "model_module": "@jupyter-widgets/controls",
          "model_module_version": "1.5.0",
          "model_name": "ButtonStyleModel",
          "state": {
            "_model_module": "@jupyter-widgets/controls",
            "_model_module_version": "1.5.0",
            "_model_name": "ButtonStyleModel",
            "_view_count": null,
            "_view_module": "@jupyter-widgets/base",
            "_view_module_version": "1.2.0",
            "_view_name": "StyleView",
            "button_color": null,
            "font_weight": ""
          }
        },
        "d8140c78b18d4db0ae24f16e16ea0668": {
          "model_module": "@jupyter-widgets/base",
          "model_module_version": "1.2.0",
          "model_name": "LayoutModel",
          "state": {
            "_model_module": "@jupyter-widgets/base",
            "_model_module_version": "1.2.0",
            "_model_name": "LayoutModel",
            "_view_count": null,
            "_view_module": "@jupyter-widgets/base",
            "_view_module_version": "1.2.0",
            "_view_name": "LayoutView",
            "align_content": null,
            "align_items": null,
            "align_self": null,
            "border": null,
            "bottom": null,
            "display": null,
            "flex": null,
            "flex_flow": null,
            "grid_area": null,
            "grid_auto_columns": null,
            "grid_auto_flow": null,
            "grid_auto_rows": null,
            "grid_column": null,
            "grid_gap": null,
            "grid_row": null,
            "grid_template_areas": null,
            "grid_template_columns": null,
            "grid_template_rows": null,
            "height": "25px",
            "justify_content": null,
            "justify_items": null,
            "left": null,
            "margin": null,
            "max_height": null,
            "max_width": null,
            "min_height": null,
            "min_width": null,
            "object_fit": null,
            "object_position": null,
            "order": null,
            "overflow": null,
            "overflow_x": null,
            "overflow_y": null,
            "padding": "0px",
            "right": null,
            "top": null,
            "visibility": null,
            "width": "25px"
          }
        },
        "d93dba443a48456496eb0445603c99ca": {
          "model_module": "jupyter-leaflet",
          "model_module_version": "^0.18",
          "model_name": "LeafletWMSLayerModel",
          "state": {
            "_model_module": "jupyter-leaflet",
            "_model_module_version": "^0.18",
            "_model_name": "LeafletWMSLayerModel",
            "_view_count": null,
            "_view_module": "jupyter-leaflet",
            "_view_module_version": "^0.18",
            "_view_name": "LeafletWMSLayerView",
            "attribution": "MRLC",
            "base": false,
            "bottom": true,
            "bounds": null,
            "crs": {
              "custom": false,
              "name": "EPSG3857"
            },
            "detect_retina": false,
            "format": "image/png",
            "layers": "NLCD_2011_Land_Cover_L48",
            "loading": false,
            "max_native_zoom": null,
            "max_zoom": 18,
            "min_native_zoom": null,
            "min_zoom": 0,
            "name": "NLCD 2011 CONUS Land Cover",
            "no_wrap": false,
            "opacity": 1,
            "options": [
              "attribution",
              "bounds",
              "detect_retina",
              "format",
              "layers",
              "max_native_zoom",
              "max_zoom",
              "min_native_zoom",
              "min_zoom",
              "no_wrap",
              "styles",
              "tile_size",
              "tms",
              "transparent",
              "uppercase",
              "zoom_offset"
            ],
            "pane": "",
            "popup": null,
            "popup_max_height": null,
            "popup_max_width": 300,
            "popup_min_width": 50,
            "show_loading": false,
            "styles": "",
            "subitems": [],
            "tile_size": 256,
            "tms": false,
            "transparent": true,
            "uppercase": false,
            "url": "https://www.mrlc.gov/geoserver/mrlc_display/NLCD_2011_Land_Cover_L48/wms?",
            "visible": false,
            "zoom_offset": 0
          }
        },
        "da9b7cf50c4c4e4a86495bab03ec6bb3": {
          "model_module": "@jupyter-widgets/controls",
          "model_module_version": "1.5.0",
          "model_name": "CheckboxModel",
          "state": {
            "_dom_classes": [],
            "_model_module": "@jupyter-widgets/controls",
            "_model_module_version": "1.5.0",
            "_model_name": "CheckboxModel",
            "_view_count": null,
            "_view_module": "@jupyter-widgets/controls",
            "_view_module_version": "1.5.0",
            "_view_name": "CheckboxView",
            "description": "Esri.WorldTopoMap",
            "description_tooltip": null,
            "disabled": false,
            "indent": false,
            "layout": "IPY_MODEL_1bdc0fbe4f544997a53f8bd2ed15eeaf",
            "style": "IPY_MODEL_9e6be763150f4621a4f18f54da9004fb",
            "value": true
          }
        },
        "db39fac0f36744e88307620193c41376": {
          "model_module": "@jupyter-widgets/controls",
          "model_module_version": "1.5.0",
          "model_name": "DescriptionStyleModel",
          "state": {
            "_model_module": "@jupyter-widgets/controls",
            "_model_module_version": "1.5.0",
            "_model_name": "DescriptionStyleModel",
            "_view_count": null,
            "_view_module": "@jupyter-widgets/base",
            "_view_module_version": "1.2.0",
            "_view_name": "StyleView",
            "description_width": ""
          }
        },
        "dc20c85a509a4ebfb39dd73cdf82ae3a": {
          "model_module": "@jupyter-widgets/controls",
          "model_module_version": "1.5.0",
          "model_name": "ToggleButtonModel",
          "state": {
            "_dom_classes": [],
            "_model_module": "@jupyter-widgets/controls",
            "_model_module_version": "1.5.0",
            "_model_name": "ToggleButtonModel",
            "_view_count": null,
            "_view_module": "@jupyter-widgets/controls",
            "_view_module_version": "1.5.0",
            "_view_name": "ToggleButtonView",
            "button_style": "",
            "description": "",
            "description_tooltip": null,
            "disabled": false,
            "icon": "wrench",
            "layout": "IPY_MODEL_e7e0b0d984d847929fd034c695bd6bfe",
            "style": "IPY_MODEL_4861530512a74ab6a13ccdf7f9e293bb",
            "tooltip": "Toolbar",
            "value": false
          }
        },
        "dd172fdc11624b91a71a2d0b54407e27": {
          "model_module": "jupyter-leaflet",
          "model_module_version": "^0.18",
          "model_name": "LeafletMapStyleModel",
          "state": {
            "_model_module": "jupyter-leaflet",
            "_model_module_version": "^0.18",
            "_model_name": "LeafletMapStyleModel",
            "_view_count": null,
            "_view_module": "@jupyter-widgets/base",
            "_view_module_version": "1.2.0",
            "_view_name": "StyleView",
            "cursor": "move"
          }
        },
        "dd8e8a1f93d94e4280ff8ae78f65d7d6": {
          "model_module": "@jupyter-widgets/controls",
          "model_module_version": "1.5.0",
          "model_name": "CheckboxModel",
          "state": {
            "_dom_classes": [],
            "_model_module": "@jupyter-widgets/controls",
            "_model_module_version": "1.5.0",
            "_model_name": "CheckboxModel",
            "_view_count": null,
            "_view_module": "@jupyter-widgets/controls",
            "_view_module_version": "1.5.0",
            "_view_name": "CheckboxView",
            "description": "Esri.WorldImagery",
            "description_tooltip": null,
            "disabled": false,
            "indent": false,
            "layout": "IPY_MODEL_b4c0deb1055a47a49acdb0bd56f58865",
            "style": "IPY_MODEL_f742fb71d4874fa9b8cc5085d66e2748",
            "value": false
          }
        },
        "dfb3e9b6c9d84d97ab95bda7c2863ab9": {
          "model_module": "@jupyter-widgets/controls",
          "model_module_version": "1.5.0",
          "model_name": "ButtonStyleModel",
          "state": {
            "_model_module": "@jupyter-widgets/controls",
            "_model_module_version": "1.5.0",
            "_model_name": "ButtonStyleModel",
            "_view_count": null,
            "_view_module": "@jupyter-widgets/base",
            "_view_module_version": "1.2.0",
            "_view_name": "StyleView",
            "button_color": null,
            "font_weight": ""
          }
        },
        "e01f9215a6114017a460372dc6e5e965": {
          "model_module": "@jupyter-widgets/controls",
          "model_module_version": "1.5.0",
          "model_name": "ToggleButtonModel",
          "state": {
            "_dom_classes": [],
            "_model_module": "@jupyter-widgets/controls",
            "_model_module_version": "1.5.0",
            "_model_name": "ToggleButtonModel",
            "_view_count": null,
            "_view_module": "@jupyter-widgets/controls",
            "_view_module_version": "1.5.0",
            "_view_name": "ToggleButtonView",
            "button_style": "",
            "description": "",
            "description_tooltip": null,
            "disabled": false,
            "icon": "server",
            "layout": "IPY_MODEL_d15d191ee06343f59fc1515fe979bee4",
            "style": "IPY_MODEL_b1563ff1e831465788c434dd7c3e7ac0",
            "tooltip": "Layer Manager",
            "value": true
          }
        },
        "e07de98e1e4f4d32bf7a7fe1a619ca9f": {
          "model_module": "@jupyter-widgets/controls",
          "model_module_version": "1.5.0",
          "model_name": "CheckboxModel",
          "state": {
            "_dom_classes": [],
            "_model_module": "@jupyter-widgets/controls",
            "_model_module_version": "1.5.0",
            "_model_name": "CheckboxModel",
            "_view_count": null,
            "_view_module": "@jupyter-widgets/controls",
            "_view_module_version": "1.5.0",
            "_view_name": "CheckboxView",
            "description": "NLCD 2011 CONUS Land Cover",
            "description_tooltip": null,
            "disabled": false,
            "indent": false,
            "layout": "IPY_MODEL_6991af1c36d5422da3b672203c0374ac",
            "style": "IPY_MODEL_eea7ed5216d24db888214d66c400a1f6",
            "value": true
          }
        },
        "e1ceb1dba57041598638feaf72910ffc": {
          "model_module": "@jupyter-widgets/base",
          "model_module_version": "1.2.0",
          "model_name": "LayoutModel",
          "state": {
            "_model_module": "@jupyter-widgets/base",
            "_model_module_version": "1.2.0",
            "_model_name": "LayoutModel",
            "_view_count": null,
            "_view_module": "@jupyter-widgets/base",
            "_view_module_version": "1.2.0",
            "_view_name": "LayoutView",
            "align_content": null,
            "align_items": null,
            "align_self": null,
            "border": null,
            "bottom": null,
            "display": null,
            "flex": null,
            "flex_flow": null,
            "grid_area": null,
            "grid_auto_columns": null,
            "grid_auto_flow": null,
            "grid_auto_rows": null,
            "grid_column": null,
            "grid_gap": null,
            "grid_row": null,
            "grid_template_areas": null,
            "grid_template_columns": null,
            "grid_template_rows": null,
            "height": "25px",
            "justify_content": null,
            "justify_items": null,
            "left": null,
            "margin": null,
            "max_height": null,
            "max_width": null,
            "min_height": null,
            "min_width": null,
            "object_fit": null,
            "object_position": null,
            "order": null,
            "overflow": null,
            "overflow_x": null,
            "overflow_y": null,
            "padding": "0px",
            "right": null,
            "top": null,
            "visibility": null,
            "width": "25px"
          }
        },
        "e215eb18d32a4d838ccee0d51f87ec04": {
          "model_module": "jupyter-leaflet",
          "model_module_version": "^0.18",
          "model_name": "LeafletAttributionControlModel",
          "state": {
            "_model_module": "jupyter-leaflet",
            "_model_module_version": "^0.18",
            "_model_name": "LeafletAttributionControlModel",
            "_view_count": null,
            "_view_module": "jupyter-leaflet",
            "_view_module_version": "^0.18",
            "_view_name": "LeafletAttributionControlView",
            "options": [
              "position",
              "prefix"
            ],
            "position": "bottomright",
            "prefix": "ipyleaflet"
          }
        },
        "e23c630c52a945b19c633547f2d2b986": {
          "model_module": "jupyter-leaflet",
          "model_module_version": "^0.18",
          "model_name": "LeafletScaleControlModel",
          "state": {
            "_model_module": "jupyter-leaflet",
            "_model_module_version": "^0.18",
            "_model_name": "LeafletScaleControlModel",
            "_view_count": null,
            "_view_module": "jupyter-leaflet",
            "_view_module_version": "^0.18",
            "_view_name": "LeafletScaleControlView",
            "imperial": true,
            "max_width": 100,
            "metric": true,
            "options": [
              "imperial",
              "max_width",
              "metric",
              "position",
              "update_when_idle"
            ],
            "position": "bottomleft",
            "update_when_idle": false
          }
        },
        "e2dbf8d3404d492fbd52e407927a2665": {
          "model_module": "@jupyter-widgets/base",
          "model_module_version": "1.2.0",
          "model_name": "LayoutModel",
          "state": {
            "_model_module": "@jupyter-widgets/base",
            "_model_module_version": "1.2.0",
            "_model_name": "LayoutModel",
            "_view_count": null,
            "_view_module": "@jupyter-widgets/base",
            "_view_module_version": "1.2.0",
            "_view_name": "LayoutView",
            "align_content": null,
            "align_items": null,
            "align_self": null,
            "border": null,
            "bottom": null,
            "display": null,
            "flex": null,
            "flex_flow": null,
            "grid_area": null,
            "grid_auto_columns": null,
            "grid_auto_flow": null,
            "grid_auto_rows": null,
            "grid_column": null,
            "grid_gap": null,
            "grid_row": null,
            "grid_template_areas": null,
            "grid_template_columns": null,
            "grid_template_rows": null,
            "height": "18px",
            "justify_content": null,
            "justify_items": null,
            "left": null,
            "margin": null,
            "max_height": null,
            "max_width": null,
            "min_height": null,
            "min_width": null,
            "object_fit": null,
            "object_position": null,
            "order": null,
            "overflow": null,
            "overflow_x": null,
            "overflow_y": null,
            "padding": null,
            "right": null,
            "top": null,
            "visibility": null,
            "width": "140px"
          }
        },
        "e3994d149a704c0a9e0614244dffa137": {
          "model_module": "@jupyter-widgets/controls",
          "model_module_version": "1.5.0",
          "model_name": "ButtonModel",
          "state": {
            "_dom_classes": [],
            "_model_module": "@jupyter-widgets/controls",
            "_model_module_version": "1.5.0",
            "_model_name": "ButtonModel",
            "_view_count": null,
            "_view_module": "@jupyter-widgets/controls",
            "_view_module_version": "1.5.0",
            "_view_name": "ButtonView",
            "button_style": "",
            "description": "",
            "disabled": false,
            "icon": "gear",
            "layout": "IPY_MODEL_0e2cb7dea2b348889bbb82d9826f2bfe",
            "style": "IPY_MODEL_b3e7de359f644f05b281f9891d012f8b",
            "tooltip": "OpenTopoMap"
          }
        },
        "e3a14f85a2cb4334be1c2ffb56060435": {
          "model_module": "jupyter-leaflet",
          "model_module_version": "^0.18",
          "model_name": "LeafletWidgetControlModel",
          "state": {
            "_model_module": "jupyter-leaflet",
            "_model_module_version": "^0.18",
            "_model_name": "LeafletWidgetControlModel",
            "_view_count": null,
            "_view_module": "jupyter-leaflet",
            "_view_module_version": "^0.18",
            "_view_name": "LeafletWidgetControlView",
            "max_height": null,
            "max_width": null,
            "min_height": null,
            "min_width": null,
            "options": [
              "position",
              "transparent_bg"
            ],
            "position": "topright",
            "transparent_bg": false,
            "widget": "IPY_MODEL_bd7c259f60e6476fb99eb1a0b1640c37"
          }
        },
        "e45e6869b17346ddb36aa947628b4899": {
          "model_module": "@jupyter-widgets/controls",
          "model_module_version": "1.5.0",
          "model_name": "ButtonModel",
          "state": {
            "_dom_classes": [],
            "_model_module": "@jupyter-widgets/controls",
            "_model_module_version": "1.5.0",
            "_model_name": "ButtonModel",
            "_view_count": null,
            "_view_module": "@jupyter-widgets/controls",
            "_view_module_version": "1.5.0",
            "_view_name": "ButtonView",
            "button_style": "",
            "description": "",
            "disabled": false,
            "icon": "gear",
            "layout": "IPY_MODEL_be43ee4f0f144d8d850cdadfb900d623",
            "style": "IPY_MODEL_938a4748f37e49949a809d85cdc2b356",
            "tooltip": "Esri.WorldTopoMap"
          }
        },
        "e46114b55fdf4799aef1181593fb112c": {
          "model_module": "@jupyter-widgets/controls",
          "model_module_version": "1.5.0",
          "model_name": "HBoxModel",
          "state": {
            "_dom_classes": [],
            "_model_module": "@jupyter-widgets/controls",
            "_model_module_version": "1.5.0",
            "_model_name": "HBoxModel",
            "_view_count": null,
            "_view_module": "@jupyter-widgets/controls",
            "_view_module_version": "1.5.0",
            "_view_name": "HBoxView",
            "box_style": "",
            "children": [
              "IPY_MODEL_b490b71130a84543ba6d230b07e5cd78",
              "IPY_MODEL_9da8dd9d98834732a883da510b54b1c0",
              "IPY_MODEL_179893e47aaa452cbdcfb8fb979c4672"
            ],
            "layout": "IPY_MODEL_fc16a7d634254eeeb47c922dc3104960"
          }
        },
        "e4c49f6c0a3d42099230e8faefa0e832": {
          "model_module": "jupyter-leaflet",
          "model_module_version": "^0.18",
          "model_name": "LeafletMapStyleModel",
          "state": {
            "_model_module": "jupyter-leaflet",
            "_model_module_version": "^0.18",
            "_model_name": "LeafletMapStyleModel",
            "_view_count": null,
            "_view_module": "@jupyter-widgets/base",
            "_view_module_version": "1.2.0",
            "_view_name": "StyleView",
            "cursor": "grab"
          }
        },
        "e4ea1445c6454e93b244a1f22b02ecf9": {
          "model_module": "@jupyter-widgets/controls",
          "model_module_version": "1.5.0",
          "model_name": "CheckboxModel",
          "state": {
            "_dom_classes": [],
            "_model_module": "@jupyter-widgets/controls",
            "_model_module_version": "1.5.0",
            "_model_name": "CheckboxModel",
            "_view_count": null,
            "_view_module": "@jupyter-widgets/controls",
            "_view_module_version": "1.5.0",
            "_view_name": "CheckboxView",
            "description": "OpenTopoMap",
            "description_tooltip": null,
            "disabled": false,
            "indent": false,
            "layout": "IPY_MODEL_192494f0811c4b8289a742a8d820859c",
            "style": "IPY_MODEL_c37b60e433564d62845aa2cdea3c5e9c",
            "value": false
          }
        },
        "e5061ded99d140ffa2f18c7e071a166f": {
          "model_module": "@jupyter-widgets/controls",
          "model_module_version": "1.5.0",
          "model_name": "ButtonStyleModel",
          "state": {
            "_model_module": "@jupyter-widgets/controls",
            "_model_module_version": "1.5.0",
            "_model_name": "ButtonStyleModel",
            "_view_count": null,
            "_view_module": "@jupyter-widgets/base",
            "_view_module_version": "1.2.0",
            "_view_name": "StyleView",
            "button_color": null,
            "font_weight": ""
          }
        },
        "e7bc3f3a5d764d02af19719cb0deb96e": {
          "model_module": "@jupyter-widgets/base",
          "model_module_version": "1.2.0",
          "model_name": "LayoutModel",
          "state": {
            "_model_module": "@jupyter-widgets/base",
            "_model_module_version": "1.2.0",
            "_model_name": "LayoutModel",
            "_view_count": null,
            "_view_module": "@jupyter-widgets/base",
            "_view_module_version": "1.2.0",
            "_view_name": "LayoutView",
            "align_content": null,
            "align_items": null,
            "align_self": null,
            "border": null,
            "bottom": null,
            "display": null,
            "flex": null,
            "flex_flow": null,
            "grid_area": null,
            "grid_auto_columns": null,
            "grid_auto_flow": null,
            "grid_auto_rows": null,
            "grid_column": null,
            "grid_gap": null,
            "grid_row": null,
            "grid_template_areas": null,
            "grid_template_columns": null,
            "grid_template_rows": null,
            "height": "28px",
            "justify_content": null,
            "justify_items": null,
            "left": null,
            "margin": null,
            "max_height": null,
            "max_width": null,
            "min_height": null,
            "min_width": null,
            "object_fit": null,
            "object_position": null,
            "order": null,
            "overflow": null,
            "overflow_x": null,
            "overflow_y": null,
            "padding": "0px",
            "right": null,
            "top": null,
            "visibility": null,
            "width": "28px"
          }
        },
        "e7e0b0d984d847929fd034c695bd6bfe": {
          "model_module": "@jupyter-widgets/base",
          "model_module_version": "1.2.0",
          "model_name": "LayoutModel",
          "state": {
            "_model_module": "@jupyter-widgets/base",
            "_model_module_version": "1.2.0",
            "_model_name": "LayoutModel",
            "_view_count": null,
            "_view_module": "@jupyter-widgets/base",
            "_view_module_version": "1.2.0",
            "_view_name": "LayoutView",
            "align_content": null,
            "align_items": null,
            "align_self": null,
            "border": null,
            "bottom": null,
            "display": null,
            "flex": null,
            "flex_flow": null,
            "grid_area": null,
            "grid_auto_columns": null,
            "grid_auto_flow": null,
            "grid_auto_rows": null,
            "grid_column": null,
            "grid_gap": null,
            "grid_row": null,
            "grid_template_areas": null,
            "grid_template_columns": null,
            "grid_template_rows": null,
            "height": "28px",
            "justify_content": null,
            "justify_items": null,
            "left": null,
            "margin": null,
            "max_height": null,
            "max_width": null,
            "min_height": null,
            "min_width": null,
            "object_fit": null,
            "object_position": null,
            "order": null,
            "overflow": null,
            "overflow_x": null,
            "overflow_y": null,
            "padding": "0px 0px 0px 4px",
            "right": null,
            "top": null,
            "visibility": null,
            "width": "28px"
          }
        },
        "e87c0755546a49e68ae30b986564c1b6": {
          "model_module": "@jupyter-widgets/base",
          "model_module_version": "1.2.0",
          "model_name": "LayoutModel",
          "state": {
            "_model_module": "@jupyter-widgets/base",
            "_model_module_version": "1.2.0",
            "_model_name": "LayoutModel",
            "_view_count": null,
            "_view_module": "@jupyter-widgets/base",
            "_view_module_version": "1.2.0",
            "_view_name": "LayoutView",
            "align_content": null,
            "align_items": null,
            "align_self": null,
            "border": null,
            "bottom": null,
            "display": null,
            "flex": null,
            "flex_flow": null,
            "grid_area": null,
            "grid_auto_columns": null,
            "grid_auto_flow": null,
            "grid_auto_rows": null,
            "grid_column": null,
            "grid_gap": null,
            "grid_row": null,
            "grid_template_areas": null,
            "grid_template_columns": null,
            "grid_template_rows": null,
            "height": "25px",
            "justify_content": null,
            "justify_items": null,
            "left": null,
            "margin": null,
            "max_height": null,
            "max_width": null,
            "min_height": null,
            "min_width": null,
            "object_fit": null,
            "object_position": null,
            "order": null,
            "overflow": null,
            "overflow_x": null,
            "overflow_y": null,
            "padding": "0px",
            "right": null,
            "top": null,
            "visibility": null,
            "width": "25px"
          }
        },
        "e8934408381448d88c3920d0f24f488f": {
          "model_module": "@jupyter-widgets/controls",
          "model_module_version": "1.5.0",
          "model_name": "CheckboxModel",
          "state": {
            "_dom_classes": [],
            "_model_module": "@jupyter-widgets/controls",
            "_model_module_version": "1.5.0",
            "_model_name": "CheckboxModel",
            "_view_count": null,
            "_view_module": "@jupyter-widgets/controls",
            "_view_module_version": "1.5.0",
            "_view_name": "CheckboxView",
            "description": "All layers on/off",
            "description_tooltip": null,
            "disabled": false,
            "indent": false,
            "layout": "IPY_MODEL_b89ce31b0f1a47e797fd5016c8dc7fcd",
            "style": "IPY_MODEL_a643687d2e7b4130ae4bdd0d1456d9cb",
            "value": false
          }
        },
        "e97eda2172cb4982b2ebe7e9cfee2e69": {
          "model_module": "@jupyter-widgets/controls",
          "model_module_version": "1.5.0",
          "model_name": "FloatSliderModel",
          "state": {
            "_dom_classes": [],
            "_model_module": "@jupyter-widgets/controls",
            "_model_module_version": "1.5.0",
            "_model_name": "FloatSliderModel",
            "_view_count": null,
            "_view_module": "@jupyter-widgets/controls",
            "_view_module_version": "1.5.0",
            "_view_name": "FloatSliderView",
            "continuous_update": true,
            "description": "",
            "description_tooltip": null,
            "disabled": false,
            "layout": "IPY_MODEL_81c18cb03bb643c89ded747938500cea",
            "max": 1,
            "min": 0,
            "orientation": "horizontal",
            "readout": false,
            "readout_format": ".2f",
            "step": 0.01,
            "style": "IPY_MODEL_0694f3563ebc4cba8f10adbaca0417cd",
            "value": 1
          }
        },
        "e9de19a7098a4b148d5f930ea0085003": {
          "model_module": "jupyter-leaflet",
          "model_module_version": "^0.18",
          "model_name": "LeafletDrawControlModel",
          "state": {
            "_model_module": "jupyter-leaflet",
            "_model_module_version": "^0.18",
            "_model_name": "LeafletDrawControlModel",
            "_view_count": null,
            "_view_module": "jupyter-leaflet",
            "_view_module_version": "^0.18",
            "_view_name": "LeafletDrawControlView",
            "circle": {},
            "circlemarker": {},
            "data": [],
            "edit": true,
            "marker": {
              "shapeOptions": {
                "color": "#3388ff"
              }
            },
            "options": [
              "position"
            ],
            "polygon": {
              "shapeOptions": {}
            },
            "polyline": {
              "shapeOptions": {}
            },
            "position": "topleft",
            "rectangle": {
              "shapeOptions": {
                "color": "#3388ff"
              }
            },
            "remove": true
          }
        },
        "eb91291006bb431e876e4b22d8508b5e": {
          "model_module": "jupyter-leaflet",
          "model_module_version": "^0.18",
          "model_name": "LeafletDrawControlModel",
          "state": {
            "_model_module": "jupyter-leaflet",
            "_model_module_version": "^0.18",
            "_model_name": "LeafletDrawControlModel",
            "_view_count": null,
            "_view_module": "jupyter-leaflet",
            "_view_module_version": "^0.18",
            "_view_name": "LeafletDrawControlView",
            "circle": {},
            "circlemarker": {},
            "data": [],
            "edit": true,
            "marker": {
              "shapeOptions": {
                "color": "#3388ff"
              }
            },
            "options": [
              "position"
            ],
            "polygon": {
              "shapeOptions": {}
            },
            "polyline": {
              "shapeOptions": {}
            },
            "position": "topleft",
            "rectangle": {
              "shapeOptions": {
                "color": "#3388ff"
              }
            },
            "remove": true
          }
        },
        "eb984d033e4447f4b8ddc4d9f4ec4413": {
          "model_module": "@jupyter-widgets/controls",
          "model_module_version": "1.5.0",
          "model_name": "ButtonStyleModel",
          "state": {
            "_model_module": "@jupyter-widgets/controls",
            "_model_module_version": "1.5.0",
            "_model_name": "ButtonStyleModel",
            "_view_count": null,
            "_view_module": "@jupyter-widgets/base",
            "_view_module_version": "1.2.0",
            "_view_name": "StyleView",
            "button_color": null,
            "font_weight": ""
          }
        },
        "ec52b2b38a364186aaf8aa6e57284982": {
          "model_module": "@jupyter-widgets/base",
          "model_module_version": "1.2.0",
          "model_name": "LayoutModel",
          "state": {
            "_model_module": "@jupyter-widgets/base",
            "_model_module_version": "1.2.0",
            "_model_name": "LayoutModel",
            "_view_count": null,
            "_view_module": "@jupyter-widgets/base",
            "_view_module_version": "1.2.0",
            "_view_name": "LayoutView",
            "align_content": null,
            "align_items": null,
            "align_self": null,
            "border": null,
            "bottom": null,
            "display": null,
            "flex": null,
            "flex_flow": null,
            "grid_area": null,
            "grid_auto_columns": null,
            "grid_auto_flow": null,
            "grid_auto_rows": null,
            "grid_column": null,
            "grid_gap": null,
            "grid_row": null,
            "grid_template_areas": null,
            "grid_template_columns": null,
            "grid_template_rows": null,
            "height": "auto",
            "justify_content": null,
            "justify_items": null,
            "left": null,
            "margin": null,
            "max_height": null,
            "max_width": null,
            "min_height": null,
            "min_width": null,
            "object_fit": null,
            "object_position": null,
            "order": null,
            "overflow": null,
            "overflow_x": null,
            "overflow_y": null,
            "padding": "0px 0px 0px 4px",
            "right": null,
            "top": null,
            "visibility": null,
            "width": "auto"
          }
        },
        "ec553e2fc6784cebb159287617f11e7a": {
          "model_module": "@jupyter-widgets/controls",
          "model_module_version": "1.5.0",
          "model_name": "FloatSliderModel",
          "state": {
            "_dom_classes": [],
            "_model_module": "@jupyter-widgets/controls",
            "_model_module_version": "1.5.0",
            "_model_name": "FloatSliderModel",
            "_view_count": null,
            "_view_module": "@jupyter-widgets/controls",
            "_view_module_version": "1.5.0",
            "_view_name": "FloatSliderView",
            "continuous_update": true,
            "description": "",
            "description_tooltip": null,
            "disabled": false,
            "layout": "IPY_MODEL_272ea1aa4f074bc88b4a6dd9d24dc5ef",
            "max": 1,
            "min": 0,
            "orientation": "horizontal",
            "readout": false,
            "readout_format": ".2f",
            "step": 0.01,
            "style": "IPY_MODEL_fdc8cecdfafb42719225b0ab3f3d45ec",
            "value": 1
          }
        },
        "ec6c2591379b4e6b9995bb3b9468cf41": {
          "model_module": "@jupyter-widgets/controls",
          "model_module_version": "1.5.0",
          "model_name": "CheckboxModel",
          "state": {
            "_dom_classes": [],
            "_model_module": "@jupyter-widgets/controls",
            "_model_module_version": "1.5.0",
            "_model_name": "CheckboxModel",
            "_view_count": null,
            "_view_module": "@jupyter-widgets/controls",
            "_view_module_version": "1.5.0",
            "_view_name": "CheckboxView",
            "description": "Esri.WorldImagery",
            "description_tooltip": null,
            "disabled": false,
            "indent": false,
            "layout": "IPY_MODEL_f90b63a8c0c04a24840562d3c659cad0",
            "style": "IPY_MODEL_9269b7e0d9e644b0a9b2eb26b255c9fa",
            "value": true
          }
        },
        "ecb63c422f364fc3b72ac918a2f8aabb": {
          "model_module": "@jupyter-widgets/controls",
          "model_module_version": "1.5.0",
          "model_name": "ButtonModel",
          "state": {
            "_dom_classes": [],
            "_model_module": "@jupyter-widgets/controls",
            "_model_module_version": "1.5.0",
            "_model_name": "ButtonModel",
            "_view_count": null,
            "_view_module": "@jupyter-widgets/controls",
            "_view_module_version": "1.5.0",
            "_view_name": "ButtonView",
            "button_style": "",
            "description": "",
            "disabled": false,
            "icon": "gear",
            "layout": "IPY_MODEL_b946cdd7211a41469478a1d64ff75934",
            "style": "IPY_MODEL_0f36c4f45ece43fb82895c4a8b4b6495",
            "tooltip": "NLCD 2011 CONUS Land Cover"
          }
        },
        "ed3c4d57ac2f4290a03645a5bd14ea38": {
          "model_module": "jupyter-leaflet",
          "model_module_version": "^0.18",
          "model_name": "LeafletAttributionControlModel",
          "state": {
            "_model_module": "jupyter-leaflet",
            "_model_module_version": "^0.18",
            "_model_name": "LeafletAttributionControlModel",
            "_view_count": null,
            "_view_module": "jupyter-leaflet",
            "_view_module_version": "^0.18",
            "_view_name": "LeafletAttributionControlView",
            "options": [
              "position",
              "prefix"
            ],
            "position": "bottomright",
            "prefix": "ipyleaflet"
          }
        },
        "ee017e59fe4f4127b7c37f26a2ce21bf": {
          "model_module": "@jupyter-widgets/controls",
          "model_module_version": "1.5.0",
          "model_name": "HBoxModel",
          "state": {
            "_dom_classes": [],
            "_model_module": "@jupyter-widgets/controls",
            "_model_module_version": "1.5.0",
            "_model_name": "HBoxModel",
            "_view_count": null,
            "_view_module": "@jupyter-widgets/controls",
            "_view_module_version": "1.5.0",
            "_view_name": "HBoxView",
            "box_style": "",
            "children": [
              "IPY_MODEL_f90bea074f9546fa815efde16f62d1c2",
              "IPY_MODEL_919e9b746897450ea5c25dbc7cef0321",
              "IPY_MODEL_5aebc12f38cf48a785e1bf840f154f82"
            ],
            "layout": "IPY_MODEL_6f0791ef099e4fb2913f632a2475a727"
          }
        },
        "ee155c1dc6844786a1cc7bf78ce31fa8": {
          "model_module": "@jupyter-widgets/controls",
          "model_module_version": "1.5.0",
          "model_name": "HBoxModel",
          "state": {
            "_dom_classes": [],
            "_model_module": "@jupyter-widgets/controls",
            "_model_module_version": "1.5.0",
            "_model_name": "HBoxModel",
            "_view_count": null,
            "_view_module": "@jupyter-widgets/controls",
            "_view_module_version": "1.5.0",
            "_view_name": "HBoxView",
            "box_style": "",
            "children": [
              "IPY_MODEL_11371c61df854d83ae64f920e5b4e964",
              "IPY_MODEL_e3994d149a704c0a9e0614244dffa137",
              "IPY_MODEL_c092d1da50184c5eb6b0417bebeeec83"
            ],
            "layout": "IPY_MODEL_d6b062a0cd9248f89e22e7b68b8cfad9"
          }
        },
        "ee83ab03e3a042da9533042bbcb60b9e": {
          "model_module": "@jupyter-widgets/controls",
          "model_module_version": "1.5.0",
          "model_name": "ButtonModel",
          "state": {
            "_dom_classes": [],
            "_model_module": "@jupyter-widgets/controls",
            "_model_module_version": "1.5.0",
            "_model_name": "ButtonModel",
            "_view_count": null,
            "_view_module": "@jupyter-widgets/controls",
            "_view_module_version": "1.5.0",
            "_view_name": "ButtonView",
            "button_style": "",
            "description": "",
            "disabled": false,
            "icon": "gear",
            "layout": "IPY_MODEL_d6e7ea7e6cc44374b445d513db69debe",
            "style": "IPY_MODEL_dfb3e9b6c9d84d97ab95bda7c2863ab9",
            "tooltip": "OpenTopoMap"
          }
        },
        "eea7ed5216d24db888214d66c400a1f6": {
          "model_module": "@jupyter-widgets/controls",
          "model_module_version": "1.5.0",
          "model_name": "DescriptionStyleModel",
          "state": {
            "_model_module": "@jupyter-widgets/controls",
            "_model_module_version": "1.5.0",
            "_model_name": "DescriptionStyleModel",
            "_view_count": null,
            "_view_module": "@jupyter-widgets/base",
            "_view_module_version": "1.2.0",
            "_view_name": "StyleView",
            "description_width": ""
          }
        },
        "eeef807389d14856a626414be93dcc60": {
          "model_module": "@jupyter-widgets/base",
          "model_module_version": "1.2.0",
          "model_name": "LayoutModel",
          "state": {
            "_model_module": "@jupyter-widgets/base",
            "_model_module_version": "1.2.0",
            "_model_name": "LayoutModel",
            "_view_count": null,
            "_view_module": "@jupyter-widgets/base",
            "_view_module_version": "1.2.0",
            "_view_name": "LayoutView",
            "align_content": null,
            "align_items": null,
            "align_self": null,
            "border": null,
            "bottom": null,
            "display": null,
            "flex": null,
            "flex_flow": null,
            "grid_area": null,
            "grid_auto_columns": null,
            "grid_auto_flow": null,
            "grid_auto_rows": null,
            "grid_column": null,
            "grid_gap": null,
            "grid_row": null,
            "grid_template_areas": null,
            "grid_template_columns": null,
            "grid_template_rows": null,
            "height": "25px",
            "justify_content": null,
            "justify_items": null,
            "left": null,
            "margin": null,
            "max_height": null,
            "max_width": null,
            "min_height": null,
            "min_width": null,
            "object_fit": null,
            "object_position": null,
            "order": null,
            "overflow": null,
            "overflow_x": null,
            "overflow_y": null,
            "padding": "0px",
            "right": null,
            "top": null,
            "visibility": null,
            "width": "25px"
          }
        },
        "efc8793f70634c70a86af8e47b48d0d4": {
          "model_module": "@jupyter-widgets/controls",
          "model_module_version": "1.5.0",
          "model_name": "DescriptionStyleModel",
          "state": {
            "_model_module": "@jupyter-widgets/controls",
            "_model_module_version": "1.5.0",
            "_model_name": "DescriptionStyleModel",
            "_view_count": null,
            "_view_module": "@jupyter-widgets/base",
            "_view_module_version": "1.2.0",
            "_view_name": "StyleView",
            "description_width": ""
          }
        },
        "eff6e1c6c2d44483a50c7372ed7e18b3": {
          "model_module": "@jupyter-widgets/controls",
          "model_module_version": "1.5.0",
          "model_name": "SliderStyleModel",
          "state": {
            "_model_module": "@jupyter-widgets/controls",
            "_model_module_version": "1.5.0",
            "_model_name": "SliderStyleModel",
            "_view_count": null,
            "_view_module": "@jupyter-widgets/base",
            "_view_module_version": "1.2.0",
            "_view_name": "StyleView",
            "description_width": "",
            "handle_color": null
          }
        },
        "f04a2d34c383491290d59d3b739f5803": {
          "model_module": "@jupyter-widgets/controls",
          "model_module_version": "1.5.0",
          "model_name": "HBoxModel",
          "state": {
            "_dom_classes": [],
            "_model_module": "@jupyter-widgets/controls",
            "_model_module_version": "1.5.0",
            "_model_name": "HBoxModel",
            "_view_count": null,
            "_view_module": "@jupyter-widgets/controls",
            "_view_module_version": "1.5.0",
            "_view_name": "HBoxView",
            "box_style": "",
            "children": [
              "IPY_MODEL_79268dbe0d1d4f4d8563c378930bf570",
              "IPY_MODEL_82b7e8081c3a4761adb51275f2094254",
              "IPY_MODEL_f448640830944b7190cf98dc8f4bb209"
            ],
            "layout": "IPY_MODEL_b2ec11db9b0942c681230d43d47e602f"
          }
        },
        "f1b93148c72449349cd92b200c1d0ff8": {
          "model_module": "@jupyter-widgets/controls",
          "model_module_version": "1.5.0",
          "model_name": "DescriptionStyleModel",
          "state": {
            "_model_module": "@jupyter-widgets/controls",
            "_model_module_version": "1.5.0",
            "_model_name": "DescriptionStyleModel",
            "_view_count": null,
            "_view_module": "@jupyter-widgets/base",
            "_view_module_version": "1.2.0",
            "_view_name": "StyleView",
            "description_width": ""
          }
        },
        "f2430f4baa644291bde97d8ce6ad1b35": {
          "model_module": "jupyter-leaflet",
          "model_module_version": "^0.18",
          "model_name": "LeafletWidgetControlModel",
          "state": {
            "_model_module": "jupyter-leaflet",
            "_model_module_version": "^0.18",
            "_model_name": "LeafletWidgetControlModel",
            "_view_count": null,
            "_view_module": "jupyter-leaflet",
            "_view_module_version": "^0.18",
            "_view_name": "LeafletWidgetControlView",
            "max_height": null,
            "max_width": null,
            "min_height": null,
            "min_width": null,
            "options": [
              "position",
              "transparent_bg"
            ],
            "position": "topleft",
            "transparent_bg": false,
            "widget": "IPY_MODEL_b974790c17604e338511fe09601bde32"
          }
        },
        "f448640830944b7190cf98dc8f4bb209": {
          "model_module": "@jupyter-widgets/controls",
          "model_module_version": "1.5.0",
          "model_name": "FloatSliderModel",
          "state": {
            "_dom_classes": [],
            "_model_module": "@jupyter-widgets/controls",
            "_model_module_version": "1.5.0",
            "_model_name": "FloatSliderModel",
            "_view_count": null,
            "_view_module": "@jupyter-widgets/controls",
            "_view_module_version": "1.5.0",
            "_view_name": "FloatSliderView",
            "continuous_update": true,
            "description": "",
            "description_tooltip": null,
            "disabled": false,
            "layout": "IPY_MODEL_b49fe24523d84456a42c70c6c8a99c31",
            "max": 1,
            "min": 0,
            "orientation": "horizontal",
            "readout": false,
            "readout_format": ".2f",
            "step": 0.01,
            "style": "IPY_MODEL_40836f033c81414888a74244448e76b9",
            "value": 1
          }
        },
        "f47e6f25a06e4436b7ad710cf5e1c1ca": {
          "model_module": "@jupyter-widgets/base",
          "model_module_version": "1.2.0",
          "model_name": "LayoutModel",
          "state": {
            "_model_module": "@jupyter-widgets/base",
            "_model_module_version": "1.2.0",
            "_model_name": "LayoutModel",
            "_view_count": null,
            "_view_module": "@jupyter-widgets/base",
            "_view_module_version": "1.2.0",
            "_view_name": "LayoutView",
            "align_content": null,
            "align_items": null,
            "align_self": null,
            "border": null,
            "bottom": null,
            "display": null,
            "flex": null,
            "flex_flow": null,
            "grid_area": null,
            "grid_auto_columns": null,
            "grid_auto_flow": null,
            "grid_auto_rows": null,
            "grid_column": null,
            "grid_gap": null,
            "grid_row": null,
            "grid_template_areas": null,
            "grid_template_columns": null,
            "grid_template_rows": null,
            "height": null,
            "justify_content": null,
            "justify_items": null,
            "left": null,
            "margin": null,
            "max_height": null,
            "max_width": null,
            "min_height": null,
            "min_width": null,
            "object_fit": null,
            "object_position": null,
            "order": null,
            "overflow": null,
            "overflow_x": null,
            "overflow_y": null,
            "padding": null,
            "right": null,
            "top": null,
            "visibility": null,
            "width": "80px"
          }
        },
        "f48693d3f4b542dd8dbbb3c5e008adc5": {
          "model_module": "@jupyter-widgets/controls",
          "model_module_version": "1.5.0",
          "model_name": "ButtonStyleModel",
          "state": {
            "_model_module": "@jupyter-widgets/controls",
            "_model_module_version": "1.5.0",
            "_model_name": "ButtonStyleModel",
            "_view_count": null,
            "_view_module": "@jupyter-widgets/base",
            "_view_module_version": "1.2.0",
            "_view_name": "StyleView",
            "button_color": null,
            "font_weight": ""
          }
        },
        "f59529aa7cf44b299b394b91b0a08b9f": {
          "model_module": "jupyter-leaflet",
          "model_module_version": "^0.18",
          "model_name": "LeafletZoomControlModel",
          "state": {
            "_model_module": "jupyter-leaflet",
            "_model_module_version": "^0.18",
            "_model_name": "LeafletZoomControlModel",
            "_view_count": null,
            "_view_module": "jupyter-leaflet",
            "_view_module_version": "^0.18",
            "_view_name": "LeafletZoomControlView",
            "options": [
              "position",
              "zoom_in_text",
              "zoom_in_title",
              "zoom_out_text",
              "zoom_out_title"
            ],
            "position": "topleft",
            "zoom_in_text": "+",
            "zoom_in_title": "Zoom in",
            "zoom_out_text": "-",
            "zoom_out_title": "Zoom out"
          }
        },
        "f69c83f2db99482c80b60e744709ba8a": {
          "model_module": "@jupyter-widgets/controls",
          "model_module_version": "1.5.0",
          "model_name": "CheckboxModel",
          "state": {
            "_dom_classes": [],
            "_model_module": "@jupyter-widgets/controls",
            "_model_module_version": "1.5.0",
            "_model_name": "CheckboxModel",
            "_view_count": null,
            "_view_module": "@jupyter-widgets/controls",
            "_view_module_version": "1.5.0",
            "_view_name": "CheckboxView",
            "description": "OpenTopoMap",
            "description_tooltip": null,
            "disabled": false,
            "indent": false,
            "layout": "IPY_MODEL_27272edb3d4e490cb784c323d884c0a8",
            "style": "IPY_MODEL_2c7d8985a06f4302b73e507a176d4f49",
            "value": true
          }
        },
        "f742fb71d4874fa9b8cc5085d66e2748": {
          "model_module": "@jupyter-widgets/controls",
          "model_module_version": "1.5.0",
          "model_name": "DescriptionStyleModel",
          "state": {
            "_model_module": "@jupyter-widgets/controls",
            "_model_module_version": "1.5.0",
            "_model_name": "DescriptionStyleModel",
            "_view_count": null,
            "_view_module": "@jupyter-widgets/base",
            "_view_module_version": "1.2.0",
            "_view_name": "StyleView",
            "description_width": ""
          }
        },
        "f84868685a334832a9da09bd8cb7f994": {
          "model_module": "@jupyter-widgets/controls",
          "model_module_version": "1.5.0",
          "model_name": "FloatSliderModel",
          "state": {
            "_dom_classes": [],
            "_model_module": "@jupyter-widgets/controls",
            "_model_module_version": "1.5.0",
            "_model_name": "FloatSliderModel",
            "_view_count": null,
            "_view_module": "@jupyter-widgets/controls",
            "_view_module_version": "1.5.0",
            "_view_name": "FloatSliderView",
            "continuous_update": true,
            "description": "",
            "description_tooltip": null,
            "disabled": false,
            "layout": "IPY_MODEL_3189eaa7fd5a4e9e9cbc4ca85781b470",
            "max": 1,
            "min": 0,
            "orientation": "horizontal",
            "readout": false,
            "readout_format": ".2f",
            "step": 0.01,
            "style": "IPY_MODEL_231d4c432c7d40a480dc37ea4eb16bfc",
            "value": 1
          }
        },
        "f887a798fe3c4a7ca69662ab0a3d111a": {
          "model_module": "@jupyter-widgets/controls",
          "model_module_version": "1.5.0",
          "model_name": "ButtonStyleModel",
          "state": {
            "_model_module": "@jupyter-widgets/controls",
            "_model_module_version": "1.5.0",
            "_model_name": "ButtonStyleModel",
            "_view_count": null,
            "_view_module": "@jupyter-widgets/base",
            "_view_module_version": "1.2.0",
            "_view_name": "StyleView",
            "button_color": null,
            "font_weight": ""
          }
        },
        "f8ce1162ac064e6c8583a42bee3878ae": {
          "model_module": "@jupyter-widgets/controls",
          "model_module_version": "1.5.0",
          "model_name": "DescriptionStyleModel",
          "state": {
            "_model_module": "@jupyter-widgets/controls",
            "_model_module_version": "1.5.0",
            "_model_name": "DescriptionStyleModel",
            "_view_count": null,
            "_view_module": "@jupyter-widgets/base",
            "_view_module_version": "1.2.0",
            "_view_name": "StyleView",
            "description_width": ""
          }
        },
        "f90b63a8c0c04a24840562d3c659cad0": {
          "model_module": "@jupyter-widgets/base",
          "model_module_version": "1.2.0",
          "model_name": "LayoutModel",
          "state": {
            "_model_module": "@jupyter-widgets/base",
            "_model_module_version": "1.2.0",
            "_model_name": "LayoutModel",
            "_view_count": null,
            "_view_module": "@jupyter-widgets/base",
            "_view_module_version": "1.2.0",
            "_view_name": "LayoutView",
            "align_content": null,
            "align_items": null,
            "align_self": null,
            "border": null,
            "bottom": null,
            "display": null,
            "flex": null,
            "flex_flow": null,
            "grid_area": null,
            "grid_auto_columns": null,
            "grid_auto_flow": null,
            "grid_auto_rows": null,
            "grid_column": null,
            "grid_gap": null,
            "grid_row": null,
            "grid_template_areas": null,
            "grid_template_columns": null,
            "grid_template_rows": null,
            "height": "18px",
            "justify_content": null,
            "justify_items": null,
            "left": null,
            "margin": null,
            "max_height": null,
            "max_width": null,
            "min_height": null,
            "min_width": null,
            "object_fit": null,
            "object_position": null,
            "order": null,
            "overflow": null,
            "overflow_x": null,
            "overflow_y": null,
            "padding": null,
            "right": null,
            "top": null,
            "visibility": null,
            "width": "140px"
          }
        },
        "f90bea074f9546fa815efde16f62d1c2": {
          "model_module": "@jupyter-widgets/controls",
          "model_module_version": "1.5.0",
          "model_name": "CheckboxModel",
          "state": {
            "_dom_classes": [],
            "_model_module": "@jupyter-widgets/controls",
            "_model_module_version": "1.5.0",
            "_model_name": "CheckboxModel",
            "_view_count": null,
            "_view_module": "@jupyter-widgets/controls",
            "_view_module_version": "1.5.0",
            "_view_name": "CheckboxView",
            "description": "Esri.WorldTopoMap",
            "description_tooltip": null,
            "disabled": false,
            "indent": false,
            "layout": "IPY_MODEL_8489ba776f7f47eeac62fa0facd96926",
            "style": "IPY_MODEL_22c80088d5b645958635540f3a74e28d",
            "value": true
          }
        },
        "f927244eb1c141b8a5f7766232dc9bac": {
          "model_module": "@jupyter-widgets/controls",
          "model_module_version": "1.5.0",
          "model_name": "DescriptionStyleModel",
          "state": {
            "_model_module": "@jupyter-widgets/controls",
            "_model_module_version": "1.5.0",
            "_model_name": "DescriptionStyleModel",
            "_view_count": null,
            "_view_module": "@jupyter-widgets/base",
            "_view_module_version": "1.2.0",
            "_view_name": "StyleView",
            "description_width": ""
          }
        },
        "f94429f3afcc4d7c9bdb03f6420e99af": {
          "model_module": "@jupyter-widgets/base",
          "model_module_version": "1.2.0",
          "model_name": "LayoutModel",
          "state": {
            "_model_module": "@jupyter-widgets/base",
            "_model_module_version": "1.2.0",
            "_model_name": "LayoutModel",
            "_view_count": null,
            "_view_module": "@jupyter-widgets/base",
            "_view_module_version": "1.2.0",
            "_view_name": "LayoutView",
            "align_content": null,
            "align_items": null,
            "align_self": null,
            "border": null,
            "bottom": null,
            "display": null,
            "flex": null,
            "flex_flow": null,
            "grid_area": null,
            "grid_auto_columns": null,
            "grid_auto_flow": null,
            "grid_auto_rows": null,
            "grid_column": null,
            "grid_gap": null,
            "grid_row": null,
            "grid_template_areas": null,
            "grid_template_columns": null,
            "grid_template_rows": null,
            "height": "18px",
            "justify_content": null,
            "justify_items": null,
            "left": null,
            "margin": null,
            "max_height": null,
            "max_width": null,
            "min_height": null,
            "min_width": null,
            "object_fit": null,
            "object_position": null,
            "order": null,
            "overflow": null,
            "overflow_x": null,
            "overflow_y": null,
            "padding": null,
            "right": null,
            "top": null,
            "visibility": null,
            "width": "140px"
          }
        },
        "fb2f7cb416e4408daa8f22926ce2c17a": {
          "model_module": "jupyter-leaflet",
          "model_module_version": "^0.18",
          "model_name": "LeafletTileLayerModel",
          "state": {
            "_model_module": "jupyter-leaflet",
            "_model_module_version": "^0.18",
            "_model_name": "LeafletTileLayerModel",
            "_view_count": null,
            "_view_module": "jupyter-leaflet",
            "_view_module_version": "^0.18",
            "_view_name": "LeafletTileLayerView",
            "attribution": "Esri",
            "base": false,
            "bottom": true,
            "bounds": null,
            "detect_retina": false,
            "loading": false,
            "max_native_zoom": null,
            "max_zoom": 24,
            "min_native_zoom": null,
            "min_zoom": 0,
            "name": "Esri.WorldTopoMap",
            "no_wrap": false,
            "opacity": 1,
            "options": [
              "attribution",
              "bounds",
              "detect_retina",
              "max_native_zoom",
              "max_zoom",
              "min_native_zoom",
              "min_zoom",
              "no_wrap",
              "tile_size",
              "tms",
              "zoom_offset"
            ],
            "pane": "",
            "popup": null,
            "popup_max_height": null,
            "popup_max_width": 300,
            "popup_min_width": 50,
            "show_loading": false,
            "subitems": [],
            "tile_size": 256,
            "tms": false,
            "url": "https://server.arcgisonline.com/ArcGIS/rest/services/World_Topo_Map/MapServer/tile/{z}/{y}/{x}",
            "visible": false,
            "zoom_offset": 0
          }
        },
        "fbff4f3d9f05442bb0dd2b24d12e8726": {
          "model_module": "@jupyter-widgets/base",
          "model_module_version": "1.2.0",
          "model_name": "LayoutModel",
          "state": {
            "_model_module": "@jupyter-widgets/base",
            "_model_module_version": "1.2.0",
            "_model_name": "LayoutModel",
            "_view_count": null,
            "_view_module": "@jupyter-widgets/base",
            "_view_module_version": "1.2.0",
            "_view_name": "LayoutView",
            "align_content": null,
            "align_items": null,
            "align_self": null,
            "border": null,
            "bottom": null,
            "display": null,
            "flex": null,
            "flex_flow": null,
            "grid_area": null,
            "grid_auto_columns": null,
            "grid_auto_flow": null,
            "grid_auto_rows": null,
            "grid_column": null,
            "grid_gap": null,
            "grid_row": null,
            "grid_template_areas": null,
            "grid_template_columns": null,
            "grid_template_rows": null,
            "height": "25px",
            "justify_content": null,
            "justify_items": null,
            "left": null,
            "margin": null,
            "max_height": null,
            "max_width": null,
            "min_height": null,
            "min_width": null,
            "object_fit": null,
            "object_position": null,
            "order": null,
            "overflow": null,
            "overflow_x": null,
            "overflow_y": null,
            "padding": "0px",
            "right": null,
            "top": null,
            "visibility": null,
            "width": "25px"
          }
        },
        "fc16a7d634254eeeb47c922dc3104960": {
          "model_module": "@jupyter-widgets/base",
          "model_module_version": "1.2.0",
          "model_name": "LayoutModel",
          "state": {
            "_model_module": "@jupyter-widgets/base",
            "_model_module_version": "1.2.0",
            "_model_name": "LayoutModel",
            "_view_count": null,
            "_view_module": "@jupyter-widgets/base",
            "_view_module_version": "1.2.0",
            "_view_name": "LayoutView",
            "align_content": null,
            "align_items": null,
            "align_self": null,
            "border": null,
            "bottom": null,
            "display": null,
            "flex": null,
            "flex_flow": null,
            "grid_area": null,
            "grid_auto_columns": null,
            "grid_auto_flow": null,
            "grid_auto_rows": null,
            "grid_column": null,
            "grid_gap": null,
            "grid_row": null,
            "grid_template_areas": null,
            "grid_template_columns": null,
            "grid_template_rows": null,
            "height": null,
            "justify_content": null,
            "justify_items": null,
            "left": null,
            "margin": null,
            "max_height": null,
            "max_width": null,
            "min_height": null,
            "min_width": null,
            "object_fit": null,
            "object_position": null,
            "order": null,
            "overflow": null,
            "overflow_x": null,
            "overflow_y": null,
            "padding": "0px 8px 0px 8px",
            "right": null,
            "top": null,
            "visibility": null,
            "width": null
          }
        },
        "fdc8cecdfafb42719225b0ab3f3d45ec": {
          "model_module": "@jupyter-widgets/controls",
          "model_module_version": "1.5.0",
          "model_name": "SliderStyleModel",
          "state": {
            "_model_module": "@jupyter-widgets/controls",
            "_model_module_version": "1.5.0",
            "_model_name": "SliderStyleModel",
            "_view_count": null,
            "_view_module": "@jupyter-widgets/base",
            "_view_module_version": "1.2.0",
            "_view_name": "StyleView",
            "description_width": "",
            "handle_color": null
          }
        },
        "fe35574e7af74925a4b78c28bcd36aa0": {
          "model_module": "@jupyter-widgets/base",
          "model_module_version": "1.2.0",
          "model_name": "LayoutModel",
          "state": {
            "_model_module": "@jupyter-widgets/base",
            "_model_module_version": "1.2.0",
            "_model_name": "LayoutModel",
            "_view_count": null,
            "_view_module": "@jupyter-widgets/base",
            "_view_module_version": "1.2.0",
            "_view_name": "LayoutView",
            "align_content": null,
            "align_items": null,
            "align_self": null,
            "border": null,
            "bottom": null,
            "display": "none",
            "flex": null,
            "flex_flow": null,
            "grid_area": null,
            "grid_auto_columns": null,
            "grid_auto_flow": null,
            "grid_auto_rows": null,
            "grid_column": null,
            "grid_gap": null,
            "grid_row": null,
            "grid_template_areas": null,
            "grid_template_columns": null,
            "grid_template_rows": null,
            "height": null,
            "justify_content": null,
            "justify_items": null,
            "left": null,
            "margin": null,
            "max_height": null,
            "max_width": null,
            "min_height": null,
            "min_width": null,
            "object_fit": null,
            "object_position": null,
            "order": null,
            "overflow": null,
            "overflow_x": null,
            "overflow_y": null,
            "padding": null,
            "right": null,
            "top": null,
            "visibility": null,
            "width": null
          }
        },
        "fe559f76f911498191b0649e2d4f0030": {
          "model_module": "@jupyter-widgets/base",
          "model_module_version": "1.2.0",
          "model_name": "LayoutModel",
          "state": {
            "_model_module": "@jupyter-widgets/base",
            "_model_module_version": "1.2.0",
            "_model_name": "LayoutModel",
            "_view_count": null,
            "_view_module": "@jupyter-widgets/base",
            "_view_module_version": "1.2.0",
            "_view_name": "LayoutView",
            "align_content": null,
            "align_items": null,
            "align_self": null,
            "border": null,
            "bottom": null,
            "display": null,
            "flex": null,
            "flex_flow": null,
            "grid_area": null,
            "grid_auto_columns": null,
            "grid_auto_flow": null,
            "grid_auto_rows": null,
            "grid_column": null,
            "grid_gap": null,
            "grid_row": null,
            "grid_template_areas": null,
            "grid_template_columns": null,
            "grid_template_rows": null,
            "height": "25px",
            "justify_content": null,
            "justify_items": null,
            "left": null,
            "margin": null,
            "max_height": null,
            "max_width": null,
            "min_height": null,
            "min_width": null,
            "object_fit": null,
            "object_position": null,
            "order": null,
            "overflow": null,
            "overflow_x": null,
            "overflow_y": null,
            "padding": "0px",
            "right": null,
            "top": null,
            "visibility": null,
            "width": "25px"
          }
        },
        "ff95b7753ad949cc9f4ad2cc097aa117": {
          "model_module": "@jupyter-widgets/base",
          "model_module_version": "1.2.0",
          "model_name": "LayoutModel",
          "state": {
            "_model_module": "@jupyter-widgets/base",
            "_model_module_version": "1.2.0",
            "_model_name": "LayoutModel",
            "_view_count": null,
            "_view_module": "@jupyter-widgets/base",
            "_view_module_version": "1.2.0",
            "_view_name": "LayoutView",
            "align_content": null,
            "align_items": null,
            "align_self": null,
            "border": null,
            "bottom": null,
            "display": null,
            "flex": null,
            "flex_flow": null,
            "grid_area": null,
            "grid_auto_columns": null,
            "grid_auto_flow": null,
            "grid_auto_rows": null,
            "grid_column": null,
            "grid_gap": null,
            "grid_row": null,
            "grid_template_areas": null,
            "grid_template_columns": null,
            "grid_template_rows": null,
            "height": null,
            "justify_content": null,
            "justify_items": null,
            "left": null,
            "margin": null,
            "max_height": null,
            "max_width": null,
            "min_height": null,
            "min_width": null,
            "object_fit": null,
            "object_position": null,
            "order": null,
            "overflow": null,
            "overflow_x": null,
            "overflow_y": null,
            "padding": null,
            "right": null,
            "top": null,
            "visibility": null,
            "width": "80px"
          }
        },
        "ffe7af5d740e4564a7289db7adde6f90": {
          "model_module": "@jupyter-widgets/base",
          "model_module_version": "1.2.0",
          "model_name": "LayoutModel",
          "state": {
            "_model_module": "@jupyter-widgets/base",
            "_model_module_version": "1.2.0",
            "_model_name": "LayoutModel",
            "_view_count": null,
            "_view_module": "@jupyter-widgets/base",
            "_view_module_version": "1.2.0",
            "_view_name": "LayoutView",
            "align_content": null,
            "align_items": null,
            "align_self": null,
            "border": null,
            "bottom": null,
            "display": null,
            "flex": null,
            "flex_flow": null,
            "grid_area": null,
            "grid_auto_columns": null,
            "grid_auto_flow": null,
            "grid_auto_rows": null,
            "grid_column": null,
            "grid_gap": null,
            "grid_row": null,
            "grid_template_areas": null,
            "grid_template_columns": null,
            "grid_template_rows": null,
            "height": "18px",
            "justify_content": null,
            "justify_items": null,
            "left": null,
            "margin": null,
            "max_height": null,
            "max_width": null,
            "min_height": null,
            "min_width": null,
            "object_fit": null,
            "object_position": null,
            "order": null,
            "overflow": null,
            "overflow_x": null,
            "overflow_y": null,
            "padding": null,
            "right": null,
            "top": null,
            "visibility": null,
            "width": "140px"
          }
        }
      }
    }
  },
  "nbformat": 4,
  "nbformat_minor": 5
}
